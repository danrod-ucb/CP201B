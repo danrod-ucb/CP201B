{
 "cells": [
  {
   "cell_type": "markdown",
   "metadata": {},
   "source": [
    "# Lab 3. Correlation & Regressions in Python\n",
    "\n",
    "### Learning Objectives\n",
    "In this lab, we will be supporting you in running regressions for the first time in Python! By the end, we will have covered how to do the following in Python:  \n",
    "> • Do a Simple Linear Regression (one independent variable)  \n",
    "> • Do a Multivariate Linear Regression (multiple independent variables)   \n",
    "\n",
    "As discussed in lecture, planners can use regressions in a multitude of ways, from diagnosing a problem or bringing it to light, to determining at what level to intervene, to assessing the impact of an intervention. The kind of regression you will run depends on what phenomenon you want to understand (your dependent variable) and what factor(s) you hypothesize may be associated with it (your independent variables; explanatory or control variables). "
   ]
  },
  {
   "cell_type": "markdown",
   "metadata": {},
   "source": [
    "# Connecting to Bogota Property Dataset"
   ]
  },
  {
   "cell_type": "code",
   "execution_count": null,
   "metadata": {},
   "outputs": [],
   "source": [
    "#Importing Libraries\n",
    "import numpy as np\n",
    "import pandas as pd\n",
    "import seaborn as sns\n",
    "\n",
    "import matplotlib as mpl\n",
    "import matplotlib.pyplot as plt\n",
    "from matplotlib.ticker import FuncFormatter\n",
    "\n",
    "import statsmodels.api as sm\n",
    "from scipy.stats import pearsonr"
   ]
  },
  {
   "cell_type": "code",
   "execution_count": null,
   "metadata": {},
   "outputs": [],
   "source": [
    "#Reading in Data\n",
    "data = pd.read_csv('Property Data.csv')\n",
    "data.head()"
   ]
  },
  {
   "cell_type": "code",
   "execution_count": null,
   "metadata": {},
   "outputs": [],
   "source": [
    "#Creating Subset Dataframe w/ Variables of Focus\n",
    "df = data[['price_000','pop_dens','ses','house','area_m2','num_bath','pcn_green','homicides']].copy()"
   ]
  },
  {
   "cell_type": "markdown",
   "metadata": {},
   "source": [
    "### Defining Major Functions"
   ]
  },
  {
   "cell_type": "code",
   "execution_count": null,
   "metadata": {},
   "outputs": [],
   "source": [
    "# Defining Function to Set Up Boxplot & Histogram Side by Side\n",
    "\n",
    "def plots (df, var, title, box_label, hist_label):\n",
    "    #Plot Boxplot & Histogram\n",
    "    fig, (ax1, ax2) = plt.subplots(1, 2, figsize=(12, 4)) #Defines subplots & figure size\n",
    "    plt.suptitle(title) #Title for overall figure\n",
    "\n",
    "    ### Boxplot\n",
    "    ax1.boxplot(var)\n",
    "    ax1.set_ylabel(box_label)\n",
    "    ### Formats axes to include thousands separator\n",
    "    ax1.get_xaxis().set_major_formatter(plt.FuncFormatter(lambda x1, loc: \"{:,}\".format(int(x1))))\n",
    "    ax1.get_yaxis().set_major_formatter(plt.FuncFormatter(lambda x1, loc: \"{:,}\".format(int(x1))))\n",
    "\n",
    "    ### Histogram\n",
    "    ax2.hist(var)\n",
    "    ax2.set_xlabel(hist_label)\n",
    "    ### Formats axes number to include thousands separator\n",
    "    ax2.get_xaxis().set_major_formatter(plt.FuncFormatter(lambda x2, loc: \"{:,}\".format(int(x2))))\n",
    "    ax2.get_yaxis().set_major_formatter(plt.FuncFormatter(lambda x2, loc: \"{:,}\".format(int(x2))))\n",
    "    ax2.tick_params(axis='x', labelrotation=35)\n",
    "\n",
    "    plt.show()"
   ]
  },
  {
   "cell_type": "code",
   "execution_count": null,
   "metadata": {},
   "outputs": [],
   "source": [
    "#Defining Function to Show Regression Scatterplot\n",
    "def reg_scatter(df, x, y, xlabel, ylabel, color):\n",
    "    plt.figure(figsize=(10,6))\n",
    "\n",
    "    ax = sns.regplot(x, y, data=df, line_kws=color) \n",
    "\n",
    "    ax.set(xlabel=xlabel, ylabel=ylabel);\n",
    "    ax.get_xaxis().set_major_formatter(mpl.ticker.FuncFormatter(lambda x, p: format(int(x), ',')))\n",
    "    ax.get_yaxis().set_major_formatter(mpl.ticker.FuncFormatter(lambda x, p: format(int(x), ',')))"
   ]
  },
  {
   "cell_type": "markdown",
   "metadata": {},
   "source": [
    "# Correlation Matrix"
   ]
  },
  {
   "cell_type": "code",
   "execution_count": null,
   "metadata": {},
   "outputs": [],
   "source": [
    "#Correlation Matrix of all df variables\n",
    "df.corr()"
   ]
  },
  {
   "cell_type": "markdown",
   "metadata": {},
   "source": [
    "# Linear Regression\n",
    "A simple linear regression—also known as a binary linear regression—is one where the dependent variable is continuous and is “simple” only because there is one independent or explanatory variable to explore. We’re going to start with exploring the possible relationship between two continuous variables to practice that interpretation. For example, CHIS includes responses to people’s food consumption habits.\n",
    "\n",
    "We may hypothesize that there is a relationship between how many times someone eats fast food each week and how many sodas a person drinks per week. Since fast food restaurants serve soda, it seems logical that these variables could covary. We can investigate this by performing a simple linear regression in Stata. Remember the equation for a linear regression with one explanatory variable is:\n",
    "Y = a + bX + e\n",
    "In this case, we believe that our independent variable, X, the number of times eating fast food per week, will have a relationship with our dependent variable, Y, the number of sodas drunk per week.   \n",
    "Before we investigate the relationship of these variables, let’s see if we need to drop any missing or “inapplicable” values, and recode them with names that make more sense so that we can more easily interpret our outputs. After recoding each one, we’ll summarize them to understand the units we’re working with."
   ]
  },
  {
   "cell_type": "markdown",
   "metadata": {},
   "source": [
    "## Hypothesis #1\n",
    "Neighborhood population density is associated with higher property values"
   ]
  },
  {
   "cell_type": "code",
   "execution_count": null,
   "metadata": {},
   "outputs": [],
   "source": [
    "#Hypothesis #1 Variables\n",
    "df = df\n",
    "x = df['pop_dens'] #Define independent variable\n",
    "y = df['price_000'] #Define dependent variable\n",
    "var_list = ['pop_dens', 'price_000']\n",
    "\n",
    "xlabel = 'Neighborhood Population Density [Residents/Mi$^2$]'\n",
    "ylabel = 'Property Asking Price [Thousands of Pesos]'\n",
    "color = {'color':'red'}"
   ]
  },
  {
   "cell_type": "code",
   "execution_count": null,
   "metadata": {},
   "outputs": [],
   "source": [
    "#Describe Neighborhood Density\n",
    "var = x\n",
    "title = 'Neighborhood Population Density'\n",
    "box_label = '[Residents/Mi$^2$]'\n",
    "hist_label = '[Residents/Mi$^2$]'\n",
    "\n",
    "print(x.describe())\n",
    "plots(df, var, title, box_label, hist_label)"
   ]
  },
  {
   "cell_type": "code",
   "execution_count": null,
   "metadata": {},
   "outputs": [],
   "source": [
    "#Describe Property Price\n",
    "var = y\n",
    "title = 'Property Asking Price'\n",
    "box_label = '[Thousands of Pesos]'\n",
    "hist_label = '[Thousands of Pesos]'\n",
    "\n",
    "print(x.describe())\n",
    "plots(df, var, title, box_label, hist_label)"
   ]
  },
  {
   "cell_type": "markdown",
   "metadata": {},
   "source": [
    "### Scatterplot\n",
    "Like we did in class, first we’ll draw a scatterplot with our two variables to get a visual sense of how these variables may move together. We’ll also add a line of best fit, where the line of best fit is a straight line drawn through the center of the data points that minimizes the total sum of squared distances between the line and each data point to give a general picture of the trend in the data.\n",
    "\n",
    "We're using the Seaborn library here (as opposed to Matplotlib) because it's better at incorporating the line of best fit, and it generally produces more nuanced visualizations."
   ]
  },
  {
   "cell_type": "code",
   "execution_count": null,
   "metadata": {},
   "outputs": [],
   "source": [
    "reg_scatter(df, x, y, xlabel, ylabel, color)"
   ]
  },
  {
   "cell_type": "markdown",
   "metadata": {},
   "source": [
    "### Pairwise Correlation\n",
    "What do we notice about this scatterplot? Let’s run a correlation of these two variables (aka a 'pairwise' correlation) to see how strong the relationship is."
   ]
  },
  {
   "cell_type": "code",
   "execution_count": null,
   "metadata": {},
   "outputs": [],
   "source": [
    "#Pairwise correlation\n",
    "#Returns: Pearson’s correlation coefficient for each pair specified\n",
    "\n",
    "df[var_list].corr()"
   ]
  },
  {
   "cell_type": "code",
   "execution_count": null,
   "metadata": {},
   "outputs": [],
   "source": [
    "#Pairwise correlation with significance\n",
    "#Returns: (Pearson’s correlation coefficient, 2-tailed p-value)\n",
    "\n",
    "pearsonr(x, y)"
   ]
  },
  {
   "cell_type": "markdown",
   "metadata": {},
   "source": [
    "It looks like this isn't a statistically significant relationship, but let’s take a closer look with our first regression anyway! We hypothesized that neighborhood density might be an explanatory variable for a property's asking price, so pop_dens will be our X and price_000 will be our Y."
   ]
  },
  {
   "cell_type": "markdown",
   "metadata": {},
   "source": [
    "### Bivariate Linear Regression\n",
    "\n",
    "Before we run our regression, let’s review what we’re looking for:\n",
    "\n",
    "RQ:  \n",
    "\n",
    "H0:  \n",
    "HA:  "
   ]
  },
  {
   "cell_type": "code",
   "execution_count": null,
   "metadata": {},
   "outputs": [],
   "source": [
    "#Bivariate Linear Regression\n",
    "x = df[['pop_dens']].assign(Intercept = 1) #Redefine independent variable including intercept\n",
    "\n",
    "sm.OLS(y, x).fit().summary2()"
   ]
  },
  {
   "cell_type": "markdown",
   "metadata": {},
   "source": [
    "Practice interpreting this regression output with your neighbor:  \n",
    "\n",
    "> • How can you explain the impact of population density on the asking price of a property?  \n",
    "> • Is our model statistically significant?   \n",
    "> • How can you tell?   \n",
    "\n",
    "We're bound to run into insignificant findings, particularly as we work with complex topics and datasets in city planning. However these results can still be revealing and teach us about our research question and/or the dataset!"
   ]
  },
  {
   "cell_type": "markdown",
   "metadata": {},
   "source": [
    "## Hypothesis #2\n",
    "Being in a high SES neighborhood (ses_bin=6 is highest) is associated with higher property values"
   ]
  },
  {
   "cell_type": "code",
   "execution_count": null,
   "metadata": {},
   "outputs": [],
   "source": [
    "#Hypothesis #2 Variables\n",
    "x = \n",
    "y = \n",
    "\n",
    "xlabel = \n",
    "ylabel = "
   ]
  },
  {
   "cell_type": "code",
   "execution_count": null,
   "metadata": {
    "scrolled": true
   },
   "outputs": [],
   "source": [
    "#Describe Variables\n",
    "stats = ['count','min','max','mean', 'median', 'std']\n",
    "\n",
    "#Describe SES & Price"
   ]
  },
  {
   "cell_type": "markdown",
   "metadata": {},
   "source": [
    "We’re interested in the difference between high and low SES status, so we can simplify this categorical variable into a dummy in which those that are rated 5 & 6 are coded 1, and all others are coded 0.  "
   ]
  },
  {
   "cell_type": "code",
   "execution_count": null,
   "metadata": {},
   "outputs": [],
   "source": [
    "#Recode SES\n",
    "  #Create Dummy Variable\n",
    "  #Reassign Independent X Variable\n",
    "\n",
    "#Describe ses_dv & price"
   ]
  },
  {
   "cell_type": "markdown",
   "metadata": {},
   "source": [
    "### Scatterplot"
   ]
  },
  {
   "cell_type": "code",
   "execution_count": null,
   "metadata": {
    "scrolled": false
   },
   "outputs": [],
   "source": [
    "#Scatterplot of ses_dv & price"
   ]
  },
  {
   "cell_type": "markdown",
   "metadata": {},
   "source": [
    "### Pairwise Correlation"
   ]
  },
  {
   "cell_type": "code",
   "execution_count": null,
   "metadata": {},
   "outputs": [],
   "source": [
    "#Pearson Correlation"
   ]
  },
  {
   "cell_type": "markdown",
   "metadata": {},
   "source": [
    "### Bivariate Linear Regression"
   ]
  },
  {
   "cell_type": "code",
   "execution_count": null,
   "metadata": {},
   "outputs": [],
   "source": [
    "#Redefine independent variable - and include intercept\n",
    "\n",
    "#OLS Regression"
   ]
  },
  {
   "cell_type": "markdown",
   "metadata": {},
   "source": [
    "When interpreting our regression output, we are most interested in the value of **b**, from our regression equation, which is the coefficient of each explanatory variable, shown as 'Coef.' above. The value of b tells us how much Y changes when X changes. Remember: It doesn’t necessarily imply a causal relationship – just an association!\n",
    "\n",
    "In this case, because X is a dummy variable, it changes from 0 (lower SES) to 1 (high SES). Take a moment to interpret these findings with a neighbor - how does high socioeconomic status impact the price of a property?"
   ]
  },
  {
   "cell_type": "markdown",
   "metadata": {},
   "source": [
    "## Hypothesis #3\n",
    "Neighborhood SES is negatively associated with neighborhood density"
   ]
  },
  {
   "cell_type": "code",
   "execution_count": null,
   "metadata": {},
   "outputs": [],
   "source": [
    "#Hypothesis #3 Variables\n",
    "x = df['ses_dv']\n",
    "y = data['pop_dens']\n",
    "\n",
    "xlabel = 'Neighborhood Socioeconomic Status'\n",
    "ylabel = 'Neighborhood Population Density [Residents/Mi$^2$]'"
   ]
  },
  {
   "cell_type": "code",
   "execution_count": null,
   "metadata": {},
   "outputs": [],
   "source": [
    "reg_scatter(df, x, y, xlabel, ylabel, color)"
   ]
  },
  {
   "cell_type": "code",
   "execution_count": null,
   "metadata": {},
   "outputs": [],
   "source": [
    "pearsonr(x, y)"
   ]
  },
  {
   "cell_type": "code",
   "execution_count": null,
   "metadata": {},
   "outputs": [],
   "source": [
    "#Regression\n",
    "x = df[['ses_dv']].assign(Intercept = 1) #Redefine independent variable - and include intercept\n",
    "\n",
    "sm.OLS(y, x, missing='drop').fit().summary2()"
   ]
  },
  {
   "cell_type": "markdown",
   "metadata": {},
   "source": [
    "# Multivariate linear regression\n",
    "\n",
    "After creating a “simple” model (i.e. one explanatory variable), we can start to “build” a more sophisticated model by including additional explanatory variables or “controls”. Let’s take our ses_dv variable from our simple linear regression: what else do we think might influence a property's listing price, in addition to whether it's in a high socioeconomic status neighborhood?  \n",
    "\n",
    "\n",
    "From our extensive literature review, we know that there might be property-specific and neighborhood-level factors which influence a property's price. We hypothesize that a property's type, size, and number of bathrooms, in addition to the neighborhood's green space and homicide rate, might be helpful predictors of a property's price."
   ]
  },
  {
   "cell_type": "code",
   "execution_count": null,
   "metadata": {},
   "outputs": [],
   "source": [
    "#Define Independent Variables\n",
    "ind_var = ['ses_dv', 'house', 'area_m2', 'num_bath', 'pcn_green', 'homicides'] \n",
    "#Generally, first variable is your 'key explanatory variable', followed by your control variables\n",
    "\n",
    "x = df[ind_var].assign(Intercept = 1) #Independent Variables\n",
    "y = df['price_000'] #Dependent Variable\n",
    "\n",
    "sm.OLS(y, x).fit().summary2()"
   ]
  },
  {
   "cell_type": "markdown",
   "metadata": {},
   "source": [
    "With your neighbor, practice interpreting the coefficient for each variable.  \n",
    " \n",
    "Which factors increase a property's asking price?    \n",
    "Which decrease the asking price?   "
   ]
  },
  {
   "cell_type": "code",
   "execution_count": null,
   "metadata": {},
   "outputs": [],
   "source": []
  }
 ],
 "metadata": {
  "kernelspec": {
   "display_name": "Python 3",
   "language": "python",
   "name": "python3"
  },
  "language_info": {
   "codemirror_mode": {
    "name": "ipython",
    "version": 3
   },
   "file_extension": ".py",
   "mimetype": "text/x-python",
   "name": "python",
   "nbconvert_exporter": "python",
   "pygments_lexer": "ipython3",
   "version": "3.6.9"
  }
 },
 "nbformat": 4,
 "nbformat_minor": 4
}
