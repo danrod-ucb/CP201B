{
 "cells": [
  {
   "cell_type": "markdown",
   "metadata": {},
   "source": [
    "### IMPORTING LIBRARIES"
   ]
  },
  {
   "cell_type": "code",
   "execution_count": null,
   "metadata": {},
   "outputs": [],
   "source": [
    "import pandas as pd, numpy as np, matplotlib as mpl, math\n",
    "\n",
    "import geopandas as gpd\n",
    "from geopandas import GeoDataFrame\n",
    "pd.options.display.float_format = '{:.2f}'.format\n",
    "#pd.set_option('display.max_rows', None)\n",
    "#pd.set_option('display.max_columns', None)\n",
    "\n",
    "%matplotlib inline\n",
    "import matplotlib.pylab as pylab\n",
    "import matplotlib.pyplot as plt\n",
    "\n",
    "import seaborn as sns\n",
    "\n",
    "#from scipy import ndimage\n",
    "from scipy import stats\n",
    "from scipy.stats import t, chisquare, iqr\n",
    "#pandas.set_option('display.max_rows', None)\n",
    "from scipy.stats import ttest_ind\n",
    "\n",
    "import warnings \n",
    "warnings.filterwarnings('ignore')"
   ]
  },
  {
   "cell_type": "code",
   "execution_count": null,
   "metadata": {},
   "outputs": [],
   "source": [
    "pip install researchpy"
   ]
  },
  {
   "cell_type": "code",
   "execution_count": null,
   "metadata": {},
   "outputs": [],
   "source": [
    "import researchpy as rp"
   ]
  },
  {
   "cell_type": "code",
   "execution_count": null,
   "metadata": {},
   "outputs": [],
   "source": [
    "# Filepath for csv == 'PropertyData/Property Data.csv'"
   ]
  },
  {
   "cell_type": "markdown",
   "metadata": {},
   "source": [
    "### CONNECTING TO DATA"
   ]
  },
  {
   "cell_type": "code",
   "execution_count": null,
   "metadata": {},
   "outputs": [],
   "source": [
    "raw = pd.read_csv('PropertyData/Property Data.csv')\n",
    "raw.head()"
   ]
  },
  {
   "cell_type": "markdown",
   "metadata": {},
   "source": [
    "### Data Cleaning"
   ]
  },
  {
   "cell_type": "code",
   "execution_count": null,
   "metadata": {},
   "outputs": [],
   "source": [
    "raw.dtypes"
   ]
  },
  {
   "cell_type": "code",
   "execution_count": null,
   "metadata": {},
   "outputs": [],
   "source": [
    "# Convert Variable Type\n",
    "raw['id'] = raw['id'].astype(str)\n",
    "raw.dtypes"
   ]
  },
  {
   "cell_type": "code",
   "execution_count": null,
   "metadata": {},
   "outputs": [],
   "source": [
    "# Check for Null Values\n",
    "raw.isnull().sum()"
   ]
  },
  {
   "cell_type": "markdown",
   "metadata": {},
   "source": [
    "### Create Sub-Dataframe"
   ]
  },
  {
   "cell_type": "code",
   "execution_count": null,
   "metadata": {},
   "outputs": [],
   "source": [
    "# Create Sub-Dataframe\n",
    "df = raw[['house','apt','price_000','age_0_10','age_20_more','pcn_green','num_room']].copy()\n",
    "df.head()"
   ]
  },
  {
   "cell_type": "code",
   "execution_count": null,
   "metadata": {},
   "outputs": [],
   "source": [
    "# Rename variables of interest\n",
    "df.rename(columns={\"price_000\":\"price\", \"age_0_10\":\"age_new\", \"age_20_more\":\"age_old\", \"num_room\":\"rooms\"}, inplace = True)"
   ]
  },
  {
   "cell_type": "markdown",
   "metadata": {},
   "source": [
    "### Describing Variables"
   ]
  },
  {
   "cell_type": "markdown",
   "metadata": {},
   "source": [
    "#### Continous Variable"
   ]
  },
  {
   "cell_type": "code",
   "execution_count": null,
   "metadata": {
    "scrolled": false
   },
   "outputs": [],
   "source": [
    "# Property Price -- Continous Variable\n"
   ]
  },
  {
   "cell_type": "code",
   "execution_count": null,
   "metadata": {},
   "outputs": [],
   "source": [
    "# Next week we'll learn how to use a histogram to visualize the distribution of a continous variable\n",
    "# If we're only interested in certain statistics, we can also call them up specifically \n"
   ]
  },
  {
   "cell_type": "code",
   "execution_count": null,
   "metadata": {},
   "outputs": [],
   "source": [
    "\n",
    "# Note the median is equal to the 50% percentile above, and IQR is equal to the 75th percentile minus the 25th"
   ]
  },
  {
   "cell_type": "markdown",
   "metadata": {},
   "source": [
    "#### Discrete Numeric Variable (Dummy Variable)"
   ]
  },
  {
   "cell_type": "code",
   "execution_count": null,
   "metadata": {},
   "outputs": [],
   "source": [
    "# House -- Discrete Numeric Variable (Dummy Variable)\n"
   ]
  },
  {
   "cell_type": "code",
   "execution_count": null,
   "metadata": {},
   "outputs": [],
   "source": [
    "# We can also use the value_counts function (in general, it gives us a better sense of categorical variables)\n"
   ]
  },
  {
   "cell_type": "code",
   "execution_count": null,
   "metadata": {},
   "outputs": [],
   "source": [
    "# And we can normalize value_counts to get percentages\n"
   ]
  },
  {
   "cell_type": "code",
   "execution_count": null,
   "metadata": {
    "scrolled": true
   },
   "outputs": [],
   "source": [
    "# If we want to see counts and percentages together, we can concatenate these outputs into one table\n",
    "\n",
    "# Defining a function called 'tab' that can take in any dataframe and any variable and return the output below\n",
    "# What steps could you take to apply this function to a different dataframe? \n",
    "### (hint: df in the function, and df at the bottom where we call it with 'house' aren't the same thing...)\n",
    "def tab(df, x):\n",
    "    print (\"Total Count\", df[x].count())\n",
    "    print (\"Total Pct\", sum(df[x].value_counts(normalize=True)))\n",
    "    \n",
    "    return pd.concat([ df[x].value_counts(), df[x].value_counts(normalize=True) ], \n",
    "                     axis=1, keys=('counts','pct'))\n",
    "\n",
    "tab(df, 'house')"
   ]
  },
  {
   "cell_type": "code",
   "execution_count": null,
   "metadata": {},
   "outputs": [],
   "source": [
    "# These functions have been helpful for individual variables, but say you want to see summary stats for ALL the \n",
    "# variables in your dataframe at once?\n"
   ]
  },
  {
   "cell_type": "code",
   "execution_count": null,
   "metadata": {},
   "outputs": [],
   "source": [
    "# If you want to see summary statistics like this for just a few variables, see the Appendix Code at the bottom!"
   ]
  },
  {
   "cell_type": "markdown",
   "metadata": {},
   "source": [
    "### STATISTICAL TESTS"
   ]
  },
  {
   "cell_type": "code",
   "execution_count": null,
   "metadata": {},
   "outputs": [],
   "source": [
    "# Define universal set of statistics to be called with \".agg\" command\n",
    "# The groupby and aggregate functions are helpful for looking at crosstabulated summary statistics\n"
   ]
  },
  {
   "cell_type": "markdown",
   "metadata": {},
   "source": [
    "#### Test A. T-Test (of Means)"
   ]
  },
  {
   "cell_type": "code",
   "execution_count": null,
   "metadata": {},
   "outputs": [],
   "source": [
    "# Test a. Descriptive Statistics\n"
   ]
  },
  {
   "cell_type": "code",
   "execution_count": null,
   "metadata": {},
   "outputs": [],
   "source": [
    "# Test a. Do apartments have different prices than houses?\n",
    "\n",
    "# Variables\n",
    "\n",
    "\n",
    "# T-Test\n"
   ]
  },
  {
   "cell_type": "markdown",
   "metadata": {},
   "source": [
    "#### Test B. T-Test (of Means)"
   ]
  },
  {
   "cell_type": "code",
   "execution_count": null,
   "metadata": {},
   "outputs": [],
   "source": [
    "# Test b. Descriptive Statistics\n"
   ]
  },
  {
   "cell_type": "code",
   "execution_count": null,
   "metadata": {},
   "outputs": [],
   "source": [
    "# Test b. Are houses more likely to be located in neighborhoods with more greenspace than apartments?\n",
    "\n",
    "# Variables\n",
    "\n",
    "\n",
    "# T-Test\n"
   ]
  },
  {
   "cell_type": "markdown",
   "metadata": {},
   "source": [
    "#### Test C. T-Test for Subset of Dataframe"
   ]
  },
  {
   "cell_type": "code",
   "execution_count": null,
   "metadata": {},
   "outputs": [],
   "source": [
    "# Test c. Descriptive Statistics\n",
    "\n",
    "\n",
    "#Group price of apartments by new vs. old\n"
   ]
  },
  {
   "cell_type": "code",
   "execution_count": null,
   "metadata": {},
   "outputs": [],
   "source": [
    "# Test c. Is the price of newer apartments different from older apartments?\n",
    "\n",
    "# Variables\n",
    "\n",
    "\n",
    "# T-Test\n"
   ]
  },
  {
   "cell_type": "markdown",
   "metadata": {},
   "source": [
    "#### Test D. Chi-Square Test (of Proportions)"
   ]
  },
  {
   "cell_type": "code",
   "execution_count": null,
   "metadata": {},
   "outputs": [],
   "source": [
    "# Test d. Descriptive Statistics\n"
   ]
  },
  {
   "cell_type": "code",
   "execution_count": null,
   "metadata": {},
   "outputs": [],
   "source": [
    "# Normalizing by row ('index') - could also normalize by 'columns'\n"
   ]
  },
  {
   "cell_type": "code",
   "execution_count": null,
   "metadata": {},
   "outputs": [],
   "source": [
    "# Test d. Are houses (y/n) more likely to be older (age_20_more) or younger?\n"
   ]
  },
  {
   "cell_type": "code",
   "execution_count": null,
   "metadata": {
    "scrolled": true
   },
   "outputs": [],
   "source": []
  },
  {
   "cell_type": "markdown",
   "metadata": {},
   "source": [
    "### Appendix - Defining Functions"
   ]
  },
  {
   "cell_type": "code",
   "execution_count": null,
   "metadata": {},
   "outputs": [],
   "source": [
    "# Showing Null Values in Order\n",
    "# Will only show null counts for rows that have more than 0 null values\n",
    "\n",
    "### DEFINING THE FUNCTION\n",
    "def var_nulls (df):\n",
    "    null_counts = df.isnull().sum() #Sum of null counts attributed to a variable\n",
    "    return null_counts[null_counts > 0].sort_values(ascending=False) #Sort values greater than 0 largest to smallest\n",
    "\n",
    "var_nulls(raw)\n",
    "\n",
    "#Output shows blank list because we have no null values here"
   ]
  },
  {
   "cell_type": "code",
   "execution_count": null,
   "metadata": {},
   "outputs": [],
   "source": [
    "# Value Counts - Seeing Counts and Percentages Together\n",
    "\n",
    "### DEFINING THE FUNCTION\n",
    "def tab(df, x):\n",
    "    print (\"Total Count\", df[x].count())\n",
    "    print (\"Total Pct\", sum(df[x].value_counts(normalize=True)))\n",
    "    return pd.concat([df[x].value_counts(), df[x].value_counts(normalize=True)], \n",
    "                     axis=1, keys=('counts','pct'))\n",
    "\n",
    "### CALL THE FUNCTION\n",
    "tab(df, 'house') #Specify the dataframe and the variable in the parentheses"
   ]
  },
  {
   "cell_type": "code",
   "execution_count": null,
   "metadata": {
    "scrolled": true
   },
   "outputs": [],
   "source": [
    "# We used the groupby function before each statistical test we used - we can also call this up with one function!\n",
    "\n",
    "### DEFINING THE FUNCTION\n",
    "def grpby_stats (df, var1, var2):\n",
    "    stat = ['count', 'mean', 'min', 'max', 'median', 'std'] #Specify the statistics we want\n",
    "    return df[var1].groupby(df[var2]).agg(stat) #Group the first variable by the second variable, and aggregate stats\n",
    "\n",
    "### CALL THE FUNCTION\n",
    "grpby_stats(df, 'price', 'apt') #Specify the dataframe, key variabe, and grouping variable in the parentheses\n",
    "\n",
    "#Does this work for Test C, where we define apt_p = (df[df.apt == 1].price)? Try it out!"
   ]
  },
  {
   "cell_type": "code",
   "execution_count": null,
   "metadata": {},
   "outputs": [],
   "source": [
    "# If you want to see this for ALL the variables in your dataframe, you use this code.\n",
    "# This asks Python to describe the entire dataframe, and transpose (T) the columns and rows\n",
    "# (Try deleting the .T to see what happens if you don't use it - either way is fine!)\n",
    "\n",
    "df.describe().T"
   ]
  },
  {
   "cell_type": "code",
   "execution_count": null,
   "metadata": {},
   "outputs": [],
   "source": [
    "# What if you just want to view a few of your key variables of interest?\n",
    "\n",
    "# List of key variables\n",
    "key_var = ['apt','price','rooms']\n",
    "\n",
    "# Code calling a few variables \n",
    "df[key_var].describe().T\n",
    "\n",
    "# You could also use this code below if you don't want to separately define a list of variables: \n",
    "# df[['apt','price','rooms']].describe().T"
   ]
  },
  {
   "cell_type": "code",
   "execution_count": null,
   "metadata": {},
   "outputs": [],
   "source": []
  }
 ],
 "metadata": {
  "kernelspec": {
   "display_name": "Python 3",
   "language": "python",
   "name": "python3"
  },
  "language_info": {
   "codemirror_mode": {
    "name": "ipython",
    "version": 3
   },
   "file_extension": ".py",
   "mimetype": "text/x-python",
   "name": "python",
   "nbconvert_exporter": "python",
   "pygments_lexer": "ipython3",
   "version": "3.7.3"
  }
 },
 "nbformat": 4,
 "nbformat_minor": 2
}
