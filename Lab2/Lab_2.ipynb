{
 "cells": [
  {
   "cell_type": "markdown",
   "metadata": {},
   "source": [
    "### Import packages"
   ]
  },
  {
   "cell_type": "code",
   "execution_count": null,
   "metadata": {},
   "outputs": [],
   "source": [
    "import pandas as pd ### for reading and modifying databases\n",
    "import matplotlib.pyplot as plt ### for plotting graphs\n",
    "import numpy as np ### for managing vectorized operations"
   ]
  },
  {
   "cell_type": "markdown",
   "metadata": {},
   "source": [
    "### Reads files"
   ]
  },
  {
   "cell_type": "code",
   "execution_count": null,
   "metadata": {},
   "outputs": [],
   "source": [
    "raw = pd.read_csv('data_augmented.csv') ### Reads the data file\n",
    "raw.head() ### Preview of datafile"
   ]
  },
  {
   "cell_type": "markdown",
   "metadata": {},
   "source": [
    "### Data cleaning"
   ]
  },
  {
   "cell_type": "markdown",
   "metadata": {},
   "source": [
    "##### Check for null values"
   ]
  },
  {
   "cell_type": "code",
   "execution_count": null,
   "metadata": {},
   "outputs": [],
   "source": [
    "### Summary of NaN columns\n"
   ]
  },
  {
   "cell_type": "code",
   "execution_count": null,
   "metadata": {},
   "outputs": [],
   "source": [
    "### How many observations would be dropped?\n"
   ]
  },
  {
   "cell_type": "code",
   "execution_count": null,
   "metadata": {},
   "outputs": [],
   "source": [
    "### Dropping NaN values\n"
   ]
  },
  {
   "cell_type": "markdown",
   "metadata": {},
   "source": [
    "##### Check for outliers"
   ]
  },
  {
   "cell_type": "markdown",
   "metadata": {},
   "source": [
    "<img src = 'boxplots.jpg' width = 500>\n",
    "source: https://towardsdatascience.com/understanding-boxplots-5e2df7bcbd51"
   ]
  },
  {
   "cell_type": "code",
   "execution_count": null,
   "metadata": {},
   "outputs": [],
   "source": [
    "### Population Density\n"
   ]
  },
  {
   "cell_type": "code",
   "execution_count": null,
   "metadata": {},
   "outputs": [],
   "source": [
    "### Price\n"
   ]
  },
  {
   "cell_type": "code",
   "execution_count": null,
   "metadata": {},
   "outputs": [],
   "source": [
    "### How many observations would be dropped? -TYPING BREAK #1\n",
    "\n",
    "var = df['price_000']\n",
    "\n",
    "q_75 = np.quantile(var, 0.75)\n",
    "q_25 = np.quantile(var, 0.25)\n",
    "q_50 = np.quantile(var, 0.5) ### This is also the median\n",
    "\n",
    "iqr_calc = q_75-q_25 ### This should give the same output as the function scipy.stats.iqr()\n",
    "print(iqr_calc)"
   ]
  },
  {
   "cell_type": "code",
   "execution_count": null,
   "metadata": {},
   "outputs": [],
   "source": [
    "### Find how many observations we would drop if we got rid of outliers?\n"
   ]
  },
  {
   "cell_type": "markdown",
   "metadata": {},
   "source": [
    "### Personalizing Histograms"
   ]
  },
  {
   "cell_type": "markdown",
   "metadata": {},
   "source": [
    "##### How many bins?"
   ]
  },
  {
   "cell_type": "code",
   "execution_count": null,
   "metadata": {},
   "outputs": [],
   "source": [
    "### Population Density\n"
   ]
  },
  {
   "cell_type": "markdown",
   "metadata": {},
   "source": [
    "##### Personalizing the plot"
   ]
  },
  {
   "cell_type": "code",
   "execution_count": null,
   "metadata": {},
   "outputs": [],
   "source": [
    "x = df.pop_dens  ### Defines the variable we want to plot\n",
    "n_bins = 500 ### Defines the number of bins\n",
    "\n",
    "plt.figure(figsize=(6,4)) ### Defines graph size (x,y) in inches\n",
    "plt.hist(x, n_bins) ### Defines the histogram plotting function from the matplotlib library\n",
    "plt.xlabel('Population Density [$\\mathregular{person/km^2}]$') ### Creates the x-axis label\n",
    "plt.ylabel('Frequency') ### Creates the y-axis label\n",
    "plt.tight_layout() ### Adjusts labels to the figure area\n",
    "plt.savefig('pop_dens_hist.jpg') ### Saves figure to project folder\n",
    "plt.show() ### Plots the graph"
   ]
  },
  {
   "cell_type": "markdown",
   "metadata": {},
   "source": [
    "##### Creating dummy SES variable"
   ]
  },
  {
   "cell_type": "code",
   "execution_count": null,
   "metadata": {},
   "outputs": [],
   "source": [
    "### Counts\n"
   ]
  },
  {
   "cell_type": "code",
   "execution_count": null,
   "metadata": {},
   "outputs": [],
   "source": [
    "### Creating the dummy"
   ]
  },
  {
   "cell_type": "code",
   "execution_count": null,
   "metadata": {},
   "outputs": [],
   "source": [
    "### Data check!"
   ]
  },
  {
   "cell_type": "markdown",
   "metadata": {},
   "source": [
    "##### Create binary density variable"
   ]
  },
  {
   "cell_type": "code",
   "execution_count": null,
   "metadata": {},
   "outputs": [],
   "source": [
    "### Compute median"
   ]
  },
  {
   "cell_type": "code",
   "execution_count": null,
   "metadata": {},
   "outputs": [],
   "source": [
    "### Creating the dummy"
   ]
  },
  {
   "cell_type": "code",
   "execution_count": null,
   "metadata": {},
   "outputs": [],
   "source": [
    "### Data check!"
   ]
  },
  {
   "cell_type": "markdown",
   "metadata": {},
   "source": [
    "##### Recode the number of bathrooms variable"
   ]
  },
  {
   "cell_type": "code",
   "execution_count": null,
   "metadata": {},
   "outputs": [],
   "source": [
    "### Counts\n"
   ]
  },
  {
   "cell_type": "code",
   "execution_count": null,
   "metadata": {},
   "outputs": [],
   "source": [
    "### Creating the dummy"
   ]
  },
  {
   "cell_type": "markdown",
   "metadata": {},
   "source": [
    "##### Standardizing the Area variable"
   ]
  },
  {
   "cell_type": "markdown",
   "metadata": {},
   "source": [
    "<img src = 'standarization.jpg' width = 500>\n",
    "source: https://365datascience.com/standardization/"
   ]
  },
  {
   "cell_type": "code",
   "execution_count": null,
   "metadata": {},
   "outputs": [],
   "source": [
    "### Describe the data\n"
   ]
  },
  {
   "cell_type": "code",
   "execution_count": null,
   "metadata": {},
   "outputs": [],
   "source": [
    "#### TYPYING BREAK #2! - YEAH!! :D\n",
    "x = df['area_m2']\n",
    "\n",
    "area_mean = np.mean(x)\n",
    "area_SD = np.std(x) \n",
    "\n",
    "print('area mean:', round(area_mean, 2))\n",
    "print('area SD:', round(area_SD, 2))"
   ]
  },
  {
   "cell_type": "code",
   "execution_count": null,
   "metadata": {},
   "outputs": [],
   "source": [
    "df['area_stand'] = (df['area_m2']-area_mean)/area_SD"
   ]
  },
  {
   "cell_type": "code",
   "execution_count": null,
   "metadata": {},
   "outputs": [],
   "source": [
    "x = df['area_stand']\n",
    "\n",
    "area_std_mean = np.mean(x)\n",
    "area_std_SD = np.std(x) \n",
    "\n",
    "print('area mean:', round(area_std_mean, 2))\n",
    "print('area SD:', round(area_std_SD, 2))"
   ]
  },
  {
   "cell_type": "markdown",
   "metadata": {},
   "source": [
    "##### Compare area histograms"
   ]
  },
  {
   "cell_type": "code",
   "execution_count": null,
   "metadata": {},
   "outputs": [],
   "source": [
    "### Area vs standardized area"
   ]
  },
  {
   "cell_type": "markdown",
   "metadata": {},
   "source": [
    "##### Compare density histograms"
   ]
  },
  {
   "cell_type": "code",
   "execution_count": null,
   "metadata": {},
   "outputs": [],
   "source": [
    "### Population density vs Population density dummy"
   ]
  },
  {
   "cell_type": "markdown",
   "metadata": {},
   "source": [
    "##### Scatterplot price vs SES (6 categories)"
   ]
  },
  {
   "cell_type": "code",
   "execution_count": null,
   "metadata": {},
   "outputs": [],
   "source": [
    "### Price vs SES & price vs SES categories"
   ]
  },
  {
   "cell_type": "markdown",
   "metadata": {},
   "source": [
    "### Appendix"
   ]
  },
  {
   "cell_type": "markdown",
   "metadata": {},
   "source": [
    "##### How to plot side by side"
   ]
  },
  {
   "cell_type": "code",
   "execution_count": null,
   "metadata": {},
   "outputs": [],
   "source": [
    "### Defines the number of figures that will make up the graph\n",
    "### plt.subplots (n_rows, n_columns, figsize = (width, height))\n",
    "### In this case, we are creating two figures side by side (1, 2)\n",
    "### If we wanted two figures one on top of the other, we would do (2, 1)\n",
    "\n",
    "### ax1 will define everything related to figure 1\n",
    "### ax2 will define everything related to figure 2\n",
    "fig, (ax1, ax2) = plt.subplots(1, 2, figsize=(12, 4))\n",
    "\n",
    "### Defines the varibles that will be used for each plot\n",
    "### Figure 1\n",
    "x1 = filtered_df.price_000\n",
    "y1 = filtered_df.ses\n",
    "### Figure 2\n",
    "x2 = filtered_df.price_000\n",
    "y2 = filtered_df.ses_dummy\n",
    "\n",
    "### Creates title for overall figure\n",
    "plt.suptitle('Comparison of categorical vs. dummy SES histograms')\n",
    "\n",
    "### Creates first plot\n",
    "ax1.scatter(x1, y1)\n",
    "ax1.set_xlabel('Asking price [COL$]')\n",
    "ax1.set_ylabel('Socioeconomic Status')\n",
    "### Formats y-axis number to zero decimal points\n",
    "ax1.get_yaxis().set_major_formatter(plt.FuncFormatter(lambda y1, loc: \"{:d}\".format(int(y1))))\n",
    "### Formats x-axis number to include thousands separator\n",
    "ax1.get_xaxis().set_major_formatter(plt.FuncFormatter(lambda x1, loc: \"{:,}\".format(int(x1))))\n",
    "ax1.tick_params(axis='x', labelrotation=35)### Let's rotate the labels!\n",
    "\n",
    "### Creates second plot\n",
    "ax2.scatter(x2, y2, c ='red', marker = '+') ### We can change the color and marker type\n",
    "ax2.set_xlabel('Asking price [COL$]')\n",
    "ax2.set_ylabel('Socioeconomic Status (Dummy)')\n",
    "\n",
    "### Formats x-axis number to include thousands separator\n",
    "ax2.get_xaxis().set_major_formatter(plt.FuncFormatter(lambda x2, loc: \"{:,}\".format(int(x2))))\n",
    "ax2.tick_params(axis='x', labelrotation=35) ### Let's rotate the labels!\n",
    "\n",
    "plt.show()"
   ]
  }
 ],
 "metadata": {
  "kernelspec": {
   "display_name": "Python 3",
   "language": "python",
   "name": "python3"
  },
  "language_info": {
   "codemirror_mode": {
    "name": "ipython",
    "version": 3
   },
   "file_extension": ".py",
   "mimetype": "text/x-python",
   "name": "python",
   "nbconvert_exporter": "python",
   "pygments_lexer": "ipython3",
   "version": "3.7.4"
  }
 },
 "nbformat": 4,
 "nbformat_minor": 2
}
