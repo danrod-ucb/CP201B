{
 "cells": [
  {
   "cell_type": "markdown",
   "metadata": {},
   "source": [
    "# Planning Methods: Part II, Spring 2021 \n",
    "\n",
    "# Lab 2: Plotting, Correlation and Regression \n",
    "\n",
    "**About This Lab**\n",
    "* We will be running through this notebook together. If you have a clarifying question or other question of broad interest, feel free to interrupt or use a pause to unmute and ask it! If you have a question that may result in a one-on-one breakout room (think: detailed inquiry, conceptual question, or help debugging), please ask it in the chat!\n",
    "* We recognize learning Python via Zoom comes with its challenges and that there are many modes of learning. Please go with what works best for you. That might be printing out the Jupyter notebook, duplicating it such that you can refer to the original, working directly in it. Up to you! There isn't a single right way.\n",
    "* This lab requires that you download the following file and place it in the same directory as this Jupyter notebook:\n",
    "    * `clean_property_data.csv`\n"
   ]
  },
  {
   "cell_type": "markdown",
   "metadata": {},
   "source": [
    "## Objectives \n",
    "By the end of this lab, you will review how to:\n",
    "1. Check for outliers \n",
    "2. Plot histograms \n",
    "3. Create subdataframes \n",
    "4. Create Dummy Variables \n",
    "\n",
    "You will learn how to: \n",
    "1. Create scatterplots\n",
    "2. Test Correlation\n",
    "3. Use a correlation matrix \n",
    "4. Run a bivariate linear regresion"
   ]
  },
  {
   "cell_type": "markdown",
   "metadata": {},
   "source": [
    "## Import Packages"
   ]
  },
  {
   "cell_type": "code",
   "execution_count": null,
   "metadata": {},
   "outputs": [],
   "source": [
    "import numpy as np\n",
    "import pandas as pd\n",
    "import seaborn as sns\n",
    "\n",
    "import matplotlib as mpl\n",
    "import matplotlib.pyplot as plt\n",
    "from matplotlib.ticker import FuncFormatter\n",
    "\n",
    "import statsmodels.api as sm\n",
    "from scipy.stats import pearsonr"
   ]
  },
  {
   "cell_type": "markdown",
   "metadata": {},
   "source": [
    "## Read Files "
   ]
  },
  {
   "cell_type": "code",
   "execution_count": null,
   "metadata": {},
   "outputs": [],
   "source": [
    "df = pd.read_csv('clean_property_data.csv')\n",
    "df.head()"
   ]
  },
  {
   "cell_type": "code",
   "execution_count": null,
   "metadata": {},
   "outputs": [],
   "source": [
    "df.dtypes"
   ]
  },
  {
   "cell_type": "code",
   "execution_count": null,
   "metadata": {},
   "outputs": [],
   "source": [
    "df['id'] = df['id'].astype(str)\n",
    "df.dtypes"
   ]
  },
  {
   "cell_type": "code",
   "execution_count": null,
   "metadata": {},
   "outputs": [],
   "source": [
    "#We want to create a dataframe with the variables that we want to examine \n",
    "property_df= df[['price_000', 'pop_dens', 'ses', 'house', 'apt',\n",
    "                      'pcnt_indu', 'pcnt_com', 'pcn_green', 'homicides',\n",
    "                     'area_m2', 'num_bath', 'lnprice']].copy()\n",
    "\n",
    "#Let's rename a few of these variables \n"
   ]
  },
  {
   "cell_type": "markdown",
   "metadata": {},
   "source": [
    "## Histograms "
   ]
  },
  {
   "cell_type": "markdown",
   "metadata": {},
   "source": [
    "### Visualizing data in plots"
   ]
  },
  {
   "cell_type": "code",
   "execution_count": null,
   "metadata": {},
   "outputs": [],
   "source": [
    "#To look at the distribution of population density, we can first create a boxplot  \n",
    "                               #Define population density as x \n",
    "                               #Create the boxplot \n",
    "plt.show()\n",
    "\n",
    "#We can also look at a histogram of population density  \n",
    "                     #Let's define the number of bins we want to use \n",
    "                    #Let's plot the histogram using x, and defined number of bins \n",
    "plt.show()"
   ]
  },
  {
   "cell_type": "markdown",
   "metadata": {},
   "source": [
    "### Personalizing the plot "
   ]
  },
  {
   "cell_type": "code",
   "execution_count": null,
   "metadata": {},
   "outputs": [],
   "source": [
    "#We will create a histogram of population dnesity \n",
    "x =                      # We first define population density as x \n",
    "n_bins = 500             #Then we define the number of bins we want to use        \n",
    "\n",
    "# Let's define graph size (x, y) in inches \n",
    "plt.figure(figsize = (6, 4))\n",
    "\n",
    "#Using the matplotlib function, we can plot our histogram \n",
    "\n",
    "\n",
    "#We can create axis labels and a title for our histogram \n",
    "plt.xlabel('Population Density [$\\mathregular{person/km^2}]$')\n",
    "plt.ylabel ('Frequency')\n",
    "plt.title ('Population Density')\n",
    "\n",
    "#We can adjut the labels to the figure area\n",
    "plt.tight_layout()\n",
    "\n",
    "#Remember to save the figure to the project folder\n",
    "plt.savefig('pop_dens_hist.jpg')\n",
    "\n",
    "plt.show()"
   ]
  },
  {
   "cell_type": "code",
   "execution_count": null,
   "metadata": {},
   "outputs": [],
   "source": [
    "#We will repeat the exercise above, and plot a histogram of the natural log of price \n",
    "                 # We first define population density as x \n",
    "                 #Then we define the number of bins we want to use\n",
    "\n",
    "#Let's define graph size (x, y) in inches \n",
    "\n",
    "\n",
    "#We can now plot our histogram using the matplotlib function \n",
    "\n",
    "\n",
    "#Create your axis labels and title\n",
    "\n",
    "\n",
    "#We can adjust labels to the figure area\n",
    "plt.tight_layout()\n",
    "\n",
    "#Let's save the figure we have created \n",
    "plt.savefig('cost_hist.jpg')\n",
    "\n",
    "plt.show()"
   ]
  },
  {
   "cell_type": "markdown",
   "metadata": {},
   "source": [
    "## Dummy Variables "
   ]
  },
  {
   "cell_type": "markdown",
   "metadata": {},
   "source": [
    "### Creating a dummy from the SES category "
   ]
  },
  {
   "cell_type": "code",
   "execution_count": null,
   "metadata": {},
   "outputs": [],
   "source": [
    "#Socioeconomic status (ses) is a categorical variable. \n",
    "#We can first look at its distribution using df.groupby().size()\n"
   ]
  },
  {
   "cell_type": "code",
   "execution_count": null,
   "metadata": {},
   "outputs": [],
   "source": [
    "#We will creame a dummy variable for high socioeoconomic status \n",
    "property_df['high_ses'] = np.where((property_df['ses'] == 5) |\n",
    "                                    (property_df['ses'] ==6), 1, 0)"
   ]
  },
  {
   "cell_type": "code",
   "execution_count": null,
   "metadata": {},
   "outputs": [],
   "source": [
    "#Let's now look at the distribution of properties that are in a neighborhood with high socioeconomic status \n",
    "#versus those that are not \n"
   ]
  },
  {
   "cell_type": "markdown",
   "metadata": {},
   "source": [
    "### Creating a binary density variable "
   ]
  },
  {
   "cell_type": "code",
   "execution_count": null,
   "metadata": {},
   "outputs": [],
   "source": [
    "#We will use population, and define define its median  \n",
    "pop_dens_med = \n",
    "pop_dens_med"
   ]
  },
  {
   "cell_type": "code",
   "execution_count": null,
   "metadata": {},
   "outputs": [],
   "source": [
    "#We can create a dummy for dense areas that have a population density higher than the median \n",
    "property_df['dens_pop_dv'] = \n",
    "                         \n",
    "#We can now look at the distribution of this new dummy variable \n"
   ]
  },
  {
   "cell_type": "markdown",
   "metadata": {},
   "source": [
    "### Creating a different set of categories "
   ]
  },
  {
   "cell_type": "code",
   "execution_count": null,
   "metadata": {},
   "outputs": [],
   "source": [
    "#Let's look at the distrubution of the number of bathrooms using our categorical variables \n",
    "property_df.groupby('bathrooms').size()"
   ]
  },
  {
   "cell_type": "code",
   "execution_count": null,
   "metadata": {},
   "outputs": [],
   "source": [
    "#We create a number variable creating new categories \n",
    "property_df['bathrooms_cat'] =\n",
    "#We can now look at the distribution of this new dummy variable \n"
   ]
  },
  {
   "cell_type": "markdown",
   "metadata": {},
   "source": [
    "## Scatterplots"
   ]
  },
  {
   "cell_type": "code",
   "execution_count": null,
   "metadata": {
    "scrolled": true
   },
   "outputs": [],
   "source": [
    "#To create a scatterplot, we first need to define our x, and y variables of interest \n",
    "#Here we are interested in plotting the price of properties, and the percentage of industrial properties\n",
    "#in a neighborhood \n",
    "x = \n",
    "y = \n",
    "\n",
    "#Let's make our scatter plot \n",
    "                               #We use this function to plot x, and y,\n",
    "                               #define the color of our points, their transparency and size\n",
    "        \n",
    "#Let's create our axis labels and titles \n",
    "\n",
    "\n",
    "\n",
    "plt.show()"
   ]
  },
  {
   "cell_type": "code",
   "execution_count": null,
   "metadata": {},
   "outputs": [],
   "source": [
    "#Let us create a scatterplot of the properties' area and their price\n",
    "x = property_df['area_m2']\n",
    "y = property_df['price']\n",
    "\n",
    "#Set the index upon which the plot color will be based\n",
    "c = x\n",
    "\n",
    "#Let's create a our scatterplot, and use cmap to the points on our plot \n",
    "\n",
    "#Let's create our axis labels and titles \n",
    "plt.xlabel('Area $[\\mathregular{m^2}]$')\n",
    "plt.ylabel('Price')\n",
    "plt.title('Property Area and Prices')\n",
    "\n",
    "plt.show()"
   ]
  },
  {
   "cell_type": "code",
   "execution_count": null,
   "metadata": {},
   "outputs": [],
   "source": [
    "#We can also plot a line of the relationship between our x, y (area, and price)\n",
    "\n",
    "\n",
    "#Let's create our axis labels and titles \n",
    "plt.xlabel('Area $[\\mathregular{m^2}]$')\n",
    "plt.ylabel('Price')\n",
    "plt.title('Property Area and Prices')\n",
    "\n",
    "plt.show()"
   ]
  },
  {
   "cell_type": "code",
   "execution_count": null,
   "metadata": {},
   "outputs": [],
   "source": [
    "#Use the 'help()' to understand the properties of a function\n"
   ]
  },
  {
   "cell_type": "code",
   "execution_count": null,
   "metadata": {
    "scrolled": true
   },
   "outputs": [],
   "source": [
    "#We want to create a figure with more than 1 scatterplot \n",
    "\n",
    "#Let's define x, and y for our first scatterplot \n",
    "x1 = \n",
    "y1 = \n",
    "\n",
    "#Let's define x, and y for our second scatterplot \n",
    "x2 = \n",
    "y2 = \n",
    "\n",
    "#We then create our figure with 2 subplots, and define its size \n",
    "\n",
    "\n",
    "\n",
    "#Create the first subplot\n",
    "ax1.scatter(x1, y1, c = 'red', alpha = 0.3, s = 50)\n",
    "#Let's create our axis labels \n",
    "ax1.set_xlabel('Percentage of Industrial Properties')\n",
    "ax1.set_ylabel('Price')\n",
    "#Format y-axis number to include thousands separator\n",
    "ax1.get_yaxis().set_major_formatter(plt.FuncFormatter(lambda y1, loc: \"{:,}\".format(int(y1))))\n",
    "\n",
    "#Create the second subplot\n",
    "\n",
    "#Create its axis labels \n",
    "\n",
    "#Format y-axis number to include thousands separator\n",
    "ax2.get_yaxis().set_major_formatter(plt.FuncFormatter(lambda y2, loc: \"{:,}\".format(int(y2))))\n",
    "\n",
    "#Create title for the overall figure\n",
    "\n",
    "\n",
    "#Save your figure \n",
    "\n",
    "\n",
    "plt.show()"
   ]
  },
  {
   "cell_type": "markdown",
   "metadata": {},
   "source": [
    "## Correlation "
   ]
  },
  {
   "cell_type": "markdown",
   "metadata": {},
   "source": [
    "### Pairwise Correlation"
   ]
  },
  {
   "cell_type": "code",
   "execution_count": null,
   "metadata": {},
   "outputs": [],
   "source": [
    "#Define independent and dependent variables \n",
    "x = \n",
    "y = \n",
    "\n",
    "#Define list to run a pairwise correlation \n",
    "cor_list = \n",
    "property_df[cor_list].corr()"
   ]
  },
  {
   "cell_type": "code",
   "execution_count": null,
   "metadata": {},
   "outputs": [],
   "source": [
    "#Pearsonr function returns the correlation coefficient, and P-value\n"
   ]
  },
  {
   "cell_type": "markdown",
   "metadata": {},
   "source": [
    "### Correlation Matrix "
   ]
  },
  {
   "cell_type": "code",
   "execution_count": null,
   "metadata": {
    "scrolled": true
   },
   "outputs": [],
   "source": [
    "#We can also create a correlation matrix for our dataframe \n"
   ]
  },
  {
   "cell_type": "markdown",
   "metadata": {},
   "source": [
    "## Bivarite Linear Regression "
   ]
  },
  {
   "cell_type": "code",
   "execution_count": null,
   "metadata": {},
   "outputs": [],
   "source": [
    "#Define the independent variable, and include the intercept \n",
    "x = \n",
    "\n",
    "#Define the dependent variable\n",
    "y = \n",
    "\n",
    "#Run the regression\n"
   ]
  }
 ],
 "metadata": {
  "history": [
   {
    "code": "import pandas as pd #to read and modify databases\nimport matplotlib.pyplot as plt #to plot graphs \nimport numpy as np #for numerical operations ",
    "id": "17887349a68e4fda8e9c19e0d74240b2",
    "idx": 1,
    "time": "2021-01-18T20:47:59.596Z",
    "type": "execution"
   },
   {
    "id": "17887349a68e4fda8e9c19e0d74240b2",
    "time": "2021-01-18T20:48:03.087Z",
    "type": "completion"
   },
   {
    "code": "df = pd.read_csv('data_augmented.csv')\ndf.head()",
    "id": "d6ef650b596a486bb06e49d48b85fdf6",
    "idx": 3,
    "time": "2021-01-18T20:48:04.660Z",
    "type": "execution"
   },
   {
    "id": "d6ef650b596a486bb06e49d48b85fdf6",
    "time": "2021-01-18T20:48:04.775Z",
    "type": "completion"
   },
   {
    "code": "df.isnull().sum()",
    "id": "4917b1ea3f0f40a68f76f6b5f3c0339e",
    "idx": 6,
    "time": "2021-01-18T20:48:09.980Z",
    "type": "execution"
   },
   {
    "id": "4917b1ea3f0f40a68f76f6b5f3c0339e",
    "time": "2021-01-18T20:48:10.047Z",
    "type": "completion"
   },
   {
    "code": "#Number of null, and total observations \nnull_values = df.isnull().sum(axis = 1)\n\nnull_obs = len(df[null_values > 0])\n\nprint(num_obs, len(df))\ndf[null_values>0]",
    "id": "80f01e78102946a08149ed538c490b1b",
    "idx": 7,
    "time": "2021-01-18T20:48:13.205Z",
    "type": "execution"
   },
   {
    "id": "80f01e78102946a08149ed538c490b1b",
    "time": "2021-01-18T20:48:13.356Z",
    "type": "completion"
   },
   {
    "code": "#Number of null, and total observations \nnull_values = df.isnull().sum(axis = 1)\n\nnull_obs = len(df[null_values > 0])\n\nprint(null_obs, len(df))\ndf[null_values>0]",
    "id": "80f01e78102946a08149ed538c490b1b",
    "idx": 7,
    "time": "2021-01-18T20:48:24.073Z",
    "type": "execution"
   },
   {
    "id": "80f01e78102946a08149ed538c490b1b",
    "time": "2021-01-18T20:48:24.190Z",
    "type": "completion"
   },
   {
    "code": "#Create a new dataframe without null values \nh_market_df = df.dropna().reset_index(drop = True)\nh_market_df.head()",
    "id": "ab22884da2d54ca084425b89c235b2a7",
    "idx": 8,
    "time": "2021-01-18T20:48:27.903Z",
    "type": "execution"
   },
   {
    "id": "ab22884da2d54ca084425b89c235b2a7",
    "time": "2021-01-18T20:48:28.011Z",
    "type": "completion"
   },
   {
    "code": "#A histogram of population density \nx = h_market_df['pop_dens']\nn_bins = 250 \nplt.hist(x, n_bins)\nplt.show()",
    "id": "f4ac78047d684d8f9c3bb38f9ce06c8f",
    "idx": 11,
    "time": "2021-01-18T20:48:32.468Z",
    "type": "execution"
   },
   {
    "id": "f4ac78047d684d8f9c3bb38f9ce06c8f",
    "time": "2021-01-18T20:48:33.107Z",
    "type": "completion"
   },
   {
    "code": "#Define the variable we want to plot and number of bins\nx = h_market_df.pop_dens\nn_bins = 500\n\n#Define graph size (x, y) in inches \nplt.figure(figsize = (6, 4))\n\n#Define the histogram function from matplotlib\nplt.hist(x, n_bins)\n\n#Create axes labels and title\nplt.xlabel('Population Density [$\\mathregular{person/km^2}]$')\nplt.ylabel ('Frequency')\nplt.title ('Population Density')\n\n#Adjust labels to the figure area\nplt.tight_layout()\n\n#Save figure to project folder\nplt.savefig('pop_dens_hist.jpg')\n\nplt.show()",
    "id": "27ea09a0549d4b9e80e5c35d6cb78b2c",
    "idx": 13,
    "time": "2021-01-18T20:48:35.269Z",
    "type": "execution"
   },
   {
    "id": "27ea09a0549d4b9e80e5c35d6cb78b2c",
    "time": "2021-01-18T20:48:36.798Z",
    "type": "completion"
   },
   {
    "code": "#Define the variable we want to plot and number of bins\nx = h_market_df.lnprice\nn_bins = 500\n\n#Define graph size (x, y) in inches \nplt.figure(figsize = (6, 4))\n\n#Define the histogram function from matplotlib\nplt.hist(x, n_bins)\n\n#Create axes labels and title\nplt.xlabel('Natural Log of Price (Colombian Peso)')\nplt.ylabel ('Frequency')\nplt.title ('Cost of Properties')\n\n#Adjust labels to the figure area\nplt.tight_layout()\n\n#Save figure to project folder\nplt.savefig('cost_hist.jpg')\n\nplt.show()",
    "id": "88e887b07b084dc8a8921678e88f0475",
    "idx": 14,
    "time": "2021-01-18T20:56:31.373Z",
    "type": "execution"
   },
   {
    "id": "88e887b07b084dc8a8921678e88f0475",
    "time": "2021-01-18T20:56:32.773Z",
    "type": "completion"
   },
   {
    "code": "#Define the variable we want to plot and number of bins\nx = h_market_df.lnprice\nn_bins = 100\n\n#Define graph size (x, y) in inches \nplt.figure(figsize = (6, 4))\n\n#Define the histogram function from matplotlib\nplt.hist(x, n_bins)\n\n#Create axes labels and title\nplt.xlabel('Natural Log of Price (Colombian Peso)')\nplt.ylabel ('Frequency')\nplt.title ('Cost of Properties')\n\n#Adjust labels to the figure area\nplt.tight_layout()\n\n#Save figure to project folder\nplt.savefig('cost_hist.jpg')\n\nplt.show()",
    "id": "88e887b07b084dc8a8921678e88f0475",
    "idx": 14,
    "time": "2021-01-18T20:56:40.082Z",
    "type": "execution"
   },
   {
    "id": "88e887b07b084dc8a8921678e88f0475",
    "time": "2021-01-18T20:56:40.866Z",
    "type": "completion"
   },
   {
    "code": "h_market_df.groupby('ses').size()",
    "id": "5627533dddbf4581aeed08b39ebad7c8",
    "idx": 16,
    "time": "2021-01-18T21:02:16.622Z",
    "type": "execution"
   },
   {
    "id": "5627533dddbf4581aeed08b39ebad7c8",
    "time": "2021-01-18T21:02:16.710Z",
    "type": "completion"
   },
   {
    "code": "my_list = list(h_market_df)\nmy_list",
    "id": "9184aaec7a4a475a8be1a4fe278cae23",
    "idx": 17,
    "time": "2021-01-18T21:04:16.755Z",
    "type": "execution"
   },
   {
    "id": "9184aaec7a4a475a8be1a4fe278cae23",
    "time": "2021-01-18T21:04:16.818Z",
    "type": "completion"
   },
   {
    "code": "my_list = h_market_df.columns.values.tolist()\nmy_list",
    "id": "9184aaec7a4a475a8be1a4fe278cae23",
    "idx": 17,
    "time": "2021-01-18T21:05:40.563Z",
    "type": "execution"
   },
   {
    "id": "9184aaec7a4a475a8be1a4fe278cae23",
    "time": "2021-01-18T21:05:40.635Z",
    "type": "completion"
   },
   {
    "code": "h_market_df['ses_bin']",
    "id": "5299af58c55d48869b9b0784a20cb38c",
    "idx": 18,
    "time": "2021-01-18T21:06:10.944Z",
    "type": "execution"
   },
   {
    "id": "5299af58c55d48869b9b0784a20cb38c",
    "time": "2021-01-18T21:06:11.008Z",
    "type": "completion"
   },
   {
    "code": "#Create a dummy for high socioeconomic status \nproperty_df['high_ses'] = np.where((property_df['ses'] == 5 |\n                                    property_df['ses'] ==6), 1,0)",
    "id": "557fafe02fdf43ce8d36a76ce1fa9900",
    "idx": 17,
    "time": "2021-01-18T21:14:05.143Z",
    "type": "execution"
   },
   {
    "id": "557fafe02fdf43ce8d36a76ce1fa9900",
    "time": "2021-01-18T21:14:05.213Z",
    "type": "completion"
   },
   {
    "code": "import pandas as pd #to read and modify databases\nimport matplotlib.pyplot as plt #to plot graphs \nimport numpy as np #for numerical operations ",
    "id": "17887349a68e4fda8e9c19e0d74240b2",
    "idx": 1,
    "time": "2021-01-18T21:14:18.534Z",
    "type": "execution"
   },
   {
    "code": "df = pd.read_csv('data_augmented.csv')\ndf.head()",
    "id": "d6ef650b596a486bb06e49d48b85fdf6",
    "idx": 3,
    "time": "2021-01-18T21:14:18.536Z",
    "type": "execution"
   },
   {
    "code": "df.isnull().sum()",
    "id": "4917b1ea3f0f40a68f76f6b5f3c0339e",
    "idx": 6,
    "time": "2021-01-18T21:14:18.538Z",
    "type": "execution"
   },
   {
    "code": "#Number of null, and total observations \nnull_values = df.isnull().sum(axis = 1)\n\nnull_obs = len(df[null_values > 0])\n\nprint(null_obs, len(df))\ndf[null_values>0]",
    "id": "80f01e78102946a08149ed538c490b1b",
    "idx": 7,
    "time": "2021-01-18T21:14:18.540Z",
    "type": "execution"
   },
   {
    "code": "#Create a new dataframe without null values \nproperty_df = df.dropna().reset_index(drop = True)\nproperty_df.head()",
    "id": "ab22884da2d54ca084425b89c235b2a7",
    "idx": 8,
    "time": "2021-01-18T21:14:18.542Z",
    "type": "execution"
   },
   {
    "code": "#A histogram of population density \nx = property_df['pop_dens']\nn_bins = 250 \nplt.hist(x, n_bins)\nplt.show()",
    "id": "f4ac78047d684d8f9c3bb38f9ce06c8f",
    "idx": 11,
    "time": "2021-01-18T21:14:18.543Z",
    "type": "execution"
   },
   {
    "code": "#Define the variable we want to plot and number of bins\nx = property_df.pop_dens\nn_bins = 500\n\n#Define graph size (x, y) in inches \nplt.figure(figsize = (6, 4))\n\n#Define the histogram function from matplotlib\nplt.hist(x, n_bins)\n\n#Create axes labels and title\nplt.xlabel('Population Density [$\\mathregular{person/km^2}]$')\nplt.ylabel ('Frequency')\nplt.title ('Population Density')\n\n#Adjust labels to the figure area\nplt.tight_layout()\n\n#Save figure to project folder\nplt.savefig('pop_dens_hist.jpg')\n\nplt.show()",
    "id": "27ea09a0549d4b9e80e5c35d6cb78b2c",
    "idx": 13,
    "time": "2021-01-18T21:14:18.544Z",
    "type": "execution"
   },
   {
    "code": "#Define the variable we want to plot and number of bins\nx = property_df.lnprice\nn_bins = 100\n\n#Define graph size (x, y) in inches \nplt.figure(figsize = (6, 4))\n\n#Define the histogram function from matplotlib\nplt.hist(x, n_bins)\n\n#Create axes labels and title\nplt.xlabel('Natural Log of Price (Colombian Peso)')\nplt.ylabel ('Frequency')\nplt.title ('Cost of Properties')\n\n#Adjust labels to the figure area\nplt.tight_layout()\n\n#Save figure to project folder\nplt.savefig('cost_hist.jpg')\n\nplt.show()",
    "id": "88e887b07b084dc8a8921678e88f0475",
    "idx": 14,
    "time": "2021-01-18T21:14:18.545Z",
    "type": "execution"
   },
   {
    "code": "#Number of observation in each category of socioeconomic status \nproperty_df.groupby('ses').size()",
    "id": "5627533dddbf4581aeed08b39ebad7c8",
    "idx": 16,
    "time": "2021-01-18T21:14:18.556Z",
    "type": "execution"
   },
   {
    "code": "#Create a dummy for high socioeconomic status \nproperty_df['high_ses'] = np.where((property_df['ses'] == 5 |\n                                    property_df['ses'] ==6), 1,0)",
    "id": "557fafe02fdf43ce8d36a76ce1fa9900",
    "idx": 17,
    "time": "2021-01-18T21:14:18.557Z",
    "type": "execution"
   },
   {
    "code": "property_df.groupby('high_ses').size()",
    "id": "5953e1895d4f4d2283489ccb7c1faa14",
    "idx": 18,
    "time": "2021-01-18T21:14:18.558Z",
    "type": "execution"
   },
   {
    "id": "17887349a68e4fda8e9c19e0d74240b2",
    "time": "2021-01-18T21:14:19.239Z",
    "type": "completion"
   },
   {
    "id": "d6ef650b596a486bb06e49d48b85fdf6",
    "time": "2021-01-18T21:14:19.243Z",
    "type": "completion"
   },
   {
    "id": "4917b1ea3f0f40a68f76f6b5f3c0339e",
    "time": "2021-01-18T21:14:19.277Z",
    "type": "completion"
   },
   {
    "id": "80f01e78102946a08149ed538c490b1b",
    "time": "2021-01-18T21:14:19.295Z",
    "type": "completion"
   },
   {
    "id": "ab22884da2d54ca084425b89c235b2a7",
    "time": "2021-01-18T21:14:19.337Z",
    "type": "completion"
   },
   {
    "id": "f4ac78047d684d8f9c3bb38f9ce06c8f",
    "time": "2021-01-18T21:14:19.862Z",
    "type": "completion"
   },
   {
    "id": "27ea09a0549d4b9e80e5c35d6cb78b2c",
    "time": "2021-01-18T21:14:21.323Z",
    "type": "completion"
   },
   {
    "id": "88e887b07b084dc8a8921678e88f0475",
    "time": "2021-01-18T21:14:21.758Z",
    "type": "completion"
   },
   {
    "id": "5627533dddbf4581aeed08b39ebad7c8",
    "time": "2021-01-18T21:14:21.763Z",
    "type": "completion"
   },
   {
    "id": "557fafe02fdf43ce8d36a76ce1fa9900",
    "time": "2021-01-18T21:14:21.864Z",
    "type": "completion"
   },
   {
    "id": "5953e1895d4f4d2283489ccb7c1faa14",
    "time": "2021-01-18T21:14:21.889Z",
    "type": "completion"
   },
   {
    "code": "#Create a dummy for high socioeconomic status \nproperty_df['high_ses'] = np.where((property_df['ses'] == 5 |\n                                    property_df['ses'] ==6), 1, 0)",
    "id": "557fafe02fdf43ce8d36a76ce1fa9900",
    "idx": 17,
    "time": "2021-01-18T21:14:56.405Z",
    "type": "execution"
   },
   {
    "id": "557fafe02fdf43ce8d36a76ce1fa9900",
    "time": "2021-01-18T21:14:56.599Z",
    "type": "completion"
   },
   {
    "code": "#Create a dummy for high socioeconomic status \nproperty_df['high_ses'] = np.where((property_df['ses'] == 5) |\n                                    (property_df['ses'] ==6), 1, 0)",
    "id": "557fafe02fdf43ce8d36a76ce1fa9900",
    "idx": 17,
    "time": "2021-01-18T21:15:16.769Z",
    "type": "execution"
   },
   {
    "id": "557fafe02fdf43ce8d36a76ce1fa9900",
    "time": "2021-01-18T21:15:16.819Z",
    "type": "completion"
   },
   {
    "code": "property_df.groupby('high_ses').size()",
    "id": "5953e1895d4f4d2283489ccb7c1faa14",
    "idx": 18,
    "time": "2021-01-18T21:15:19.778Z",
    "type": "execution"
   },
   {
    "id": "5953e1895d4f4d2283489ccb7c1faa14",
    "time": "2021-01-18T21:15:19.832Z",
    "type": "completion"
   },
   {
    "code": "#Find the median of population density \npop_dens_med = np.median(df['pop_dens'])\npop_dens_med",
    "id": "2ed0ded03baa42be8f70ddc1c7da66c1",
    "idx": 21,
    "time": "2021-01-18T21:31:43.549Z",
    "type": "execution"
   },
   {
    "id": "2ed0ded03baa42be8f70ddc1c7da66c1",
    "time": "2021-01-18T21:31:43.622Z",
    "type": "completion"
   },
   {
    "code": "#Find the median of population density \npop_dens_med = np.median(property_df['pop_dens'])\npop_dens_med",
    "id": "2ed0ded03baa42be8f70ddc1c7da66c1",
    "idx": 21,
    "time": "2021-01-18T21:31:55.541Z",
    "type": "execution"
   },
   {
    "id": "2ed0ded03baa42be8f70ddc1c7da66c1",
    "time": "2021-01-18T21:31:55.604Z",
    "type": "completion"
   },
   {
    "code": "#Create a binary density variable of the population\nproperty_df['pop_dens_dummy'] = np.where((property_df['pop_dens']\n                                         >= pop_dens_med), 1, 0)\nproperty_df.groupby('pop_dens_dummy').size()",
    "id": "083daf8f5ba7469788e69a6c167d671b",
    "idx": 22,
    "time": "2021-01-18T21:35:33.705Z",
    "type": "execution"
   },
   {
    "id": "083daf8f5ba7469788e69a6c167d671b",
    "time": "2021-01-18T21:35:33.776Z",
    "type": "completion"
   },
   {
    "code": "property_df['num_bath_cat'] = np.where((property_df['num_bath']>=3),\n                                3, property_df['num_bath'])\nproperty_df.groupby('num_bath_cat').size()",
    "id": "276f2b8da88648ee9e4a362de15961cb",
    "idx": 23,
    "time": "2021-01-18T21:36:44.299Z",
    "type": "execution"
   },
   {
    "id": "276f2b8da88648ee9e4a362de15961cb",
    "time": "2021-01-18T21:36:44.374Z",
    "type": "completion"
   },
   {
    "code": "#The size of each category of number of bathrooms \nproperty_df.groupby('num_bath').size()",
    "id": "e002187a8a4147d18d442bc8919fed4f",
    "idx": 24,
    "time": "2021-01-18T21:46:20.097Z",
    "type": "execution"
   },
   {
    "id": "e002187a8a4147d18d442bc8919fed4f",
    "time": "2021-01-18T21:46:20.251Z",
    "type": "completion"
   },
   {
    "code": "property_df['num_bath_cat'] = np.where((property_df['num_bath']>=3), \n                              3, property_df['num_bath'])\nproperty_df.groupby('num_bath_cat').size()",
    "id": "db17309da28b4909883759e11dcfe725",
    "idx": 25,
    "time": "2021-01-18T21:47:58.253Z",
    "type": "execution"
   },
   {
    "id": "db17309da28b4909883759e11dcfe725",
    "time": "2021-01-18T21:47:58.321Z",
    "type": "completion"
   },
   {
    "code": "property_df['num_bath_cat'] = np.where((property_df['num_bath']>=4), \n                              4, property_df['num_bath'])\nproperty_df.groupby('num_bath_cat').size()",
    "id": "db17309da28b4909883759e11dcfe725",
    "idx": 25,
    "time": "2021-01-18T21:50:43.877Z",
    "type": "execution"
   },
   {
    "id": "db17309da28b4909883759e11dcfe725",
    "time": "2021-01-18T21:50:44.077Z",
    "type": "completion"
   },
   {
    "code": "property_df['num_bath_cat'] = np.where((property_df['num_bath']>=3), \n                              3, property_df['num_bath'])\nproperty_df.groupby('num_bath_cat').size()",
    "id": "db17309da28b4909883759e11dcfe725",
    "idx": 25,
    "time": "2021-01-18T21:51:26.519Z",
    "type": "execution"
   },
   {
    "id": "db17309da28b4909883759e11dcfe725",
    "time": "2021-01-18T21:51:26.590Z",
    "type": "completion"
   },
   {
    "code": "import pandas as pd #to read and modify databases\nimport matplotlib.pyplot as plt #to plot graphs \nimport numpy as np #for numerical operations ",
    "id": "17887349a68e4fda8e9c19e0d74240b2",
    "idx": 1,
    "time": "2021-01-18T21:52:14.959Z",
    "type": "execution"
   },
   {
    "code": "df = pd.read_csv('data_augmented.csv')\ndf.head()",
    "id": "d6ef650b596a486bb06e49d48b85fdf6",
    "idx": 3,
    "time": "2021-01-18T21:52:14.964Z",
    "type": "execution"
   },
   {
    "code": "df.isnull().sum()",
    "id": "4917b1ea3f0f40a68f76f6b5f3c0339e",
    "idx": 6,
    "time": "2021-01-18T21:52:14.965Z",
    "type": "execution"
   },
   {
    "code": "#Number of null, and total observations \nnull_values = df.isnull().sum(axis = 1)\n\nnull_obs = len(df[null_values > 0])\n\nprint(null_obs, len(df))\ndf[null_values>0]",
    "id": "80f01e78102946a08149ed538c490b1b",
    "idx": 7,
    "time": "2021-01-18T21:52:14.968Z",
    "type": "execution"
   },
   {
    "code": "#Create a new dataframe without null values \nproperty_df = df.dropna().reset_index(drop = True)\nproperty_df.head()",
    "id": "ab22884da2d54ca084425b89c235b2a7",
    "idx": 8,
    "time": "2021-01-18T21:52:14.970Z",
    "type": "execution"
   },
   {
    "code": "#A histogram of population density \nx = property_df['pop_dens']\nn_bins = 250 \nplt.hist(x, n_bins)\nplt.show()",
    "id": "f4ac78047d684d8f9c3bb38f9ce06c8f",
    "idx": 11,
    "time": "2021-01-18T21:52:14.972Z",
    "type": "execution"
   },
   {
    "code": "#Define the variable we want to plot and number of bins\nx = property_df.pop_dens\nn_bins = 500\n\n#Define graph size (x, y) in inches \nplt.figure(figsize = (6, 4))\n\n#Define the histogram function from matplotlib\nplt.hist(x, n_bins)\n\n#Create axes labels and title\nplt.xlabel('Population Density [$\\mathregular{person/km^2}]$')\nplt.ylabel ('Frequency')\nplt.title ('Population Density')\n\n#Adjust labels to the figure area\nplt.tight_layout()\n\n#Save figure to project folder\nplt.savefig('pop_dens_hist.jpg')\n\nplt.show()",
    "id": "27ea09a0549d4b9e80e5c35d6cb78b2c",
    "idx": 13,
    "time": "2021-01-18T21:52:14.973Z",
    "type": "execution"
   },
   {
    "code": "#Define the variable we want to plot and number of bins\nx = property_df.lnprice\nn_bins = 100\n\n#Define graph size (x, y) in inches \nplt.figure(figsize = (6, 4))\n\n#Define the histogram function from matplotlib\nplt.hist(x, n_bins)\n\n#Create axes labels and title\nplt.xlabel('Natural Log of Price (Colombian Peso)')\nplt.ylabel ('Frequency')\nplt.title ('Cost of Properties')\n\n#Adjust labels to the figure area\nplt.tight_layout()\n\n#Save figure to project folder\nplt.savefig('cost_hist.jpg')\n\nplt.show()",
    "id": "88e887b07b084dc8a8921678e88f0475",
    "idx": 14,
    "time": "2021-01-18T21:52:14.974Z",
    "type": "execution"
   },
   {
    "code": "#The size of each category of socioeconomic status \nproperty_df.groupby('ses').size()",
    "id": "5627533dddbf4581aeed08b39ebad7c8",
    "idx": 17,
    "time": "2021-01-18T21:52:14.976Z",
    "type": "execution"
   },
   {
    "code": "#Create a dummy for high socioeconomic status \nproperty_df['high_ses'] = np.where((property_df['ses'] == 5) |\n                                    (property_df['ses'] ==6), 1, 0)",
    "id": "557fafe02fdf43ce8d36a76ce1fa9900",
    "idx": 18,
    "time": "2021-01-18T21:52:14.977Z",
    "type": "execution"
   },
   {
    "code": "property_df.groupby('high_ses').size()",
    "id": "5953e1895d4f4d2283489ccb7c1faa14",
    "idx": 19,
    "time": "2021-01-18T21:52:14.978Z",
    "type": "execution"
   },
   {
    "code": "#Find the median of population density \npop_dens_med = np.median(property_df['pop_dens'])\npop_dens_med",
    "id": "2ed0ded03baa42be8f70ddc1c7da66c1",
    "idx": 21,
    "time": "2021-01-18T21:52:14.979Z",
    "type": "execution"
   },
   {
    "code": "#Create a binary density variable of the population\nproperty_df['pop_dens_dummy'] = np.where((property_df['pop_dens']\n                                         >= pop_dens_med), 1, 0)\nproperty_df.groupby('pop_dens_dummy').size()",
    "id": "083daf8f5ba7469788e69a6c167d671b",
    "idx": 22,
    "time": "2021-01-18T21:52:14.980Z",
    "type": "execution"
   },
   {
    "code": "#The size of each category of number of bathrooms \nproperty_df.groupby('num_bath').size()",
    "id": "e002187a8a4147d18d442bc8919fed4f",
    "idx": 24,
    "time": "2021-01-18T21:52:14.981Z",
    "type": "execution"
   },
   {
    "code": "property_df['num_bath_cat'] = np.where((property_df['num_bath']>=3), \n                              3, property_df['num_bath'])\nproperty_df.groupby('num_bath_cat').size()",
    "id": "db17309da28b4909883759e11dcfe725",
    "idx": 25,
    "time": "2021-01-18T21:52:14.982Z",
    "type": "execution"
   },
   {
    "id": "17887349a68e4fda8e9c19e0d74240b2",
    "time": "2021-01-18T21:52:15.709Z",
    "type": "completion"
   },
   {
    "id": "d6ef650b596a486bb06e49d48b85fdf6",
    "time": "2021-01-18T21:52:15.715Z",
    "type": "completion"
   },
   {
    "id": "4917b1ea3f0f40a68f76f6b5f3c0339e",
    "time": "2021-01-18T21:52:15.747Z",
    "type": "completion"
   },
   {
    "id": "80f01e78102946a08149ed538c490b1b",
    "time": "2021-01-18T21:52:15.787Z",
    "type": "completion"
   },
   {
    "id": "ab22884da2d54ca084425b89c235b2a7",
    "time": "2021-01-18T21:52:15.819Z",
    "type": "completion"
   },
   {
    "id": "f4ac78047d684d8f9c3bb38f9ce06c8f",
    "time": "2021-01-18T21:52:16.335Z",
    "type": "completion"
   },
   {
    "id": "27ea09a0549d4b9e80e5c35d6cb78b2c",
    "time": "2021-01-18T21:52:17.804Z",
    "type": "completion"
   },
   {
    "id": "88e887b07b084dc8a8921678e88f0475",
    "time": "2021-01-18T21:52:18.305Z",
    "type": "completion"
   },
   {
    "id": "5627533dddbf4581aeed08b39ebad7c8",
    "time": "2021-01-18T21:52:18.320Z",
    "type": "completion"
   },
   {
    "id": "557fafe02fdf43ce8d36a76ce1fa9900",
    "time": "2021-01-18T21:52:18.322Z",
    "type": "completion"
   },
   {
    "id": "5953e1895d4f4d2283489ccb7c1faa14",
    "time": "2021-01-18T21:52:18.324Z",
    "type": "completion"
   },
   {
    "id": "2ed0ded03baa42be8f70ddc1c7da66c1",
    "time": "2021-01-18T21:52:18.330Z",
    "type": "completion"
   },
   {
    "id": "083daf8f5ba7469788e69a6c167d671b",
    "time": "2021-01-18T21:52:18.346Z",
    "type": "completion"
   },
   {
    "id": "e002187a8a4147d18d442bc8919fed4f",
    "time": "2021-01-18T21:52:18.357Z",
    "type": "completion"
   },
   {
    "id": "db17309da28b4909883759e11dcfe725",
    "time": "2021-01-18T21:52:18.360Z",
    "type": "completion"
   },
   {
    "code": "property_df['num_bath_cat'] = np.where((property_df['num_bath']>=2), \n                              2, property_df['num_bath'])\nproperty_df.groupby('num_bath_cat').size()",
    "id": "db17309da28b4909883759e11dcfe725",
    "idx": 25,
    "time": "2021-01-18T21:52:42.720Z",
    "type": "execution"
   },
   {
    "id": "db17309da28b4909883759e11dcfe725",
    "time": "2021-01-18T21:52:42.783Z",
    "type": "completion"
   },
   {
    "code": "property_df['num_bath_cat'] = np.where((property_df['num_bath']>=3), \n                              3, property_df['num_bath'])\nproperty_df.groupby('num_bath_cat').size()",
    "id": "db17309da28b4909883759e11dcfe725",
    "idx": 25,
    "time": "2021-01-18T21:53:07.119Z",
    "type": "execution"
   },
   {
    "id": "db17309da28b4909883759e11dcfe725",
    "time": "2021-01-18T21:53:07.181Z",
    "type": "completion"
   },
   {
    "code": "import pandas as pd #to read and modify databases\nimport matplotlib.pyplot as plt #to plot graphs \nimport numpy as np #for numerical operations ",
    "id": "24801d3001674025a37fd417f4ede669",
    "idx": 1,
    "time": "2021-01-19T15:02:07.526Z",
    "type": "execution"
   },
   {
    "code": "df = pd.read_csv('data_augmented.csv')\ndf.head()",
    "id": "c13080e30b6c4b9d81f5c89c0c546cf8",
    "idx": 3,
    "time": "2021-01-19T15:02:07.534Z",
    "type": "execution"
   },
   {
    "code": "df.isnull().sum()",
    "id": "eaf2034f8f7e46b7b7a52d83560f3184",
    "idx": 6,
    "time": "2021-01-19T15:02:07.538Z",
    "type": "execution"
   },
   {
    "code": "#Number of null, and total observations \nnull_values = df.isnull().sum(axis = 1)\n\nnull_obs = len(df[null_values > 0])\n\nprint(null_obs, len(df))\ndf[null_values>0]",
    "id": "4c74b70b58be454d8fc9f88352315074",
    "idx": 7,
    "time": "2021-01-19T15:02:07.543Z",
    "type": "execution"
   },
   {
    "code": "#Create a new dataframe without null values \nproperty_df = df.dropna().reset_index(drop = True)\nproperty_df.head()",
    "id": "eff0da6123ce4a248b21fef6e60fb327",
    "idx": 8,
    "time": "2021-01-19T15:02:07.547Z",
    "type": "execution"
   },
   {
    "code": "#A histogram of population density \nx = property_df['pop_dens']\nn_bins = 250 \nplt.hist(x, n_bins)\nplt.show()",
    "id": "9346369deffb449ca283ada779b9d810",
    "idx": 11,
    "time": "2021-01-19T15:02:07.550Z",
    "type": "execution"
   },
   {
    "code": "#Define the variable we want to plot and number of bins\nx = property_df.pop_dens\nn_bins = 500\n\n#Define graph size (x, y) in inches \nplt.figure(figsize = (6, 4))\n\n#Define the histogram function from matplotlib\nplt.hist(x, n_bins)\n\n#Create axes labels and title\nplt.xlabel('Population Density [$\\mathregular{person/km^2}]$')\nplt.ylabel ('Frequency')\nplt.title ('Population Density')\n\n#Adjust labels to the figure area\nplt.tight_layout()\n\n#Save figure to project folder\nplt.savefig('pop_dens_hist.jpg')\n\nplt.show()",
    "id": "9b5be725973144be8159a479ea324bdf",
    "idx": 13,
    "time": "2021-01-19T15:02:07.554Z",
    "type": "execution"
   },
   {
    "code": "#Define the variable we want to plot and number of bins\nx = property_df.lnprice\nn_bins = 100\n\n#Define graph size (x, y) in inches \nplt.figure(figsize = (6, 4))\n\n#Define the histogram function from matplotlib\nplt.hist(x, n_bins)\n\n#Create axes labels and title\nplt.xlabel('Natural Log of Price (Colombian Peso)')\nplt.ylabel ('Frequency')\nplt.title ('Cost of Properties')\n\n#Adjust labels to the figure area\nplt.tight_layout()\n\n#Save figure to project folder\nplt.savefig('cost_hist.jpg')\n\nplt.show()",
    "id": "20eb3caab73649789318bf521a118bd7",
    "idx": 14,
    "time": "2021-01-19T15:02:07.561Z",
    "type": "execution"
   },
   {
    "code": "#The size of each category of socioeconomic status \nproperty_df.groupby('ses').size()",
    "id": "885caa69782847e58076cc0cceb61610",
    "idx": 17,
    "time": "2021-01-19T15:02:07.565Z",
    "type": "execution"
   },
   {
    "code": "#Create a dummy for high socioeconomic status \nproperty_df['high_ses'] = np.where((property_df['ses'] == 5) |\n                                    (property_df['ses'] ==6), 1, 0)",
    "id": "c8b7eadf7b9f424187d57e78f49f982b",
    "idx": 18,
    "time": "2021-01-19T15:02:07.567Z",
    "type": "execution"
   },
   {
    "code": "property_df.groupby('high_ses').size()",
    "id": "4484dc0576b843d580e9c580b7ce1aa5",
    "idx": 19,
    "time": "2021-01-19T15:02:07.570Z",
    "type": "execution"
   },
   {
    "code": "#Find the median of population density \npop_dens_med = np.median(property_df['pop_dens'])\npop_dens_med",
    "id": "d7a702cf45374408aa417d5ed642aefb",
    "idx": 21,
    "time": "2021-01-19T15:02:07.573Z",
    "type": "execution"
   },
   {
    "code": "#Create a binary density variable of the population\nproperty_df['pop_dens_dummy'] = np.where((property_df['pop_dens']\n                                         >= pop_dens_med), 1, 0)\nproperty_df.groupby('pop_dens_dummy').size()",
    "id": "04793b04dcc44b3cbbfc6c680b749f34",
    "idx": 22,
    "time": "2021-01-19T15:02:07.575Z",
    "type": "execution"
   },
   {
    "code": "#The size of each category of number of bathrooms \nproperty_df.groupby('num_bath').size()",
    "id": "2a17af1f70db42be93f764ad3f0a39cf",
    "idx": 24,
    "time": "2021-01-19T15:02:07.578Z",
    "type": "execution"
   },
   {
    "code": "#Recode the number of bathrooms variable\nproperty_df['num_bath_cat'] = np.where((property_df['num_bath']>=3), \n                              3, property_df['num_bath'])\nproperty_df.groupby('num_bath_cat').size()",
    "id": "e8b1eda3331146988580ff480126c009",
    "idx": 25,
    "time": "2021-01-19T15:02:07.580Z",
    "type": "execution"
   },
   {
    "id": "24801d3001674025a37fd417f4ede669",
    "time": "2021-01-19T15:02:08.315Z",
    "type": "completion"
   },
   {
    "id": "c13080e30b6c4b9d81f5c89c0c546cf8",
    "time": "2021-01-19T15:02:08.321Z",
    "type": "completion"
   },
   {
    "id": "eaf2034f8f7e46b7b7a52d83560f3184",
    "time": "2021-01-19T15:02:08.364Z",
    "type": "completion"
   },
   {
    "id": "4c74b70b58be454d8fc9f88352315074",
    "time": "2021-01-19T15:02:08.400Z",
    "type": "completion"
   },
   {
    "id": "eff0da6123ce4a248b21fef6e60fb327",
    "time": "2021-01-19T15:02:08.406Z",
    "type": "completion"
   },
   {
    "id": "9346369deffb449ca283ada779b9d810",
    "time": "2021-01-19T15:02:08.944Z",
    "type": "completion"
   },
   {
    "id": "9b5be725973144be8159a479ea324bdf",
    "time": "2021-01-19T15:02:10.495Z",
    "type": "completion"
   },
   {
    "id": "20eb3caab73649789318bf521a118bd7",
    "time": "2021-01-19T15:02:10.793Z",
    "type": "completion"
   },
   {
    "id": "885caa69782847e58076cc0cceb61610",
    "time": "2021-01-19T15:02:10.835Z",
    "type": "completion"
   },
   {
    "id": "c8b7eadf7b9f424187d57e78f49f982b",
    "time": "2021-01-19T15:02:10.837Z",
    "type": "completion"
   },
   {
    "id": "4484dc0576b843d580e9c580b7ce1aa5",
    "time": "2021-01-19T15:02:10.840Z",
    "type": "completion"
   },
   {
    "id": "d7a702cf45374408aa417d5ed642aefb",
    "time": "2021-01-19T15:02:10.849Z",
    "type": "completion"
   },
   {
    "id": "04793b04dcc44b3cbbfc6c680b749f34",
    "time": "2021-01-19T15:02:10.874Z",
    "type": "completion"
   },
   {
    "id": "2a17af1f70db42be93f764ad3f0a39cf",
    "time": "2021-01-19T15:02:10.877Z",
    "type": "completion"
   },
   {
    "id": "e8b1eda3331146988580ff480126c009",
    "time": "2021-01-19T15:02:10.882Z",
    "type": "completion"
   },
   {
    "code": "list(property_df.columns.values)",
    "id": "7b150e12969141498adbb692708394cb",
    "idx": 26,
    "time": "2021-01-19T15:02:32.969Z",
    "type": "execution"
   },
   {
    "id": "7b150e12969141498adbb692708394cb",
    "time": "2021-01-19T15:02:33.064Z",
    "type": "completion"
   },
   {
    "code": "property_df.dtypes",
    "id": "a1083a3a1eea4e20852bcdcbfd013665",
    "idx": 27,
    "time": "2021-01-19T15:42:53.448Z",
    "type": "execution"
   },
   {
    "id": "a1083a3a1eea4e20852bcdcbfd013665",
    "time": "2021-01-19T15:42:53.511Z",
    "type": "completion"
   },
   {
    "code": "#Define the variables that you will plot in arrays\nx = property_df['pop_dens']\ny = property_df['price_000']\n\n#Make your scatter plot\nplt.scatter(x, y, c='reds', alpha=0.5,)",
    "id": "271b8c58653c4e5c9eb06876058d905e",
    "idx": 29,
    "time": "2021-01-19T15:47:35.631Z",
    "type": "execution"
   },
   {
    "id": "271b8c58653c4e5c9eb06876058d905e",
    "time": "2021-01-19T15:47:35.961Z",
    "type": "completion"
   },
   {
    "code": "#Define the variables that you will plot in arrays\nx = property_df['pop_dens']\ny = property_df['price_000']\n\n#Make your scatter plot\nplt.scatter(x, y, c='red', alpha=0.5,)",
    "id": "271b8c58653c4e5c9eb06876058d905e",
    "idx": 29,
    "time": "2021-01-19T15:47:50.722Z",
    "type": "execution"
   },
   {
    "id": "271b8c58653c4e5c9eb06876058d905e",
    "time": "2021-01-19T15:47:51.288Z",
    "type": "completion"
   },
   {
    "code": "#Define the variables that you will plot in arrays\nx = property_df['pop_dens']\ny = property_df['price_000']\n\n#Make your scatter plot\nplt.scatter(x, y, c='red', alpha=0.3)",
    "id": "271b8c58653c4e5c9eb06876058d905e",
    "idx": 29,
    "time": "2021-01-19T15:48:01.220Z",
    "type": "execution"
   },
   {
    "id": "271b8c58653c4e5c9eb06876058d905e",
    "time": "2021-01-19T15:48:01.691Z",
    "type": "completion"
   },
   {
    "code": "#Define the variables that you will plot in arrays\nx = property_df['pop_dens']\ny = property_df['ln_price']\n\n#Make your scatter plot\nplt.scatter(x, y, c='red', alpha=0.3, )",
    "id": "271b8c58653c4e5c9eb06876058d905e",
    "idx": 29,
    "time": "2021-01-19T15:48:11.963Z",
    "type": "execution"
   },
   {
    "id": "271b8c58653c4e5c9eb06876058d905e",
    "time": "2021-01-19T15:48:12.064Z",
    "type": "completion"
   },
   {
    "code": "#Define the variables that you will plot in arrays\nx = property_df['pop_dens']\ny = property_df['lnprice']\n\n#Make your scatter plot\nplt.scatter(x, y, c='red', alpha=0.3, )",
    "id": "271b8c58653c4e5c9eb06876058d905e",
    "idx": 29,
    "time": "2021-01-19T15:48:22.006Z",
    "type": "execution"
   },
   {
    "id": "271b8c58653c4e5c9eb06876058d905e",
    "time": "2021-01-19T15:48:22.616Z",
    "type": "completion"
   },
   {
    "code": "#Define the variables that you will plot in arrays\nx = property_df['pop_dens']\ny = property_df['area_m2']\n\n#Make your scatter plot\nplt.scatter(x, y, c='red', alpha=0.3, )",
    "id": "271b8c58653c4e5c9eb06876058d905e",
    "idx": 29,
    "time": "2021-01-19T15:48:40.050Z",
    "type": "execution"
   },
   {
    "id": "271b8c58653c4e5c9eb06876058d905e",
    "time": "2021-01-19T15:48:40.452Z",
    "type": "completion"
   },
   {
    "code": "#Define the variables that you will plot in arrays\nx = property_df['pop_dens']\ny = property_df['pcnt_vacant']\n\n#Make your scatter plot\nplt.scatter(x, y, c='red', alpha=0.3, )",
    "id": "271b8c58653c4e5c9eb06876058d905e",
    "idx": 29,
    "time": "2021-01-19T15:50:05.842Z",
    "type": "execution"
   },
   {
    "id": "271b8c58653c4e5c9eb06876058d905e",
    "time": "2021-01-19T15:50:06.112Z",
    "type": "completion"
   },
   {
    "code": "#Define the variables that you will plot in arrays\nx = property_df['price_000']\ny = property_df['pcnt_vacant']\n\n#Make your scatter plot\nplt.scatter(x, y, c='red', alpha=0.3, )",
    "id": "271b8c58653c4e5c9eb06876058d905e",
    "idx": 29,
    "time": "2021-01-19T15:50:28.629Z",
    "type": "execution"
   },
   {
    "id": "271b8c58653c4e5c9eb06876058d905e",
    "time": "2021-01-19T15:50:28.883Z",
    "type": "completion"
   },
   {
    "code": "#Define the variables that you will plot in arrays\nx = property_df['pcnt_indu']\ny = property_df['price_000']\n\n#Make your scatter plot\nplt.scatter(x, y, c='red', alpha=0.3, )",
    "id": "271b8c58653c4e5c9eb06876058d905e",
    "idx": 29,
    "time": "2021-01-19T15:50:54.053Z",
    "type": "execution"
   },
   {
    "id": "271b8c58653c4e5c9eb06876058d905e",
    "time": "2021-01-19T15:50:54.601Z",
    "type": "completion"
   },
   {
    "code": "#Define the variables that you will plot in arrays\nx = property_df['pcnt_indu']\ny = property_df['price_000']\n\n#Make your scatter plot\nplt.scatter(x, y, c='red', alpha=0.3, s= 50 )",
    "id": "271b8c58653c4e5c9eb06876058d905e",
    "idx": 29,
    "time": "2021-01-19T15:51:16.414Z",
    "type": "execution"
   },
   {
    "id": "271b8c58653c4e5c9eb06876058d905e",
    "time": "2021-01-19T15:51:16.746Z",
    "type": "completion"
   },
   {
    "code": "#Define the variables that you will plot in arrays\nx = property_df['pcnt_indu']\ny = property_df['price_000']\n\n#Make your scatter plot\nplt.scatter(x, y, c='red', alpha=0.3, s= 200 )",
    "id": "271b8c58653c4e5c9eb06876058d905e",
    "idx": 29,
    "time": "2021-01-19T15:51:21.566Z",
    "type": "execution"
   },
   {
    "id": "271b8c58653c4e5c9eb06876058d905e",
    "time": "2021-01-19T15:51:21.984Z",
    "type": "completion"
   },
   {
    "code": "#Define the variables that you will plot in arrays\nx = property_df['pcnt_indu']\ny = property_df['price_000']\n\n#Make your scatter plot\nplt.scatter(x, y, c='red', alpha=0.3, s= 100 )",
    "id": "271b8c58653c4e5c9eb06876058d905e",
    "idx": 29,
    "time": "2021-01-19T15:51:32.048Z",
    "type": "execution"
   },
   {
    "id": "271b8c58653c4e5c9eb06876058d905e",
    "time": "2021-01-19T15:51:32.324Z",
    "type": "completion"
   },
   {
    "code": "#Define the variables that you will plot in arrays\nx = property_df['pcnt_indu']\ny = property_df['price_000']\n\n#Make your scatter plot\nplt.scatter(x, y, c='red', alpha=0.3, s= 100)\nplt.xlabel('Percentage of Industrial Properties')\nplt.ylabel('Price')\nplt.title('Industrial Use and Property Prices')",
    "id": "271b8c58653c4e5c9eb06876058d905e",
    "idx": 29,
    "time": "2021-01-19T16:00:54.615Z",
    "type": "execution"
   },
   {
    "id": "271b8c58653c4e5c9eb06876058d905e",
    "time": "2021-01-19T16:00:54.961Z",
    "type": "completion"
   },
   {
    "code": "#Define the variables that you will plot in arrays\nx = property_df['pcnt_indu']\ny = property_df['price_000']\n\n#Make your scatter plot\nplt.scatter(x, y, c='red', alpha=0.3, s= 100)\nplt.xlabel('Percentage of Industrial Properties')\nplt.ylabel('Price')\nplt.title('Industrial Use and Property Prices')\nplt.margins(.5)",
    "id": "271b8c58653c4e5c9eb06876058d905e",
    "idx": 29,
    "time": "2021-01-19T16:04:11.283Z",
    "type": "execution"
   },
   {
    "id": "271b8c58653c4e5c9eb06876058d905e",
    "time": "2021-01-19T16:04:11.612Z",
    "type": "completion"
   },
   {
    "code": "#Define the variables that you will plot in arrays\nx = property_df['pcnt_indu']\ny = property_df['price_000']\n\n#Make your scatter plot\nplt.scatter(x, y, c='red', alpha=0.3, s= 100)\nplt.xlabel('Percentage of Industrial Properties')\nplt.ylabel('Price')\nplt.title('Industrial Use and Property Prices')\nplt.xticks(x)",
    "id": "271b8c58653c4e5c9eb06876058d905e",
    "idx": 29,
    "time": "2021-01-19T16:04:28.538Z",
    "type": "execution"
   },
   {
    "id": "271b8c58653c4e5c9eb06876058d905e",
    "time": "2021-01-19T16:04:49.414Z",
    "type": "completion"
   },
   {
    "code": "#Define the variables that you will plot in arrays\nx = property_df['pcnt_indu']\ny = property_df['price_000']\n\n#Make your scatter plot\nplt.scatter(x, y, c='red', alpha=0.3, s= 100)\nplt.xlabel('Percentage of Industrial Properties')\nplt.ylabel('Price')\nplt.title('Industrial Use and Property Prices')\nplt.xticks(x)\nplt.show()",
    "id": "271b8c58653c4e5c9eb06876058d905e",
    "idx": 29,
    "time": "2021-01-19T16:04:55.768Z",
    "type": "execution"
   },
   {
    "id": "271b8c58653c4e5c9eb06876058d905e",
    "time": "2021-01-19T16:05:16.368Z",
    "type": "completion"
   },
   {
    "code": "#Define the variables that you will plot in arrays\nx = property_df['pcnt_indu']\ny = property_df['price_000']\n\n#Make your scatter plot\nplt.scatter(x, y, c='red', alpha=0.3, s= 100)\nplt.xlabel('Percentage of Industrial Properties')\nplt.ylabel('Price')\nplt.title('Industrial Use and Property Prices')\nplt.xticks(x)\n\nplt.tight_layout()\nplt.show()",
    "id": "271b8c58653c4e5c9eb06876058d905e",
    "idx": 29,
    "time": "2021-01-19T16:05:39.210Z",
    "type": "execution"
   },
   {
    "id": "271b8c58653c4e5c9eb06876058d905e",
    "time": "2021-01-19T16:06:02.170Z",
    "type": "completion"
   },
   {
    "code": "import pandas as pd #to read and modify databases\nimport matplotlib.pyplot as plt #to plot graphs \nimport numpy as np #for numerical operations ",
    "id": "24801d3001674025a37fd417f4ede669",
    "idx": 1,
    "time": "2021-01-19T16:06:26.047Z",
    "type": "execution"
   },
   {
    "code": "df = pd.read_csv('data_augmented.csv')\ndf.head()",
    "id": "c13080e30b6c4b9d81f5c89c0c546cf8",
    "idx": 3,
    "time": "2021-01-19T16:06:26.052Z",
    "type": "execution"
   },
   {
    "code": "df.isnull().sum()",
    "id": "eaf2034f8f7e46b7b7a52d83560f3184",
    "idx": 6,
    "time": "2021-01-19T16:06:26.054Z",
    "type": "execution"
   },
   {
    "code": "#Number of null, and total observations \nnull_values = df.isnull().sum(axis = 1)\n\nnull_obs = len(df[null_values > 0])\n\nprint(null_obs, len(df))\ndf[null_values>0]",
    "id": "4c74b70b58be454d8fc9f88352315074",
    "idx": 7,
    "time": "2021-01-19T16:06:26.056Z",
    "type": "execution"
   },
   {
    "code": "#Create a new dataframe without null values \nproperty_df = df.dropna().reset_index(drop = True)\nproperty_df.head()",
    "id": "eff0da6123ce4a248b21fef6e60fb327",
    "idx": 8,
    "time": "2021-01-19T16:06:26.058Z",
    "type": "execution"
   },
   {
    "code": "#A histogram of population density \nx = property_df['pop_dens']\nn_bins = 250 \nplt.hist(x, n_bins)\nplt.show()",
    "id": "9346369deffb449ca283ada779b9d810",
    "idx": 11,
    "time": "2021-01-19T16:06:26.060Z",
    "type": "execution"
   },
   {
    "code": "#Define the variable we want to plot and number of bins\nx = property_df.pop_dens\nn_bins = 500\n\n#Define graph size (x, y) in inches \nplt.figure(figsize = (6, 4))\n\n#Define the histogram function from matplotlib\nplt.hist(x, n_bins)\n\n#Create axes labels and title\nplt.xlabel('Population Density [$\\mathregular{person/km^2}]$')\nplt.ylabel ('Frequency')\nplt.title ('Population Density')\n\n#Adjust labels to the figure area\nplt.tight_layout()\n\n#Save figure to project folder\nplt.savefig('pop_dens_hist.jpg')\n\nplt.show()",
    "id": "9b5be725973144be8159a479ea324bdf",
    "idx": 13,
    "time": "2021-01-19T16:06:26.061Z",
    "type": "execution"
   },
   {
    "code": "#Define the variable we want to plot and number of bins\nx = property_df.lnprice\nn_bins = 100\n\n#Define graph size (x, y) in inches \nplt.figure(figsize = (6, 4))\n\n#Define the histogram function from matplotlib\nplt.hist(x, n_bins)\n\n#Create axes labels and title\nplt.xlabel('Natural Log of Price (Colombian Peso)')\nplt.ylabel ('Frequency')\nplt.title ('Cost of Properties')\n\n#Adjust labels to the figure area\nplt.tight_layout()\n\n#Save figure to project folder\nplt.savefig('cost_hist.jpg')\n\nplt.show()",
    "id": "20eb3caab73649789318bf521a118bd7",
    "idx": 14,
    "time": "2021-01-19T16:06:26.062Z",
    "type": "execution"
   },
   {
    "code": "#The size of each category of socioeconomic status \nproperty_df.groupby('ses').size()",
    "id": "885caa69782847e58076cc0cceb61610",
    "idx": 17,
    "time": "2021-01-19T16:06:26.064Z",
    "type": "execution"
   },
   {
    "code": "#Create a dummy for high socioeconomic status \nproperty_df['high_ses'] = np.where((property_df['ses'] == 5) |\n                                    (property_df['ses'] ==6), 1, 0)",
    "id": "c8b7eadf7b9f424187d57e78f49f982b",
    "idx": 18,
    "time": "2021-01-19T16:06:26.065Z",
    "type": "execution"
   },
   {
    "code": "property_df.groupby('high_ses').size()",
    "id": "4484dc0576b843d580e9c580b7ce1aa5",
    "idx": 19,
    "time": "2021-01-19T16:06:26.067Z",
    "type": "execution"
   },
   {
    "code": "#Find the median of population density \npop_dens_med = np.median(property_df['pop_dens'])\npop_dens_med",
    "id": "d7a702cf45374408aa417d5ed642aefb",
    "idx": 21,
    "time": "2021-01-19T16:06:26.069Z",
    "type": "execution"
   },
   {
    "code": "#Create a binary density variable of the population\nproperty_df['pop_dens_dummy'] = np.where((property_df['pop_dens']\n                                         >= pop_dens_med), 1, 0)\nproperty_df.groupby('pop_dens_dummy').size()",
    "id": "04793b04dcc44b3cbbfc6c680b749f34",
    "idx": 22,
    "time": "2021-01-19T16:06:26.070Z",
    "type": "execution"
   },
   {
    "code": "#The size of each category of number of bathrooms \nproperty_df.groupby('num_bath').size()",
    "id": "2a17af1f70db42be93f764ad3f0a39cf",
    "idx": 24,
    "time": "2021-01-19T16:06:26.071Z",
    "type": "execution"
   },
   {
    "code": "#Recode the number of bathrooms variable\nproperty_df['num_bath_cat'] = np.where((property_df['num_bath']>=3), \n                              3, property_df['num_bath'])\nproperty_df.groupby('num_bath_cat').size()",
    "id": "e8b1eda3331146988580ff480126c009",
    "idx": 25,
    "time": "2021-01-19T16:06:26.072Z",
    "type": "execution"
   },
   {
    "code": "list(property_df.columns.values)",
    "id": "7b150e12969141498adbb692708394cb",
    "idx": 26,
    "time": "2021-01-19T16:06:26.073Z",
    "type": "execution"
   },
   {
    "code": "property_df.dtypes",
    "id": "a1083a3a1eea4e20852bcdcbfd013665",
    "idx": 27,
    "time": "2021-01-19T16:06:26.074Z",
    "type": "execution"
   },
   {
    "code": "#Define the variables that you will plot in arrays\nx = property_df['pcnt_indu']\ny = property_df['price_000']\n\n#Make your scatter plot\nplt.scatter(x, y, c='red', alpha=0.3, s= 100)\nplt.xlabel('Percentage of Industrial Properties')\nplt.ylabel('Price')\nplt.title('Industrial Use and Property Prices')\n\nplt.show()",
    "id": "271b8c58653c4e5c9eb06876058d905e",
    "idx": 29,
    "time": "2021-01-19T16:06:26.076Z",
    "type": "execution"
   },
   {
    "id": "24801d3001674025a37fd417f4ede669",
    "time": "2021-01-19T16:06:26.933Z",
    "type": "completion"
   },
   {
    "id": "c13080e30b6c4b9d81f5c89c0c546cf8",
    "time": "2021-01-19T16:06:26.942Z",
    "type": "completion"
   },
   {
    "id": "eaf2034f8f7e46b7b7a52d83560f3184",
    "time": "2021-01-19T16:06:26.968Z",
    "type": "completion"
   },
   {
    "id": "4c74b70b58be454d8fc9f88352315074",
    "time": "2021-01-19T16:06:26.980Z",
    "type": "completion"
   },
   {
    "id": "eff0da6123ce4a248b21fef6e60fb327",
    "time": "2021-01-19T16:06:27.020Z",
    "type": "completion"
   },
   {
    "id": "9346369deffb449ca283ada779b9d810",
    "time": "2021-01-19T16:06:27.548Z",
    "type": "completion"
   },
   {
    "id": "9b5be725973144be8159a479ea324bdf",
    "time": "2021-01-19T16:06:28.858Z",
    "type": "completion"
   },
   {
    "id": "20eb3caab73649789318bf521a118bd7",
    "time": "2021-01-19T16:06:29.380Z",
    "type": "completion"
   },
   {
    "id": "885caa69782847e58076cc0cceb61610",
    "time": "2021-01-19T16:06:29.423Z",
    "type": "completion"
   },
   {
    "id": "c8b7eadf7b9f424187d57e78f49f982b",
    "time": "2021-01-19T16:06:29.425Z",
    "type": "completion"
   },
   {
    "id": "4484dc0576b843d580e9c580b7ce1aa5",
    "time": "2021-01-19T16:06:29.426Z",
    "type": "completion"
   },
   {
    "id": "d7a702cf45374408aa417d5ed642aefb",
    "time": "2021-01-19T16:06:29.429Z",
    "type": "completion"
   },
   {
    "id": "04793b04dcc44b3cbbfc6c680b749f34",
    "time": "2021-01-19T16:06:29.458Z",
    "type": "completion"
   },
   {
    "id": "2a17af1f70db42be93f764ad3f0a39cf",
    "time": "2021-01-19T16:06:29.460Z",
    "type": "completion"
   },
   {
    "id": "e8b1eda3331146988580ff480126c009",
    "time": "2021-01-19T16:06:29.462Z",
    "type": "completion"
   },
   {
    "id": "7b150e12969141498adbb692708394cb",
    "time": "2021-01-19T16:06:29.476Z",
    "type": "completion"
   },
   {
    "id": "a1083a3a1eea4e20852bcdcbfd013665",
    "time": "2021-01-19T16:06:29.477Z",
    "type": "completion"
   },
   {
    "id": "271b8c58653c4e5c9eb06876058d905e",
    "time": "2021-01-19T16:06:29.579Z",
    "type": "completion"
   },
   {
    "code": "x = property_df['pcnt_com']\ny = property_df['price_000']\n\nplt.scatter(x, y, cmap = 'YlOrRd', size = 120, alpha = 0.4)",
    "id": "3a93f3f0af92466184e302c8babdb565",
    "idx": 30,
    "time": "2021-01-19T16:12:39.854Z",
    "type": "execution"
   },
   {
    "id": "3a93f3f0af92466184e302c8babdb565",
    "time": "2021-01-19T16:12:40.201Z",
    "type": "completion"
   },
   {
    "code": "x = property_df['pcnt_com']\ny = property_df['price_000']\n\nplt.scatter(x, y, cmap = 'YlOrRd', s = 120, alpha = 0.4)",
    "id": "3a93f3f0af92466184e302c8babdb565",
    "idx": 30,
    "time": "2021-01-19T16:13:11.564Z",
    "type": "execution"
   },
   {
    "id": "3a93f3f0af92466184e302c8babdb565",
    "time": "2021-01-19T16:13:11.918Z",
    "type": "completion"
   },
   {
    "code": "x = property_df['pcnt_com']\ny = property_df['price_000']\n\nplt.scatter(x, y, c = 'YlOrRd', s = 120, alpha = 0.4)",
    "id": "3a93f3f0af92466184e302c8babdb565",
    "idx": 30,
    "time": "2021-01-19T16:13:21.637Z",
    "type": "execution"
   },
   {
    "id": "3a93f3f0af92466184e302c8babdb565",
    "time": "2021-01-19T16:13:21.967Z",
    "type": "completion"
   },
   {
    "code": "x = property_df['pcnt_com']\ny = property_df['price_000']\n\nplt.scatter(x, y, cmaps = 'YlOrRd', s = 120, alpha = 0.4)",
    "id": "3a93f3f0af92466184e302c8babdb565",
    "idx": 30,
    "time": "2021-01-19T16:13:40.161Z",
    "type": "execution"
   },
   {
    "id": "3a93f3f0af92466184e302c8babdb565",
    "time": "2021-01-19T16:13:40.413Z",
    "type": "completion"
   },
   {
    "code": "x = property_df['pcnt_com']\ny = property_df['price_000']\n\nplt.scatter(x, y, cmap = 'YlOrRd', s = 120, alpha = 0.4)",
    "id": "3a93f3f0af92466184e302c8babdb565",
    "idx": 30,
    "time": "2021-01-19T16:14:06.440Z",
    "type": "execution"
   },
   {
    "id": "3a93f3f0af92466184e302c8babdb565",
    "time": "2021-01-19T16:14:06.885Z",
    "type": "completion"
   },
   {
    "code": "x = property_df['pcnt_com']\ny = property_df['price_000']\n\nplt.scatter(x, y, cmap = 'coolwarm', s = 120, alpha = 0.4)",
    "id": "3a93f3f0af92466184e302c8babdb565",
    "idx": 30,
    "time": "2021-01-19T16:14:17.177Z",
    "type": "execution"
   },
   {
    "id": "3a93f3f0af92466184e302c8babdb565",
    "time": "2021-01-19T16:14:17.658Z",
    "type": "completion"
   },
   {
    "code": "x = property_df['pcnt_com']\ny = property_df['price_000']\n\nplt.scatter(x, y, c = colors, s = 120, alpha = 0.4)",
    "id": "3a93f3f0af92466184e302c8babdb565",
    "idx": 30,
    "time": "2021-01-19T16:14:45.729Z",
    "type": "execution"
   },
   {
    "id": "3a93f3f0af92466184e302c8babdb565",
    "time": "2021-01-19T16:14:45.824Z",
    "type": "completion"
   },
   {
    "code": "x = property_df['pcnt_com']\ny = property_df['price_000']\n\nplt.scatter(x, y, s = 120, alpha = 0.4, cmap = 'viridis')",
    "id": "3a93f3f0af92466184e302c8babdb565",
    "idx": 30,
    "time": "2021-01-19T16:15:30.116Z",
    "type": "execution"
   },
   {
    "id": "3a93f3f0af92466184e302c8babdb565",
    "time": "2021-01-19T16:15:30.772Z",
    "type": "completion"
   },
   {
    "code": "x = property_df['pcnt_com']\ny = property_df['price_000']\n\nplt.scatter(x, y, s = 200, alpha = 0.4, cmap = 'viridis')",
    "id": "3a93f3f0af92466184e302c8babdb565",
    "idx": 30,
    "time": "2021-01-19T16:16:00.287Z",
    "type": "execution"
   },
   {
    "id": "3a93f3f0af92466184e302c8babdb565",
    "time": "2021-01-19T16:16:00.602Z",
    "type": "completion"
   },
   {
    "code": "x = property_df['pcnt_com']\ny = property_df['price_000']\n\nplt.scatter(x, y, s = 50, alpha = 0.4, cmap = 'viridis')",
    "id": "3a93f3f0af92466184e302c8babdb565",
    "idx": 30,
    "time": "2021-01-19T16:16:06.722Z",
    "type": "execution"
   },
   {
    "id": "3a93f3f0af92466184e302c8babdb565",
    "time": "2021-01-19T16:16:07.289Z",
    "type": "completion"
   },
   {
    "code": "x = property_df['pcnt_insti']\ny = property_df['price_000']\n\nplt.scatter(x, y, s = 50, alpha = 0.4, cmap = 'viridis')",
    "id": "3a93f3f0af92466184e302c8babdb565",
    "idx": 30,
    "time": "2021-01-19T16:16:42.038Z",
    "type": "execution"
   },
   {
    "id": "3a93f3f0af92466184e302c8babdb565",
    "time": "2021-01-19T16:16:42.616Z",
    "type": "completion"
   },
   {
    "code": "x = property_df['area_m2']\ny = property_df['price_000']\n\nplt.scatter(x, y, s = 50, alpha = 0.4, cmap = 'viridis')",
    "id": "3a93f3f0af92466184e302c8babdb565",
    "idx": 30,
    "time": "2021-01-19T16:17:11.298Z",
    "type": "execution"
   },
   {
    "id": "3a93f3f0af92466184e302c8babdb565",
    "time": "2021-01-19T16:17:11.608Z",
    "type": "completion"
   },
   {
    "code": "x = property_df['area_m2']\ny = property_df['price_000']\nc = x\n\nplt.scatter(x, y, s = 50, alpha = 0.4, c = x cmap = 'viridis')",
    "id": "3a93f3f0af92466184e302c8babdb565",
    "idx": 30,
    "time": "2021-01-19T16:19:24.103Z",
    "type": "execution"
   },
   {
    "id": "3a93f3f0af92466184e302c8babdb565",
    "time": "2021-01-19T16:19:24.162Z",
    "type": "completion"
   },
   {
    "code": "x = property_df['area_m2']\ny = property_df['price_000']\nc = x\n\nplt.scatter(x, y, s = 50, alpha = 0.4, c = x, cmap = 'viridis')",
    "id": "3a93f3f0af92466184e302c8babdb565",
    "idx": 30,
    "time": "2021-01-19T16:19:28.120Z",
    "type": "execution"
   },
   {
    "id": "3a93f3f0af92466184e302c8babdb565",
    "time": "2021-01-19T16:19:28.587Z",
    "type": "completion"
   },
   {
    "code": "x = property_df['area_m2']\ny = property_df['price_000']\nc = x\n\nplt.scatter(x, y, s = 50, alpha = 0.4, c = x, cmap = 'YlOrRed')",
    "id": "3a93f3f0af92466184e302c8babdb565",
    "idx": 30,
    "time": "2021-01-19T16:20:07.576Z",
    "type": "execution"
   },
   {
    "id": "3a93f3f0af92466184e302c8babdb565",
    "time": "2021-01-19T16:20:07.768Z",
    "type": "completion"
   },
   {
    "code": "x = property_df['area_m2']\ny = property_df['price_000']\nc = x\n\nplt.scatter(x, y, s = 50, alpha = 0.4, c = x, cmap = 'YlOrRd')",
    "id": "3a93f3f0af92466184e302c8babdb565",
    "idx": 30,
    "time": "2021-01-19T16:20:12.779Z",
    "type": "execution"
   },
   {
    "id": "3a93f3f0af92466184e302c8babdb565",
    "time": "2021-01-19T16:20:13.408Z",
    "type": "completion"
   },
   {
    "code": "x = property_df['area_m2']\ny = property_df['price_000']\nc = y\n\nplt.scatter(x, y, s = 50, alpha = 0.4, c = x, cmap = 'YlOrRd')",
    "id": "3a93f3f0af92466184e302c8babdb565",
    "idx": 30,
    "time": "2021-01-19T16:20:19.982Z",
    "type": "execution"
   },
   {
    "id": "3a93f3f0af92466184e302c8babdb565",
    "time": "2021-01-19T16:20:20.467Z",
    "type": "completion"
   },
   {
    "code": "x = property_df['area_m2']\ny = property_df['price_000']\nc = y\n\nplt.scatter(x, y, s = 50, alpha = 0.4, c = y, cmap = 'YlOrRd')",
    "id": "3a93f3f0af92466184e302c8babdb565",
    "idx": 30,
    "time": "2021-01-19T16:20:58.769Z",
    "type": "execution"
   },
   {
    "id": "3a93f3f0af92466184e302c8babdb565",
    "time": "2021-01-19T16:20:59.212Z",
    "type": "completion"
   },
   {
    "code": "x = property_df['area_m2']\ny = property_df['price_000']\nc = x\n\nplt.scatter(x, y, s = 50, alpha = 0.4, c = x, cmap = 'YlOrRd')",
    "id": "3a93f3f0af92466184e302c8babdb565",
    "idx": 30,
    "time": "2021-01-19T16:21:26.114Z",
    "type": "execution"
   },
   {
    "id": "3a93f3f0af92466184e302c8babdb565",
    "time": "2021-01-19T16:21:26.516Z",
    "type": "completion"
   },
   {
    "code": "#Define the variables that you will plot in arrays\nx = property_df['area_m2']\ny = property_df['price_000']\n\n#Set the index upon which the plot color will be based\nc = x\n\n#Make your scatter plot\nplt.scatter(x, y, s = 50, alpha = 0.4, c = x, cmap = 'YlOrRd')\nplt.xlabel('Area in {m^2}')\nplt.ylabel('Price')\nplt.title('Industrial Use and Property Prices')",
    "id": "3a93f3f0af92466184e302c8babdb565",
    "idx": 30,
    "time": "2021-01-19T16:24:10.494Z",
    "type": "execution"
   },
   {
    "id": "3a93f3f0af92466184e302c8babdb565",
    "time": "2021-01-19T16:24:10.956Z",
    "type": "completion"
   },
   {
    "code": "#Define the variables that you will plot in arrays\nx = property_df['area_m2']\ny = property_df['price_000']\n\n#Set the index upon which the plot color will be based\nc = x\n\n#Make your scatter plot\nplt.scatter(x, y, s = 50, alpha = 0.4, c = x, cmap = 'YlOrRd')\nplt.xlabel('Area in [$\\mathregular{m^2}]$')\nplt.ylabel('Price')\nplt.title('Industrial Use and Property Prices')",
    "id": "3a93f3f0af92466184e302c8babdb565",
    "idx": 30,
    "time": "2021-01-19T16:25:02.950Z",
    "type": "execution"
   },
   {
    "id": "3a93f3f0af92466184e302c8babdb565",
    "time": "2021-01-19T16:25:03.395Z",
    "type": "completion"
   },
   {
    "code": "#Define the variables that you will plot in arrays\nx = property_df['area_m2']\ny = property_df['price_000']\n\n#Set the index upon which the plot color will be based\nc = x\n\n#Make your scatter plot\nplt.scatter(x, y, s = 50, alpha = 0.4, c = x, cmap = 'YlOrRd')\nplt.xlabel('Area in $\\mathregular{m^2}$')\nplt.ylabel('Price')\nplt.title('Industrial Use and Property Prices')",
    "id": "3a93f3f0af92466184e302c8babdb565",
    "idx": 30,
    "time": "2021-01-19T16:25:14.520Z",
    "type": "execution"
   },
   {
    "id": "3a93f3f0af92466184e302c8babdb565",
    "time": "2021-01-19T16:25:14.923Z",
    "type": "completion"
   },
   {
    "code": "#Define the variables that you will plot in arrays\nx = property_df['area_m2']\ny = property_df['price_000']\n\n#Set the index upon which the plot color will be based\nc = x\n\n#Make your scatter plot\nplt.scatter(x, y, s = 50, alpha = 0.4, c = x, cmap = 'YlOrRd')\nplt.xlabel('Area in $[\\mathregular{m^2}]$')\nplt.ylabel('Price')\nplt.title('Industrial Use and Property Prices')",
    "id": "3a93f3f0af92466184e302c8babdb565",
    "idx": 30,
    "time": "2021-01-19T16:25:32.881Z",
    "type": "execution"
   },
   {
    "id": "3a93f3f0af92466184e302c8babdb565",
    "time": "2021-01-19T16:25:33.306Z",
    "type": "completion"
   },
   {
    "code": "#Define the variables that you will plot in arrays\nx = property_df['area_m2']\ny = property_df['price_000']\n\n#Set the index upon which the plot color will be based\nc = x\n\n#Make your scatter plot\nplt.scatter(x, y, s = 50, alpha = 0.4, c = x, cmap = 'YlOrRd')\nplt.xlabel('Area $[\\mathregular{m^2}]$')\nplt.ylabel('Price')\nplt.title('Property Area and Prices')",
    "id": "3a93f3f0af92466184e302c8babdb565",
    "idx": 30,
    "time": "2021-01-19T16:26:15.530Z",
    "type": "execution"
   },
   {
    "id": "3a93f3f0af92466184e302c8babdb565",
    "time": "2021-01-19T16:26:15.949Z",
    "type": "completion"
   },
   {
    "code": "#Define the variables that you will plot in arrays\nx = property_df['pcnt_indu']\ny = property_df['area_m2']\n\n#Make your scatter plot\nplt.scatter(x, y, c ='red', alpha = 0.3, s = 100)\nplt.xlabel('Percentage of Industrial Properties')\nplt.ylabel('Price')\nplt.title('Industrial Use and Property Prices')\n\nplt.show()",
    "id": "271b8c58653c4e5c9eb06876058d905e",
    "idx": 29,
    "time": "2021-01-19T16:27:48.199Z",
    "type": "execution"
   },
   {
    "id": "271b8c58653c4e5c9eb06876058d905e",
    "time": "2021-01-19T16:27:48.537Z",
    "type": "completion"
   },
   {
    "code": "#Define the variables that you will plot in arrays\nx = property_df['pcnt_indu']\ny = property_df['price_000']\n\n#Make your scatter plot\nplt.scatter(x, y, c ='red', alpha = 0.3, s = 100)\nplt.xlabel('Percentage of Industrial Properties')\nplt.ylabel('Price')\nplt.title('Industrial Use and Property Prices')\n\nplt.show()",
    "id": "271b8c58653c4e5c9eb06876058d905e",
    "idx": 29,
    "time": "2021-01-19T16:27:58.894Z",
    "type": "execution"
   },
   {
    "id": "271b8c58653c4e5c9eb06876058d905e",
    "time": "2021-01-19T16:27:59.387Z",
    "type": "completion"
   },
   {
    "code": "#Define the variables that you will plot in arrays\nx = property_df['area_m2']\ny = property_df['price_000']\n\n#Set the index upon which the plot color will be based\nc = x\n\n#Make your scatter plot\nplt.scatter(x, y, s = 50, alpha = 0.8, c = x, cmap = 'YlOrRd')\nplt.xlabel('Area $[\\mathregular{m^2}]$')\nplt.ylabel('Price')\nplt.title('Property Area and Prices')",
    "id": "3a93f3f0af92466184e302c8babdb565",
    "idx": 30,
    "time": "2021-01-19T16:42:36.200Z",
    "type": "execution"
   },
   {
    "id": "3a93f3f0af92466184e302c8babdb565",
    "time": "2021-01-19T16:42:36.634Z",
    "type": "completion"
   },
   {
    "code": "#Define the variables that you will plot in arrays\nx = property_df['area_m2']\ny = property_df['price_000']\n\n#Set the index upon which the plot color will be based\nc = x\n\n#Make your scatter plot\nplt.scatter(x, y, s = 50, alpha = 0.4, c = x, cmap = 'YlOrRd')\nplt.xlabel('Area $[\\mathregular{m^2}]$')\nplt.ylabel('Price')\nplt.title('Property Area and Prices')",
    "id": "3a93f3f0af92466184e302c8babdb565",
    "idx": 30,
    "time": "2021-01-19T16:42:43.213Z",
    "type": "execution"
   },
   {
    "id": "3a93f3f0af92466184e302c8babdb565",
    "time": "2021-01-19T16:42:43.766Z",
    "type": "completion"
   },
   {
    "code": "#Define the variables that you will plot in arrays\nx = property_df['area_m2']\ny = property_df['price_000']\n\n#Set the index upon which the plot color will be based\nc = x\n\n#Make your scatter plot\nplt.scatter(x, y, s = 50, alpha = 0.5, c = x, cmap = 'YlOrRd')\nplt.xlabel('Area $[\\mathregular{m^2}]$')\nplt.ylabel('Price')\nplt.title('Property Area and Prices')",
    "id": "3a93f3f0af92466184e302c8babdb565",
    "idx": 30,
    "time": "2021-01-19T16:42:50.462Z",
    "type": "execution"
   },
   {
    "id": "3a93f3f0af92466184e302c8babdb565",
    "time": "2021-01-19T16:42:50.915Z",
    "type": "completion"
   },
   {
    "code": "#Define the variables that you will plot in arrays\nx = property_df['pcnt_vacant']\ny = property_df['price_000']\n\n#Make your scatter plot\nplt.scatter(x, y, c ='red', alpha = 0.3, s = 100)\nplt.xlabel('Percentage of Industrial Properties')\nplt.ylabel('Price')\nplt.title('Industrial Use and Property Prices')\n\nplt.show()",
    "id": "271b8c58653c4e5c9eb06876058d905e",
    "idx": 29,
    "time": "2021-01-19T16:46:36.553Z",
    "type": "execution"
   },
   {
    "id": "271b8c58653c4e5c9eb06876058d905e",
    "time": "2021-01-19T16:46:36.855Z",
    "type": "completion"
   },
   {
    "code": "#Define the variables that you will plot in arrays\nx = property_df['pcnt_indu']\ny = property_df['price_000']\n\n#Make your scatter plot\nplt.scatter(x, y, c ='red', alpha = 0.3, s = 100)\nplt.xlabel('Percentage of Industrial Properties')\nplt.ylabel('Price')\nplt.title('Industrial Use and Property Prices')\n\nplt.show()",
    "id": "271b8c58653c4e5c9eb06876058d905e",
    "idx": 29,
    "time": "2021-01-19T16:46:54.441Z",
    "type": "execution"
   },
   {
    "id": "271b8c58653c4e5c9eb06876058d905e",
    "time": "2021-01-19T16:46:54.782Z",
    "type": "completion"
   },
   {
    "code": "#Define the variables that you will plot in arrays\nx = property_df['num_room']\ny = property_df['price_000']\n\n#Set the index upon which the plot color will be based\nc = x\n\n#Make your scatter plot\nplt.scatter(x, y, s = 50, alpha = 0.5, c = x, cmap = 'YlOrRd')\nplt.xlabel('Area $[\\mathregular{m^2}]$')\nplt.ylabel('Price')\nplt.title('Property Area and Prices')",
    "id": "3a93f3f0af92466184e302c8babdb565",
    "idx": 30,
    "time": "2021-01-19T16:47:32.474Z",
    "type": "execution"
   },
   {
    "id": "3a93f3f0af92466184e302c8babdb565",
    "time": "2021-01-19T16:47:32.925Z",
    "type": "completion"
   },
   {
    "code": "#Define the variables that you will plot in arrays\nx = property_df['num_bath']\ny = property_df['price_000']\n\n#Set the index upon which the plot color will be based\nc = x\n\n#Make your scatter plot\nplt.scatter(x, y, s = 50, alpha = 0.5, c = x, cmap = 'YlOrRd')\nplt.xlabel('Area $[\\mathregular{m^2}]$')\nplt.ylabel('Price')\nplt.title('Property Area and Prices')",
    "id": "3a93f3f0af92466184e302c8babdb565",
    "idx": 30,
    "time": "2021-01-19T16:47:40.138Z",
    "type": "execution"
   },
   {
    "id": "3a93f3f0af92466184e302c8babdb565",
    "time": "2021-01-19T16:47:40.526Z",
    "type": "completion"
   },
   {
    "code": "#Define the variables that you will plot in arrays\nx = property_df['area_m2']\ny = property_df['price_000']\n\n#Set the index upon which the plot color will be based\nc = x\n\n#Make your scatter plot\nplt.scatter(x, y, s = 50, alpha = 0.5, c = x, cmap = 'YlOrRd')\nplt.xlabel('Area $[\\mathregular{m^2}]$')\nplt.ylabel('Price')\nplt.title('Property Area and Prices')",
    "id": "3a93f3f0af92466184e302c8babdb565",
    "idx": 30,
    "time": "2021-01-19T16:47:49.121Z",
    "type": "execution"
   },
   {
    "id": "3a93f3f0af92466184e302c8babdb565",
    "time": "2021-01-19T16:47:49.536Z",
    "type": "completion"
   },
   {
    "code": "import pandas as pd #to read and modify databases\nimport matplotlib.pyplot as plt #to plot graphs \nimport numpy as np #for numerical operations ",
    "id": "24801d3001674025a37fd417f4ede669",
    "idx": 1,
    "time": "2021-01-19T17:02:17.389Z",
    "type": "execution"
   },
   {
    "code": "df = pd.read_csv('data_augmented.csv')\ndf.head()",
    "id": "c13080e30b6c4b9d81f5c89c0c546cf8",
    "idx": 3,
    "time": "2021-01-19T17:02:17.393Z",
    "type": "execution"
   },
   {
    "code": "df.isnull().sum()",
    "id": "eaf2034f8f7e46b7b7a52d83560f3184",
    "idx": 6,
    "time": "2021-01-19T17:02:17.394Z",
    "type": "execution"
   },
   {
    "code": "#Number of null, and total observations \nnull_values = df.isnull().sum(axis = 1)\n\nnull_obs = len(df[null_values > 0])\n\nprint(null_obs, len(df))\ndf[null_values>0]",
    "id": "4c74b70b58be454d8fc9f88352315074",
    "idx": 7,
    "time": "2021-01-19T17:02:17.397Z",
    "type": "execution"
   },
   {
    "code": "#Create a new dataframe without null values \nproperty_df = df.dropna().reset_index(drop = True)\nproperty_df.head()",
    "id": "eff0da6123ce4a248b21fef6e60fb327",
    "idx": 8,
    "time": "2021-01-19T17:02:17.399Z",
    "type": "execution"
   },
   {
    "code": "#A histogram of population density \nx = property_df['pop_dens']\nn_bins = 250 \nplt.hist(x, n_bins)\nplt.show()",
    "id": "9346369deffb449ca283ada779b9d810",
    "idx": 11,
    "time": "2021-01-19T17:02:17.401Z",
    "type": "execution"
   },
   {
    "code": "#Define the variable we want to plot and number of bins\nx = property_df.pop_dens\nn_bins = 500\n\n#Define graph size (x, y) in inches \nplt.figure(figsize = (6, 4))\n\n#Define the histogram function from matplotlib\nplt.hist(x, n_bins)\n\n#Create axes labels and title\nplt.xlabel('Population Density [$\\mathregular{person/km^2}]$')\nplt.ylabel ('Frequency')\nplt.title ('Population Density')\n\n#Adjust labels to the figure area\nplt.tight_layout()\n\n#Save figure to project folder\nplt.savefig('pop_dens_hist.jpg')\n\nplt.show()",
    "id": "9b5be725973144be8159a479ea324bdf",
    "idx": 13,
    "time": "2021-01-19T17:02:17.404Z",
    "type": "execution"
   },
   {
    "code": "#Define the variable we want to plot and number of bins\nx = property_df.lnprice\nn_bins = 100\n\n#Define graph size (x, y) in inches \nplt.figure(figsize = (6, 4))\n\n#Define the histogram function from matplotlib\nplt.hist(x, n_bins)\n\n#Create axes labels and title\nplt.xlabel('Natural Log of Price (Colombian Peso)')\nplt.ylabel ('Frequency')\nplt.title ('Cost of Properties')\n\n#Adjust labels to the figure area\nplt.tight_layout()\n\n#Save figure to project folder\nplt.savefig('cost_hist.jpg')\n\nplt.show()",
    "id": "20eb3caab73649789318bf521a118bd7",
    "idx": 14,
    "time": "2021-01-19T17:02:17.406Z",
    "type": "execution"
   },
   {
    "code": "#The size of each category of socioeconomic status \nproperty_df.groupby('ses').size()",
    "id": "885caa69782847e58076cc0cceb61610",
    "idx": 17,
    "time": "2021-01-19T17:02:17.407Z",
    "type": "execution"
   },
   {
    "code": "#Create a dummy for high socioeconomic status \nproperty_df['high_ses'] = np.where((property_df['ses'] == 5) |\n                                    (property_df['ses'] ==6), 1, 0)",
    "id": "c8b7eadf7b9f424187d57e78f49f982b",
    "idx": 18,
    "time": "2021-01-19T17:02:17.408Z",
    "type": "execution"
   },
   {
    "code": "property_df.groupby('high_ses').size()",
    "id": "4484dc0576b843d580e9c580b7ce1aa5",
    "idx": 19,
    "time": "2021-01-19T17:02:17.409Z",
    "type": "execution"
   },
   {
    "code": "#Find the median of population density \npop_dens_med = np.median(property_df['pop_dens'])\npop_dens_med",
    "id": "d7a702cf45374408aa417d5ed642aefb",
    "idx": 21,
    "time": "2021-01-19T17:02:17.411Z",
    "type": "execution"
   },
   {
    "code": "#Create a binary density variable of the population\nproperty_df['pop_dens_dummy'] = np.where((property_df['pop_dens']\n                                         >= pop_dens_med), 1, 0)\nproperty_df.groupby('pop_dens_dummy').size()",
    "id": "04793b04dcc44b3cbbfc6c680b749f34",
    "idx": 22,
    "time": "2021-01-19T17:02:17.412Z",
    "type": "execution"
   },
   {
    "code": "#The size of each category of number of bathrooms \nproperty_df.groupby('num_bath').size()",
    "id": "2a17af1f70db42be93f764ad3f0a39cf",
    "idx": 24,
    "time": "2021-01-19T17:02:17.414Z",
    "type": "execution"
   },
   {
    "code": "#Recode the number of bathrooms variable\nproperty_df['num_bath_cat'] = np.where((property_df['num_bath']>=3), \n                              3, property_df['num_bath'])\nproperty_df.groupby('num_bath_cat').size()",
    "id": "e8b1eda3331146988580ff480126c009",
    "idx": 25,
    "time": "2021-01-19T17:02:17.415Z",
    "type": "execution"
   },
   {
    "code": "list(property_df.columns.values)",
    "id": "7b150e12969141498adbb692708394cb",
    "idx": 26,
    "time": "2021-01-19T17:02:17.418Z",
    "type": "execution"
   },
   {
    "code": "property_df.dtypes",
    "id": "a1083a3a1eea4e20852bcdcbfd013665",
    "idx": 27,
    "time": "2021-01-19T17:02:17.420Z",
    "type": "execution"
   },
   {
    "code": "#Define the variables that you will plot in arrays\nx = property_df['pcnt_indu']\ny = property_df['price_000']\n\n#Make your scatter plot\nplt.scatter(x, y, c ='red', alpha = 0.3, s = 100)\nplt.xlabel('Percentage of Industrial Properties')\nplt.ylabel('Price')\nplt.title('Industrial Use and Property Prices')\n\nplt.show()",
    "id": "271b8c58653c4e5c9eb06876058d905e",
    "idx": 29,
    "time": "2021-01-19T17:02:17.423Z",
    "type": "execution"
   },
   {
    "code": "#Define the variables that you will plot in arrays\nx = property_df['area_m2']\ny = property_df['price_000']\n\n#Set the index upon which the plot color will be based\nc = x\n\n#Make your scatter plot\nplt.scatter(x, y, s = 50, alpha = 0.5, c = x, cmap = 'YlOrRd')\nplt.xlabel('Area $[\\mathregular{m^2}]$')\nplt.ylabel('Price')\nplt.title('Property Area and Prices')\n\nplt.show()",
    "id": "3a93f3f0af92466184e302c8babdb565",
    "idx": 30,
    "time": "2021-01-19T17:02:17.424Z",
    "type": "execution"
   },
   {
    "code": "#Define the variables that you will plot in arrays\n\n#Figure 1\nx1 = property_df['pcnt_indu']\ny1 = property_df['price_000']\n\n#Figure 2\nx2 = property_df['pcnt_com']\ny2 = property_df['price_000']\n\n#Create your figure, and define the number of subplots within it\nfig, (ax1, ax2) = plt.subplots(1, 2, figsize = (15, 5))\n\n#Create first subplot\nax1.scatter(x1, y1, c = 'reds', alpha = 0.3, s = 50)\nax1.set_xlabel('')\n\n\n",
    "id": "2bd560a78fe7446eb27547a9855047b0",
    "idx": 31,
    "time": "2021-01-19T17:02:17.427Z",
    "type": "execution"
   },
   {
    "id": "24801d3001674025a37fd417f4ede669",
    "time": "2021-01-19T17:02:18.087Z",
    "type": "completion"
   },
   {
    "id": "c13080e30b6c4b9d81f5c89c0c546cf8",
    "time": "2021-01-19T17:02:18.147Z",
    "type": "completion"
   },
   {
    "id": "eaf2034f8f7e46b7b7a52d83560f3184",
    "time": "2021-01-19T17:02:18.160Z",
    "type": "completion"
   },
   {
    "id": "4c74b70b58be454d8fc9f88352315074",
    "time": "2021-01-19T17:02:18.214Z",
    "type": "completion"
   },
   {
    "id": "eff0da6123ce4a248b21fef6e60fb327",
    "time": "2021-01-19T17:02:18.262Z",
    "type": "completion"
   },
   {
    "id": "9346369deffb449ca283ada779b9d810",
    "time": "2021-01-19T17:02:18.795Z",
    "type": "completion"
   },
   {
    "id": "9b5be725973144be8159a479ea324bdf",
    "time": "2021-01-19T17:02:20.376Z",
    "type": "completion"
   },
   {
    "id": "20eb3caab73649789318bf521a118bd7",
    "time": "2021-01-19T17:02:20.980Z",
    "type": "completion"
   },
   {
    "id": "885caa69782847e58076cc0cceb61610",
    "time": "2021-01-19T17:02:21.019Z",
    "type": "completion"
   },
   {
    "id": "c8b7eadf7b9f424187d57e78f49f982b",
    "time": "2021-01-19T17:02:21.020Z",
    "type": "completion"
   },
   {
    "id": "4484dc0576b843d580e9c580b7ce1aa5",
    "time": "2021-01-19T17:02:21.021Z",
    "type": "completion"
   },
   {
    "id": "d7a702cf45374408aa417d5ed642aefb",
    "time": "2021-01-19T17:02:21.024Z",
    "type": "completion"
   },
   {
    "id": "04793b04dcc44b3cbbfc6c680b749f34",
    "time": "2021-01-19T17:02:21.025Z",
    "type": "completion"
   },
   {
    "id": "2a17af1f70db42be93f764ad3f0a39cf",
    "time": "2021-01-19T17:02:21.058Z",
    "type": "completion"
   },
   {
    "id": "e8b1eda3331146988580ff480126c009",
    "time": "2021-01-19T17:02:21.060Z",
    "type": "completion"
   },
   {
    "id": "7b150e12969141498adbb692708394cb",
    "time": "2021-01-19T17:02:21.062Z",
    "type": "completion"
   },
   {
    "id": "a1083a3a1eea4e20852bcdcbfd013665",
    "time": "2021-01-19T17:02:21.063Z",
    "type": "completion"
   },
   {
    "id": "271b8c58653c4e5c9eb06876058d905e",
    "time": "2021-01-19T17:02:21.175Z",
    "type": "completion"
   },
   {
    "id": "3a93f3f0af92466184e302c8babdb565",
    "time": "2021-01-19T17:02:21.658Z",
    "type": "completion"
   },
   {
    "id": "2bd560a78fe7446eb27547a9855047b0",
    "time": "2021-01-19T17:02:21.698Z",
    "type": "completion"
   },
   {
    "code": "#Define the variables that you will plot in arrays\n\n#Figure 1\nx1 = property_df['pcnt_indu']\ny1 = property_df['price_000']\n\n#Figure 2\nx2 = property_df['pcnt_com']\ny2 = property_df['price_000']\n\n#Create your figure, and define the number of subplots within it\nfig, (ax1, ax2) = plt.subplots(1, 2, figsize = (15, 5))\n\n#Create first subplot\nax1.scatter(x1, y1, c = 'reds', alpha = 0.3, s = 50)\nax1.set_xlabel('')#Define the variables that you will plot in arrays\n\n#Figure 1\nx1 = property_df['pcnt_indu']\ny1 = property_df['price_000']\n\n#Figure 2\nx2 = property_df['pcnt_com']\ny2 = property_df['price_000']\n\n#Create your figure, and define the number of subplots within it\nfig, (ax1, ax2) = plt.subplots(1, 2, figsize = (15, 5))\n\n#Create first subplot\nax1.scatter(x1, y1, c = 'red', alpha = 0.3, s = 50)\nax1.set_xlabel('')\n\n\n\n",
    "id": "2bd560a78fe7446eb27547a9855047b0",
    "idx": 31,
    "time": "2021-01-19T17:04:35.721Z",
    "type": "execution"
   },
   {
    "id": "2bd560a78fe7446eb27547a9855047b0",
    "time": "2021-01-19T17:04:35.827Z",
    "type": "completion"
   },
   {
    "code": "import pandas as pd #to read and modify databases\nimport matplotlib.pyplot as plt #to plot graphs \nimport numpy as np #for numerical operations ",
    "id": "24801d3001674025a37fd417f4ede669",
    "idx": 1,
    "time": "2021-01-19T17:05:06.067Z",
    "type": "execution"
   },
   {
    "code": "df = pd.read_csv('data_augmented.csv')\ndf.head()",
    "id": "c13080e30b6c4b9d81f5c89c0c546cf8",
    "idx": 3,
    "time": "2021-01-19T17:05:06.070Z",
    "type": "execution"
   },
   {
    "code": "df.isnull().sum()",
    "id": "eaf2034f8f7e46b7b7a52d83560f3184",
    "idx": 6,
    "time": "2021-01-19T17:05:06.072Z",
    "type": "execution"
   },
   {
    "code": "#Number of null, and total observations \nnull_values = df.isnull().sum(axis = 1)\n\nnull_obs = len(df[null_values > 0])\n\nprint(null_obs, len(df))\ndf[null_values>0]",
    "id": "4c74b70b58be454d8fc9f88352315074",
    "idx": 7,
    "time": "2021-01-19T17:05:06.075Z",
    "type": "execution"
   },
   {
    "code": "#Create a new dataframe without null values \nproperty_df = df.dropna().reset_index(drop = True)\nproperty_df.head()",
    "id": "eff0da6123ce4a248b21fef6e60fb327",
    "idx": 8,
    "time": "2021-01-19T17:05:06.077Z",
    "type": "execution"
   },
   {
    "code": "#A histogram of population density \nx = property_df['pop_dens']\nn_bins = 250 \nplt.hist(x, n_bins)\nplt.show()",
    "id": "9346369deffb449ca283ada779b9d810",
    "idx": 11,
    "time": "2021-01-19T17:05:06.078Z",
    "type": "execution"
   },
   {
    "code": "#Define the variable we want to plot and number of bins\nx = property_df.pop_dens\nn_bins = 500\n\n#Define graph size (x, y) in inches \nplt.figure(figsize = (6, 4))\n\n#Define the histogram function from matplotlib\nplt.hist(x, n_bins)\n\n#Create axes labels and title\nplt.xlabel('Population Density [$\\mathregular{person/km^2}]$')\nplt.ylabel ('Frequency')\nplt.title ('Population Density')\n\n#Adjust labels to the figure area\nplt.tight_layout()\n\n#Save figure to project folder\nplt.savefig('pop_dens_hist.jpg')\n\nplt.show()",
    "id": "9b5be725973144be8159a479ea324bdf",
    "idx": 13,
    "time": "2021-01-19T17:05:06.079Z",
    "type": "execution"
   },
   {
    "code": "#Define the variable we want to plot and number of bins\nx = property_df.lnprice\nn_bins = 100\n\n#Define graph size (x, y) in inches \nplt.figure(figsize = (6, 4))\n\n#Define the histogram function from matplotlib\nplt.hist(x, n_bins)\n\n#Create axes labels and title\nplt.xlabel('Natural Log of Price (Colombian Peso)')\nplt.ylabel ('Frequency')\nplt.title ('Cost of Properties')\n\n#Adjust labels to the figure area\nplt.tight_layout()\n\n#Save figure to project folder\nplt.savefig('cost_hist.jpg')\n\nplt.show()",
    "id": "20eb3caab73649789318bf521a118bd7",
    "idx": 14,
    "time": "2021-01-19T17:05:06.081Z",
    "type": "execution"
   },
   {
    "code": "#The size of each category of socioeconomic status \nproperty_df.groupby('ses').size()",
    "id": "885caa69782847e58076cc0cceb61610",
    "idx": 17,
    "time": "2021-01-19T17:05:06.082Z",
    "type": "execution"
   },
   {
    "code": "#Create a dummy for high socioeconomic status \nproperty_df['high_ses'] = np.where((property_df['ses'] == 5) |\n                                    (property_df['ses'] ==6), 1, 0)",
    "id": "c8b7eadf7b9f424187d57e78f49f982b",
    "idx": 18,
    "time": "2021-01-19T17:05:06.084Z",
    "type": "execution"
   },
   {
    "code": "property_df.groupby('high_ses').size()",
    "id": "4484dc0576b843d580e9c580b7ce1aa5",
    "idx": 19,
    "time": "2021-01-19T17:05:06.085Z",
    "type": "execution"
   },
   {
    "code": "#Find the median of population density \npop_dens_med = np.median(property_df['pop_dens'])\npop_dens_med",
    "id": "d7a702cf45374408aa417d5ed642aefb",
    "idx": 21,
    "time": "2021-01-19T17:05:06.086Z",
    "type": "execution"
   },
   {
    "code": "#Create a binary density variable of the population\nproperty_df['pop_dens_dummy'] = np.where((property_df['pop_dens']\n                                         >= pop_dens_med), 1, 0)\nproperty_df.groupby('pop_dens_dummy').size()",
    "id": "04793b04dcc44b3cbbfc6c680b749f34",
    "idx": 22,
    "time": "2021-01-19T17:05:06.089Z",
    "type": "execution"
   },
   {
    "code": "#The size of each category of number of bathrooms \nproperty_df.groupby('num_bath').size()",
    "id": "2a17af1f70db42be93f764ad3f0a39cf",
    "idx": 24,
    "time": "2021-01-19T17:05:06.090Z",
    "type": "execution"
   },
   {
    "code": "#Recode the number of bathrooms variable\nproperty_df['num_bath_cat'] = np.where((property_df['num_bath']>=3), \n                              3, property_df['num_bath'])\nproperty_df.groupby('num_bath_cat').size()",
    "id": "e8b1eda3331146988580ff480126c009",
    "idx": 25,
    "time": "2021-01-19T17:05:06.091Z",
    "type": "execution"
   },
   {
    "code": "list(property_df.columns.values)",
    "id": "7b150e12969141498adbb692708394cb",
    "idx": 26,
    "time": "2021-01-19T17:05:06.092Z",
    "type": "execution"
   },
   {
    "code": "property_df.dtypes",
    "id": "a1083a3a1eea4e20852bcdcbfd013665",
    "idx": 27,
    "time": "2021-01-19T17:05:06.093Z",
    "type": "execution"
   },
   {
    "code": "#Define the variables that you will plot in arrays\nx = property_df['pcnt_indu']\ny = property_df['price_000']\n\n#Make your scatter plot\nplt.scatter(x, y, c ='red', alpha = 0.3, s = 100)\nplt.xlabel('Percentage of Industrial Properties')\nplt.ylabel('Price')\nplt.title('Industrial Use and Property Prices')\n\nplt.show()",
    "id": "271b8c58653c4e5c9eb06876058d905e",
    "idx": 29,
    "time": "2021-01-19T17:05:06.095Z",
    "type": "execution"
   },
   {
    "code": "#Define the variables that you will plot in arrays\nx = property_df['area_m2']\ny = property_df['price_000']\n\n#Set the index upon which the plot color will be based\nc = x\n\n#Make your scatter plot\nplt.scatter(x, y, s = 50, alpha = 0.5, c = x, cmap = 'YlOrRd')\nplt.xlabel('Area $[\\mathregular{m^2}]$')\nplt.ylabel('Price')\nplt.title('Property Area and Prices')\n\nplt.show()",
    "id": "3a93f3f0af92466184e302c8babdb565",
    "idx": 30,
    "time": "2021-01-19T17:05:06.096Z",
    "type": "execution"
   },
   {
    "code": "#Define the variables that you will plot in arrays\n\n#Figure 1\nx1 = property_df['pcnt_indu']\ny1 = property_df['price_000']\n\n#Figure 2\nx2 = property_df['pcnt_com']\ny2 = property_df['price_000']\n\n#Create your figure, and define the number of subplots within it\nfig, (ax1, ax2) = plt.subplots(1, 2, figsize = (15, 5))\n\n#Create first subplot\nax1.scatter(x1, y1, c = 'reds', alpha = 0.3, s = 50)\nax1.set_xlabel('')#Define the variables that you will plot in arrays\n\n#Figure 1\nx1 = property_df['pcnt_indu']\ny1 = property_df['price_000']\n\n#Figure 2\nx2 = property_df['pcnt_com']\ny2 = property_df['price_000']\n\n#Create your figure, and define the number of subplots within it\nfig, (ax1, ax2) = plt.subplots(1, 2, figsize = (15, 5))\n\n#Create first subplot\nax1.scatter(x1, y1, c = 'red', alpha = 0.3, s = 50)\nax1.set_xlabel('')\n\n\n\n",
    "id": "2bd560a78fe7446eb27547a9855047b0",
    "idx": 31,
    "time": "2021-01-19T17:05:06.097Z",
    "type": "execution"
   },
   {
    "id": "24801d3001674025a37fd417f4ede669",
    "time": "2021-01-19T17:05:07.161Z",
    "type": "completion"
   },
   {
    "id": "c13080e30b6c4b9d81f5c89c0c546cf8",
    "time": "2021-01-19T17:05:07.167Z",
    "type": "completion"
   },
   {
    "id": "eaf2034f8f7e46b7b7a52d83560f3184",
    "time": "2021-01-19T17:05:07.212Z",
    "type": "completion"
   },
   {
    "id": "4c74b70b58be454d8fc9f88352315074",
    "time": "2021-01-19T17:05:07.243Z",
    "type": "completion"
   },
   {
    "id": "eff0da6123ce4a248b21fef6e60fb327",
    "time": "2021-01-19T17:05:07.253Z",
    "type": "completion"
   },
   {
    "id": "9346369deffb449ca283ada779b9d810",
    "time": "2021-01-19T17:05:07.790Z",
    "type": "completion"
   },
   {
    "id": "9b5be725973144be8159a479ea324bdf",
    "time": "2021-01-19T17:05:09.213Z",
    "type": "completion"
   },
   {
    "id": "20eb3caab73649789318bf521a118bd7",
    "time": "2021-01-19T17:05:09.527Z",
    "type": "completion"
   },
   {
    "id": "885caa69782847e58076cc0cceb61610",
    "time": "2021-01-19T17:05:09.553Z",
    "type": "completion"
   },
   {
    "id": "c8b7eadf7b9f424187d57e78f49f982b",
    "time": "2021-01-19T17:05:09.554Z",
    "type": "completion"
   },
   {
    "id": "4484dc0576b843d580e9c580b7ce1aa5",
    "time": "2021-01-19T17:05:09.557Z",
    "type": "completion"
   },
   {
    "id": "d7a702cf45374408aa417d5ed642aefb",
    "time": "2021-01-19T17:05:09.559Z",
    "type": "completion"
   },
   {
    "id": "04793b04dcc44b3cbbfc6c680b749f34",
    "time": "2021-01-19T17:05:09.590Z",
    "type": "completion"
   },
   {
    "id": "2a17af1f70db42be93f764ad3f0a39cf",
    "time": "2021-01-19T17:05:09.592Z",
    "type": "completion"
   },
   {
    "id": "e8b1eda3331146988580ff480126c009",
    "time": "2021-01-19T17:05:09.593Z",
    "type": "completion"
   },
   {
    "id": "7b150e12969141498adbb692708394cb",
    "time": "2021-01-19T17:05:09.594Z",
    "type": "completion"
   },
   {
    "id": "a1083a3a1eea4e20852bcdcbfd013665",
    "time": "2021-01-19T17:05:09.634Z",
    "type": "completion"
   },
   {
    "id": "271b8c58653c4e5c9eb06876058d905e",
    "time": "2021-01-19T17:05:10.029Z",
    "type": "completion"
   },
   {
    "id": "3a93f3f0af92466184e302c8babdb565",
    "time": "2021-01-19T17:05:10.224Z",
    "type": "completion"
   },
   {
    "id": "2bd560a78fe7446eb27547a9855047b0",
    "time": "2021-01-19T17:05:10.544Z",
    "type": "completion"
   },
   {
    "code": "#Define the variables that you will plot in arrays\n\n#Figure 1\nx1 = property_df['pcnt_indu']\ny1 = property_df['price_000']\n\n#Figure 2\nx2 = property_df['pcnt_com']\ny2 = property_df['price_000']\n\n#Create your figure, and define the number of subplots within it\nfig, (ax1, ax2) = plt.subplots(1, 2, figsize = (15, 5))\n\n#Create first subplot\nax1.scatter(x1, y1, c = 'reds', alpha = 0.3, s = 50)\nax1.set_xlabel('')#Define the variables that you will plot in arrays\n\n#Figure 1\nx1 = property_df['pcnt_indu']\ny1 = property_df['price_000']\n\n#Figure 2\nx2 = property_df['pcnt_com']\ny2 = property_df['price_000']\n\n#Create your figure, and define the number of subplots within it\nfig, (ax1, ax2) = plt.subplots(1, 2, figsize = (15, 5))\n\n#Create first subplot\nax1.scatter(x1, y1, c = 'blue', alpha = 0.3, s = 50)\n#ax1.set_xlabel('')\n\n\n\n",
    "id": "2bd560a78fe7446eb27547a9855047b0",
    "idx": 31,
    "time": "2021-01-19T17:05:55.991Z",
    "type": "execution"
   },
   {
    "id": "2bd560a78fe7446eb27547a9855047b0",
    "time": "2021-01-19T17:05:56.443Z",
    "type": "completion"
   },
   {
    "code": "#Define the variables that you will plot in arrays\n\n#Figure 1\nx1 = property_df['pcnt_indu']\ny1 = property_df['price_000']\n\n#Figure 2\nx2 = property_df['pcnt_com']\ny2 = property_df['price_000']\n\n#Create your figure, and define the number of subplots within it\nfig, (ax1, ax2) = plt.subplots(1, 2, figsize = (15, 5))\n\n\n#Create your figure, and define the number of subplots within it\nfig, (ax1, ax2) = plt.subplots(1, 2, figsize = (15, 5))\n\n#Create first subplot\nax1.scatter(x1, y1, c = 'red', alpha = 0.3, s = 50)\n#ax1.set_xlabel('')\n\n\n\n",
    "id": "2bd560a78fe7446eb27547a9855047b0",
    "idx": 31,
    "time": "2021-01-19T17:06:47.973Z",
    "type": "execution"
   },
   {
    "id": "2bd560a78fe7446eb27547a9855047b0",
    "time": "2021-01-19T17:06:48.887Z",
    "type": "completion"
   },
   {
    "code": "#Define the variables that you will plot in arrays\n\n#Figure 1\nx1 = property_df['pcnt_indu']\ny1 = property_df['price_000']\n\n#Figure 2\nx2 = property_df['pcnt_com']\ny2 = property_df['price_000']\n\n#Create your figure, and define the number of subplots within it\nfig, (ax1, ax2) = plt.subplots(1, 2, figsize = (15, 5))\n\n\n#Create first subplot\nax1.scatter(x1, y1, c = 'red', alpha = 0.3, s = 50)\n#ax1.set_xlabel('')\n\n\n\n",
    "id": "2bd560a78fe7446eb27547a9855047b0",
    "idx": 31,
    "time": "2021-01-19T17:06:55.591Z",
    "type": "execution"
   },
   {
    "id": "2bd560a78fe7446eb27547a9855047b0",
    "time": "2021-01-19T17:06:56.035Z",
    "type": "completion"
   },
   {
    "code": "#Define the variables that you will plot in arrays\n\n#Figure 1\nx1 = property_df['pcnt_indu']\ny1 = property_df['price_000']\n\n#Figure 2\nx2 = property_df['pcnt_com']\ny2 = property_df['price_000']\n\n#Create your figure, and define the number of subplots within it\nfig, (ax1, ax2) = plt.subplots(1, 2, figsize = (15, 5))\n\n\n#Create first subplot\nax1.scatter(x1, y1, c = 'red', alpha = 0.3, s = 50)\nax1.set_xlabel('Percentage of Industrial Properties')\nax1.set_ylable('Price')\n#Format y-axis number to include thousands separator\nax1.getyaxis().set_major_formatter(plt.FuncFormatter(lambda x1, loc: \"{:,}\".format(int(y1))))\n\n\n\n",
    "id": "2bd560a78fe7446eb27547a9855047b0",
    "idx": 31,
    "time": "2021-01-19T17:11:49.356Z",
    "type": "execution"
   },
   {
    "id": "2bd560a78fe7446eb27547a9855047b0",
    "time": "2021-01-19T17:11:49.956Z",
    "type": "completion"
   },
   {
    "code": "#Define the variables that you will plot in arrays\n\n#Figure 1\nx1 = property_df['pcnt_indu']\ny1 = property_df['price_000']\n\n#Figure 2\nx2 = property_df['pcnt_com']\ny2 = property_df['price_000']\n\n#Create your figure, and define the number of subplots within it\nfig, (ax1, ax2) = plt.subplots(1, 2, figsize = (15, 5))\n\n\n#Create first subplot\nax1.scatter(x1, y1, c = 'red', alpha = 0.3, s = 50)\nax1.set_xlabel('Percentage of Industrial Properties')\nax1.set_ylabel('Price')\n#Format y-axis number to include thousands separator\nax1.getyaxis().set_major_formatter(plt.FuncFormatter(lambda x1, loc: \"{:,}\".format(int(y1))))\n\n\n\n",
    "id": "2bd560a78fe7446eb27547a9855047b0",
    "idx": 31,
    "time": "2021-01-19T17:11:57.142Z",
    "type": "execution"
   },
   {
    "id": "2bd560a78fe7446eb27547a9855047b0",
    "time": "2021-01-19T17:11:57.989Z",
    "type": "completion"
   },
   {
    "code": "#Define the variables that you will plot in arrays\n\n#Figure 1\nx1 = property_df['pcnt_indu']\ny1 = property_df['price_000']\n\n#Figure 2\nx2 = property_df['pcnt_com']\ny2 = property_df['price_000']\n\n#Create your figure, and define the number of subplots within it\nfig, (ax1, ax2) = plt.subplots(1, 2, figsize = (15, 5))\n\n\n#Create first subplot\nax1.scatter(x1, y1, c = 'red', alpha = 0.3, s = 50)\nax1.set_xlabel('Percentage of Industrial Properties')\nax1.set_ylabel('Price')\n#Format y-axis number to include thousands separator\nax1.get_yaxis().set_major_formatter(plt.FuncFormatter(lambda x1, loc: \"{:,}\".format(int(y1))))\n\n\n\n",
    "id": "2bd560a78fe7446eb27547a9855047b0",
    "idx": 31,
    "time": "2021-01-19T17:12:15.958Z",
    "type": "execution"
   },
   {
    "id": "2bd560a78fe7446eb27547a9855047b0",
    "time": "2021-01-19T17:12:16.202Z",
    "type": "completion"
   },
   {
    "code": "#Define the variables that you will plot in arrays\n\n#Figure 1\nx1 = property_df['pcnt_indu']\ny1 = property_df['price_000']\n\n#Figure 2\nx2 = property_df['pcnt_com']\ny2 = property_df['price_000']\n\n#Create your figure, and define the number of subplots within it\nfig, (ax1, ax2) = plt.subplots(1, 2, figsize = (15, 5))\n\n\n#Create first subplot\nax1.scatter(x1, y1, c = 'red', alpha = 0.3, s = 50)\nax1.set_xlabel('Percentage of Industrial Properties')\nax1.set_ylabel('Price')\n#Format y-axis number to include thousands separator\nax1.get_yaxis().set_major_formatter(plt.FuncFormatter(lambda y1, loc: \"{:,}\".format(int(y1))))\n\n\n\n",
    "id": "2bd560a78fe7446eb27547a9855047b0",
    "idx": 31,
    "time": "2021-01-19T17:12:29.665Z",
    "type": "execution"
   },
   {
    "id": "2bd560a78fe7446eb27547a9855047b0",
    "time": "2021-01-19T17:12:30.269Z",
    "type": "completion"
   },
   {
    "code": "#Define the variables that you will plot in arrays\n\n#Figure 1\nx1 = property_df['pcnt_indu']\ny1 = property_df['price_000']\n\n#Figure 2\nx2 = property_df['pcnt_com']\ny2 = property_df['price_000']\n\n#Create your figure, and define the number of subplots within it\nfig, (ax1, ax2) = plt.subplots(1, 2, figsize = (15, 5))\n\n\n#Create first subplot\nax1.scatter(x1, y1, c = 'red', alpha = 0.3, s = 50)\nax1.set_xlabel('Percentage of Industrial Properties')\nax1.set_ylabel('Price')\n#Format y-axis number to include thousands separator\nax1.get_yaxis().set_major_formatter(plt.FuncFormatter(lambda y1, loc: \"{:,}\".format(int(y1))))\n\n#Create second subplot\nax2.scatter(x2, y2, c = 'orange', alpha = 0.3, s = 50)\n\n",
    "id": "2bd560a78fe7446eb27547a9855047b0",
    "idx": 31,
    "time": "2021-01-19T17:17:00.922Z",
    "type": "execution"
   },
   {
    "id": "2bd560a78fe7446eb27547a9855047b0",
    "time": "2021-01-19T17:17:01.470Z",
    "type": "completion"
   },
   {
    "code": "#Define the variables that you will plot in arrays\n\n#Figure 1\nx1 = property_df['pcnt_indu']\ny1 = property_df['price_000']\n\n#Figure 2\nx2 = property_df['pcnt_com']\ny2 = property_df['price_000']\n\n#Create your figure, and define the number of subplots within it\nfig, (ax1, ax2) = plt.subplots(1, 2, figsize = (15, 5))\n\n\n#Create first subplot\nax1.scatter(x1, y1, c = 'red', alpha = 0.3, s = 50)\nax1.set_xlabel('Percentage of Industrial Properties')\nax1.set_ylabel('Price')\n#Format y-axis number to include thousands separator\nax1.get_yaxis().set_major_formatter(plt.FuncFormatter(lambda y1, loc: \"{:,}\".format(int(y1))))\n\n#Create second subplot\nax2.scatter(x2, y2, c = 'orange', alpha = 0.3, s = 50)\nax2.set_xlabel('Percentage of Commercial Properties')\nax2.set_ylabel('Price')\nax2.get_yaxis().set_major_formatter(plt.FuncFormatter(lambda, y2, loc: \"{:,}\".format(int(y2))))\n\n#Create title for the overall figure\nplt.suptitle('Land Use and Property Prices')\n\nplt.show()",
    "id": "2bd560a78fe7446eb27547a9855047b0",
    "idx": 31,
    "time": "2021-01-19T17:20:25.098Z",
    "type": "execution"
   },
   {
    "id": "2bd560a78fe7446eb27547a9855047b0",
    "time": "2021-01-19T17:20:25.183Z",
    "type": "completion"
   },
   {
    "code": "#Define the variables that you will plot in arrays\n\n#Figure 1\nx1 = property_df['pcnt_indu']\ny1 = property_df['price_000']\n\n#Figure 2\nx2 = property_df['pcnt_com']\ny2 = property_df['price_000']\n\n#Create your figure, and define the number of subplots within it\nfig, (ax1, ax2) = plt.subplots(1, 2, figsize = (15, 5))\n\n\n#Create first subplot\nax1.scatter(x1, y1, c = 'red', alpha = 0.3, s = 50)\nax1.set_xlabel('Percentage of Industrial Properties')\nax1.set_ylabel('Price')\n#Format y-axis number to include thousands separator\nax1.get_yaxis().set_major_formatter(plt.FuncFormatter(lambda y1, loc: \"{:,}\".format(int(y1))))\n\n#Create second subplot\nax2.scatter(x2, y2, c = 'orange', alpha = 0.3, s = 50)\nax2.set_xlabel('Percentage of Commercial Properties')\nax2.set_ylabel('Price')\nax2.get_yaxis().set_major_formatter(plt.FuncFormatter(lambda y2, loc: \"{:,}\".format(int(y2))))\n\n#Create title for the overall figure\nplt.suptitle('Land Use and Property Prices')\n\nplt.show()",
    "id": "2bd560a78fe7446eb27547a9855047b0",
    "idx": 31,
    "time": "2021-01-19T17:20:40.208Z",
    "type": "execution"
   },
   {
    "id": "2bd560a78fe7446eb27547a9855047b0",
    "time": "2021-01-19T17:20:40.927Z",
    "type": "completion"
   },
   {
    "code": "\npropterty_df['pcnt_indu', 'price_000'].corr()",
    "id": "85ac90a2d7234b1888ed02c1bb6185d6",
    "idx": 32,
    "time": "2021-01-19T19:46:59.940Z",
    "type": "execution"
   },
   {
    "id": "85ac90a2d7234b1888ed02c1bb6185d6",
    "time": "2021-01-19T19:47:00.068Z",
    "type": "completion"
   },
   {
    "code": "import pandas as pd #to read and modify databases\nimport matplotlib.pyplot as plt #to plot graphs \nimport numpy as np #for numerical operations ",
    "id": "8a8a4830cd5748b4888e07f0a3801a2d",
    "idx": 1,
    "time": "2021-01-19T19:47:11.049Z",
    "type": "execution"
   },
   {
    "code": "df = pd.read_csv('data_augmented.csv')\ndf.head()",
    "id": "3ed60318d0ad45a6840395d0fc31cb5d",
    "idx": 3,
    "time": "2021-01-19T19:47:11.052Z",
    "type": "execution"
   },
   {
    "code": "df.isnull().sum()",
    "id": "fb8653e9fb5b4fe7802b800552f55d40",
    "idx": 6,
    "time": "2021-01-19T19:47:11.054Z",
    "type": "execution"
   },
   {
    "code": "#Number of null, and total observations \nnull_values = df.isnull().sum(axis = 1)\n\nnull_obs = len(df[null_values > 0])\n\nprint(null_obs, len(df))\ndf[null_values>0]",
    "id": "ec03c151a57f4909826ca0d7b4f7d3e2",
    "idx": 7,
    "time": "2021-01-19T19:47:11.058Z",
    "type": "execution"
   },
   {
    "code": "#Create a new dataframe without null values \nproperty_df = df.dropna().reset_index(drop = True)\nproperty_df.head()",
    "id": "1851ec620ba542b0a00587b765faf32c",
    "idx": 8,
    "time": "2021-01-19T19:47:11.060Z",
    "type": "execution"
   },
   {
    "code": "#A histogram of population density \nx = property_df['pop_dens']\nn_bins = 250 \nplt.hist(x, n_bins)\nplt.show()",
    "id": "625d04192d25459689021dc9bfda21b5",
    "idx": 11,
    "time": "2021-01-19T19:47:11.062Z",
    "type": "execution"
   },
   {
    "code": "#Define the variable we want to plot and number of bins\nx = property_df.pop_dens\nn_bins = 500\n\n#Define graph size (x, y) in inches \nplt.figure(figsize = (6, 4))\n\n#Define the histogram function from matplotlib\nplt.hist(x, n_bins)\n\n#Create axes labels and title\nplt.xlabel('Population Density [$\\mathregular{person/km^2}]$')\nplt.ylabel ('Frequency')\nplt.title ('Population Density')\n\n#Adjust labels to the figure area\nplt.tight_layout()\n\n#Save figure to project folder\nplt.savefig('pop_dens_hist.jpg')\n\nplt.show()",
    "id": "438a414b63504eee82e61c53df376d7f",
    "idx": 13,
    "time": "2021-01-19T19:47:11.063Z",
    "type": "execution"
   },
   {
    "code": "#Define the variable we want to plot and number of bins\nx = property_df.lnprice\nn_bins = 100\n\n#Define graph size (x, y) in inches \nplt.figure(figsize = (6, 4))\n\n#Define the histogram function from matplotlib\nplt.hist(x, n_bins)\n\n#Create axes labels and title\nplt.xlabel('Natural Log of Price (Colombian Peso)')\nplt.ylabel ('Frequency')\nplt.title ('Cost of Properties')\n\n#Adjust labels to the figure area\nplt.tight_layout()\n\n#Save figure to project folder\nplt.savefig('cost_hist.jpg')\n\nplt.show()",
    "id": "034ebc35263940ce88dc04e072b89b92",
    "idx": 14,
    "time": "2021-01-19T19:47:11.065Z",
    "type": "execution"
   },
   {
    "code": "#The size of each category of socioeconomic status \nproperty_df.groupby('ses').size()",
    "id": "903b7dee96244e11b8a1e93a73fe82de",
    "idx": 17,
    "time": "2021-01-19T19:47:11.068Z",
    "type": "execution"
   },
   {
    "code": "#Create a dummy for high socioeconomic status \nproperty_df['high_ses'] = np.where((property_df['ses'] == 5) |\n                                    (property_df['ses'] ==6), 1, 0)",
    "id": "9525479bb2e1435e8bdedfdf16804f5a",
    "idx": 18,
    "time": "2021-01-19T19:47:11.069Z",
    "type": "execution"
   },
   {
    "code": "property_df.groupby('high_ses').size()",
    "id": "ac31e3f031a8489bb5a9919139d1084d",
    "idx": 19,
    "time": "2021-01-19T19:47:11.071Z",
    "type": "execution"
   },
   {
    "code": "#Find the median of population density \npop_dens_med = np.median(property_df['pop_dens'])\npop_dens_med",
    "id": "8439ea7b3d1f426e860d2487c157372d",
    "idx": 21,
    "time": "2021-01-19T19:47:11.073Z",
    "type": "execution"
   },
   {
    "code": "#Create a binary density variable of the population\nproperty_df['pop_dens_dummy'] = np.where((property_df['pop_dens']\n                                         >= pop_dens_med), 1, 0)\nproperty_df.groupby('pop_dens_dummy').size()",
    "id": "6c08eee71c5d45548278a34b312555ae",
    "idx": 22,
    "time": "2021-01-19T19:47:11.074Z",
    "type": "execution"
   },
   {
    "code": "#The size of each category of number of bathrooms \nproperty_df.groupby('num_bath').size()",
    "id": "0ba1d30e061b425784723ca2d3942a8f",
    "idx": 24,
    "time": "2021-01-19T19:47:11.076Z",
    "type": "execution"
   },
   {
    "code": "#Recode the number of bathrooms variable\nproperty_df['num_bath_cat'] = np.where((property_df['num_bath']>=3), \n                              3, property_df['num_bath'])\nproperty_df.groupby('num_bath_cat').size()",
    "id": "97bbbb7f9974422e86c134d16c7566e1",
    "idx": 25,
    "time": "2021-01-19T19:47:11.077Z",
    "type": "execution"
   },
   {
    "code": "#list(property_df.columns.values)",
    "id": "a998cb0ea0b942ff8649a351c127f29c",
    "idx": 26,
    "time": "2021-01-19T19:47:11.079Z",
    "type": "execution"
   },
   {
    "code": "#property_df.dtypes",
    "id": "0b658b9937d34a0999bb2dcbc87dd4b2",
    "idx": 27,
    "time": "2021-01-19T19:47:11.080Z",
    "type": "execution"
   },
   {
    "code": "#Define the variables that you will plot in arrays\nx = property_df['pcnt_indu']\ny = property_df['price_000']\n\n#Make your scatter plot\nplt.scatter(x, y, c ='red', alpha = 0.3, s = 100)\nplt.xlabel('Percentage of Industrial Properties')\nplt.ylabel('Price')\nplt.title('Industrial Use and Property Prices')\n\nplt.show()",
    "id": "2ed3334568ec47158ce41b71e79465c1",
    "idx": 29,
    "time": "2021-01-19T19:47:11.081Z",
    "type": "execution"
   },
   {
    "code": "#Define the variables that you will plot in arrays\nx = property_df['area_m2']\ny = property_df['price_000']\n\n#Set the index upon which the plot color will be based\nc = x\n\n#Make your scatter plot\nplt.scatter(x, y, s = 50, alpha = 0.5, c = x, cmap = 'YlOrRd')\nplt.xlabel('Area $[\\mathregular{m^2}]$')\nplt.ylabel('Price')\nplt.title('Property Area and Prices')\n\nplt.show()",
    "id": "64f3414ae9c440fabdab66b4138d335a",
    "idx": 30,
    "time": "2021-01-19T19:47:11.083Z",
    "type": "execution"
   },
   {
    "code": "#Define the variables that you will plot in arrays\n\n#Figure 1\nx1 = property_df['pcnt_indu']\ny1 = property_df['price_000']\n\n#Figure 2\nx2 = property_df['pcnt_com']\ny2 = property_df['price_000']\n\n#Create your figure, and define the number of subplots within it\nfig, (ax1, ax2) = plt.subplots(1, 2, figsize = (15, 5))\n\n\n#Create first subplot\nax1.scatter(x1, y1, c = 'red', alpha = 0.3, s = 50)\nax1.set_xlabel('Percentage of Industrial Properties')\nax1.set_ylabel('Price')\n#Format y-axis number to include thousands separator\nax1.get_yaxis().set_major_formatter(plt.FuncFormatter(lambda y1, loc: \"{:,}\".format(int(y1))))\n\n#Create second subplot\nax2.scatter(x2, y2, c = 'orange', alpha = 0.3, s = 50)\nax2.set_xlabel('Percentage of Commercial Properties')\nax2.set_ylabel('Price')\nax2.get_yaxis().set_major_formatter(plt.FuncFormatter(lambda y2, loc: \"{:,}\".format(int(y2))))\n\n#Create title for the overall figure\nplt.suptitle('Land Use and Property Prices')\n\nplt.show()",
    "id": "10549dc0f48a43b6b7244dda461d625c",
    "idx": 31,
    "time": "2021-01-19T19:47:11.084Z",
    "type": "execution"
   },
   {
    "code": "\npropterty_df['pcnt_indu', 'price_000'].corr()",
    "id": "85ac90a2d7234b1888ed02c1bb6185d6",
    "idx": 32,
    "time": "2021-01-19T19:47:11.085Z",
    "type": "execution"
   },
   {
    "id": "8a8a4830cd5748b4888e07f0a3801a2d",
    "time": "2021-01-19T19:47:11.726Z",
    "type": "completion"
   },
   {
    "id": "3ed60318d0ad45a6840395d0fc31cb5d",
    "time": "2021-01-19T19:47:11.754Z",
    "type": "completion"
   },
   {
    "id": "fb8653e9fb5b4fe7802b800552f55d40",
    "time": "2021-01-19T19:47:11.773Z",
    "type": "completion"
   },
   {
    "id": "ec03c151a57f4909826ca0d7b4f7d3e2",
    "time": "2021-01-19T19:47:11.781Z",
    "type": "completion"
   },
   {
    "id": "1851ec620ba542b0a00587b765faf32c",
    "time": "2021-01-19T19:47:11.834Z",
    "type": "completion"
   },
   {
    "id": "625d04192d25459689021dc9bfda21b5",
    "time": "2021-01-19T19:47:12.364Z",
    "type": "completion"
   },
   {
    "id": "438a414b63504eee82e61c53df376d7f",
    "time": "2021-01-19T19:47:13.999Z",
    "type": "completion"
   },
   {
    "id": "034ebc35263940ce88dc04e072b89b92",
    "time": "2021-01-19T19:47:14.407Z",
    "type": "completion"
   },
   {
    "id": "903b7dee96244e11b8a1e93a73fe82de",
    "time": "2021-01-19T19:47:14.430Z",
    "type": "completion"
   },
   {
    "id": "9525479bb2e1435e8bdedfdf16804f5a",
    "time": "2021-01-19T19:47:14.431Z",
    "type": "completion"
   },
   {
    "id": "ac31e3f031a8489bb5a9919139d1084d",
    "time": "2021-01-19T19:47:14.433Z",
    "type": "completion"
   },
   {
    "id": "8439ea7b3d1f426e860d2487c157372d",
    "time": "2021-01-19T19:47:14.438Z",
    "type": "completion"
   },
   {
    "id": "6c08eee71c5d45548278a34b312555ae",
    "time": "2021-01-19T19:47:14.439Z",
    "type": "completion"
   },
   {
    "id": "0ba1d30e061b425784723ca2d3942a8f",
    "time": "2021-01-19T19:47:14.442Z",
    "type": "completion"
   },
   {
    "id": "97bbbb7f9974422e86c134d16c7566e1",
    "time": "2021-01-19T19:47:14.472Z",
    "type": "completion"
   },
   {
    "id": "a998cb0ea0b942ff8649a351c127f29c",
    "time": "2021-01-19T19:47:14.474Z",
    "type": "completion"
   },
   {
    "id": "0b658b9937d34a0999bb2dcbc87dd4b2",
    "time": "2021-01-19T19:47:14.476Z",
    "type": "completion"
   },
   {
    "id": "2ed3334568ec47158ce41b71e79465c1",
    "time": "2021-01-19T19:47:14.758Z",
    "type": "completion"
   },
   {
    "id": "64f3414ae9c440fabdab66b4138d335a",
    "time": "2021-01-19T19:47:14.986Z",
    "type": "completion"
   },
   {
    "id": "10549dc0f48a43b6b7244dda461d625c",
    "time": "2021-01-19T19:47:15.345Z",
    "type": "completion"
   },
   {
    "id": "85ac90a2d7234b1888ed02c1bb6185d6",
    "time": "2021-01-19T19:47:15.348Z",
    "type": "completion"
   },
   {
    "code": "property_df['pcnt_indu', 'price_000'].corr()",
    "id": "85ac90a2d7234b1888ed02c1bb6185d6",
    "idx": 32,
    "time": "2021-01-19T19:47:25.268Z",
    "type": "execution"
   },
   {
    "id": "85ac90a2d7234b1888ed02c1bb6185d6",
    "time": "2021-01-19T19:47:25.367Z",
    "type": "completion"
   },
   {
    "code": "cor_list = ['pcnt_indu', 'price_000']\nproperty_df[cor_list].corr()",
    "id": "85ac90a2d7234b1888ed02c1bb6185d6",
    "idx": 32,
    "time": "2021-01-19T19:48:00.561Z",
    "type": "execution"
   },
   {
    "id": "85ac90a2d7234b1888ed02c1bb6185d6",
    "time": "2021-01-19T19:48:00.634Z",
    "type": "completion"
   },
   {
    "code": "pearsonr(x, y)",
    "id": "cccb8937b091418a8fac4bca014b5fb9",
    "idx": 33,
    "time": "2021-01-19T19:48:40.640Z",
    "type": "execution"
   },
   {
    "id": "cccb8937b091418a8fac4bca014b5fb9",
    "time": "2021-01-19T19:48:40.720Z",
    "type": "completion"
   },
   {
    "code": "pearsonr(x, y)",
    "id": "cccb8937b091418a8fac4bca014b5fb9",
    "idx": 33,
    "time": "2021-01-19T19:48:54.498Z",
    "type": "execution"
   },
   {
    "id": "cccb8937b091418a8fac4bca014b5fb9",
    "time": "2021-01-19T19:48:54.579Z",
    "type": "completion"
   },
   {
    "code": "import numpy as np\nimport pandas as pd\nimport seaborn as sns\n\nimport matplotlib as mpl\nimport matplotlib.pyplot as plt\nfrom matplotlib.ticker import FuncFormatter\n\nimport statsmodels.api as sm\nfrom scipy.stats import pearsonr",
    "id": "8a8a4830cd5748b4888e07f0a3801a2d",
    "idx": 1,
    "time": "2021-01-19T19:49:07.544Z",
    "type": "execution"
   },
   {
    "id": "8a8a4830cd5748b4888e07f0a3801a2d",
    "time": "2021-01-19T19:49:08.471Z",
    "type": "completion"
   },
   {
    "code": "pearsonr(x, y)",
    "id": "cccb8937b091418a8fac4bca014b5fb9",
    "idx": 33,
    "time": "2021-01-19T19:49:11.864Z",
    "type": "execution"
   },
   {
    "id": "cccb8937b091418a8fac4bca014b5fb9",
    "time": "2021-01-19T19:49:11.927Z",
    "type": "completion"
   },
   {
    "code": "pearsonr(property_df['pcnt_indu'], property_df['price_000'])",
    "id": "cccb8937b091418a8fac4bca014b5fb9",
    "idx": 33,
    "time": "2021-01-19T19:50:25.728Z",
    "type": "execution"
   },
   {
    "id": "cccb8937b091418a8fac4bca014b5fb9",
    "time": "2021-01-19T19:50:25.846Z",
    "type": "completion"
   },
   {
    "code": "cor_list = ['area_m2', 'price_000']\nproperty_df[cor_list].corr()",
    "id": "85ac90a2d7234b1888ed02c1bb6185d6",
    "idx": 32,
    "time": "2021-01-19T19:51:04.357Z",
    "type": "execution"
   },
   {
    "id": "85ac90a2d7234b1888ed02c1bb6185d6",
    "time": "2021-01-19T19:51:04.446Z",
    "type": "completion"
   },
   {
    "code": "pearsonr(property_df['area_m2'], property_df['price_000'])",
    "id": "cccb8937b091418a8fac4bca014b5fb9",
    "idx": 33,
    "time": "2021-01-19T19:51:06.416Z",
    "type": "execution"
   },
   {
    "id": "cccb8937b091418a8fac4bca014b5fb9",
    "time": "2021-01-19T19:51:06.478Z",
    "type": "completion"
   },
   {
    "code": "cor_list = ['area_m2', 'price_000']\nproperty_df[cor_list].corr()",
    "id": "85ac90a2d7234b1888ed02c1bb6185d6",
    "idx": 32,
    "time": "2021-01-19T19:51:34.049Z",
    "type": "execution"
   },
   {
    "id": "85ac90a2d7234b1888ed02c1bb6185d6",
    "time": "2021-01-19T19:51:34.135Z",
    "type": "completion"
   },
   {
    "code": "pearsonr(x, y)",
    "id": "cccb8937b091418a8fac4bca014b5fb9",
    "idx": 33,
    "time": "2021-01-19T19:51:35.015Z",
    "type": "execution"
   },
   {
    "id": "cccb8937b091418a8fac4bca014b5fb9",
    "time": "2021-01-19T19:51:35.076Z",
    "type": "completion"
   },
   {
    "code": "x = property_df['area_m2']\ny = property_df['price_000']\ncor_list = ['area_m2', 'price_000']\nproperty_df[cor_list].corr()",
    "id": "85ac90a2d7234b1888ed02c1bb6185d6",
    "idx": 32,
    "time": "2021-01-19T19:52:52.473Z",
    "type": "execution"
   },
   {
    "id": "85ac90a2d7234b1888ed02c1bb6185d6",
    "time": "2021-01-19T19:52:52.535Z",
    "type": "completion"
   },
   {
    "code": "pearsonr(x, y)",
    "id": "cccb8937b091418a8fac4bca014b5fb9",
    "idx": 33,
    "time": "2021-01-19T19:52:53.633Z",
    "type": "execution"
   },
   {
    "id": "cccb8937b091418a8fac4bca014b5fb9",
    "time": "2021-01-19T19:52:53.682Z",
    "type": "completion"
   },
   {
    "code": "x = property_df['area_m2']^2\ny = property_df['price_000']\ncor_list = ['area_m2', 'price_000']\nproperty_df[cor_list].corr()",
    "id": "85ac90a2d7234b1888ed02c1bb6185d6",
    "idx": 32,
    "time": "2021-01-19T19:53:21.849Z",
    "type": "execution"
   },
   {
    "id": "85ac90a2d7234b1888ed02c1bb6185d6",
    "time": "2021-01-19T19:53:22.032Z",
    "type": "completion"
   },
   {
    "code": "x = property_df['area_m2']**2\ny = property_df['price_000']\ncor_list = ['area_m2', 'price_000']\nproperty_df[cor_list].corr()",
    "id": "85ac90a2d7234b1888ed02c1bb6185d6",
    "idx": 32,
    "time": "2021-01-19T19:54:13.653Z",
    "type": "execution"
   },
   {
    "id": "85ac90a2d7234b1888ed02c1bb6185d6",
    "time": "2021-01-19T19:54:13.732Z",
    "type": "completion"
   },
   {
    "code": "pearsonr(x, y)",
    "id": "cccb8937b091418a8fac4bca014b5fb9",
    "idx": 33,
    "time": "2021-01-19T19:54:17.937Z",
    "type": "execution"
   },
   {
    "id": "cccb8937b091418a8fac4bca014b5fb9",
    "time": "2021-01-19T19:54:17.991Z",
    "type": "completion"
   },
   {
    "code": "x = property_df['area_m2']**2\ny = property_df['price_000']\ncor_list = ['x', 'price_000']\nproperty_df[cor_list].corr()",
    "id": "85ac90a2d7234b1888ed02c1bb6185d6",
    "idx": 32,
    "time": "2021-01-19T19:54:33.934Z",
    "type": "execution"
   },
   {
    "id": "85ac90a2d7234b1888ed02c1bb6185d6",
    "time": "2021-01-19T19:54:34.031Z",
    "type": "completion"
   },
   {
    "code": "x = property_df['area_m2']**2\ny = property_df['price_000']\ncor_list = ['area_m2', 'price_000']\nproperty_df[cor_list].corr()",
    "id": "85ac90a2d7234b1888ed02c1bb6185d6",
    "idx": 32,
    "time": "2021-01-19T19:54:42.353Z",
    "type": "execution"
   },
   {
    "id": "85ac90a2d7234b1888ed02c1bb6185d6",
    "time": "2021-01-19T19:54:42.416Z",
    "type": "completion"
   },
   {
    "code": "x = property_df['area_m2']\ny = property_df['price_000']\ncor_list = ['area_m2', 'price_000']\nproperty_df[cor_list].corr()",
    "id": "85ac90a2d7234b1888ed02c1bb6185d6",
    "idx": 32,
    "time": "2021-01-19T19:54:46.897Z",
    "type": "execution"
   },
   {
    "id": "85ac90a2d7234b1888ed02c1bb6185d6",
    "time": "2021-01-19T19:54:46.973Z",
    "type": "completion"
   },
   {
    "code": "pearsonr(x, y)",
    "id": "cccb8937b091418a8fac4bca014b5fb9",
    "idx": 33,
    "time": "2021-01-19T19:54:47.521Z",
    "type": "execution"
   },
   {
    "id": "cccb8937b091418a8fac4bca014b5fb9",
    "time": "2021-01-19T19:54:47.571Z",
    "type": "completion"
   },
   {
    "code": "#Define independent and dependent variables \nx = property_df['ses']\ny = property_df['price_000']\n\n#Define list to run a pairwise correlation \ncor_list = ['ses', 'price_000']\nproperty_df[cor_list].corr()",
    "id": "85ac90a2d7234b1888ed02c1bb6185d6",
    "idx": 32,
    "time": "2021-01-19T19:58:10.856Z",
    "type": "execution"
   },
   {
    "id": "85ac90a2d7234b1888ed02c1bb6185d6",
    "time": "2021-01-19T19:58:10.922Z",
    "type": "completion"
   },
   {
    "code": "#Pearsonr function returns the correlation coefficient, and P-value\npearsonr(x, y)",
    "id": "cccb8937b091418a8fac4bca014b5fb9",
    "idx": 33,
    "time": "2021-01-19T19:58:11.634Z",
    "type": "execution"
   },
   {
    "id": "cccb8937b091418a8fac4bca014b5fb9",
    "time": "2021-01-19T19:58:11.698Z",
    "type": "completion"
   },
   {
    "code": "#Define independent and dependent variables \nx = property_df['high_ses']\ny = property_df['price_000']\n\n#Define list to run a pairwise correlation \ncor_list = ['high_ses', 'price_000']\nproperty_df[cor_list].corr()",
    "id": "85ac90a2d7234b1888ed02c1bb6185d6",
    "idx": 32,
    "time": "2021-01-19T19:59:02.508Z",
    "type": "execution"
   },
   {
    "id": "85ac90a2d7234b1888ed02c1bb6185d6",
    "time": "2021-01-19T19:59:02.576Z",
    "type": "completion"
   },
   {
    "code": "#Pearsonr function returns the correlation coefficient, and P-value\npearsonr(x, y)",
    "id": "cccb8937b091418a8fac4bca014b5fb9",
    "idx": 33,
    "time": "2021-01-19T19:59:04.837Z",
    "type": "execution"
   },
   {
    "id": "cccb8937b091418a8fac4bca014b5fb9",
    "time": "2021-01-19T19:59:04.888Z",
    "type": "completion"
   },
   {
    "code": "#Define independent and dependent variables \nx = property_df['pcnt_indu']\ny = property_df['price_000']\n\n#Define list to run a pairwise correlation \ncor_list = ['pcnt_indu', 'price_000']\nproperty_df[cor_list].corr()",
    "id": "85ac90a2d7234b1888ed02c1bb6185d6",
    "idx": 32,
    "time": "2021-01-19T19:59:54.410Z",
    "type": "execution"
   },
   {
    "id": "85ac90a2d7234b1888ed02c1bb6185d6",
    "time": "2021-01-19T19:59:54.487Z",
    "type": "completion"
   },
   {
    "code": "#Pearsonr function returns the correlation coefficient, and P-value\npearsonr(x, y)",
    "id": "cccb8937b091418a8fac4bca014b5fb9",
    "idx": 33,
    "time": "2021-01-19T19:59:55.090Z",
    "type": "execution"
   },
   {
    "id": "cccb8937b091418a8fac4bca014b5fb9",
    "time": "2021-01-19T19:59:55.149Z",
    "type": "completion"
   },
   {
    "code": "#Define independent and dependent variables \nx = property_df['pcnt_com']\ny = property_df['price_000']\n\n#Define list to run a pairwise correlation \ncor_list = ['pcnt_com', 'price_000']\nproperty_df[cor_list].corr()",
    "id": "85ac90a2d7234b1888ed02c1bb6185d6",
    "idx": 32,
    "time": "2021-01-19T20:00:19.042Z",
    "type": "execution"
   },
   {
    "id": "85ac90a2d7234b1888ed02c1bb6185d6",
    "time": "2021-01-19T20:00:19.137Z",
    "type": "completion"
   },
   {
    "code": "#Pearsonr function returns the correlation coefficient, and P-value\npearsonr(x, y)",
    "id": "cccb8937b091418a8fac4bca014b5fb9",
    "idx": 33,
    "time": "2021-01-19T20:00:21.333Z",
    "type": "execution"
   },
   {
    "id": "cccb8937b091418a8fac4bca014b5fb9",
    "time": "2021-01-19T20:00:21.401Z",
    "type": "completion"
   },
   {
    "code": "#Define independent and dependent variables \nx = property_df['pcnt_com']\ny = property_df['price_000']\n\n#Define list to run a pairwise correlation \ncor_list = ['pcnt_com', 'price_000']\nproperty_df[cor_list].corr()",
    "id": "85ac90a2d7234b1888ed02c1bb6185d6",
    "idx": 34,
    "time": "2021-01-19T20:03:31.245Z",
    "type": "execution"
   },
   {
    "id": "85ac90a2d7234b1888ed02c1bb6185d6",
    "time": "2021-01-19T20:03:31.320Z",
    "type": "completion"
   },
   {
    "code": "#Pearsonr function returns the correlation coefficient, and P-value\npearsonr(x, y)",
    "id": "cccb8937b091418a8fac4bca014b5fb9",
    "idx": 35,
    "time": "2021-01-19T20:03:35.373Z",
    "type": "execution"
   },
   {
    "id": "cccb8937b091418a8fac4bca014b5fb9",
    "time": "2021-01-19T20:03:35.428Z",
    "type": "completion"
   },
   {
    "code": "property_df.corr()",
    "id": "2c0f89fd054a4295b8d9ec81ad9f87d2",
    "idx": 37,
    "time": "2021-01-19T20:05:02.534Z",
    "type": "execution"
   },
   {
    "id": "2c0f89fd054a4295b8d9ec81ad9f87d2",
    "time": "2021-01-19T20:05:02.737Z",
    "type": "completion"
   },
   {
    "code": "cor_df = property_df[['price_000', 'pop_dens', 'ses', 'house', 'apt',\n                      'pcnt_indu', 'pcnt_com', 'pcn_green', 'homocides',\n                     'area_m2', 'high_ses', 'numb_bath', 'pop_dens_dummy']].copy()\n\n#Define independent and dependent variables \nx = cor_df['pcnt_com']\ny = cor_df['price_000']\n\n#Define list to run a pairwise correlation \ncor_list = ['pcnt_com', 'price_000']\ncor_df[cor_list].corr()",
    "id": "85ac90a2d7234b1888ed02c1bb6185d6",
    "idx": 34,
    "time": "2021-01-19T20:26:10.879Z",
    "type": "execution"
   },
   {
    "id": "85ac90a2d7234b1888ed02c1bb6185d6",
    "time": "2021-01-19T20:26:10.979Z",
    "type": "completion"
   },
   {
    "code": "property_df.dtypes",
    "id": "0b658b9937d34a0999bb2dcbc87dd4b2",
    "idx": 27,
    "time": "2021-01-19T20:26:47.213Z",
    "type": "execution"
   },
   {
    "id": "0b658b9937d34a0999bb2dcbc87dd4b2",
    "time": "2021-01-19T20:26:47.266Z",
    "type": "completion"
   },
   {
    "code": "cor_df = property_df[['price_000', 'pop_dens', 'ses', 'house', 'apt',\n                      'pcnt_indu', 'pcnt_com', 'pcn_green', 'homicides',\n                     'area_m2', 'high_ses', 'num_bath', 'pop_dens_dummy']].copy()\n\n#Define independent and dependent variables \nx = cor_df['pcnt_com']\ny = cor_df['price_000']\n\n#Define list to run a pairwise correlation \ncor_list = ['pcnt_com', 'price_000']\ncor_df[cor_list].corr()",
    "id": "85ac90a2d7234b1888ed02c1bb6185d6",
    "idx": 34,
    "time": "2021-01-19T20:26:57.731Z",
    "type": "execution"
   },
   {
    "id": "85ac90a2d7234b1888ed02c1bb6185d6",
    "time": "2021-01-19T20:26:57.825Z",
    "type": "completion"
   },
   {
    "code": "#Pearsonr function returns the correlation coefficient, and P-value\npearsonr(x, y)",
    "id": "cccb8937b091418a8fac4bca014b5fb9",
    "idx": 35,
    "time": "2021-01-19T20:27:01.195Z",
    "type": "execution"
   },
   {
    "id": "cccb8937b091418a8fac4bca014b5fb9",
    "time": "2021-01-19T20:27:01.246Z",
    "type": "completion"
   },
   {
    "code": "cor_df.corr()",
    "id": "2c0f89fd054a4295b8d9ec81ad9f87d2",
    "idx": 37,
    "time": "2021-01-19T20:27:03.620Z",
    "type": "execution"
   },
   {
    "id": "2c0f89fd054a4295b8d9ec81ad9f87d2",
    "time": "2021-01-19T20:27:03.723Z",
    "type": "completion"
   },
   {
    "code": "#Define independent variable, and include the intercept \nx = cor_df[['pcnt_indu']].assign(Intercept = 1)\n\n#Define dependent variable\ny = cor_df['pop_dens']\n\n#Run the regression\nsm.OLS(y, x, missing='drop').fit().summary2()",
    "id": "f6165e4e1159404f848bbb9979a57fa1",
    "idx": 39,
    "time": "2021-01-19T20:37:32.639Z",
    "type": "execution"
   },
   {
    "id": "f6165e4e1159404f848bbb9979a57fa1",
    "time": "2021-01-19T20:37:32.753Z",
    "type": "completion"
   },
   {
    "code": "#Define independent variable, and include the intercept \nx = cor_df[['pcnt_com']].assign(Intercept = 1)\n\n#Define dependent variable\ny = cor_df['price_000']\n\n#Run the regression\nsm.OLS(y, x, missing='drop').fit().summary2()",
    "id": "f6165e4e1159404f848bbb9979a57fa1",
    "idx": 39,
    "time": "2021-01-19T20:38:34.151Z",
    "type": "execution"
   },
   {
    "id": "f6165e4e1159404f848bbb9979a57fa1",
    "time": "2021-01-19T20:38:34.259Z",
    "type": "completion"
   },
   {
    "code": "#Define independent variable, and include the intercept \nx = cor_df[['pcnt_indu']].assign(Intercept = 1)\n\n#Define dependent variable\ny = cor_df['price_000']\n\n#Run the regression\nsm.OLS(y, x, missing='drop').fit().summary2()",
    "id": "f6165e4e1159404f848bbb9979a57fa1",
    "idx": 39,
    "time": "2021-01-19T20:38:55.065Z",
    "type": "execution"
   },
   {
    "id": "f6165e4e1159404f848bbb9979a57fa1",
    "time": "2021-01-19T20:38:55.185Z",
    "type": "completion"
   },
   {
    "code": "#Define independent variable, and include the intercept \nx = cor_df[['pcnt_indu']].assign(Intercept = 1)\n\n#Define dependent variable\ny = cor_df['pop_dens']\n\n#Run the regression\nsm.OLS(y, x, missing='drop').fit().summary2()",
    "id": "f6165e4e1159404f848bbb9979a57fa1",
    "idx": 39,
    "time": "2021-01-19T20:39:09.926Z",
    "type": "execution"
   },
   {
    "id": "f6165e4e1159404f848bbb9979a57fa1",
    "time": "2021-01-19T20:39:10.024Z",
    "type": "completion"
   },
   {
    "code": "import numpy as np\nimport pandas as pd\nimport seaborn as sns\n\nimport matplotlib as mpl\nimport matplotlib.pyplot as plt\nfrom matplotlib.ticker import FuncFormatter\n\nimport statsmodels.api as sm\nfrom scipy.stats import pearsonr",
    "id": "dd70399ab0ac4cda98042758168fee5c",
    "idx": 1,
    "time": "2021-01-19T23:50:46.915Z",
    "type": "execution"
   },
   {
    "code": "df = pd.read_csv('data_augmented.csv')\ndf.head()",
    "id": "a0042664cb4644e3824d43bbe236f9b6",
    "idx": 3,
    "time": "2021-01-19T23:50:46.922Z",
    "type": "execution"
   },
   {
    "code": "df.isnull().sum()",
    "id": "aacb4e6634814d498c4a0bfbe5ef6224",
    "idx": 6,
    "time": "2021-01-19T23:50:46.925Z",
    "type": "execution"
   },
   {
    "code": "#Number of null, and total observations \nnull_values = df.isnull().sum(axis = 1)\n\nnull_obs = len(df[null_values > 0])\n\nprint(null_obs, len(df))\ndf[null_values>0]",
    "id": "473aecaaaf1d47088542580a3d409b17",
    "idx": 7,
    "time": "2021-01-19T23:50:46.929Z",
    "type": "execution"
   },
   {
    "code": "#Create a new dataframe without null values \nproperty_df = df.dropna().reset_index(drop = True)\nproperty_df.head()",
    "id": "886dc53f87544eb18eecda02d682f94b",
    "idx": 8,
    "time": "2021-01-19T23:50:46.931Z",
    "type": "execution"
   },
   {
    "code": "#A histogram of population density \nx = property_df['pop_dens']\nn_bins = 250 \nplt.hist(x, n_bins)\nplt.show()",
    "id": "678263c60dce4562aef6a8d7f5147202",
    "idx": 11,
    "time": "2021-01-19T23:50:46.933Z",
    "type": "execution"
   },
   {
    "code": "#Define the variable we want to plot and number of bins\nx = property_df.pop_dens\nn_bins = 500\n\n#Define graph size (x, y) in inches \nplt.figure(figsize = (6, 4))\n\n#Define the histogram function from matplotlib\nplt.hist(x, n_bins)\n\n#Create axes labels and title\nplt.xlabel('Population Density [$\\mathregular{person/km^2}]$')\nplt.ylabel ('Frequency')\nplt.title ('Population Density')\n\n#Adjust labels to the figure area\nplt.tight_layout()\n\n#Save figure to project folder\nplt.savefig('pop_dens_hist.jpg')\n\nplt.show()",
    "id": "75a6e76aa1d94a32823cd1b79aa9360a",
    "idx": 13,
    "time": "2021-01-19T23:50:46.935Z",
    "type": "execution"
   },
   {
    "code": "#Define the variable we want to plot and number of bins\nx = property_df.lnprice\nn_bins = 100\n\n#Define graph size (x, y) in inches \nplt.figure(figsize = (6, 4))\n\n#Define the histogram function from matplotlib\nplt.hist(x, n_bins)\n\n#Create axes labels and title\nplt.xlabel('Natural Log of Price (Colombian Peso)')\nplt.ylabel ('Frequency')\nplt.title ('Cost of Properties')\n\n#Adjust labels to the figure area\nplt.tight_layout()\n\n#Save figure to project folder\nplt.savefig('cost_hist.jpg')\n\nplt.show()",
    "id": "c92ce4d284be47788e5aeb782b6c3306",
    "idx": 14,
    "time": "2021-01-19T23:50:46.937Z",
    "type": "execution"
   },
   {
    "code": "#The size of each category of socioeconomic status \nproperty_df.groupby('ses').size()",
    "id": "278b8c05996942c68992793778ad9eb4",
    "idx": 17,
    "time": "2021-01-19T23:50:46.939Z",
    "type": "execution"
   },
   {
    "code": "#Create a dummy for high socioeconomic status \nproperty_df['high_ses'] = np.where((property_df['ses'] == 5) |\n                                    (property_df['ses'] ==6), 1, 0)",
    "id": "dd718dbb61df42698ec8efbbc1060731",
    "idx": 18,
    "time": "2021-01-19T23:50:46.940Z",
    "type": "execution"
   },
   {
    "code": "property_df.groupby('high_ses').size()",
    "id": "d1ca5835bc684ad29aec57c1b7227e0e",
    "idx": 19,
    "time": "2021-01-19T23:50:46.942Z",
    "type": "execution"
   },
   {
    "code": "#Find the median of population density \npop_dens_med = np.median(property_df['pop_dens'])\npop_dens_med",
    "id": "1fd92acc9a4940189f3e25c30d93da13",
    "idx": 21,
    "time": "2021-01-19T23:50:46.944Z",
    "type": "execution"
   },
   {
    "code": "#Create a binary density variable of the population\nproperty_df['pop_dens_dummy'] = np.where((property_df['pop_dens']\n                                         >= pop_dens_med), 1, 0)\nproperty_df.groupby('pop_dens_dummy').size()",
    "id": "3e155c26d8bc4537bfadb2e5cc269e66",
    "idx": 22,
    "time": "2021-01-19T23:50:46.945Z",
    "type": "execution"
   },
   {
    "code": "#The size of each category of number of bathrooms \nproperty_df.groupby('num_bath').size()",
    "id": "6853dc0e156941ee8ccf1f574c24b349",
    "idx": 24,
    "time": "2021-01-19T23:50:46.947Z",
    "type": "execution"
   },
   {
    "code": "#Recode the number of bathrooms variable\nproperty_df['num_bath_cat'] = np.where((property_df['num_bath']>=3), \n                              3, property_df['num_bath'])\nproperty_df.groupby('num_bath_cat').size()",
    "id": "620ecee8935c4bed999f85a4d6dec52b",
    "idx": 25,
    "time": "2021-01-19T23:50:46.950Z",
    "type": "execution"
   },
   {
    "code": "#list(property_df.columns.values)",
    "id": "54ee719e157e43ec94c5e0ed24536e4e",
    "idx": 26,
    "time": "2021-01-19T23:50:46.952Z",
    "type": "execution"
   },
   {
    "code": "property_df.dtypes",
    "id": "298cd9288f02443a85dfae6108d7bc3d",
    "idx": 27,
    "time": "2021-01-19T23:50:46.954Z",
    "type": "execution"
   },
   {
    "code": "#Define the variables that you will plot in arrays\nx = property_df['pcnt_indu']\ny = property_df['price_000']\n\n#Make your scatter plot\nplt.scatter(x, y, c ='red', alpha = 0.3, s = 100)\nplt.xlabel('Percentage of Industrial Properties')\nplt.ylabel('Price')\nplt.title('Industrial Use and Property Prices')\n\nplt.show()",
    "id": "f0c11b670f4c4ddc8b60ba7d4740b169",
    "idx": 29,
    "time": "2021-01-19T23:50:46.956Z",
    "type": "execution"
   },
   {
    "code": "#Define the variables that you will plot in arrays\nx = property_df['area_m2']\ny = property_df['price_000']\n\n#Set the index upon which the plot color will be based\nc = x\n\n#Make your scatter plot\nplt.scatter(x, y, s = 50, alpha = 0.5, c = x, cmap = 'YlOrRd')\nplt.xlabel('Area $[\\mathregular{m^2}]$')\nplt.ylabel('Price')\nplt.title('Property Area and Prices')\n\nplt.show()",
    "id": "58292b333def4ffe9f230090e0c1a5e4",
    "idx": 30,
    "time": "2021-01-19T23:50:46.957Z",
    "type": "execution"
   },
   {
    "code": "#Define the variables that you will plot in arrays\n\n#Figure 1\nx1 = property_df['pcnt_indu']\ny1 = property_df['price_000']\n\n#Figure 2\nx2 = property_df['pcnt_com']\ny2 = property_df['price_000']\n\n#Create your figure, and define the number of subplots within it\nfig, (ax1, ax2) = plt.subplots(1, 2, figsize = (15, 5))\n\n\n#Create first subplot\nax1.scatter(x1, y1, c = 'red', alpha = 0.3, s = 50)\nax1.set_xlabel('Percentage of Industrial Properties')\nax1.set_ylabel('Price')\n#Format y-axis number to include thousands separator\nax1.get_yaxis().set_major_formatter(plt.FuncFormatter(lambda y1, loc: \"{:,}\".format(int(y1))))\n\n#Create second subplot\nax2.scatter(x2, y2, c = 'orange', alpha = 0.3, s = 50)\nax2.set_xlabel('Percentage of Commercial Properties')\nax2.set_ylabel('Price')\nax2.get_yaxis().set_major_formatter(plt.FuncFormatter(lambda y2, loc: \"{:,}\".format(int(y2))))\n\n#Create title for the overall figure\nplt.suptitle('Land Use and Property Prices')\n\nplt.show()",
    "id": "c899d0e4d73e4d118852d399cb1aae16",
    "idx": 31,
    "time": "2021-01-19T23:50:46.959Z",
    "type": "execution"
   },
   {
    "code": "#Create subset dataframe with variables of interest \ncor_df = property_df[['price_000', 'pop_dens', 'ses', 'house', 'apt',\n                      'pcnt_indu', 'pcnt_com', 'pcn_green', 'homicides',\n                     'area_m2', 'high_ses', 'num_bath', 'pop_dens_dummy']].copy()\n\n#Define independent and dependent variables \nx = cor_df['pcnt_com']\ny = cor_df['price_000']\n\n#Define list to run a pairwise correlation \ncor_list = ['pcnt_com', 'price_000']\ncor_df[cor_list].corr()",
    "id": "d1b70fb964184ce19b9d77c061c5d4bf",
    "idx": 34,
    "time": "2021-01-19T23:50:46.961Z",
    "type": "execution"
   },
   {
    "code": "#Pearsonr function returns the correlation coefficient, and P-value\npearsonr(x, y)",
    "id": "151e21f252704449815b1a6759476be0",
    "idx": 35,
    "time": "2021-01-19T23:50:46.962Z",
    "type": "execution"
   },
   {
    "code": "cor_df.corr()",
    "id": "da0271f52ee847c485c8e6b613078e6e",
    "idx": 37,
    "time": "2021-01-19T23:50:46.965Z",
    "type": "execution"
   },
   {
    "code": "#Define independent variable, and include the intercept \nx = cor_df[['pcnt_indu']].assign(Intercept = 1)\n\n#Define dependent variable\ny = cor_df['pop_dens']\n\n#Run the regression\nsm.OLS(y, x, missing='drop').fit().summary2()",
    "id": "f685759448ff43f787845107589483b8",
    "idx": 39,
    "time": "2021-01-19T23:50:46.967Z",
    "type": "execution"
   },
   {
    "id": "dd70399ab0ac4cda98042758168fee5c",
    "time": "2021-01-19T23:50:49.041Z",
    "type": "completion"
   },
   {
    "id": "a0042664cb4644e3824d43bbe236f9b6",
    "time": "2021-01-19T23:50:49.122Z",
    "type": "completion"
   },
   {
    "id": "aacb4e6634814d498c4a0bfbe5ef6224",
    "time": "2021-01-19T23:50:49.126Z",
    "type": "completion"
   },
   {
    "id": "473aecaaaf1d47088542580a3d409b17",
    "time": "2021-01-19T23:50:49.192Z",
    "type": "completion"
   },
   {
    "id": "886dc53f87544eb18eecda02d682f94b",
    "time": "2021-01-19T23:50:49.200Z",
    "type": "completion"
   },
   {
    "id": "678263c60dce4562aef6a8d7f5147202",
    "time": "2021-01-19T23:50:49.735Z",
    "type": "completion"
   },
   {
    "id": "75a6e76aa1d94a32823cd1b79aa9360a",
    "time": "2021-01-19T23:50:51.265Z",
    "type": "completion"
   },
   {
    "id": "c92ce4d284be47788e5aeb782b6c3306",
    "time": "2021-01-19T23:50:51.728Z",
    "type": "completion"
   },
   {
    "id": "278b8c05996942c68992793778ad9eb4",
    "time": "2021-01-19T23:50:51.734Z",
    "type": "completion"
   },
   {
    "id": "dd718dbb61df42698ec8efbbc1060731",
    "time": "2021-01-19T23:50:51.736Z",
    "type": "completion"
   },
   {
    "id": "d1ca5835bc684ad29aec57c1b7227e0e",
    "time": "2021-01-19T23:50:51.739Z",
    "type": "completion"
   },
   {
    "id": "1fd92acc9a4940189f3e25c30d93da13",
    "time": "2021-01-19T23:50:51.742Z",
    "type": "completion"
   },
   {
    "id": "3e155c26d8bc4537bfadb2e5cc269e66",
    "time": "2021-01-19T23:50:51.747Z",
    "type": "completion"
   },
   {
    "id": "6853dc0e156941ee8ccf1f574c24b349",
    "time": "2021-01-19T23:50:51.769Z",
    "type": "completion"
   },
   {
    "id": "620ecee8935c4bed999f85a4d6dec52b",
    "time": "2021-01-19T23:50:51.772Z",
    "type": "completion"
   },
   {
    "id": "54ee719e157e43ec94c5e0ed24536e4e",
    "time": "2021-01-19T23:50:51.779Z",
    "type": "completion"
   },
   {
    "id": "298cd9288f02443a85dfae6108d7bc3d",
    "time": "2021-01-19T23:50:51.780Z",
    "type": "completion"
   },
   {
    "id": "f0c11b670f4c4ddc8b60ba7d4740b169",
    "time": "2021-01-19T23:50:52.025Z",
    "type": "completion"
   },
   {
    "id": "58292b333def4ffe9f230090e0c1a5e4",
    "time": "2021-01-19T23:50:52.375Z",
    "type": "completion"
   },
   {
    "id": "c899d0e4d73e4d118852d399cb1aae16",
    "time": "2021-01-19T23:50:52.817Z",
    "type": "completion"
   },
   {
    "id": "d1b70fb964184ce19b9d77c061c5d4bf",
    "time": "2021-01-19T23:50:52.822Z",
    "type": "completion"
   },
   {
    "id": "151e21f252704449815b1a6759476be0",
    "time": "2021-01-19T23:50:52.826Z",
    "type": "completion"
   },
   {
    "id": "da0271f52ee847c485c8e6b613078e6e",
    "time": "2021-01-19T23:50:52.829Z",
    "type": "completion"
   },
   {
    "id": "f685759448ff43f787845107589483b8",
    "time": "2021-01-19T23:50:52.833Z",
    "type": "completion"
   },
   {
    "code": "#Define independent variable, and include the intercept \nx = cor_df[['pop_dens']].assign(Intercept = 1)\n\n#Define dependent variable\ny = cor_df['pcnt_indu']\n\n#Run the regression\nsm.OLS(y, x, missing='drop').fit().summary2()",
    "id": "f685759448ff43f787845107589483b8",
    "idx": 39,
    "time": "2021-01-19T23:52:02.027Z",
    "type": "execution"
   },
   {
    "id": "f685759448ff43f787845107589483b8",
    "time": "2021-01-19T23:52:02.118Z",
    "type": "completion"
   },
   {
    "code": "import numpy as np\nimport pandas as pd\nimport seaborn as sns\n\nimport matplotlib as mpl\nimport matplotlib.pyplot as plt\nfrom matplotlib.ticker import FuncFormatter\n\nimport statsmodels.api as sm\nfrom scipy.stats import pearsonr",
    "id": "758865815dfd4b2b875464d3f699fd69",
    "idx": 1,
    "time": "2021-01-20T14:41:43.798Z",
    "type": "execution"
   },
   {
    "code": "df = pd.read_csv('data_augmented.csv')\ndf.head()",
    "id": "b47d71d8d35145d1b81a91db9e928be4",
    "idx": 3,
    "time": "2021-01-20T14:41:43.803Z",
    "type": "execution"
   },
   {
    "code": "df.isnull().sum()",
    "id": "1326f2ba9b5c46e5853c91176b68d4a1",
    "idx": 6,
    "time": "2021-01-20T14:41:43.805Z",
    "type": "execution"
   },
   {
    "code": "#Number of null, and total observations \nnull_values = df.isnull().sum(axis = 1)\n\nnull_obs = len(df[null_values > 0])\n\nprint(null_obs, len(df))\ndf[null_values>0]",
    "id": "107935ce39d743ed8168a4b56cfa32da",
    "idx": 7,
    "time": "2021-01-20T14:41:43.807Z",
    "type": "execution"
   },
   {
    "code": "#Create a new dataframe without null values \nproperty_df = df.dropna().reset_index(drop = True)\nproperty_df.head()",
    "id": "95a2c9ae6801484384219fa93aa81a81",
    "idx": 8,
    "time": "2021-01-20T14:41:43.810Z",
    "type": "execution"
   },
   {
    "code": "#A histogram of population density \nx = property_df['pop_dens']\nn_bins = 250 \nplt.hist(x, n_bins)\nplt.show()",
    "id": "a0047e0f4d5e44d6953289463cae48b8",
    "idx": 11,
    "time": "2021-01-20T14:41:43.812Z",
    "type": "execution"
   },
   {
    "code": "#Define the variable we want to plot and number of bins\nx = property_df.pop_dens\nn_bins = 500\n\n#Define graph size (x, y) in inches \nplt.figure(figsize = (6, 4))\n\n#Define the histogram function from matplotlib\nplt.hist(x, n_bins)\n\n#Create axes labels and title\nplt.xlabel('Population Density [$\\mathregular{person/km^2}]$')\nplt.ylabel ('Frequency')\nplt.title ('Population Density')\n\n#Adjust labels to the figure area\nplt.tight_layout()\n\n#Save figure to project folder\nplt.savefig('pop_dens_hist.jpg')\n\nplt.show()",
    "id": "570e82e62a79476d8842741d3efa3b1b",
    "idx": 13,
    "time": "2021-01-20T14:41:43.814Z",
    "type": "execution"
   },
   {
    "code": "#Define the variable we want to plot and number of bins\nx = property_df.lnprice\nn_bins = 100\n\n#Define graph size (x, y) in inches \nplt.figure(figsize = (6, 4))\n\n#Define the histogram function from matplotlib\nplt.hist(x, n_bins)\n\n#Create axes labels and title\nplt.xlabel('Natural Log of Price (Colombian Peso)')\nplt.ylabel ('Frequency')\nplt.title ('Cost of Properties')\n\n#Adjust labels to the figure area\nplt.tight_layout()\n\n#Save figure to project folder\nplt.savefig('cost_hist.jpg')\n\nplt.show()",
    "id": "be57ba9f4de64773b985fbec6d3dcf2f",
    "idx": 14,
    "time": "2021-01-20T14:41:43.816Z",
    "type": "execution"
   },
   {
    "code": "#The size of each category of socioeconomic status \nproperty_df.groupby('ses').size()",
    "id": "92f09a7c44674000affd1a128f52656a",
    "idx": 17,
    "time": "2021-01-20T14:41:43.817Z",
    "type": "execution"
   },
   {
    "code": "#Create a dummy for high socioeconomic status \nproperty_df['high_ses'] = np.where((property_df['ses'] == 5) |\n                                    (property_df['ses'] ==6), 1, 0)",
    "id": "b86762dbdfa543e1a3d94f498b1f6936",
    "idx": 18,
    "time": "2021-01-20T14:41:43.819Z",
    "type": "execution"
   },
   {
    "code": "property_df.groupby('high_ses').size()",
    "id": "3c7d15566572484786ae2b67d54f9535",
    "idx": 19,
    "time": "2021-01-20T14:41:43.821Z",
    "type": "execution"
   },
   {
    "code": "#Find the median of population density \npop_dens_med = np.median(property_df['pop_dens'])\npop_dens_med",
    "id": "6f519e0701874f70b5b03f9dea5ce97e",
    "idx": 21,
    "time": "2021-01-20T14:41:43.822Z",
    "type": "execution"
   },
   {
    "code": "#Create a binary density variable of the population\nproperty_df['pop_dens_dummy'] = np.where((property_df['pop_dens']\n                                         >= pop_dens_med), 1, 0)\nproperty_df.groupby('pop_dens_dummy').size()",
    "id": "5f4d82026014449ab44b1e44f04595aa",
    "idx": 22,
    "time": "2021-01-20T14:41:43.824Z",
    "type": "execution"
   },
   {
    "code": "#The size of each category of number of bathrooms \nproperty_df.groupby('num_bath').size()",
    "id": "81c6a48407e04d1f8ba5747b69f583ec",
    "idx": 24,
    "time": "2021-01-20T14:41:43.825Z",
    "type": "execution"
   },
   {
    "code": "#Recode the number of bathrooms variable\nproperty_df['num_bath_cat'] = np.where((property_df['num_bath']>=3), \n                              3, property_df['num_bath'])\nproperty_df.groupby('num_bath_cat').size()",
    "id": "2d4dd2ed20b145158af9b1fcc4d54657",
    "idx": 25,
    "time": "2021-01-20T14:41:43.827Z",
    "type": "execution"
   },
   {
    "code": "#list(property_df.columns.values)",
    "id": "a5f5138334834761802909976c5a1d63",
    "idx": 26,
    "time": "2021-01-20T14:41:43.828Z",
    "type": "execution"
   },
   {
    "code": "property_df.dtypes",
    "id": "4da8924316a047b18afd0f14c7398a7f",
    "idx": 27,
    "time": "2021-01-20T14:41:43.829Z",
    "type": "execution"
   },
   {
    "code": "#Define the variables that you will plot in arrays\nx = property_df['pcnt_indu']\ny = property_df['price_000']\n\n#Make your scatter plot\nplt.scatter(x, y, c ='red', alpha = 0.3, s = 100)\nplt.xlabel('Percentage of Industrial Properties')\nplt.ylabel('Price')\nplt.title('Industrial Use and Property Prices')\n\nplt.show()",
    "id": "3f9f34850c744ca88e66fdf4c6a4a128",
    "idx": 29,
    "time": "2021-01-20T14:41:43.830Z",
    "type": "execution"
   },
   {
    "code": "#Define the variables that you will plot in arrays\nx = property_df['area_m2']\ny = property_df['price_000']\n\n#Set the index upon which the plot color will be based\nc = x\n\n#Make your scatter plot\nplt.scatter(x, y, s = 50, alpha = 0.5, c = x, cmap = 'YlOrRd')\nplt.xlabel('Area $[\\mathregular{m^2}]$')\nplt.ylabel('Price')\nplt.title('Property Area and Prices')\n\nplt.show()",
    "id": "e5c89562f2af453f9f138c66f4158ad9",
    "idx": 30,
    "time": "2021-01-20T14:41:43.831Z",
    "type": "execution"
   },
   {
    "code": "#Define the variables that you will plot in arrays\n\n#Figure 1\nx1 = property_df['pcnt_indu']\ny1 = property_df['price_000']\n\n#Figure 2\nx2 = property_df['pcnt_com']\ny2 = property_df['price_000']\n\n#Create your figure, and define the number of subplots within it\nfig, (ax1, ax2) = plt.subplots(1, 2, figsize = (15, 5))\n\n\n#Create first subplot\nax1.scatter(x1, y1, c = 'red', alpha = 0.3, s = 50)\nax1.set_xlabel('Percentage of Industrial Properties')\nax1.set_ylabel('Price')\n#Format y-axis number to include thousands separator\nax1.get_yaxis().set_major_formatter(plt.FuncFormatter(lambda y1, loc: \"{:,}\".format(int(y1))))\n\n#Create second subplot\nax2.scatter(x2, y2, c = 'orange', alpha = 0.3, s = 50)\nax2.set_xlabel('Percentage of Commercial Properties')\nax2.set_ylabel('Price')\nax2.get_yaxis().set_major_formatter(plt.FuncFormatter(lambda y2, loc: \"{:,}\".format(int(y2))))\n\n#Create title for the overall figure\nplt.suptitle('Land Use and Property Prices')\n\nplt.show()",
    "id": "a598fe99328b4f6fa43209ff268fab42",
    "idx": 31,
    "time": "2021-01-20T14:41:43.833Z",
    "type": "execution"
   },
   {
    "code": "#Create subset dataframe with variables of interest \ncor_df = property_df[['price_000', 'pop_dens', 'ses', 'house', 'apt',\n                      'pcnt_indu', 'pcnt_com', 'pcn_green', 'homicides',\n                     'area_m2', 'high_ses', 'num_bath', 'pop_dens_dummy']].copy()\n\n#Define independent and dependent variables \nx = cor_df['pcnt_com']\ny = cor_df['price_000']\n\n#Define list to run a pairwise correlation \ncor_list = ['pcnt_com', 'price_000']\ncor_df[cor_list].corr()",
    "id": "e04d40aacb754925b22471983b8b6a17",
    "idx": 34,
    "time": "2021-01-20T14:41:43.834Z",
    "type": "execution"
   },
   {
    "code": "#Pearsonr function returns the correlation coefficient, and P-value\npearsonr(x, y)",
    "id": "551ac09010b6406d8b9ad94935c4b575",
    "idx": 35,
    "time": "2021-01-20T14:41:43.836Z",
    "type": "execution"
   },
   {
    "code": "cor_df.corr()",
    "id": "82292011d1804acb8eb6a76a7c0d61f0",
    "idx": 37,
    "time": "2021-01-20T14:41:43.838Z",
    "type": "execution"
   },
   {
    "code": "#Define independent variable, and include the intercept \nx = cor_df[['pcnt_indu']].assign(Intercept = 1)\n\n#Define dependent variable\ny = cor_df['pop_dens']\n\n#Run the regression\nsm.OLS(y, x, missing='drop').fit().summary2()",
    "id": "52a3c34f13b8467b83997fd3f3e2cb21",
    "idx": 39,
    "time": "2021-01-20T14:41:43.840Z",
    "type": "execution"
   },
   {
    "id": "758865815dfd4b2b875464d3f699fd69",
    "time": "2021-01-20T14:41:45.380Z",
    "type": "completion"
   },
   {
    "id": "b47d71d8d35145d1b81a91db9e928be4",
    "time": "2021-01-20T14:41:45.385Z",
    "type": "completion"
   },
   {
    "id": "1326f2ba9b5c46e5853c91176b68d4a1",
    "time": "2021-01-20T14:41:45.417Z",
    "type": "completion"
   },
   {
    "id": "107935ce39d743ed8168a4b56cfa32da",
    "time": "2021-01-20T14:41:45.871Z",
    "type": "completion"
   },
   {
    "id": "95a2c9ae6801484384219fa93aa81a81",
    "time": "2021-01-20T14:41:45.930Z",
    "type": "completion"
   },
   {
    "id": "a0047e0f4d5e44d6953289463cae48b8",
    "time": "2021-01-20T14:41:45.954Z",
    "type": "completion"
   },
   {
    "id": "570e82e62a79476d8842741d3efa3b1b",
    "time": "2021-01-20T14:41:47.549Z",
    "type": "completion"
   },
   {
    "id": "be57ba9f4de64773b985fbec6d3dcf2f",
    "time": "2021-01-20T14:41:47.829Z",
    "type": "completion"
   },
   {
    "id": "92f09a7c44674000affd1a128f52656a",
    "time": "2021-01-20T14:41:47.832Z",
    "type": "completion"
   },
   {
    "id": "b86762dbdfa543e1a3d94f498b1f6936",
    "time": "2021-01-20T14:41:47.833Z",
    "type": "completion"
   },
   {
    "id": "3c7d15566572484786ae2b67d54f9535",
    "time": "2021-01-20T14:41:47.835Z",
    "type": "completion"
   },
   {
    "id": "6f519e0701874f70b5b03f9dea5ce97e",
    "time": "2021-01-20T14:41:47.866Z",
    "type": "completion"
   },
   {
    "id": "5f4d82026014449ab44b1e44f04595aa",
    "time": "2021-01-20T14:41:47.879Z",
    "type": "completion"
   },
   {
    "id": "81c6a48407e04d1f8ba5747b69f583ec",
    "time": "2021-01-20T14:41:47.883Z",
    "type": "completion"
   },
   {
    "id": "2d4dd2ed20b145158af9b1fcc4d54657",
    "time": "2021-01-20T14:41:47.903Z",
    "type": "completion"
   },
   {
    "id": "a5f5138334834761802909976c5a1d63",
    "time": "2021-01-20T14:41:47.904Z",
    "type": "completion"
   },
   {
    "id": "4da8924316a047b18afd0f14c7398a7f",
    "time": "2021-01-20T14:41:47.910Z",
    "type": "completion"
   },
   {
    "id": "3f9f34850c744ca88e66fdf4c6a4a128",
    "time": "2021-01-20T14:41:48.352Z",
    "type": "completion"
   },
   {
    "id": "e5c89562f2af453f9f138c66f4158ad9",
    "time": "2021-01-20T14:41:48.599Z",
    "type": "completion"
   },
   {
    "id": "a598fe99328b4f6fa43209ff268fab42",
    "time": "2021-01-20T14:41:49.042Z",
    "type": "completion"
   },
   {
    "id": "e04d40aacb754925b22471983b8b6a17",
    "time": "2021-01-20T14:41:49.046Z",
    "type": "completion"
   },
   {
    "id": "551ac09010b6406d8b9ad94935c4b575",
    "time": "2021-01-20T14:41:49.048Z",
    "type": "completion"
   },
   {
    "id": "82292011d1804acb8eb6a76a7c0d61f0",
    "time": "2021-01-20T14:41:49.101Z",
    "type": "completion"
   },
   {
    "id": "52a3c34f13b8467b83997fd3f3e2cb21",
    "time": "2021-01-20T14:41:49.105Z",
    "type": "completion"
   },
   {
    "code": "#Create a new dataframe without null values \nproperty_df = df.dropna().reset_index(drop = True)\nproperty_df.head()",
    "id": "21f8fe4f88434afe8d70dab0df1bca94",
    "idx": 8,
    "time": "2021-01-25T22:25:33.618Z",
    "type": "execution"
   },
   {
    "id": "21f8fe4f88434afe8d70dab0df1bca94",
    "time": "2021-01-25T22:25:33.736Z",
    "type": "completion"
   },
   {
    "code": "import numpy as np\nimport pandas as pd\nimport seaborn as sns\n\nimport matplotlib as mpl\nimport matplotlib.pyplot as plt\nfrom matplotlib.ticker import FuncFormatter\n\nimport statsmodels.api as sm\nfrom scipy.stats import pearsonr",
    "id": "9414fc3cc1164c598db3d2f9364c3427",
    "idx": 3,
    "time": "2021-01-31T20:25:25.497Z",
    "type": "execution"
   },
   {
    "id": "9414fc3cc1164c598db3d2f9364c3427",
    "time": "2021-01-31T20:25:26.827Z",
    "type": "completion"
   },
   {
    "code": "df = pd.read_csv('clean_property_data.csv')\ndf.head()",
    "id": "795fa54a7aa644558249dded8fcfd331",
    "idx": 5,
    "time": "2021-01-31T20:25:28.536Z",
    "type": "execution"
   },
   {
    "id": "795fa54a7aa644558249dded8fcfd331",
    "time": "2021-01-31T20:25:28.658Z",
    "type": "completion"
   },
   {
    "code": "df.info()",
    "id": "816fb870595a40de845095b7cd2b4f83",
    "idx": 6,
    "time": "2021-01-31T20:25:39.613Z",
    "type": "execution"
   },
   {
    "id": "816fb870595a40de845095b7cd2b4f83",
    "time": "2021-01-31T20:25:39.685Z",
    "type": "completion"
   },
   {
    "code": "df.dtypes()",
    "id": "816fb870595a40de845095b7cd2b4f83",
    "idx": 6,
    "time": "2021-01-31T20:26:32.859Z",
    "type": "execution"
   },
   {
    "id": "816fb870595a40de845095b7cd2b4f83",
    "time": "2021-01-31T20:26:33.052Z",
    "type": "completion"
   },
   {
    "code": "dtypes.df()",
    "id": "816fb870595a40de845095b7cd2b4f83",
    "idx": 6,
    "time": "2021-01-31T20:26:40.854Z",
    "type": "execution"
   },
   {
    "id": "816fb870595a40de845095b7cd2b4f83",
    "time": "2021-01-31T20:26:40.933Z",
    "type": "completion"
   },
   {
    "code": "dtypes.df",
    "id": "816fb870595a40de845095b7cd2b4f83",
    "idx": 6,
    "time": "2021-01-31T20:26:44.123Z",
    "type": "execution"
   },
   {
    "id": "816fb870595a40de845095b7cd2b4f83",
    "time": "2021-01-31T20:26:44.195Z",
    "type": "completion"
   },
   {
    "code": "dtype.df",
    "id": "816fb870595a40de845095b7cd2b4f83",
    "idx": 6,
    "time": "2021-01-31T20:26:47.360Z",
    "type": "execution"
   },
   {
    "id": "816fb870595a40de845095b7cd2b4f83",
    "time": "2021-01-31T20:26:47.421Z",
    "type": "completion"
   },
   {
    "code": "df.dtype",
    "id": "816fb870595a40de845095b7cd2b4f83",
    "idx": 6,
    "time": "2021-01-31T20:26:52.752Z",
    "type": "execution"
   },
   {
    "id": "816fb870595a40de845095b7cd2b4f83",
    "time": "2021-01-31T20:26:52.834Z",
    "type": "completion"
   },
   {
    "code": "df.dtype()",
    "id": "816fb870595a40de845095b7cd2b4f83",
    "idx": 6,
    "time": "2021-01-31T20:26:57.102Z",
    "type": "execution"
   },
   {
    "id": "816fb870595a40de845095b7cd2b4f83",
    "time": "2021-01-31T20:26:57.185Z",
    "type": "completion"
   },
   {
    "code": "df.dtypes",
    "id": "816fb870595a40de845095b7cd2b4f83",
    "idx": 6,
    "time": "2021-01-31T20:27:21.610Z",
    "type": "execution"
   },
   {
    "id": "816fb870595a40de845095b7cd2b4f83",
    "time": "2021-01-31T20:27:21.662Z",
    "type": "completion"
   },
   {
    "code": "df['id'] = df['id'].astype(str)\ndf.dtypes",
    "id": "cdda62f939d6439cacf3d4d1fa2f1012",
    "idx": 7,
    "time": "2021-01-31T20:28:38.014Z",
    "type": "execution"
   },
   {
    "id": "cdda62f939d6439cacf3d4d1fa2f1012",
    "time": "2021-01-31T20:28:38.088Z",
    "type": "completion"
   },
   {
    "code": "#Create subset dataframe with variables of interest \nproperty_df= df[['price_000', 'pop_dens', 'ses', 'house', 'apt',\n                      'pcnt_indu', 'pcnt_com', 'pcn_green', 'homicides',\n                     'area_m2', 'num_room']].copy()\n\n#Rename a few variables \nproperty_df.rename(columns ={'price_000': 'price',\n                             'num_room': 'rooms'}. inplace = True)",
    "id": "4de8f3338de447dcbe187337bc6f058e",
    "idx": 8,
    "time": "2021-01-31T20:33:41.129Z",
    "type": "execution"
   },
   {
    "id": "4de8f3338de447dcbe187337bc6f058e",
    "time": "2021-01-31T20:33:41.201Z",
    "type": "completion"
   },
   {
    "code": "#Create subset dataframe with variables of interest \nproperty_df= df[['price_000', 'pop_dens', 'ses', 'house', 'apt',\n                      'pcnt_indu', 'pcnt_com', 'pcn_green', 'homicides',\n                     'area_m2', 'num_room']].copy()\n\n#Rename a few variables \nproperty_df.rename(columns ={'price_000': 'price',\n                             'num_room': 'rooms'}, inplace = True)",
    "id": "4de8f3338de447dcbe187337bc6f058e",
    "idx": 8,
    "time": "2021-01-31T20:33:51.344Z",
    "type": "execution"
   },
   {
    "id": "4de8f3338de447dcbe187337bc6f058e",
    "time": "2021-01-31T20:33:51.403Z",
    "type": "completion"
   },
   {
    "code": "#A boxplot of population density \nx = property_df['pop_dens']\nplt.boxplot(x)\nplt.show()\n\n#A histogram of population density \nn_bins = 250 \nplt.hist(x, n_bins)\nplt.show()",
    "id": "c520f008d88e4019887921f42acb8461",
    "idx": 11,
    "time": "2021-01-31T20:36:50.788Z",
    "type": "execution"
   },
   {
    "id": "c520f008d88e4019887921f42acb8461",
    "time": "2021-01-31T20:36:51.561Z",
    "type": "completion"
   },
   {
    "code": "import numpy as np\nimport pandas as pd\nimport seaborn as sns\n\nimport matplotlib as mpl\nimport matplotlib.pyplot as plt\nfrom matplotlib.ticker import FuncFormatter\n\nimport statsmodels.api as sm\nfrom scipy.stats import pearsonr",
    "id": "9414fc3cc1164c598db3d2f9364c3427",
    "idx": 3,
    "time": "2021-01-31T20:41:03.400Z",
    "type": "execution"
   },
   {
    "code": "df = pd.read_csv('clean_property_data.csv')\ndf.head()",
    "id": "795fa54a7aa644558249dded8fcfd331",
    "idx": 5,
    "time": "2021-01-31T20:41:03.405Z",
    "type": "execution"
   },
   {
    "code": "df.dtypes",
    "id": "816fb870595a40de845095b7cd2b4f83",
    "idx": 6,
    "time": "2021-01-31T20:41:03.407Z",
    "type": "execution"
   },
   {
    "code": "df['id'] = df['id'].astype(str)\ndf.dtypes",
    "id": "cdda62f939d6439cacf3d4d1fa2f1012",
    "idx": 7,
    "time": "2021-01-31T20:41:03.408Z",
    "type": "execution"
   },
   {
    "code": "#Create subset dataframe with variables of interest \nproperty_df= df[['price_000', 'pop_dens', 'ses', 'house', 'apt',\n                      'pcnt_indu', 'pcnt_com', 'pcn_green', 'homicides',\n                     'area_m2', 'num_bath']].copy()\n\n#Rename a few variables \nproperty_df.rename(columns ={'price_000': 'price',\n                             'num_bath': 'bathrooms'}, inplace = True)",
    "id": "4de8f3338de447dcbe187337bc6f058e",
    "idx": 8,
    "time": "2021-01-31T20:41:03.410Z",
    "type": "execution"
   },
   {
    "code": "#A boxplot of population density \nx = property_df['pop_dens']\nplt.boxplot(x)\nplt.show()\n\n#A histogram of population density \nn_bins = 250 \nplt.hist(x, n_bins)\nplt.show()",
    "id": "c520f008d88e4019887921f42acb8461",
    "idx": 11,
    "time": "2021-01-31T20:41:03.412Z",
    "type": "execution"
   },
   {
    "code": "#Define the variable we want to plot and number of bins\nx = property_df.pop_dens\nn_bins = 500\n\n#Define graph size (x, y) in inches \nplt.figure(figsize = (6, 4))\n\n#Define the histogram function from matplotlib\nplt.hist(x, n_bins)\n\n#Create axes labels and title\nplt.xlabel('Population Density [$\\mathregular{person/km^2}]$')\nplt.ylabel ('Frequency')\nplt.title ('Population Density')\n\n#Adjust labels to the figure area\nplt.tight_layout()\n\n#Save figure to project folder\nplt.savefig('pop_dens_hist.jpg')\n\nplt.show()",
    "id": "d00999b4b07b4f858735ed8b96aa90a2",
    "idx": 13,
    "time": "2021-01-31T20:41:03.413Z",
    "type": "execution"
   },
   {
    "code": "#Define the variable we want to plot and number of bins\nx = property_df.lnprice\nn_bins = 100\n\n#Define graph size (x, y) in inches \nplt.figure(figsize = (6, 4))\n\n#Define the histogram function from matplotlib\nplt.hist(x, n_bins)\n\n#Create axes labels and title\nplt.xlabel('Natural Log of Price (Colombian Peso)')\nplt.ylabel ('Frequency')\nplt.title ('Cost of Properties')\n\n#Adjust labels to the figure area\nplt.tight_layout()\n\n#Save figure to project folder\nplt.savefig('cost_hist.jpg')\n\nplt.show()",
    "id": "6c6b6f2185ab4a3bbb0b50128f7bfb25",
    "idx": 14,
    "time": "2021-01-31T20:41:03.415Z",
    "type": "execution"
   },
   {
    "code": "#The size of each category of socioeconomic status \nproperty_df.groupby('ses').size()",
    "id": "ed8d39d41d8a4003bec31f5d0dfa7382",
    "idx": 17,
    "time": "2021-01-31T20:41:03.416Z",
    "type": "execution"
   },
   {
    "code": "#Create a dummy for high socioeconomic status \nproperty_df['high_ses'] = np.where((property_df['ses'] == 5) |\n                                    (property_df['ses'] ==6), 1, 0)",
    "id": "48d80463a1514d93b80534d3ec85f2c2",
    "idx": 18,
    "time": "2021-01-31T20:41:03.417Z",
    "type": "execution"
   },
   {
    "code": "property_df.groupby('high_ses').size()",
    "id": "6a9c557dce8349e080428f503260908e",
    "idx": 19,
    "time": "2021-01-31T20:41:03.418Z",
    "type": "execution"
   },
   {
    "code": "#Find the median of population density \npop_dens_med = np.median(property_df['pop_dens'])\npop_dens_med",
    "id": "277085f39f0644b78a7e39391cf3bed6",
    "idx": 21,
    "time": "2021-01-31T20:41:03.420Z",
    "type": "execution"
   },
   {
    "code": "#Create a binary density variable of the population\nproperty_df['pop_dens_dummy'] = np.where((property_df['pop_dens']\n                                         >= pop_dens_med), 1, 0)\nproperty_df.groupby('pop_dens_dummy').size()",
    "id": "7fca364b67284a76aa8084fc08755e74",
    "idx": 22,
    "time": "2021-01-31T20:41:03.421Z",
    "type": "execution"
   },
   {
    "code": "#The size of each category of number of bathrooms \nproperty_df.groupby('bathrooms').size()",
    "id": "994da2a559de4e75be8faeef3e88ad27",
    "idx": 24,
    "time": "2021-01-31T20:41:03.422Z",
    "type": "execution"
   },
   {
    "code": "#Recode the number of bathrooms variable\nproperty_df['bathrooms_cat'] = np.where((property_df['bathrooms']>=3), \n                              3, property_df['bathrooms'])\nproperty_df.groupby('bathrooms_cat').size()",
    "id": "bb7cf60ce88f48a391c9ba0c5a9c3b15",
    "idx": 25,
    "time": "2021-01-31T20:41:03.423Z",
    "type": "execution"
   },
   {
    "code": "#Define the variables that you will plot in arrays\nx = property_df['pcnt_indu']\ny = property_df['price']\n\n#Make your scatter plot\nplt.scatter(x, y, c ='red', alpha = 0.3, s = 100)\nplt.xlabel('Percentage of Industrial Properties')\nplt.ylabel('Price')\nplt.title('Industrial Use and Property Prices')\n\nplt.show()",
    "id": "cd1a5212d268408c9e48646c3d67d179",
    "idx": 27,
    "time": "2021-01-31T20:41:03.425Z",
    "type": "execution"
   },
   {
    "code": "#Define the variables that you will plot in arrays\nx = property_df['area_m2']\ny = property_df['price']\n\n#Set the index upon which the plot color will be based\nc = x\n\n#Make your scatter plot\nplt.scatter(x, y, s = 50, alpha = 0.5, c = x, cmap = 'YlOrRd')\nplt.xlabel('Area $[\\mathregular{m^2}]$')\nplt.ylabel('Price')\nplt.title('Property Area and Prices')\n\nplt.show()",
    "id": "ae9a7433c0174a2facf306f8ab834836",
    "idx": 28,
    "time": "2021-01-31T20:41:03.426Z",
    "type": "execution"
   },
   {
    "code": "#Define the variables that you will plot in arrays\n\n#Figure 1\nx1 = property_df['pcnt_indu']\ny1 = property_df['price']\n\n#Figure 2\nx2 = property_df['pcnt_com']\ny2 = property_df['price']\n\n#Create your figure, and define the number of subplots within it\nfig, (ax1, ax2) = plt.subplots(1, 2, figsize = (15, 5))\n\n\n#Create first subplot\nax1.scatter(x1, y1, c = 'red', alpha = 0.3, s = 50)\nax1.set_xlabel('Percentage of Industrial Properties')\nax1.set_ylabel('Price')\n#Format y-axis number to include thousands separator\nax1.get_yaxis().set_major_formatter(plt.FuncFormatter(lambda y1, loc: \"{:,}\".format(int(y1))))\n\n#Create second subplot\nax2.scatter(x2, y2, c = 'orange', alpha = 0.3, s = 50)\nax2.set_xlabel('Percentage of Commercial Properties')\nax2.set_ylabel('Price')\nax2.get_yaxis().set_major_formatter(plt.FuncFormatter(lambda y2, loc: \"{:,}\".format(int(y2))))\n\n#Create title for the overall figure\nplt.suptitle('Land Use and Property Prices')\n\nplt.show()",
    "id": "28b26082f9a5457c92bcda1086ef9a13",
    "idx": 29,
    "time": "2021-01-31T20:41:03.427Z",
    "type": "execution"
   },
   {
    "code": "#Define independent and dependent variables \nx = cor_df['pcnt_com']\ny = cor_df['price']\n\n#Define list to run a pairwise correlation \ncor_list = ['pcnt_com', 'price']\ncor_df[cor_list].corr()",
    "id": "f067e4b9f54c4807872f37fdcbc68ede",
    "idx": 32,
    "time": "2021-01-31T20:41:03.429Z",
    "type": "execution"
   },
   {
    "code": "#Pearsonr function returns the correlation coefficient, and P-value\npearsonr(x, y)",
    "id": "656ee7c0acb9410d9c76ad19c21111ae",
    "idx": 33,
    "time": "2021-01-31T20:41:03.430Z",
    "type": "execution"
   },
   {
    "code": "cor_df.corr()",
    "id": "5c2c8e97ec4a4b0c91bdba97fdd586f8",
    "idx": 35,
    "time": "2021-01-31T20:41:03.432Z",
    "type": "execution"
   },
   {
    "code": "#Define independent variable, and include the intercept \nx = cor_df[['pcnt_indu']].assign(Intercept = 1)\n\n#Define dependent variable\ny = cor_df['pop_dens']\n\n#Run the regression\nsm.OLS(y, x, missing='drop').fit().summary2()",
    "id": "b6627d797c3349199978c588c3d3463a",
    "idx": 37,
    "time": "2021-01-31T20:41:03.433Z",
    "type": "execution"
   },
   {
    "id": "9414fc3cc1164c598db3d2f9364c3427",
    "time": "2021-01-31T20:41:04.944Z",
    "type": "completion"
   },
   {
    "id": "795fa54a7aa644558249dded8fcfd331",
    "time": "2021-01-31T20:41:04.952Z",
    "type": "completion"
   },
   {
    "id": "816fb870595a40de845095b7cd2b4f83",
    "time": "2021-01-31T20:41:04.998Z",
    "type": "completion"
   },
   {
    "id": "cdda62f939d6439cacf3d4d1fa2f1012",
    "time": "2021-01-31T20:41:05.000Z",
    "type": "completion"
   },
   {
    "id": "4de8f3338de447dcbe187337bc6f058e",
    "time": "2021-01-31T20:41:05.006Z",
    "type": "completion"
   },
   {
    "id": "c520f008d88e4019887921f42acb8461",
    "time": "2021-01-31T20:41:05.441Z",
    "type": "completion"
   },
   {
    "id": "d00999b4b07b4f858735ed8b96aa90a2",
    "time": "2021-01-31T20:41:06.906Z",
    "type": "completion"
   },
   {
    "id": "6c6b6f2185ab4a3bbb0b50128f7bfb25",
    "time": "2021-01-31T20:41:06.978Z",
    "type": "completion"
   },
   {
    "id": "ed8d39d41d8a4003bec31f5d0dfa7382",
    "time": "2021-01-31T20:41:06.979Z",
    "type": "completion"
   },
   {
    "id": "48d80463a1514d93b80534d3ec85f2c2",
    "time": "2021-01-31T20:41:06.982Z",
    "type": "completion"
   },
   {
    "id": "6a9c557dce8349e080428f503260908e",
    "time": "2021-01-31T20:41:06.984Z",
    "type": "completion"
   },
   {
    "id": "277085f39f0644b78a7e39391cf3bed6",
    "time": "2021-01-31T20:41:07.011Z",
    "type": "completion"
   },
   {
    "id": "7fca364b67284a76aa8084fc08755e74",
    "time": "2021-01-31T20:41:07.013Z",
    "type": "completion"
   },
   {
    "id": "994da2a559de4e75be8faeef3e88ad27",
    "time": "2021-01-31T20:41:07.014Z",
    "type": "completion"
   },
   {
    "id": "bb7cf60ce88f48a391c9ba0c5a9c3b15",
    "time": "2021-01-31T20:41:07.015Z",
    "type": "completion"
   },
   {
    "id": "cd1a5212d268408c9e48646c3d67d179",
    "time": "2021-01-31T20:41:07.015Z",
    "type": "completion"
   },
   {
    "id": "ae9a7433c0174a2facf306f8ab834836",
    "time": "2021-01-31T20:41:07.015Z",
    "type": "completion"
   },
   {
    "id": "28b26082f9a5457c92bcda1086ef9a13",
    "time": "2021-01-31T20:41:07.016Z",
    "type": "completion"
   },
   {
    "id": "f067e4b9f54c4807872f37fdcbc68ede",
    "time": "2021-01-31T20:41:07.016Z",
    "type": "completion"
   },
   {
    "id": "656ee7c0acb9410d9c76ad19c21111ae",
    "time": "2021-01-31T20:41:07.016Z",
    "type": "completion"
   },
   {
    "id": "5c2c8e97ec4a4b0c91bdba97fdd586f8",
    "time": "2021-01-31T20:41:07.016Z",
    "type": "completion"
   },
   {
    "id": "b6627d797c3349199978c588c3d3463a",
    "time": "2021-01-31T20:41:07.039Z",
    "type": "completion"
   },
   {
    "code": "import numpy as np\nimport pandas as pd\nimport seaborn as sns\n\nimport matplotlib as mpl\nimport matplotlib.pyplot as plt\nfrom matplotlib.ticker import FuncFormatter\n\nimport statsmodels.api as sm\nfrom scipy.stats import pearsonr",
    "id": "9414fc3cc1164c598db3d2f9364c3427",
    "idx": 3,
    "time": "2021-01-31T20:41:48.552Z",
    "type": "execution"
   },
   {
    "code": "df = pd.read_csv('clean_property_data.csv')\ndf.head()",
    "id": "795fa54a7aa644558249dded8fcfd331",
    "idx": 5,
    "time": "2021-01-31T20:41:48.554Z",
    "type": "execution"
   },
   {
    "code": "df.dtypes",
    "id": "816fb870595a40de845095b7cd2b4f83",
    "idx": 6,
    "time": "2021-01-31T20:41:48.556Z",
    "type": "execution"
   },
   {
    "code": "df['id'] = df['id'].astype(str)\ndf.dtypes",
    "id": "cdda62f939d6439cacf3d4d1fa2f1012",
    "idx": 7,
    "time": "2021-01-31T20:41:48.557Z",
    "type": "execution"
   },
   {
    "code": "#Create subset dataframe with variables of interest \nproperty_df= df[['price_000', 'pop_dens', 'ses', 'house', 'apt',\n                      'pcnt_indu', 'pcnt_com', 'pcn_green', 'homicides',\n                     'area_m2', 'num_bath', 'lnprice']].copy()\n\n#Rename a few variables \nproperty_df.rename(columns ={'price_000': 'price',\n                             'num_bath': 'bathrooms'}, inplace = True)",
    "id": "4de8f3338de447dcbe187337bc6f058e",
    "idx": 8,
    "time": "2021-01-31T20:41:48.559Z",
    "type": "execution"
   },
   {
    "code": "#A boxplot of population density \nx = property_df['pop_dens']\nplt.boxplot(x)\nplt.show()\n\n#A histogram of population density \nn_bins = 250 \nplt.hist(x, n_bins)\nplt.show()",
    "id": "c520f008d88e4019887921f42acb8461",
    "idx": 11,
    "time": "2021-01-31T20:41:48.561Z",
    "type": "execution"
   },
   {
    "code": "#Define the variable we want to plot and number of bins\nx = property_df.pop_dens\nn_bins = 500\n\n#Define graph size (x, y) in inches \nplt.figure(figsize = (6, 4))\n\n#Define the histogram function from matplotlib\nplt.hist(x, n_bins)\n\n#Create axes labels and title\nplt.xlabel('Population Density [$\\mathregular{person/km^2}]$')\nplt.ylabel ('Frequency')\nplt.title ('Population Density')\n\n#Adjust labels to the figure area\nplt.tight_layout()\n\n#Save figure to project folder\nplt.savefig('pop_dens_hist.jpg')\n\nplt.show()",
    "id": "d00999b4b07b4f858735ed8b96aa90a2",
    "idx": 13,
    "time": "2021-01-31T20:41:48.562Z",
    "type": "execution"
   },
   {
    "code": "#Define the variable we want to plot and number of bins\nx = property_df.lnprice\nn_bins = 100\n\n#Define graph size (x, y) in inches \nplt.figure(figsize = (6, 4))\n\n#Define the histogram function from matplotlib\nplt.hist(x, n_bins)\n\n#Create axes labels and title\nplt.xlabel('Natural Log of Price (Colombian Peso)')\nplt.ylabel ('Frequency')\nplt.title ('Cost of Properties')\n\n#Adjust labels to the figure area\nplt.tight_layout()\n\n#Save figure to project folder\nplt.savefig('cost_hist.jpg')\n\nplt.show()",
    "id": "6c6b6f2185ab4a3bbb0b50128f7bfb25",
    "idx": 14,
    "time": "2021-01-31T20:41:48.564Z",
    "type": "execution"
   },
   {
    "code": "#The size of each category of socioeconomic status \nproperty_df.groupby('ses').size()",
    "id": "ed8d39d41d8a4003bec31f5d0dfa7382",
    "idx": 17,
    "time": "2021-01-31T20:41:48.566Z",
    "type": "execution"
   },
   {
    "code": "#Create a dummy for high socioeconomic status \nproperty_df['high_ses'] = np.where((property_df['ses'] == 5) |\n                                    (property_df['ses'] ==6), 1, 0)",
    "id": "48d80463a1514d93b80534d3ec85f2c2",
    "idx": 18,
    "time": "2021-01-31T20:41:48.567Z",
    "type": "execution"
   },
   {
    "code": "property_df.groupby('high_ses').size()",
    "id": "6a9c557dce8349e080428f503260908e",
    "idx": 19,
    "time": "2021-01-31T20:41:48.568Z",
    "type": "execution"
   },
   {
    "code": "#Find the median of population density \npop_dens_med = np.median(property_df['pop_dens'])\npop_dens_med",
    "id": "277085f39f0644b78a7e39391cf3bed6",
    "idx": 21,
    "time": "2021-01-31T20:41:48.569Z",
    "type": "execution"
   },
   {
    "code": "#Create a binary density variable of the population\nproperty_df['pop_dens_dummy'] = np.where((property_df['pop_dens']\n                                         >= pop_dens_med), 1, 0)\nproperty_df.groupby('pop_dens_dummy').size()",
    "id": "7fca364b67284a76aa8084fc08755e74",
    "idx": 22,
    "time": "2021-01-31T20:41:48.570Z",
    "type": "execution"
   },
   {
    "code": "#The size of each category of number of bathrooms \nproperty_df.groupby('bathrooms').size()",
    "id": "994da2a559de4e75be8faeef3e88ad27",
    "idx": 24,
    "time": "2021-01-31T20:41:48.572Z",
    "type": "execution"
   },
   {
    "code": "#Recode the number of bathrooms variable\nproperty_df['bathrooms_cat'] = np.where((property_df['bathrooms']>=3), \n                              3, property_df['bathrooms'])\nproperty_df.groupby('bathrooms_cat').size()",
    "id": "bb7cf60ce88f48a391c9ba0c5a9c3b15",
    "idx": 25,
    "time": "2021-01-31T20:41:48.573Z",
    "type": "execution"
   },
   {
    "code": "#Define the variables that you will plot in arrays\nx = property_df['pcnt_indu']\ny = property_df['price']\n\n#Make your scatter plot\nplt.scatter(x, y, c ='red', alpha = 0.3, s = 100)\nplt.xlabel('Percentage of Industrial Properties')\nplt.ylabel('Price')\nplt.title('Industrial Use and Property Prices')\n\nplt.show()",
    "id": "cd1a5212d268408c9e48646c3d67d179",
    "idx": 27,
    "time": "2021-01-31T20:41:48.574Z",
    "type": "execution"
   },
   {
    "code": "#Define the variables that you will plot in arrays\nx = property_df['area_m2']\ny = property_df['price']\n\n#Set the index upon which the plot color will be based\nc = x\n\n#Make your scatter plot\nplt.scatter(x, y, s = 50, alpha = 0.5, c = x, cmap = 'YlOrRd')\nplt.xlabel('Area $[\\mathregular{m^2}]$')\nplt.ylabel('Price')\nplt.title('Property Area and Prices')\n\nplt.show()",
    "id": "ae9a7433c0174a2facf306f8ab834836",
    "idx": 28,
    "time": "2021-01-31T20:41:48.576Z",
    "type": "execution"
   },
   {
    "code": "#Define the variables that you will plot in arrays\n\n#Figure 1\nx1 = property_df['pcnt_indu']\ny1 = property_df['price']\n\n#Figure 2\nx2 = property_df['pcnt_com']\ny2 = property_df['price']\n\n#Create your figure, and define the number of subplots within it\nfig, (ax1, ax2) = plt.subplots(1, 2, figsize = (15, 5))\n\n\n#Create first subplot\nax1.scatter(x1, y1, c = 'red', alpha = 0.3, s = 50)\nax1.set_xlabel('Percentage of Industrial Properties')\nax1.set_ylabel('Price')\n#Format y-axis number to include thousands separator\nax1.get_yaxis().set_major_formatter(plt.FuncFormatter(lambda y1, loc: \"{:,}\".format(int(y1))))\n\n#Create second subplot\nax2.scatter(x2, y2, c = 'orange', alpha = 0.3, s = 50)\nax2.set_xlabel('Percentage of Commercial Properties')\nax2.set_ylabel('Price')\nax2.get_yaxis().set_major_formatter(plt.FuncFormatter(lambda y2, loc: \"{:,}\".format(int(y2))))\n\n#Create title for the overall figure\nplt.suptitle('Land Use and Property Prices')\n\nplt.show()",
    "id": "28b26082f9a5457c92bcda1086ef9a13",
    "idx": 29,
    "time": "2021-01-31T20:41:48.577Z",
    "type": "execution"
   },
   {
    "code": "#Define independent and dependent variables \nx = cor_df['pcnt_com']\ny = cor_df['price']\n\n#Define list to run a pairwise correlation \ncor_list = ['pcnt_com', 'price']\ncor_df[cor_list].corr()",
    "id": "f067e4b9f54c4807872f37fdcbc68ede",
    "idx": 32,
    "time": "2021-01-31T20:41:48.579Z",
    "type": "execution"
   },
   {
    "code": "#Pearsonr function returns the correlation coefficient, and P-value\npearsonr(x, y)",
    "id": "656ee7c0acb9410d9c76ad19c21111ae",
    "idx": 33,
    "time": "2021-01-31T20:41:48.580Z",
    "type": "execution"
   },
   {
    "code": "cor_df.corr()",
    "id": "5c2c8e97ec4a4b0c91bdba97fdd586f8",
    "idx": 35,
    "time": "2021-01-31T20:41:48.582Z",
    "type": "execution"
   },
   {
    "code": "#Define independent variable, and include the intercept \nx = cor_df[['pcnt_indu']].assign(Intercept = 1)\n\n#Define dependent variable\ny = cor_df['pop_dens']\n\n#Run the regression\nsm.OLS(y, x, missing='drop').fit().summary2()",
    "id": "b6627d797c3349199978c588c3d3463a",
    "idx": 37,
    "time": "2021-01-31T20:41:48.583Z",
    "type": "execution"
   },
   {
    "id": "9414fc3cc1164c598db3d2f9364c3427",
    "time": "2021-01-31T20:41:49.875Z",
    "type": "completion"
   },
   {
    "id": "795fa54a7aa644558249dded8fcfd331",
    "time": "2021-01-31T20:41:49.881Z",
    "type": "completion"
   },
   {
    "id": "816fb870595a40de845095b7cd2b4f83",
    "time": "2021-01-31T20:41:49.921Z",
    "type": "completion"
   },
   {
    "id": "cdda62f939d6439cacf3d4d1fa2f1012",
    "time": "2021-01-31T20:41:49.923Z",
    "type": "completion"
   },
   {
    "id": "4de8f3338de447dcbe187337bc6f058e",
    "time": "2021-01-31T20:41:49.925Z",
    "type": "completion"
   },
   {
    "id": "c520f008d88e4019887921f42acb8461",
    "time": "2021-01-31T20:41:50.601Z",
    "type": "completion"
   },
   {
    "id": "d00999b4b07b4f858735ed8b96aa90a2",
    "time": "2021-01-31T20:41:52.139Z",
    "type": "completion"
   },
   {
    "id": "6c6b6f2185ab4a3bbb0b50128f7bfb25",
    "time": "2021-01-31T20:41:52.400Z",
    "type": "completion"
   },
   {
    "id": "ed8d39d41d8a4003bec31f5d0dfa7382",
    "time": "2021-01-31T20:41:52.403Z",
    "type": "completion"
   },
   {
    "id": "48d80463a1514d93b80534d3ec85f2c2",
    "time": "2021-01-31T20:41:52.419Z",
    "type": "completion"
   },
   {
    "id": "6a9c557dce8349e080428f503260908e",
    "time": "2021-01-31T20:41:52.429Z",
    "type": "completion"
   },
   {
    "id": "277085f39f0644b78a7e39391cf3bed6",
    "time": "2021-01-31T20:41:52.434Z",
    "type": "completion"
   },
   {
    "id": "7fca364b67284a76aa8084fc08755e74",
    "time": "2021-01-31T20:41:52.436Z",
    "type": "completion"
   },
   {
    "id": "994da2a559de4e75be8faeef3e88ad27",
    "time": "2021-01-31T20:41:52.453Z",
    "type": "completion"
   },
   {
    "id": "bb7cf60ce88f48a391c9ba0c5a9c3b15",
    "time": "2021-01-31T20:41:52.472Z",
    "type": "completion"
   },
   {
    "id": "cd1a5212d268408c9e48646c3d67d179",
    "time": "2021-01-31T20:41:52.729Z",
    "type": "completion"
   },
   {
    "id": "ae9a7433c0174a2facf306f8ab834836",
    "time": "2021-01-31T20:41:53.117Z",
    "type": "completion"
   },
   {
    "id": "28b26082f9a5457c92bcda1086ef9a13",
    "time": "2021-01-31T20:41:53.430Z",
    "type": "completion"
   },
   {
    "id": "f067e4b9f54c4807872f37fdcbc68ede",
    "time": "2021-01-31T20:41:53.433Z",
    "type": "completion"
   },
   {
    "id": "656ee7c0acb9410d9c76ad19c21111ae",
    "time": "2021-01-31T20:41:53.434Z",
    "type": "completion"
   },
   {
    "id": "5c2c8e97ec4a4b0c91bdba97fdd586f8",
    "time": "2021-01-31T20:41:53.435Z",
    "type": "completion"
   },
   {
    "id": "b6627d797c3349199978c588c3d3463a",
    "time": "2021-01-31T20:41:53.435Z",
    "type": "completion"
   },
   {
    "code": "#Define independent and dependent variables \nx = property_df['pcnt_com']\ny = property_df['price']\n\n#Define list to run a pairwise correlation \ncor_list = ['pcnt_com', 'price']\nproperty_df[cor_list].corr()",
    "id": "f067e4b9f54c4807872f37fdcbc68ede",
    "idx": 32,
    "time": "2021-01-31T20:43:46.709Z",
    "type": "execution"
   },
   {
    "id": "f067e4b9f54c4807872f37fdcbc68ede",
    "time": "2021-01-31T20:43:46.780Z",
    "type": "completion"
   },
   {
    "code": "import numpy as np\nimport pandas as pd\nimport seaborn as sns\n\nimport matplotlib as mpl\nimport matplotlib.pyplot as plt\nfrom matplotlib.ticker import FuncFormatter\n\nimport statsmodels.api as sm\nfrom scipy.stats import pearsonr",
    "id": "9414fc3cc1164c598db3d2f9364c3427",
    "idx": 3,
    "time": "2021-01-31T20:44:14.880Z",
    "type": "execution"
   },
   {
    "code": "df = pd.read_csv('clean_property_data.csv')\ndf.head()",
    "id": "795fa54a7aa644558249dded8fcfd331",
    "idx": 5,
    "time": "2021-01-31T20:44:14.882Z",
    "type": "execution"
   },
   {
    "code": "df.dtypes",
    "id": "816fb870595a40de845095b7cd2b4f83",
    "idx": 6,
    "time": "2021-01-31T20:44:14.884Z",
    "type": "execution"
   },
   {
    "code": "df['id'] = df['id'].astype(str)\ndf.dtypes",
    "id": "cdda62f939d6439cacf3d4d1fa2f1012",
    "idx": 7,
    "time": "2021-01-31T20:44:14.885Z",
    "type": "execution"
   },
   {
    "code": "#Create subset dataframe with variables of interest \nproperty_df= df[['price_000', 'pop_dens', 'ses', 'house', 'apt',\n                      'pcnt_indu', 'pcnt_com', 'pcn_green', 'homicides',\n                     'area_m2', 'num_bath', 'lnprice']].copy()\n\n#Rename a few variables \nproperty_df.rename(columns ={'price_000': 'price',\n                             'num_bath': 'bathrooms'}, inplace = True)",
    "id": "4de8f3338de447dcbe187337bc6f058e",
    "idx": 8,
    "time": "2021-01-31T20:44:14.886Z",
    "type": "execution"
   },
   {
    "code": "#A boxplot of population density \nx = property_df['pop_dens']\nplt.boxplot(x)\nplt.show()\n\n#A histogram of population density \nn_bins = 250 \nplt.hist(x, n_bins)\nplt.show()",
    "id": "c520f008d88e4019887921f42acb8461",
    "idx": 11,
    "time": "2021-01-31T20:44:14.888Z",
    "type": "execution"
   },
   {
    "code": "#Define the variable we want to plot and number of bins\nx = property_df.pop_dens\nn_bins = 500\n\n#Define graph size (x, y) in inches \nplt.figure(figsize = (6, 4))\n\n#Define the histogram function from matplotlib\nplt.hist(x, n_bins)\n\n#Create axes labels and title\nplt.xlabel('Population Density [$\\mathregular{person/km^2}]$')\nplt.ylabel ('Frequency')\nplt.title ('Population Density')\n\n#Adjust labels to the figure area\nplt.tight_layout()\n\n#Save figure to project folder\nplt.savefig('pop_dens_hist.jpg')\n\nplt.show()",
    "id": "d00999b4b07b4f858735ed8b96aa90a2",
    "idx": 13,
    "time": "2021-01-31T20:44:14.889Z",
    "type": "execution"
   },
   {
    "code": "#Define the variable we want to plot and number of bins\nx = property_df.lnprice\nn_bins = 100\n\n#Define graph size (x, y) in inches \nplt.figure(figsize = (6, 4))\n\n#Define the histogram function from matplotlib\nplt.hist(x, n_bins)\n\n#Create axes labels and title\nplt.xlabel('Natural Log of Price (Colombian Peso)')\nplt.ylabel ('Frequency')\nplt.title ('Cost of Properties')\n\n#Adjust labels to the figure area\nplt.tight_layout()\n\n#Save figure to project folder\nplt.savefig('cost_hist.jpg')\n\nplt.show()",
    "id": "6c6b6f2185ab4a3bbb0b50128f7bfb25",
    "idx": 14,
    "time": "2021-01-31T20:44:14.890Z",
    "type": "execution"
   },
   {
    "code": "#The size of each category of socioeconomic status \nproperty_df.groupby('ses').size()",
    "id": "ed8d39d41d8a4003bec31f5d0dfa7382",
    "idx": 17,
    "time": "2021-01-31T20:44:14.892Z",
    "type": "execution"
   },
   {
    "code": "#Create a dummy for high socioeconomic status \nproperty_df['high_ses'] = np.where((property_df['ses'] == 5) |\n                                    (property_df['ses'] ==6), 1, 0)",
    "id": "48d80463a1514d93b80534d3ec85f2c2",
    "idx": 18,
    "time": "2021-01-31T20:44:14.893Z",
    "type": "execution"
   },
   {
    "code": "property_df.groupby('high_ses').size()",
    "id": "6a9c557dce8349e080428f503260908e",
    "idx": 19,
    "time": "2021-01-31T20:44:14.894Z",
    "type": "execution"
   },
   {
    "code": "#Find the median of population density \npop_dens_med = np.median(property_df['pop_dens'])\npop_dens_med",
    "id": "277085f39f0644b78a7e39391cf3bed6",
    "idx": 21,
    "time": "2021-01-31T20:44:14.895Z",
    "type": "execution"
   },
   {
    "code": "#Create a binary density variable of the population\nproperty_df['pop_dens_dummy'] = np.where((property_df['pop_dens']\n                                         >= pop_dens_med), 1, 0)\nproperty_df.groupby('pop_dens_dummy').size()",
    "id": "7fca364b67284a76aa8084fc08755e74",
    "idx": 22,
    "time": "2021-01-31T20:44:14.896Z",
    "type": "execution"
   },
   {
    "code": "#The size of each category of number of bathrooms \nproperty_df.groupby('bathrooms').size()",
    "id": "994da2a559de4e75be8faeef3e88ad27",
    "idx": 24,
    "time": "2021-01-31T20:44:14.897Z",
    "type": "execution"
   },
   {
    "code": "#Recode the number of bathrooms variable\nproperty_df['bathrooms_cat'] = np.where((property_df['bathrooms']>=3), \n                              3, property_df['bathrooms'])\nproperty_df.groupby('bathrooms_cat').size()",
    "id": "bb7cf60ce88f48a391c9ba0c5a9c3b15",
    "idx": 25,
    "time": "2021-01-31T20:44:14.899Z",
    "type": "execution"
   },
   {
    "code": "#Define the variables that you will plot in arrays\nx = property_df['pcnt_indu']\ny = property_df['price']\n\n#Make your scatter plot\nplt.scatter(x, y, c ='red', alpha = 0.3, s = 100)\nplt.xlabel('Percentage of Industrial Properties')\nplt.ylabel('Price')\nplt.title('Industrial Use and Property Prices')\n\nplt.show()",
    "id": "cd1a5212d268408c9e48646c3d67d179",
    "idx": 27,
    "time": "2021-01-31T20:44:14.901Z",
    "type": "execution"
   },
   {
    "code": "#Define the variables that you will plot in arrays\nx = property_df['area_m2']\ny = property_df['price']\n\n#Set the index upon which the plot color will be based\nc = x\n\n#Make your scatter plot\nplt.scatter(x, y, s = 50, alpha = 0.5, c = x, cmap = 'YlOrRd')\nplt.xlabel('Area $[\\mathregular{m^2}]$')\nplt.ylabel('Price')\nplt.title('Property Area and Prices')\n\nplt.show()",
    "id": "ae9a7433c0174a2facf306f8ab834836",
    "idx": 28,
    "time": "2021-01-31T20:44:14.902Z",
    "type": "execution"
   },
   {
    "code": "#Define the variables that you will plot in arrays\n\n#Figure 1\nx1 = property_df['pcnt_indu']\ny1 = property_df['price']\n\n#Figure 2\nx2 = property_df['pcnt_com']\ny2 = property_df['price']\n\n#Create your figure, and define the number of subplots within it\nfig, (ax1, ax2) = plt.subplots(1, 2, figsize = (15, 5))\n\n\n#Create first subplot\nax1.scatter(x1, y1, c = 'red', alpha = 0.3, s = 50)\nax1.set_xlabel('Percentage of Industrial Properties')\nax1.set_ylabel('Price')\n#Format y-axis number to include thousands separator\nax1.get_yaxis().set_major_formatter(plt.FuncFormatter(lambda y1, loc: \"{:,}\".format(int(y1))))\n\n#Create second subplot\nax2.scatter(x2, y2, c = 'orange', alpha = 0.3, s = 50)\nax2.set_xlabel('Percentage of Commercial Properties')\nax2.set_ylabel('Price')\nax2.get_yaxis().set_major_formatter(plt.FuncFormatter(lambda y2, loc: \"{:,}\".format(int(y2))))\n\n#Create title for the overall figure\nplt.suptitle('Land Use and Property Prices')\n\nplt.show()",
    "id": "28b26082f9a5457c92bcda1086ef9a13",
    "idx": 29,
    "time": "2021-01-31T20:44:14.904Z",
    "type": "execution"
   },
   {
    "code": "#Define independent and dependent variables \nx = property_df['pcnt_com']\ny = property_df['price']\n\n#Define list to run a pairwise correlation \ncor_list = ['pcnt_com', 'price']\nproperty_df[cor_list].corr()",
    "id": "f067e4b9f54c4807872f37fdcbc68ede",
    "idx": 32,
    "time": "2021-01-31T20:44:14.905Z",
    "type": "execution"
   },
   {
    "code": "#Pearsonr function returns the correlation coefficient, and P-value\npearsonr(x, y)",
    "id": "656ee7c0acb9410d9c76ad19c21111ae",
    "idx": 33,
    "time": "2021-01-31T20:44:14.906Z",
    "type": "execution"
   },
   {
    "code": "property_df.corr()",
    "id": "5c2c8e97ec4a4b0c91bdba97fdd586f8",
    "idx": 35,
    "time": "2021-01-31T20:44:14.907Z",
    "type": "execution"
   },
   {
    "code": "#Define independent variable, and include the intercept \nx = property_df[['pcnt_indu']].assign(Intercept = 1)\n\n#Define dependent variable\ny = property_df['pop_dens']\n\n#Run the regression\nsm.OLS(y, x, missing='drop').fit().summary2()",
    "id": "b6627d797c3349199978c588c3d3463a",
    "idx": 37,
    "time": "2021-01-31T20:44:14.908Z",
    "type": "execution"
   },
   {
    "id": "9414fc3cc1164c598db3d2f9364c3427",
    "time": "2021-01-31T20:44:16.208Z",
    "type": "completion"
   },
   {
    "id": "795fa54a7aa644558249dded8fcfd331",
    "time": "2021-01-31T20:44:16.218Z",
    "type": "completion"
   },
   {
    "id": "816fb870595a40de845095b7cd2b4f83",
    "time": "2021-01-31T20:44:16.256Z",
    "type": "completion"
   },
   {
    "id": "cdda62f939d6439cacf3d4d1fa2f1012",
    "time": "2021-01-31T20:44:16.257Z",
    "type": "completion"
   },
   {
    "id": "4de8f3338de447dcbe187337bc6f058e",
    "time": "2021-01-31T20:44:16.272Z",
    "type": "completion"
   },
   {
    "id": "c520f008d88e4019887921f42acb8461",
    "time": "2021-01-31T20:44:16.828Z",
    "type": "completion"
   },
   {
    "id": "d00999b4b07b4f858735ed8b96aa90a2",
    "time": "2021-01-31T20:44:18.399Z",
    "type": "completion"
   },
   {
    "id": "6c6b6f2185ab4a3bbb0b50128f7bfb25",
    "time": "2021-01-31T20:44:18.912Z",
    "type": "completion"
   },
   {
    "id": "ed8d39d41d8a4003bec31f5d0dfa7382",
    "time": "2021-01-31T20:44:18.933Z",
    "type": "completion"
   },
   {
    "id": "48d80463a1514d93b80534d3ec85f2c2",
    "time": "2021-01-31T20:44:18.934Z",
    "type": "completion"
   },
   {
    "id": "6a9c557dce8349e080428f503260908e",
    "time": "2021-01-31T20:44:18.937Z",
    "type": "completion"
   },
   {
    "id": "277085f39f0644b78a7e39391cf3bed6",
    "time": "2021-01-31T20:44:18.940Z",
    "type": "completion"
   },
   {
    "id": "7fca364b67284a76aa8084fc08755e74",
    "time": "2021-01-31T20:44:18.941Z",
    "type": "completion"
   },
   {
    "id": "994da2a559de4e75be8faeef3e88ad27",
    "time": "2021-01-31T20:44:18.944Z",
    "type": "completion"
   },
   {
    "id": "bb7cf60ce88f48a391c9ba0c5a9c3b15",
    "time": "2021-01-31T20:44:18.945Z",
    "type": "completion"
   },
   {
    "id": "cd1a5212d268408c9e48646c3d67d179",
    "time": "2021-01-31T20:44:19.025Z",
    "type": "completion"
   },
   {
    "id": "ae9a7433c0174a2facf306f8ab834836",
    "time": "2021-01-31T20:44:19.441Z",
    "type": "completion"
   },
   {
    "id": "28b26082f9a5457c92bcda1086ef9a13",
    "time": "2021-01-31T20:44:19.900Z",
    "type": "completion"
   },
   {
    "id": "f067e4b9f54c4807872f37fdcbc68ede",
    "time": "2021-01-31T20:44:19.905Z",
    "type": "completion"
   },
   {
    "id": "656ee7c0acb9410d9c76ad19c21111ae",
    "time": "2021-01-31T20:44:19.923Z",
    "type": "completion"
   },
   {
    "id": "5c2c8e97ec4a4b0c91bdba97fdd586f8",
    "time": "2021-01-31T20:44:19.941Z",
    "type": "completion"
   },
   {
    "id": "b6627d797c3349199978c588c3d3463a",
    "time": "2021-01-31T20:44:19.947Z",
    "type": "completion"
   },
   {
    "code": "#Define the variables that you will plot in arrays\nx = property_df['area_m2']\ny = property_df['price']\n\n#Set the index upon which the plot color will be based\nc = x\n\n#Make your scatter plot\nplt.scatter(x, y, s = 50, alpha = 0.5, c = x, cmap = 'YlOrRd')\nplt.xlabel('Area $[\\mathregular{m^2}]$')\nplt.ylabel('Price')\nplt.title('Property Area and Prices')\n\nplt.show()",
    "id": "ae9a7433c0174a2facf306f8ab834836",
    "idx": 28,
    "time": "2021-01-31T20:51:12.719Z",
    "type": "execution"
   },
   {
    "id": "ae9a7433c0174a2facf306f8ab834836",
    "time": "2021-01-31T20:51:13.134Z",
    "type": "completion"
   },
   {
    "code": "reg_scatter(property_df, x, y, c=x)",
    "id": "72ef45d0271349758c59679b1b987f65",
    "idx": 29,
    "time": "2021-01-31T20:51:38.294Z",
    "type": "execution"
   },
   {
    "id": "72ef45d0271349758c59679b1b987f65",
    "time": "2021-01-31T20:51:38.591Z",
    "type": "completion"
   },
   {
    "code": "import numpy as np\nimport pandas as pd\nimport seaborn as sns\n\nimport matplotlib as mpl\nimport matplotlib.pyplot as plt\nfrom matplotlib.ticker import FuncFormatter\n\nimport statsmodels.api as sm\nfrom scipy.stats import pearsonr",
    "id": "9414fc3cc1164c598db3d2f9364c3427",
    "idx": 3,
    "time": "2021-01-31T20:52:16.126Z",
    "type": "execution"
   },
   {
    "id": "9414fc3cc1164c598db3d2f9364c3427",
    "time": "2021-01-31T20:52:16.192Z",
    "type": "completion"
   },
   {
    "code": "import numpy as np\nimport pandas as pd\nimport seaborn as sns\n\nimport matplotlib as mpl\nimport matplotlib.pyplot as plt\nfrom matplotlib.ticker import FuncFormatter\n\nimport statsmodels.api as sm\nfrom scipy.stats import pearsonr\nfrom seaborn import reg_scatter",
    "id": "9414fc3cc1164c598db3d2f9364c3427",
    "idx": 3,
    "time": "2021-01-31T20:53:27.315Z",
    "type": "execution"
   },
   {
    "id": "9414fc3cc1164c598db3d2f9364c3427",
    "time": "2021-01-31T20:53:27.388Z",
    "type": "completion"
   },
   {
    "code": "import numpy as np\nimport pandas as pd\nimport seaborn as sns\n\nimport matplotlib as mpl\nimport matplotlib.pyplot as plt\nfrom matplotlib.ticker import FuncFormatter\n\nimport statsmodels.api as sm\nfrom scipy.stats import pearsonr\nfrom seaborn import scatter",
    "id": "9414fc3cc1164c598db3d2f9364c3427",
    "idx": 3,
    "time": "2021-01-31T20:53:38.295Z",
    "type": "execution"
   },
   {
    "id": "9414fc3cc1164c598db3d2f9364c3427",
    "time": "2021-01-31T20:53:38.361Z",
    "type": "completion"
   },
   {
    "code": "import numpy as np\nimport pandas as pd\nimport seaborn as sns\n\nimport matplotlib as mpl\nimport matplotlib.pyplot as plt\nfrom matplotlib.ticker import FuncFormatter\n\nimport statsmodels.api as sm\nfrom scipy.stats import pearsonr\nimport seaborn",
    "id": "9414fc3cc1164c598db3d2f9364c3427",
    "idx": 3,
    "time": "2021-01-31T20:53:53.974Z",
    "type": "execution"
   },
   {
    "id": "9414fc3cc1164c598db3d2f9364c3427",
    "time": "2021-01-31T20:53:54.059Z",
    "type": "completion"
   },
   {
    "code": "reg_scatter(property_df, x, y, c=x)",
    "id": "72ef45d0271349758c59679b1b987f65",
    "idx": 29,
    "time": "2021-01-31T20:54:00.567Z",
    "type": "execution"
   },
   {
    "id": "72ef45d0271349758c59679b1b987f65",
    "time": "2021-01-31T20:54:00.636Z",
    "type": "completion"
   },
   {
    "code": "reg_scatter(property_df, x, y, color)",
    "id": "72ef45d0271349758c59679b1b987f65",
    "idx": 29,
    "time": "2021-01-31T20:54:09.212Z",
    "type": "execution"
   },
   {
    "id": "72ef45d0271349758c59679b1b987f65",
    "time": "2021-01-31T20:54:09.296Z",
    "type": "completion"
   },
   {
    "code": "#Define the variables that you will plot in arrays\nx = property_df['area_m2']\ny = property_df['price']\n\n#Set the index upon which the plot color will be based\nc = x\n\n#Make your scatter plot\nplt.scatter(x, y, s = 50, alpha = 0.5, c = x, cmap = 'YlOrRd')\nplt.xlabel('Area $[\\mathregular{m^2}]$')\nplt.ylabel('Price')\nplt.title('Property Area and Prices')\n\nplt.show()",
    "id": "ae9a7433c0174a2facf306f8ab834836",
    "idx": 28,
    "time": "2021-01-31T20:54:28.460Z",
    "type": "execution"
   },
   {
    "id": "ae9a7433c0174a2facf306f8ab834836",
    "time": "2021-01-31T20:54:28.883Z",
    "type": "completion"
   },
   {
    "code": "reg_scatter(property_df, x, y, color)",
    "id": "72ef45d0271349758c59679b1b987f65",
    "idx": 29,
    "time": "2021-01-31T20:54:29.911Z",
    "type": "execution"
   },
   {
    "id": "72ef45d0271349758c59679b1b987f65",
    "time": "2021-01-31T20:54:29.976Z",
    "type": "completion"
   },
   {
    "code": "sns.regplot(x = 'area_m2', y = 'price', data = property_df)",
    "id": "72ef45d0271349758c59679b1b987f65",
    "idx": 29,
    "time": "2021-01-31T20:59:37.782Z",
    "type": "execution"
   },
   {
    "id": "72ef45d0271349758c59679b1b987f65",
    "time": "2021-01-31T20:59:38.569Z",
    "type": "completion"
   },
   {
    "code": "sns.regplot(x = 'area_m2', y = 'price', data = property_df, hue = 'species')",
    "id": "72ef45d0271349758c59679b1b987f65",
    "idx": 29,
    "time": "2021-01-31T21:01:15.379Z",
    "type": "execution"
   },
   {
    "id": "72ef45d0271349758c59679b1b987f65",
    "time": "2021-01-31T21:01:15.480Z",
    "type": "completion"
   },
   {
    "code": "sns.regplot(x = 'area_m2', y = 'price', data = property_df, palette = 'red')",
    "id": "72ef45d0271349758c59679b1b987f65",
    "idx": 29,
    "time": "2021-01-31T21:02:34.319Z",
    "type": "execution"
   },
   {
    "id": "72ef45d0271349758c59679b1b987f65",
    "time": "2021-01-31T21:02:34.410Z",
    "type": "completion"
   },
   {
    "code": "sns.regplot(x = 'area_m2', y = 'price', data = property_df, palette = []'red'])",
    "id": "72ef45d0271349758c59679b1b987f65",
    "idx": 29,
    "time": "2021-01-31T21:02:41.425Z",
    "type": "execution"
   },
   {
    "id": "72ef45d0271349758c59679b1b987f65",
    "time": "2021-01-31T21:02:41.482Z",
    "type": "completion"
   },
   {
    "code": "sns.regplot(x = 'area_m2', y = 'price', data = property_df, palette = ['red'])",
    "id": "72ef45d0271349758c59679b1b987f65",
    "idx": 29,
    "time": "2021-01-31T21:02:47.440Z",
    "type": "execution"
   },
   {
    "id": "72ef45d0271349758c59679b1b987f65",
    "time": "2021-01-31T21:02:47.503Z",
    "type": "completion"
   },
   {
    "code": "sns.regplot(x = 'area_m2', y = 'price', data = property_df, line_kws = {'color':'red'})",
    "id": "72ef45d0271349758c59679b1b987f65",
    "idx": 29,
    "time": "2021-01-31T21:03:44.418Z",
    "type": "execution"
   },
   {
    "id": "72ef45d0271349758c59679b1b987f65",
    "time": "2021-01-31T21:03:45.012Z",
    "type": "completion"
   },
   {
    "code": "sns.regplot(x = 'area_m2', y = 'price', data = property_df, \n            scatter_kws = {'color': 'blue'}, line_kws = {'color':'red'})",
    "id": "72ef45d0271349758c59679b1b987f65",
    "idx": 29,
    "time": "2021-01-31T21:04:41.859Z",
    "type": "execution"
   },
   {
    "id": "72ef45d0271349758c59679b1b987f65",
    "time": "2021-01-31T21:04:42.434Z",
    "type": "completion"
   },
   {
    "code": "sns.regplot(x = 'area_m2', y = 'price', data = property_df, \n            scatter_kws = {'color': 'blue'}, line_kws = {'color':'red'})\n\nplt.ylabel('Price')\nplt.title('Property Area and Prices')\nplt.show()",
    "id": "72ef45d0271349758c59679b1b987f65",
    "idx": 29,
    "time": "2021-01-31T21:09:29.115Z",
    "type": "execution"
   },
   {
    "id": "72ef45d0271349758c59679b1b987f65",
    "time": "2021-01-31T21:09:29.712Z",
    "type": "completion"
   },
   {
    "code": "sns.regplot(x = 'area_m2', y = 'price', data = property_df, \n            scatter_kws = {'color': 'blue'}, line_kws = {'color':'red'})\n\nplt.xlabel('Area $[\\mathregular{m^2}]$')\nplt.ylabel('Price')\nplt.show()",
    "id": "72ef45d0271349758c59679b1b987f65",
    "idx": 29,
    "time": "2021-01-31T21:09:53.198Z",
    "type": "execution"
   },
   {
    "id": "72ef45d0271349758c59679b1b987f65",
    "time": "2021-01-31T21:09:53.809Z",
    "type": "completion"
   },
   {
    "code": "import numpy as np\nimport pandas as pd\nimport seaborn as sns\n\nimport matplotlib as mpl\nimport matplotlib.pyplot as plt\nfrom matplotlib.ticker import FuncFormatter\n\nimport statsmodels.api as sm\nfrom scipy.stats import pearsonr",
    "id": "9414fc3cc1164c598db3d2f9364c3427",
    "idx": 3,
    "time": "2021-01-31T21:13:53.792Z",
    "type": "execution"
   },
   {
    "code": "df = pd.read_csv('clean_property_data.csv')\ndf.head()",
    "id": "795fa54a7aa644558249dded8fcfd331",
    "idx": 5,
    "time": "2021-01-31T21:13:53.796Z",
    "type": "execution"
   },
   {
    "code": "df.dtypes",
    "id": "816fb870595a40de845095b7cd2b4f83",
    "idx": 6,
    "time": "2021-01-31T21:13:53.798Z",
    "type": "execution"
   },
   {
    "code": "df['id'] = df['id'].astype(str)\ndf.dtypes",
    "id": "cdda62f939d6439cacf3d4d1fa2f1012",
    "idx": 7,
    "time": "2021-01-31T21:13:53.799Z",
    "type": "execution"
   },
   {
    "code": "#Create subset dataframe with variables of interest \nproperty_df= df[['price_000', 'pop_dens', 'ses', 'house', 'apt',\n                      'pcnt_indu', 'pcnt_com', 'pcn_green', 'homicides',\n                     'area_m2', 'num_bath', 'lnprice']].copy()\n\n#Rename a few variables \nproperty_df.rename(columns ={'price_000': 'price',\n                             'num_bath': 'bathrooms'}, inplace = True)",
    "id": "4de8f3338de447dcbe187337bc6f058e",
    "idx": 8,
    "time": "2021-01-31T21:13:53.800Z",
    "type": "execution"
   },
   {
    "code": "#A boxplot of population density \nx = property_df['pop_dens']\nplt.boxplot(x)\nplt.show()\n\n#A histogram of population density \nn_bins = 250 \nplt.hist(x, n_bins)\nplt.show()",
    "id": "c520f008d88e4019887921f42acb8461",
    "idx": 11,
    "time": "2021-01-31T21:13:53.802Z",
    "type": "execution"
   },
   {
    "code": "#Define the variable we want to plot and number of bins\nx = property_df.pop_dens\nn_bins = 500\n\n#Define graph size (x, y) in inches \nplt.figure(figsize = (6, 4))\n\n#Define the histogram function from matplotlib\nplt.hist(x, n_bins)\n\n#Create axes labels and title\nplt.xlabel('Population Density [$\\mathregular{person/km^2}]$')\nplt.ylabel ('Frequency')\nplt.title ('Population Density')\n\n#Adjust labels to the figure area\nplt.tight_layout()\n\n#Save figure to project folder\nplt.savefig('pop_dens_hist.jpg')\n\nplt.show()",
    "id": "d00999b4b07b4f858735ed8b96aa90a2",
    "idx": 13,
    "time": "2021-01-31T21:13:53.804Z",
    "type": "execution"
   },
   {
    "code": "#Define the variable we want to plot and number of bins\nx = property_df.lnprice\nn_bins = 100\n\n#Define graph size (x, y) in inches \nplt.figure(figsize = (6, 4))\n\n#Define the histogram function from matplotlib\nplt.hist(x, n_bins)\n\n#Create axes labels and title\nplt.xlabel('Natural Log of Price (Colombian Peso)')\nplt.ylabel ('Frequency')\nplt.title ('Cost of Properties')\n\n#Adjust labels to the figure area\nplt.tight_layout()\n\n#Save figure to project folder\nplt.savefig('cost_hist.jpg')\n\nplt.show()",
    "id": "6c6b6f2185ab4a3bbb0b50128f7bfb25",
    "idx": 14,
    "time": "2021-01-31T21:13:53.805Z",
    "type": "execution"
   },
   {
    "code": "#The size of each category of socioeconomic status \nproperty_df.groupby('ses').size()",
    "id": "ed8d39d41d8a4003bec31f5d0dfa7382",
    "idx": 17,
    "time": "2021-01-31T21:13:53.807Z",
    "type": "execution"
   },
   {
    "code": "#Create a dummy for high socioeconomic status \nproperty_df['high_ses'] = np.where((property_df['ses'] == 5) |\n                                    (property_df['ses'] ==6), 1, 0)",
    "id": "48d80463a1514d93b80534d3ec85f2c2",
    "idx": 18,
    "time": "2021-01-31T21:13:53.808Z",
    "type": "execution"
   },
   {
    "code": "property_df.groupby('high_ses').size()",
    "id": "6a9c557dce8349e080428f503260908e",
    "idx": 19,
    "time": "2021-01-31T21:13:53.810Z",
    "type": "execution"
   },
   {
    "code": "#Find the median of population density \npop_dens_med = np.median(property_df['pop_dens'])\npop_dens_med",
    "id": "277085f39f0644b78a7e39391cf3bed6",
    "idx": 21,
    "time": "2021-01-31T21:13:53.811Z",
    "type": "execution"
   },
   {
    "code": "#Create a binary density variable of the population\nproperty_df['pop_dens_dummy'] = np.where((property_df['pop_dens']\n                                         >= pop_dens_med), 1, 0)\nproperty_df.groupby('pop_dens_dummy').size()",
    "id": "7fca364b67284a76aa8084fc08755e74",
    "idx": 22,
    "time": "2021-01-31T21:13:53.812Z",
    "type": "execution"
   },
   {
    "code": "#The size of each category of number of bathrooms \nproperty_df.groupby('bathrooms').size()",
    "id": "994da2a559de4e75be8faeef3e88ad27",
    "idx": 24,
    "time": "2021-01-31T21:13:53.814Z",
    "type": "execution"
   },
   {
    "code": "#Recode the number of bathrooms variable\nproperty_df['bathrooms_cat'] = np.where((property_df['bathrooms']>=3), \n                              3, property_df['bathrooms'])\nproperty_df.groupby('bathrooms_cat').size()",
    "id": "bb7cf60ce88f48a391c9ba0c5a9c3b15",
    "idx": 25,
    "time": "2021-01-31T21:13:53.815Z",
    "type": "execution"
   },
   {
    "code": "#Define the variables that you will plot in arrays\nx = property_df['pcnt_indu']\ny = property_df['price']\n\n#Make your scatter plot\nplt.scatter(x, y, c ='red', alpha = 0.3, s = 100)\nplt.xlabel('Percentage of Industrial Properties')\nplt.ylabel('Price')\nplt.title('Industrial Use and Property Prices')\n\nplt.show()",
    "id": "cd1a5212d268408c9e48646c3d67d179",
    "idx": 27,
    "time": "2021-01-31T21:13:53.816Z",
    "type": "execution"
   },
   {
    "code": "#Define the variables that you will plot in arrays\nx = property_df['area_m2']\ny = property_df['price']\n\n#Set the index upon which the plot color will be based\nc = x\n\n#Make your scatter plot\nplt.scatter(x, y, s = 50, alpha = 0.5, c = x, cmap = 'YlOrRd')\nplt.xlabel('Area $[\\mathregular{m^2}]$')\nplt.ylabel('Price')\nplt.title('Property Area and Prices')\n\nplt.show()",
    "id": "ae9a7433c0174a2facf306f8ab834836",
    "idx": 28,
    "time": "2021-01-31T21:13:53.818Z",
    "type": "execution"
   },
   {
    "code": "sns.regplot(x = 'area_m2', y = 'price', data = property_df, \n            scatter_kws = {'color': 'blue'}, line_kws = {'color':'red'})\n\nplt.xlabel('Area $[\\mathregular{m^2}]$')\nplt.ylabel('Price')\nplt.title('Property Area and Prices')\n\nplt.show()",
    "id": "72ef45d0271349758c59679b1b987f65",
    "idx": 29,
    "time": "2021-01-31T21:13:53.819Z",
    "type": "execution"
   },
   {
    "code": "#Define the variables that you will plot in arrays\n\n#Figure 1\nx1 = property_df['pcnt_indu']\ny1 = property_df['price']\n\n#Figure 2\nx2 = property_df['pcnt_com']\ny2 = property_df['price']\n\n#Create your figure, and define the number of subplots within it\nfig, (ax1, ax2) = plt.subplots(1, 2, figsize = (15, 5))\n\n\n#Create first subplot\nax1.scatter(x1, y1, c = 'red', alpha = 0.3, s = 50)\nax1.set_xlabel('Percentage of Industrial Properties')\nax1.set_ylabel('Price')\n#Format y-axis number to include thousands separator\nax1.get_yaxis().set_major_formatter(plt.FuncFormatter(lambda y1, loc: \"{:,}\".format(int(y1))))\n\n#Create second subplot\nax2.scatter(x2, y2, c = 'orange', alpha = 0.3, s = 50)\nax2.set_xlabel('Percentage of Commercial Properties')\nax2.set_ylabel('Price')\nax2.get_yaxis().set_major_formatter(plt.FuncFormatter(lambda y2, loc: \"{:,}\".format(int(y2))))\n\n#Create title for the overall figure\nplt.suptitle('Land Use and Property Prices')\n\n#Save your figure \nplt.savefig('land_use_properties.jpg')\n\nplt.show()",
    "id": "28b26082f9a5457c92bcda1086ef9a13",
    "idx": 30,
    "time": "2021-01-31T21:13:53.821Z",
    "type": "execution"
   },
   {
    "code": "#Define independent and dependent variables \nx = property_df['pcnt_com']\ny = property_df['price']\n\n#Define list to run a pairwise correlation \ncor_list = ['pcnt_com', 'price']\nproperty_df[cor_list].corr()",
    "id": "f067e4b9f54c4807872f37fdcbc68ede",
    "idx": 33,
    "time": "2021-01-31T21:13:53.822Z",
    "type": "execution"
   },
   {
    "code": "#Pearsonr function returns the correlation coefficient, and P-value\npearsonr(x, y)",
    "id": "656ee7c0acb9410d9c76ad19c21111ae",
    "idx": 34,
    "time": "2021-01-31T21:13:53.823Z",
    "type": "execution"
   },
   {
    "code": "property_df.corr()",
    "id": "5c2c8e97ec4a4b0c91bdba97fdd586f8",
    "idx": 36,
    "time": "2021-01-31T21:13:53.826Z",
    "type": "execution"
   },
   {
    "code": "#Define independent variable, and include the intercept \nx = property_df[['pcnt_indu']].assign(Intercept = 1)\n\n#Define dependent variable\ny = property_df['pop_dens']\n\n#Run the regression\nsm.OLS(y, x, missing='drop').fit().summary2()",
    "id": "b6627d797c3349199978c588c3d3463a",
    "idx": 38,
    "time": "2021-01-31T21:13:53.828Z",
    "type": "execution"
   },
   {
    "id": "9414fc3cc1164c598db3d2f9364c3427",
    "time": "2021-01-31T21:13:55.210Z",
    "type": "completion"
   },
   {
    "id": "795fa54a7aa644558249dded8fcfd331",
    "time": "2021-01-31T21:13:55.221Z",
    "type": "completion"
   },
   {
    "id": "816fb870595a40de845095b7cd2b4f83",
    "time": "2021-01-31T21:13:55.248Z",
    "type": "completion"
   },
   {
    "id": "cdda62f939d6439cacf3d4d1fa2f1012",
    "time": "2021-01-31T21:13:55.252Z",
    "type": "completion"
   },
   {
    "id": "4de8f3338de447dcbe187337bc6f058e",
    "time": "2021-01-31T21:13:55.253Z",
    "type": "completion"
   },
   {
    "id": "c520f008d88e4019887921f42acb8461",
    "time": "2021-01-31T21:13:55.895Z",
    "type": "completion"
   },
   {
    "id": "d00999b4b07b4f858735ed8b96aa90a2",
    "time": "2021-01-31T21:13:57.339Z",
    "type": "completion"
   },
   {
    "id": "6c6b6f2185ab4a3bbb0b50128f7bfb25",
    "time": "2021-01-31T21:13:57.804Z",
    "type": "completion"
   },
   {
    "id": "ed8d39d41d8a4003bec31f5d0dfa7382",
    "time": "2021-01-31T21:13:57.811Z",
    "type": "completion"
   },
   {
    "id": "48d80463a1514d93b80534d3ec85f2c2",
    "time": "2021-01-31T21:13:57.813Z",
    "type": "completion"
   },
   {
    "id": "6a9c557dce8349e080428f503260908e",
    "time": "2021-01-31T21:13:57.815Z",
    "type": "completion"
   },
   {
    "id": "277085f39f0644b78a7e39391cf3bed6",
    "time": "2021-01-31T21:13:57.816Z",
    "type": "completion"
   },
   {
    "id": "7fca364b67284a76aa8084fc08755e74",
    "time": "2021-01-31T21:13:57.845Z",
    "type": "completion"
   },
   {
    "id": "994da2a559de4e75be8faeef3e88ad27",
    "time": "2021-01-31T21:13:57.846Z",
    "type": "completion"
   },
   {
    "id": "bb7cf60ce88f48a391c9ba0c5a9c3b15",
    "time": "2021-01-31T21:13:57.848Z",
    "type": "completion"
   },
   {
    "id": "cd1a5212d268408c9e48646c3d67d179",
    "time": "2021-01-31T21:13:58.172Z",
    "type": "completion"
   },
   {
    "id": "ae9a7433c0174a2facf306f8ab834836",
    "time": "2021-01-31T21:13:58.529Z",
    "type": "completion"
   },
   {
    "id": "72ef45d0271349758c59679b1b987f65",
    "time": "2021-01-31T21:13:59.085Z",
    "type": "completion"
   },
   {
    "id": "28b26082f9a5457c92bcda1086ef9a13",
    "time": "2021-01-31T21:13:59.548Z",
    "type": "completion"
   },
   {
    "id": "f067e4b9f54c4807872f37fdcbc68ede",
    "time": "2021-01-31T21:13:59.582Z",
    "type": "completion"
   },
   {
    "id": "656ee7c0acb9410d9c76ad19c21111ae",
    "time": "2021-01-31T21:13:59.584Z",
    "type": "completion"
   },
   {
    "id": "5c2c8e97ec4a4b0c91bdba97fdd586f8",
    "time": "2021-01-31T21:13:59.589Z",
    "type": "completion"
   },
   {
    "id": "b6627d797c3349199978c588c3d3463a",
    "time": "2021-01-31T21:13:59.592Z",
    "type": "completion"
   }
  ],
  "kernelspec": {
   "display_name": "Python 3",
   "language": "python",
   "name": "python3"
  },
  "language_info": {
   "codemirror_mode": {
    "name": "ipython",
    "version": 3
   },
   "file_extension": ".py",
   "mimetype": "text/x-python",
   "name": "python",
   "nbconvert_exporter": "python",
   "pygments_lexer": "ipython3",
   "version": "3.8.6"
  }
 },
 "nbformat": 4,
 "nbformat_minor": 4
}
