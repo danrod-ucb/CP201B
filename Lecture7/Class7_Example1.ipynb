{
 "cells": [
  {
   "cell_type": "markdown",
   "metadata": {},
   "source": [
    "#### Import libraries"
   ]
  },
  {
   "cell_type": "code",
   "execution_count": 113,
   "metadata": {},
   "outputs": [],
   "source": [
    "import pandas as pd ### Library for handling dataframes\n",
    "import matplotlib.pyplot as plt\n",
    "from scipy.stats import ttest_ind ### Library for performing unpaired t-test\n",
    "import statsmodels.api as sm ### Library for running linear regressions\n",
    "from statsmodels.stats.outliers_influence import variance_inflation_factor ### VIF package\n",
    "from statsmodels.stats.diagnostic import het_breuschpagan ### Heteroscedasticity  package\n",
    "from statsmodels.compat import lzip ### For better visualazitn breusch-pagan results"
   ]
  },
  {
   "cell_type": "markdown",
   "metadata": {},
   "source": [
    "#### Read Data"
   ]
  },
  {
   "cell_type": "code",
   "execution_count": 16,
   "metadata": {},
   "outputs": [],
   "source": [
    "data = pd.read_csv('data.csv')"
   ]
  },
  {
   "cell_type": "code",
   "execution_count": 17,
   "metadata": {},
   "outputs": [
    {
     "data": {
      "text/html": [
       "<div>\n",
       "<style scoped>\n",
       "    .dataframe tbody tr th:only-of-type {\n",
       "        vertical-align: middle;\n",
       "    }\n",
       "\n",
       "    .dataframe tbody tr th {\n",
       "        vertical-align: top;\n",
       "    }\n",
       "\n",
       "    .dataframe thead th {\n",
       "        text-align: right;\n",
       "    }\n",
       "</style>\n",
       "<table border=\"1\" class=\"dataframe\">\n",
       "  <thead>\n",
       "    <tr style=\"text-align: right;\">\n",
       "      <th></th>\n",
       "      <th>price</th>\n",
       "      <th>dist</th>\n",
       "      <th>bathrooms</th>\n",
       "      <th>garages</th>\n",
       "      <th>area</th>\n",
       "      <th>SES</th>\n",
       "      <th>popdens</th>\n",
       "      <th>perc_com</th>\n",
       "      <th>apt</th>\n",
       "    </tr>\n",
       "  </thead>\n",
       "  <tbody>\n",
       "    <tr>\n",
       "      <td>0</td>\n",
       "      <td>40000</td>\n",
       "      <td>0.69</td>\n",
       "      <td>1</td>\n",
       "      <td>1</td>\n",
       "      <td>58</td>\n",
       "      <td>3</td>\n",
       "      <td>462.56</td>\n",
       "      <td>0.0</td>\n",
       "      <td>1</td>\n",
       "    </tr>\n",
       "    <tr>\n",
       "      <td>1</td>\n",
       "      <td>40000</td>\n",
       "      <td>0.69</td>\n",
       "      <td>1</td>\n",
       "      <td>1</td>\n",
       "      <td>58</td>\n",
       "      <td>3</td>\n",
       "      <td>462.56</td>\n",
       "      <td>0.0</td>\n",
       "      <td>1</td>\n",
       "    </tr>\n",
       "    <tr>\n",
       "      <td>2</td>\n",
       "      <td>57900</td>\n",
       "      <td>0.68</td>\n",
       "      <td>2</td>\n",
       "      <td>1</td>\n",
       "      <td>73</td>\n",
       "      <td>3</td>\n",
       "      <td>461.99</td>\n",
       "      <td>0.0</td>\n",
       "      <td>1</td>\n",
       "    </tr>\n",
       "    <tr>\n",
       "      <td>3</td>\n",
       "      <td>65000</td>\n",
       "      <td>0.92</td>\n",
       "      <td>2</td>\n",
       "      <td>0</td>\n",
       "      <td>120</td>\n",
       "      <td>3</td>\n",
       "      <td>436.21</td>\n",
       "      <td>0.0</td>\n",
       "      <td>0</td>\n",
       "    </tr>\n",
       "    <tr>\n",
       "      <td>4</td>\n",
       "      <td>140000</td>\n",
       "      <td>0.69</td>\n",
       "      <td>3</td>\n",
       "      <td>1</td>\n",
       "      <td>375</td>\n",
       "      <td>3</td>\n",
       "      <td>462.56</td>\n",
       "      <td>0.0</td>\n",
       "      <td>0</td>\n",
       "    </tr>\n",
       "  </tbody>\n",
       "</table>\n",
       "</div>"
      ],
      "text/plain": [
       "    price  dist  bathrooms  garages  area  SES  popdens  perc_com  apt\n",
       "0   40000  0.69          1        1    58    3   462.56       0.0    1\n",
       "1   40000  0.69          1        1    58    3   462.56       0.0    1\n",
       "2   57900  0.68          2        1    73    3   461.99       0.0    1\n",
       "3   65000  0.92          2        0   120    3   436.21       0.0    0\n",
       "4  140000  0.69          3        1   375    3   462.56       0.0    0"
      ]
     },
     "execution_count": 17,
     "metadata": {},
     "output_type": "execute_result"
    }
   ],
   "source": [
    "data.head()"
   ]
  },
  {
   "cell_type": "markdown",
   "metadata": {},
   "source": [
    "#### Perform mulitvariate linear regression"
   ]
  },
  {
   "cell_type": "markdown",
   "metadata": {},
   "source": [
    "###### Regression with controls"
   ]
  },
  {
   "cell_type": "code",
   "execution_count": 19,
   "metadata": {},
   "outputs": [
    {
     "data": {
      "text/html": [
       "<table class=\"simpletable\">\n",
       "<tr>\n",
       "        <td>Model:</td>               <td>OLS</td>         <td>Adj. R-squared:</td>      <td>0.549</td>  \n",
       "</tr>\n",
       "<tr>\n",
       "  <td>Dependent Variable:</td>       <td>price</td>             <td>AIC:</td>         <td>70334.6885</td>\n",
       "</tr>\n",
       "<tr>\n",
       "         <td>Date:</td>        <td>2020-02-11 10:47</td>        <td>BIC:</td>         <td>70382.5451</td>\n",
       "</tr>\n",
       "<tr>\n",
       "   <td>No. Observations:</td>        <td>2928</td>         <td>Log-Likelihood:</td>     <td>-35159.</td> \n",
       "</tr>\n",
       "<tr>\n",
       "       <td>Df Model:</td>              <td>7</td>           <td>F-statistic:</td>        <td>510.8</td>  \n",
       "</tr>\n",
       "<tr>\n",
       "     <td>Df Residuals:</td>          <td>2920</td>       <td>Prob (F-statistic):</td>    <td>0.00</td>   \n",
       "</tr>\n",
       "<tr>\n",
       "      <td>R-squared:</td>            <td>0.550</td>            <td>Scale:</td>        <td>1.5802e+09</td>\n",
       "</tr>\n",
       "</table>\n",
       "<table class=\"simpletable\">\n",
       "<tr>\n",
       "      <td></td>         <th>Coef.</th>    <th>Std.Err.</th>      <th>t</th>     <th>P>|t|</th>   <th>[0.025</th>      <th>0.975]</th>   \n",
       "</tr>\n",
       "<tr>\n",
       "  <th>dist</th>       <td>933.7241</td>   <td>388.2226</td>   <td>2.4051</td>  <td>0.0162</td>  <td>172.5063</td>    <td>1694.9419</td> \n",
       "</tr>\n",
       "<tr>\n",
       "  <th>bathrooms</th> <td>13647.0590</td>  <td>1021.7015</td>  <td>13.3572</td> <td>0.0000</td> <td>11643.7304</td>  <td>15650.3876</td> \n",
       "</tr>\n",
       "<tr>\n",
       "  <th>garages</th>   <td>13207.9686</td>  <td>1203.5132</td>  <td>10.9745</td> <td>0.0000</td> <td>10848.1480</td>  <td>15567.7892</td> \n",
       "</tr>\n",
       "<tr>\n",
       "  <th>area</th>       <td>283.6504</td>    <td>12.5247</td>   <td>22.6472</td> <td>0.0000</td>  <td>259.0922</td>    <td>308.2086</td>  \n",
       "</tr>\n",
       "<tr>\n",
       "  <th>SES</th>       <td>26767.8617</td>  <td>1181.5197</td>  <td>22.6555</td> <td>0.0000</td> <td>24451.1653</td>  <td>29084.5581</td> \n",
       "</tr>\n",
       "<tr>\n",
       "  <th>popdens</th>     <td>3.7981</td>     <td>3.8012</td>    <td>0.9992</td>  <td>0.3178</td>   <td>-3.6552</td>     <td>11.2513</td>  \n",
       "</tr>\n",
       "<tr>\n",
       "  <th>perc_com</th>  <td>-2433.2817</td>  <td>3007.0532</td>  <td>-0.8092</td> <td>0.4185</td> <td>-8329.4417</td>   <td>3462.8782</td> \n",
       "</tr>\n",
       "<tr>\n",
       "  <th>Intercept</th> <td>-82406.3586</td> <td>4139.3676</td> <td>-19.9080</td> <td>0.0000</td> <td>-90522.7343</td> <td>-74289.9830</td>\n",
       "</tr>\n",
       "</table>\n",
       "<table class=\"simpletable\">\n",
       "<tr>\n",
       "     <td>Omnibus:</td>    <td>3184.650</td>  <td>Durbin-Watson:</td>      <td>1.298</td>  \n",
       "</tr>\n",
       "<tr>\n",
       "  <td>Prob(Omnibus):</td>   <td>0.000</td>  <td>Jarque-Bera (JB):</td> <td>376829.526</td>\n",
       "</tr>\n",
       "<tr>\n",
       "       <td>Skew:</td>       <td>5.299</td>      <td>Prob(JB):</td>        <td>0.000</td>  \n",
       "</tr>\n",
       "<tr>\n",
       "     <td>Kurtosis:</td>    <td>57.557</td>   <td>Condition No.:</td>      <td>2868</td>   \n",
       "</tr>\n",
       "</table>"
      ],
      "text/plain": [
       "<class 'statsmodels.iolib.summary2.Summary'>\n",
       "\"\"\"\n",
       "                    Results: Ordinary least squares\n",
       "=======================================================================\n",
       "Model:                OLS               Adj. R-squared:      0.549     \n",
       "Dependent Variable:   price             AIC:                 70334.6885\n",
       "Date:                 2020-02-11 10:47  BIC:                 70382.5451\n",
       "No. Observations:     2928              Log-Likelihood:      -35159.   \n",
       "Df Model:             7                 F-statistic:         510.8     \n",
       "Df Residuals:         2920              Prob (F-statistic):  0.00      \n",
       "R-squared:            0.550             Scale:               1.5802e+09\n",
       "-----------------------------------------------------------------------\n",
       "             Coef.     Std.Err.    t     P>|t|     [0.025      0.975]  \n",
       "-----------------------------------------------------------------------\n",
       "dist         933.7241  388.2226   2.4051 0.0162    172.5063   1694.9419\n",
       "bathrooms  13647.0590 1021.7015  13.3572 0.0000  11643.7304  15650.3876\n",
       "garages    13207.9686 1203.5132  10.9745 0.0000  10848.1480  15567.7892\n",
       "area         283.6504   12.5247  22.6472 0.0000    259.0922    308.2086\n",
       "SES        26767.8617 1181.5197  22.6555 0.0000  24451.1653  29084.5581\n",
       "popdens        3.7981    3.8012   0.9992 0.3178     -3.6552     11.2513\n",
       "perc_com   -2433.2817 3007.0532  -0.8092 0.4185  -8329.4417   3462.8782\n",
       "Intercept -82406.3586 4139.3676 -19.9080 0.0000 -90522.7343 -74289.9830\n",
       "-----------------------------------------------------------------------\n",
       "Omnibus:              3184.650       Durbin-Watson:          1.298     \n",
       "Prob(Omnibus):        0.000          Jarque-Bera (JB):       376829.526\n",
       "Skew:                 5.299          Prob(JB):               0.000     \n",
       "Kurtosis:             57.557         Condition No.:          2868      \n",
       "=======================================================================\n",
       "* The condition number is large (3e+03). This might indicate\n",
       "strong multicollinearity or other numerical problems.\n",
       "\"\"\""
      ]
     },
     "execution_count": 19,
     "metadata": {},
     "output_type": "execute_result"
    }
   ],
   "source": [
    "y = data['price'] ### define dependent variable\n",
    "x = data[['dist', 'bathrooms', 'garages', 'area', 'SES', 'popdens', 'perc_com']].assign(Intercept = 1) ### define independent variables - and include intercept\n",
    "\n",
    "sm.OLS(y, x).fit().summary2()"
   ]
  },
  {
   "cell_type": "markdown",
   "metadata": {},
   "source": [
    "###### Regression with controls + dummy variable"
   ]
  },
  {
   "cell_type": "code",
   "execution_count": 20,
   "metadata": {},
   "outputs": [
    {
     "data": {
      "text/html": [
       "<table class=\"simpletable\">\n",
       "<tr>\n",
       "        <td>Model:</td>               <td>OLS</td>         <td>Adj. R-squared:</td>      <td>0.550</td>  \n",
       "</tr>\n",
       "<tr>\n",
       "  <td>Dependent Variable:</td>       <td>price</td>             <td>AIC:</td>         <td>70334.3568</td>\n",
       "</tr>\n",
       "<tr>\n",
       "         <td>Date:</td>        <td>2020-02-11 10:47</td>        <td>BIC:</td>         <td>70388.1955</td>\n",
       "</tr>\n",
       "<tr>\n",
       "   <td>No. Observations:</td>        <td>2928</td>         <td>Log-Likelihood:</td>     <td>-35158.</td> \n",
       "</tr>\n",
       "<tr>\n",
       "       <td>Df Model:</td>              <td>8</td>           <td>F-statistic:</td>        <td>447.4</td>  \n",
       "</tr>\n",
       "<tr>\n",
       "     <td>Df Residuals:</td>          <td>2919</td>       <td>Prob (F-statistic):</td>    <td>0.00</td>   \n",
       "</tr>\n",
       "<tr>\n",
       "      <td>R-squared:</td>            <td>0.551</td>            <td>Scale:</td>        <td>1.5795e+09</td>\n",
       "</tr>\n",
       "</table>\n",
       "<table class=\"simpletable\">\n",
       "<tr>\n",
       "      <td></td>         <th>Coef.</th>    <th>Std.Err.</th>      <th>t</th>     <th>P>|t|</th>   <th>[0.025</th>      <th>0.975]</th>   \n",
       "</tr>\n",
       "<tr>\n",
       "  <th>dist</th>       <td>991.1277</td>   <td>389.9557</td>   <td>2.5416</td>  <td>0.0111</td>  <td>226.5115</td>    <td>1755.7438</td> \n",
       "</tr>\n",
       "<tr>\n",
       "  <th>bathrooms</th> <td>13320.8809</td>  <td>1043.6250</td>  <td>12.7640</td> <td>0.0000</td> <td>11274.5650</td>  <td>15367.1967</td> \n",
       "</tr>\n",
       "<tr>\n",
       "  <th>garages</th>   <td>13098.3672</td>  <td>1205.3848</td>  <td>10.8665</td> <td>0.0000</td> <td>10734.8763</td>  <td>15461.8581</td> \n",
       "</tr>\n",
       "<tr>\n",
       "  <th>area</th>       <td>271.1783</td>    <td>14.9563</td>   <td>18.1313</td> <td>0.0000</td>  <td>241.8522</td>    <td>300.5043</td>  \n",
       "</tr>\n",
       "<tr>\n",
       "  <th>SES</th>       <td>27264.4059</td>  <td>1225.3098</td>  <td>22.2510</td> <td>0.0000</td> <td>24861.8467</td>  <td>29666.9652</td> \n",
       "</tr>\n",
       "<tr>\n",
       "  <th>popdens</th>     <td>3.8073</td>     <td>3.8003</td>    <td>1.0018</td>  <td>0.3165</td>   <td>-3.6443</td>     <td>11.2588</td>  \n",
       "</tr>\n",
       "<tr>\n",
       "  <th>perc_com</th>  <td>-2371.9284</td>  <td>3006.6402</td>  <td>-0.7889</td> <td>0.4302</td> <td>-8267.2794</td>   <td>3523.4226</td> \n",
       "</tr>\n",
       "<tr>\n",
       "  <th>apt</th>       <td>-3433.3813</td>  <td>2251.5180</td>  <td>-1.5249</td> <td>0.1274</td> <td>-7848.1060</td>   <td>981.3435</td>  \n",
       "</tr>\n",
       "<tr>\n",
       "  <th>Intercept</th> <td>-79787.1794</td> <td>4480.7024</td> <td>-17.8068</td> <td>0.0000</td> <td>-88572.8376</td> <td>-71001.5212</td>\n",
       "</tr>\n",
       "</table>\n",
       "<table class=\"simpletable\">\n",
       "<tr>\n",
       "     <td>Omnibus:</td>    <td>3197.807</td>  <td>Durbin-Watson:</td>      <td>1.296</td>  \n",
       "</tr>\n",
       "<tr>\n",
       "  <td>Prob(Omnibus):</td>   <td>0.000</td>  <td>Jarque-Bera (JB):</td> <td>383165.969</td>\n",
       "</tr>\n",
       "<tr>\n",
       "       <td>Skew:</td>       <td>5.334</td>      <td>Prob(JB):</td>        <td>0.000</td>  \n",
       "</tr>\n",
       "<tr>\n",
       "     <td>Kurtosis:</td>    <td>58.017</td>   <td>Condition No.:</td>      <td>3131</td>   \n",
       "</tr>\n",
       "</table>"
      ],
      "text/plain": [
       "<class 'statsmodels.iolib.summary2.Summary'>\n",
       "\"\"\"\n",
       "                    Results: Ordinary least squares\n",
       "=======================================================================\n",
       "Model:                OLS               Adj. R-squared:      0.550     \n",
       "Dependent Variable:   price             AIC:                 70334.3568\n",
       "Date:                 2020-02-11 10:47  BIC:                 70388.1955\n",
       "No. Observations:     2928              Log-Likelihood:      -35158.   \n",
       "Df Model:             8                 F-statistic:         447.4     \n",
       "Df Residuals:         2919              Prob (F-statistic):  0.00      \n",
       "R-squared:            0.551             Scale:               1.5795e+09\n",
       "-----------------------------------------------------------------------\n",
       "             Coef.     Std.Err.    t     P>|t|     [0.025      0.975]  \n",
       "-----------------------------------------------------------------------\n",
       "dist         991.1277  389.9557   2.5416 0.0111    226.5115   1755.7438\n",
       "bathrooms  13320.8809 1043.6250  12.7640 0.0000  11274.5650  15367.1967\n",
       "garages    13098.3672 1205.3848  10.8665 0.0000  10734.8763  15461.8581\n",
       "area         271.1783   14.9563  18.1313 0.0000    241.8522    300.5043\n",
       "SES        27264.4059 1225.3098  22.2510 0.0000  24861.8467  29666.9652\n",
       "popdens        3.8073    3.8003   1.0018 0.3165     -3.6443     11.2588\n",
       "perc_com   -2371.9284 3006.6402  -0.7889 0.4302  -8267.2794   3523.4226\n",
       "apt        -3433.3813 2251.5180  -1.5249 0.1274  -7848.1060    981.3435\n",
       "Intercept -79787.1794 4480.7024 -17.8068 0.0000 -88572.8376 -71001.5212\n",
       "-----------------------------------------------------------------------\n",
       "Omnibus:              3197.807       Durbin-Watson:          1.296     \n",
       "Prob(Omnibus):        0.000          Jarque-Bera (JB):       383165.969\n",
       "Skew:                 5.334          Prob(JB):               0.000     \n",
       "Kurtosis:             58.017         Condition No.:          3131      \n",
       "=======================================================================\n",
       "* The condition number is large (3e+03). This might indicate\n",
       "strong multicollinearity or other numerical problems.\n",
       "\"\"\""
      ]
     },
     "execution_count": 20,
     "metadata": {},
     "output_type": "execute_result"
    }
   ],
   "source": [
    "y = data['price'] ### define dependent variable\n",
    "x = data[['dist', 'bathrooms', 'garages', 'area', 'SES', 'popdens', 'perc_com', 'apt']].assign(Intercept = 1) ### define independent variables - and include intercept\n",
    "\n",
    "sm.OLS(y, x).fit().summary2()"
   ]
  },
  {
   "cell_type": "markdown",
   "metadata": {},
   "source": [
    "###### New variable - non-linear!"
   ]
  },
  {
   "cell_type": "markdown",
   "metadata": {},
   "source": [
    "Lets include a new variable where:\n",
    "$area2 = area^2$"
   ]
  },
  {
   "cell_type": "code",
   "execution_count": 21,
   "metadata": {},
   "outputs": [],
   "source": [
    "data['area2'] = data['area']*data['area']"
   ]
  },
  {
   "cell_type": "code",
   "execution_count": 22,
   "metadata": {},
   "outputs": [
    {
     "data": {
      "text/html": [
       "<div>\n",
       "<style scoped>\n",
       "    .dataframe tbody tr th:only-of-type {\n",
       "        vertical-align: middle;\n",
       "    }\n",
       "\n",
       "    .dataframe tbody tr th {\n",
       "        vertical-align: top;\n",
       "    }\n",
       "\n",
       "    .dataframe thead th {\n",
       "        text-align: right;\n",
       "    }\n",
       "</style>\n",
       "<table border=\"1\" class=\"dataframe\">\n",
       "  <thead>\n",
       "    <tr style=\"text-align: right;\">\n",
       "      <th></th>\n",
       "      <th>price</th>\n",
       "      <th>dist</th>\n",
       "      <th>bathrooms</th>\n",
       "      <th>garages</th>\n",
       "      <th>area</th>\n",
       "      <th>SES</th>\n",
       "      <th>popdens</th>\n",
       "      <th>perc_com</th>\n",
       "      <th>apt</th>\n",
       "      <th>area2</th>\n",
       "    </tr>\n",
       "  </thead>\n",
       "  <tbody>\n",
       "    <tr>\n",
       "      <td>0</td>\n",
       "      <td>40000</td>\n",
       "      <td>0.69</td>\n",
       "      <td>1</td>\n",
       "      <td>1</td>\n",
       "      <td>58</td>\n",
       "      <td>3</td>\n",
       "      <td>462.56</td>\n",
       "      <td>0.0</td>\n",
       "      <td>1</td>\n",
       "      <td>3364</td>\n",
       "    </tr>\n",
       "    <tr>\n",
       "      <td>1</td>\n",
       "      <td>40000</td>\n",
       "      <td>0.69</td>\n",
       "      <td>1</td>\n",
       "      <td>1</td>\n",
       "      <td>58</td>\n",
       "      <td>3</td>\n",
       "      <td>462.56</td>\n",
       "      <td>0.0</td>\n",
       "      <td>1</td>\n",
       "      <td>3364</td>\n",
       "    </tr>\n",
       "    <tr>\n",
       "      <td>2</td>\n",
       "      <td>57900</td>\n",
       "      <td>0.68</td>\n",
       "      <td>2</td>\n",
       "      <td>1</td>\n",
       "      <td>73</td>\n",
       "      <td>3</td>\n",
       "      <td>461.99</td>\n",
       "      <td>0.0</td>\n",
       "      <td>1</td>\n",
       "      <td>5329</td>\n",
       "    </tr>\n",
       "  </tbody>\n",
       "</table>\n",
       "</div>"
      ],
      "text/plain": [
       "   price  dist  bathrooms  garages  area  SES  popdens  perc_com  apt  area2\n",
       "0  40000  0.69          1        1    58    3   462.56       0.0    1   3364\n",
       "1  40000  0.69          1        1    58    3   462.56       0.0    1   3364\n",
       "2  57900  0.68          2        1    73    3   461.99       0.0    1   5329"
      ]
     },
     "execution_count": 22,
     "metadata": {},
     "output_type": "execute_result"
    }
   ],
   "source": [
    "data.head(3)"
   ]
  },
  {
   "cell_type": "markdown",
   "metadata": {},
   "source": [
    "Let's run the model again, with this new variable"
   ]
  },
  {
   "cell_type": "code",
   "execution_count": 59,
   "metadata": {},
   "outputs": [
    {
     "data": {
      "text/html": [
       "<table class=\"simpletable\">\n",
       "<tr>\n",
       "        <td>Model:</td>               <td>OLS</td>         <td>Adj. R-squared:</td>      <td>0.556</td>  \n",
       "</tr>\n",
       "<tr>\n",
       "  <td>Dependent Variable:</td>       <td>price</td>             <td>AIC:</td>         <td>70292.3552</td>\n",
       "</tr>\n",
       "<tr>\n",
       "         <td>Date:</td>        <td>2020-02-11 11:10</td>        <td>BIC:</td>         <td>70352.1760</td>\n",
       "</tr>\n",
       "<tr>\n",
       "   <td>No. Observations:</td>        <td>2928</td>         <td>Log-Likelihood:</td>     <td>-35136.</td> \n",
       "</tr>\n",
       "<tr>\n",
       "       <td>Df Model:</td>              <td>9</td>           <td>F-statistic:</td>        <td>408.5</td>  \n",
       "</tr>\n",
       "<tr>\n",
       "     <td>Df Residuals:</td>          <td>2918</td>       <td>Prob (F-statistic):</td>    <td>0.00</td>   \n",
       "</tr>\n",
       "<tr>\n",
       "      <td>R-squared:</td>            <td>0.558</td>            <td>Scale:</td>        <td>1.5564e+09</td>\n",
       "</tr>\n",
       "</table>\n",
       "<table class=\"simpletable\">\n",
       "<tr>\n",
       "      <td></td>         <th>Coef.</th>    <th>Std.Err.</th>      <th>t</th>     <th>P>|t|</th>    <th>[0.025</th>      <th>0.975]</th>   \n",
       "</tr>\n",
       "<tr>\n",
       "  <th>dist</th>       <td>1190.2005</td>  <td>388.2597</td>   <td>3.0655</td>  <td>0.0022</td>   <td>428.9097</td>    <td>1951.4914</td> \n",
       "</tr>\n",
       "<tr>\n",
       "  <th>bathrooms</th> <td>11994.1924</td>  <td>1055.0415</td>  <td>11.3685</td> <td>0.0000</td>   <td>9925.4909</td>  <td>14062.8938</td> \n",
       "</tr>\n",
       "<tr>\n",
       "  <th>garages</th>   <td>11882.9768</td>  <td>1210.4565</td>  <td>9.8169</td>  <td>0.0000</td>   <td>9509.5411</td>  <td>14256.4125</td> \n",
       "</tr>\n",
       "<tr>\n",
       "  <th>area</th>       <td>583.5524</td>    <td>49.2843</td>   <td>11.8405</td> <td>0.0000</td>   <td>486.9168</td>    <td>680.1879</td>  \n",
       "</tr>\n",
       "<tr>\n",
       "  <th>SES</th>       <td>25133.3930</td>  <td>1257.8872</td>  <td>19.9806</td> <td>0.0000</td>  <td>22666.9563</td>  <td>27599.8296</td> \n",
       "</tr>\n",
       "<tr>\n",
       "  <th>popdens</th>     <td>2.9898</td>     <td>3.7745</td>    <td>0.7921</td>  <td>0.4284</td>    <td>-4.4111</td>     <td>10.3908</td>  \n",
       "</tr>\n",
       "<tr>\n",
       "  <th>perc_com</th>  <td>-2705.8058</td>  <td>2985.0671</td>  <td>-0.9064</td> <td>0.3648</td>  <td>-8558.8576</td>   <td>3147.2460</td> \n",
       "</tr>\n",
       "<tr>\n",
       "  <th>apt</th>        <td>4544.6396</td>  <td>2536.9318</td>  <td>1.7914</td>  <td>0.0733</td>   <td>-429.7186</td>   <td>9518.9978</td> \n",
       "</tr>\n",
       "<tr>\n",
       "  <th>area2</th>       <td>-0.7406</td>    <td>0.1114</td>    <td>-6.6470</td> <td>0.0000</td>    <td>-0.9591</td>     <td>-0.5221</td>  \n",
       "</tr>\n",
       "<tr>\n",
       "  <th>Intercept</th> <td>-94766.8875</td> <td>4986.2576</td> <td>-19.0056</td> <td>0.0000</td> <td>-104543.8282</td> <td>-84989.9468</td>\n",
       "</tr>\n",
       "</table>\n",
       "<table class=\"simpletable\">\n",
       "<tr>\n",
       "     <td>Omnibus:</td>    <td>3205.638</td>  <td>Durbin-Watson:</td>      <td>1.275</td>  \n",
       "</tr>\n",
       "<tr>\n",
       "  <td>Prob(Omnibus):</td>   <td>0.000</td>  <td>Jarque-Bera (JB):</td> <td>382118.510</td>\n",
       "</tr>\n",
       "<tr>\n",
       "       <td>Skew:</td>       <td>5.360</td>      <td>Prob(JB):</td>        <td>0.000</td>  \n",
       "</tr>\n",
       "<tr>\n",
       "     <td>Kurtosis:</td>    <td>57.929</td>   <td>Condition No.:</td>     <td>238187</td>  \n",
       "</tr>\n",
       "</table>"
      ],
      "text/plain": [
       "<class 'statsmodels.iolib.summary2.Summary'>\n",
       "\"\"\"\n",
       "                    Results: Ordinary least squares\n",
       "========================================================================\n",
       "Model:                 OLS               Adj. R-squared:      0.556     \n",
       "Dependent Variable:    price             AIC:                 70292.3552\n",
       "Date:                  2020-02-11 11:10  BIC:                 70352.1760\n",
       "No. Observations:      2928              Log-Likelihood:      -35136.   \n",
       "Df Model:              9                 F-statistic:         408.5     \n",
       "Df Residuals:          2918              Prob (F-statistic):  0.00      \n",
       "R-squared:             0.558             Scale:               1.5564e+09\n",
       "------------------------------------------------------------------------\n",
       "             Coef.     Std.Err.    t     P>|t|     [0.025       0.975]  \n",
       "------------------------------------------------------------------------\n",
       "dist        1190.2005  388.2597   3.0655 0.0022     428.9097   1951.4914\n",
       "bathrooms  11994.1924 1055.0415  11.3685 0.0000    9925.4909  14062.8938\n",
       "garages    11882.9768 1210.4565   9.8169 0.0000    9509.5411  14256.4125\n",
       "area         583.5524   49.2843  11.8405 0.0000     486.9168    680.1879\n",
       "SES        25133.3930 1257.8872  19.9806 0.0000   22666.9563  27599.8296\n",
       "popdens        2.9898    3.7745   0.7921 0.4284      -4.4111     10.3908\n",
       "perc_com   -2705.8058 2985.0671  -0.9064 0.3648   -8558.8576   3147.2460\n",
       "apt         4544.6396 2536.9318   1.7914 0.0733    -429.7186   9518.9978\n",
       "area2         -0.7406    0.1114  -6.6470 0.0000      -0.9591     -0.5221\n",
       "Intercept -94766.8875 4986.2576 -19.0056 0.0000 -104543.8282 -84989.9468\n",
       "------------------------------------------------------------------------\n",
       "Omnibus:               3205.638       Durbin-Watson:          1.275     \n",
       "Prob(Omnibus):         0.000          Jarque-Bera (JB):       382118.510\n",
       "Skew:                  5.360          Prob(JB):               0.000     \n",
       "Kurtosis:              57.929         Condition No.:          238187    \n",
       "========================================================================\n",
       "* The condition number is large (2e+05). This might indicate\n",
       "strong multicollinearity or other numerical problems.\n",
       "\"\"\""
      ]
     },
     "execution_count": 59,
     "metadata": {},
     "output_type": "execute_result"
    }
   ],
   "source": [
    "y = data['price'] ### define dependent variable\n",
    "x = data[['dist', 'bathrooms', 'garages', 'area', 'SES', 'popdens', 'perc_com', 'apt', 'area2']].assign(Intercept = 1) ### define independent variables - and include intercept\n",
    "\n",
    "model = sm.OLS(y, x).fit()\n",
    "model.summary2()"
   ]
  },
  {
   "cell_type": "markdown",
   "metadata": {},
   "source": [
    "#### Let's introduce some collinearity analysis"
   ]
  },
  {
   "cell_type": "code",
   "execution_count": 60,
   "metadata": {},
   "outputs": [
    {
     "data": {
      "text/html": [
       "<div>\n",
       "<style scoped>\n",
       "    .dataframe tbody tr th:only-of-type {\n",
       "        vertical-align: middle;\n",
       "    }\n",
       "\n",
       "    .dataframe tbody tr th {\n",
       "        vertical-align: top;\n",
       "    }\n",
       "\n",
       "    .dataframe thead th {\n",
       "        text-align: right;\n",
       "    }\n",
       "</style>\n",
       "<table border=\"1\" class=\"dataframe\">\n",
       "  <thead>\n",
       "    <tr style=\"text-align: right;\">\n",
       "      <th></th>\n",
       "      <th>price</th>\n",
       "      <th>dist</th>\n",
       "      <th>bathrooms</th>\n",
       "      <th>garages</th>\n",
       "      <th>area</th>\n",
       "      <th>SES</th>\n",
       "      <th>popdens</th>\n",
       "      <th>perc_com</th>\n",
       "      <th>apt</th>\n",
       "      <th>area2</th>\n",
       "    </tr>\n",
       "  </thead>\n",
       "  <tbody>\n",
       "    <tr>\n",
       "      <td>price</td>\n",
       "      <td>1.000000</td>\n",
       "      <td>0.071014</td>\n",
       "      <td>0.549798</td>\n",
       "      <td>0.451800</td>\n",
       "      <td>0.601722</td>\n",
       "      <td>0.447644</td>\n",
       "      <td>-0.001044</td>\n",
       "      <td>0.012168</td>\n",
       "      <td>-0.385897</td>\n",
       "      <td>0.521075</td>\n",
       "    </tr>\n",
       "    <tr>\n",
       "      <td>dist</td>\n",
       "      <td>0.071014</td>\n",
       "      <td>1.000000</td>\n",
       "      <td>-0.040656</td>\n",
       "      <td>-0.052897</td>\n",
       "      <td>-0.082576</td>\n",
       "      <td>0.284161</td>\n",
       "      <td>-0.036284</td>\n",
       "      <td>0.105044</td>\n",
       "      <td>0.186716</td>\n",
       "      <td>-0.056968</td>\n",
       "    </tr>\n",
       "    <tr>\n",
       "      <td>bathrooms</td>\n",
       "      <td>0.549798</td>\n",
       "      <td>-0.040656</td>\n",
       "      <td>1.000000</td>\n",
       "      <td>0.345714</td>\n",
       "      <td>0.619691</td>\n",
       "      <td>0.175786</td>\n",
       "      <td>0.015468</td>\n",
       "      <td>-0.014092</td>\n",
       "      <td>-0.525073</td>\n",
       "      <td>0.529654</td>\n",
       "    </tr>\n",
       "    <tr>\n",
       "      <td>garages</td>\n",
       "      <td>0.451800</td>\n",
       "      <td>-0.052897</td>\n",
       "      <td>0.345714</td>\n",
       "      <td>1.000000</td>\n",
       "      <td>0.384379</td>\n",
       "      <td>0.270412</td>\n",
       "      <td>-0.020816</td>\n",
       "      <td>-0.000385</td>\n",
       "      <td>-0.279929</td>\n",
       "      <td>0.310064</td>\n",
       "    </tr>\n",
       "    <tr>\n",
       "      <td>area</td>\n",
       "      <td>0.601722</td>\n",
       "      <td>-0.082576</td>\n",
       "      <td>0.619691</td>\n",
       "      <td>0.384379</td>\n",
       "      <td>1.000000</td>\n",
       "      <td>0.137786</td>\n",
       "      <td>0.029268</td>\n",
       "      <td>-0.023644</td>\n",
       "      <td>-0.688590</td>\n",
       "      <td>0.959223</td>\n",
       "    </tr>\n",
       "    <tr>\n",
       "      <td>SES</td>\n",
       "      <td>0.447644</td>\n",
       "      <td>0.284161</td>\n",
       "      <td>0.175786</td>\n",
       "      <td>0.270412</td>\n",
       "      <td>0.137786</td>\n",
       "      <td>1.000000</td>\n",
       "      <td>-0.073019</td>\n",
       "      <td>0.096774</td>\n",
       "      <td>0.101966</td>\n",
       "      <td>0.091597</td>\n",
       "    </tr>\n",
       "    <tr>\n",
       "      <td>popdens</td>\n",
       "      <td>-0.001044</td>\n",
       "      <td>-0.036284</td>\n",
       "      <td>0.015468</td>\n",
       "      <td>-0.020816</td>\n",
       "      <td>0.029268</td>\n",
       "      <td>-0.073019</td>\n",
       "      <td>1.000000</td>\n",
       "      <td>0.060767</td>\n",
       "      <td>-0.034779</td>\n",
       "      <td>0.023738</td>\n",
       "    </tr>\n",
       "    <tr>\n",
       "      <td>perc_com</td>\n",
       "      <td>0.012168</td>\n",
       "      <td>0.105044</td>\n",
       "      <td>-0.014092</td>\n",
       "      <td>-0.000385</td>\n",
       "      <td>-0.023644</td>\n",
       "      <td>0.096774</td>\n",
       "      <td>0.060767</td>\n",
       "      <td>1.000000</td>\n",
       "      <td>0.052753</td>\n",
       "      <td>-0.025784</td>\n",
       "    </tr>\n",
       "    <tr>\n",
       "      <td>apt</td>\n",
       "      <td>-0.385897</td>\n",
       "      <td>0.186716</td>\n",
       "      <td>-0.525073</td>\n",
       "      <td>-0.279929</td>\n",
       "      <td>-0.688590</td>\n",
       "      <td>0.101966</td>\n",
       "      <td>-0.034779</td>\n",
       "      <td>0.052753</td>\n",
       "      <td>1.000000</td>\n",
       "      <td>-0.568770</td>\n",
       "    </tr>\n",
       "    <tr>\n",
       "      <td>area2</td>\n",
       "      <td>0.521075</td>\n",
       "      <td>-0.056968</td>\n",
       "      <td>0.529654</td>\n",
       "      <td>0.310064</td>\n",
       "      <td>0.959223</td>\n",
       "      <td>0.091597</td>\n",
       "      <td>0.023738</td>\n",
       "      <td>-0.025784</td>\n",
       "      <td>-0.568770</td>\n",
       "      <td>1.000000</td>\n",
       "    </tr>\n",
       "  </tbody>\n",
       "</table>\n",
       "</div>"
      ],
      "text/plain": [
       "              price      dist  bathrooms   garages      area       SES  \\\n",
       "price      1.000000  0.071014   0.549798  0.451800  0.601722  0.447644   \n",
       "dist       0.071014  1.000000  -0.040656 -0.052897 -0.082576  0.284161   \n",
       "bathrooms  0.549798 -0.040656   1.000000  0.345714  0.619691  0.175786   \n",
       "garages    0.451800 -0.052897   0.345714  1.000000  0.384379  0.270412   \n",
       "area       0.601722 -0.082576   0.619691  0.384379  1.000000  0.137786   \n",
       "SES        0.447644  0.284161   0.175786  0.270412  0.137786  1.000000   \n",
       "popdens   -0.001044 -0.036284   0.015468 -0.020816  0.029268 -0.073019   \n",
       "perc_com   0.012168  0.105044  -0.014092 -0.000385 -0.023644  0.096774   \n",
       "apt       -0.385897  0.186716  -0.525073 -0.279929 -0.688590  0.101966   \n",
       "area2      0.521075 -0.056968   0.529654  0.310064  0.959223  0.091597   \n",
       "\n",
       "            popdens  perc_com       apt     area2  \n",
       "price     -0.001044  0.012168 -0.385897  0.521075  \n",
       "dist      -0.036284  0.105044  0.186716 -0.056968  \n",
       "bathrooms  0.015468 -0.014092 -0.525073  0.529654  \n",
       "garages   -0.020816 -0.000385 -0.279929  0.310064  \n",
       "area       0.029268 -0.023644 -0.688590  0.959223  \n",
       "SES       -0.073019  0.096774  0.101966  0.091597  \n",
       "popdens    1.000000  0.060767 -0.034779  0.023738  \n",
       "perc_com   0.060767  1.000000  0.052753 -0.025784  \n",
       "apt       -0.034779  0.052753  1.000000 -0.568770  \n",
       "area2      0.023738 -0.025784 -0.568770  1.000000  "
      ]
     },
     "execution_count": 60,
     "metadata": {},
     "output_type": "execute_result"
    }
   ],
   "source": [
    "data.corr()"
   ]
  },
  {
   "cell_type": "markdown",
   "metadata": {},
   "source": [
    "###### Variance inflation factor"
   ]
  },
  {
   "cell_type": "markdown",
   "metadata": {},
   "source": [
    "Let's compute!"
   ]
  },
  {
   "cell_type": "code",
   "execution_count": 61,
   "metadata": {},
   "outputs": [
    {
     "data": {
      "text/plain": [
       "[1.1419014504835094,\n",
       " 1.8103900636552555,\n",
       " 1.3111109877335707,\n",
       " 27.108377580159125,\n",
       " 1.4032784076988059,\n",
       " 1.0136495582032872,\n",
       " 1.022679015266867,\n",
       " 2.8175599186644393,\n",
       " 18.66988146339792,\n",
       " 46.77230851552062]"
      ]
     },
     "execution_count": 61,
     "metadata": {},
     "output_type": "execute_result"
    }
   ],
   "source": [
    "vif = [variance_inflation_factor(x.values, i) for i in range(x.shape[1])]\n",
    "vif"
   ]
  },
  {
   "cell_type": "markdown",
   "metadata": {},
   "source": [
    "Let's include the columns to better understand what is going on"
   ]
  },
  {
   "cell_type": "code",
   "execution_count": 62,
   "metadata": {},
   "outputs": [
    {
     "data": {
      "text/plain": [
       "dist          1.141901\n",
       "bathrooms     1.810390\n",
       "garages       1.311111\n",
       "area         27.108378\n",
       "SES           1.403278\n",
       "popdens       1.013650\n",
       "perc_com      1.022679\n",
       "apt           2.817560\n",
       "area2        18.669881\n",
       "Intercept    46.772309\n",
       "dtype: float64"
      ]
     },
     "execution_count": 62,
     "metadata": {},
     "output_type": "execute_result"
    }
   ],
   "source": [
    "pd.Series(vif, index=x.columns)"
   ]
  },
  {
   "cell_type": "markdown",
   "metadata": {},
   "source": [
    "#### Let's do some Heterocedasticity analysis!"
   ]
  },
  {
   "cell_type": "markdown",
   "metadata": {},
   "source": [
    "###### Plot residuals vs observed & fitted data"
   ]
  },
  {
   "cell_type": "code",
   "execution_count": 85,
   "metadata": {},
   "outputs": [
    {
     "data": {
      "image/png": "[encoded data removed]",
      "text/plain": [
       "<Figure size 432x288 with 1 Axes>"
      ]
     },
     "metadata": {
      "needs_background": "light"
     },
     "output_type": "display_data"
    }
   ],
   "source": [
    "residuals = model.resid\n",
    "prediction = model.predict()\n",
    "\n",
    "plt.scatter(prediction, residuals)\n",
    "plt.ylabel('Residuals')\n",
    "plt.xlabel('Fitted Values');"
   ]
  },
  {
   "cell_type": "code",
   "execution_count": 88,
   "metadata": {},
   "outputs": [
    {
     "data": {
      "image/png": "[encoded data removed]",
      "text/plain": [
       "<Figure size 432x288 with 1 Axes>"
      ]
     },
     "metadata": {
      "needs_background": "light"
     },
     "output_type": "display_data"
    }
   ],
   "source": [
    "residuals = model.resid\n",
    "observed = data['price']\n",
    "\n",
    "plt.scatter(observed, residuals)\n",
    "plt.ylabel('Residuals')\n",
    "plt.xlabel('Observed Values');"
   ]
  },
  {
   "cell_type": "code",
   "execution_count": 128,
   "metadata": {},
   "outputs": [
    {
     "data": {
      "image/png": "[encoded data removed]",
      "text/plain": [
       "<Figure size 1152x432 with 2 Axes>"
      ]
     },
     "metadata": {
      "needs_background": "light"
     },
     "output_type": "display_data"
    }
   ],
   "source": [
    "fig, (ax1, ax2) = plt.subplots(1, 2, figsize=(16, 6))\n",
    "\n",
    "residuals = model.resid\n",
    "prediction = model.predict()\n",
    "observed = data['price']\n",
    "\n",
    "### Figure 1\n",
    "x1 = prediction\n",
    "y1 = residuals\n",
    "### Figure 2\n",
    "x2 = observed\n",
    "y2 = residuals\n",
    "\n",
    "### Creates title for overall figure\n",
    "plt.suptitle('Residuals vs. observed and fitted data')\n",
    "\n",
    "### Creates first plot\n",
    "ax1.scatter(x1, y1)\n",
    "ax1.set_xlabel('Predicted Values')\n",
    "ax1.set_ylabel('Residuals')\n",
    "### Formats axis number to include thousands separator\n",
    "ax1.get_xaxis().set_major_formatter(plt.FuncFormatter(lambda x1, loc: \"{:,}\".format(int(x1))))\n",
    "ax1.get_yaxis().set_major_formatter(plt.FuncFormatter(lambda y1, loc: \"{:,}\".format(int(y1))))\n",
    "\n",
    "### Creates second plot\n",
    "ax2.scatter(x2, y2, c ='green') ### We can change the color and marker type\n",
    "ax2.set_xlabel('Observed Values')\n",
    "\n",
    "### Formats axis number to include thousands separator\n",
    "ax2.get_xaxis().set_major_formatter(plt.FuncFormatter(lambda x1, loc: \"{:,}\".format(int(x1))))\n",
    "ax2.get_yaxis().set_major_formatter(plt.FuncFormatter(lambda y1, loc: \"{:,}\".format(int(y1))))\n",
    "\n",
    "# ax2.tick_params(axis='x', labelrotation=35) ### Let's rotate the labels!\n",
    "\n",
    "plt.show()"
   ]
  },
  {
   "cell_type": "markdown",
   "metadata": {},
   "source": [
    "###### Run Breusch-Pagan Test"
   ]
  },
  {
   "cell_type": "code",
   "execution_count": 129,
   "metadata": {},
   "outputs": [
    {
     "data": {
      "text/plain": [
       "[('Lagrange multiplier statistic', 79.66036015195688),\n",
       " ('Lagrange p-value', 1.8876840701843754e-13),\n",
       " ('f-value', 9.067619124546512),\n",
       " ('f p-value', 1.2368889285661547e-13)]"
      ]
     },
     "execution_count": 129,
     "metadata": {},
     "output_type": "execute_result"
    }
   ],
   "source": [
    "name = ['Lagrange multiplier statistic', 'Lagrange p-value',\n",
    "        'f-value', 'f p-value']\n",
    "test = list(het_breuschpagan(residuals, x))\n",
    "\n",
    "lzip(name, test)"
   ]
  }
 ],
 "metadata": {
  "kernelspec": {
   "display_name": "Python 3",
   "language": "python",
   "name": "python3"
  },
  "language_info": {
   "codemirror_mode": {
    "name": "ipython",
    "version": 3
   },
   "file_extension": ".py",
   "mimetype": "text/x-python",
   "name": "python",
   "nbconvert_exporter": "python",
   "pygments_lexer": "ipython3",
   "version": "3.7.4"
  }
 },
 "nbformat": 4,
 "nbformat_minor": 2
}
