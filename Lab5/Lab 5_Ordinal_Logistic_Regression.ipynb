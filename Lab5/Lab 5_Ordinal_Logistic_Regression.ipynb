{
 "cells": [
  {
   "cell_type": "markdown",
   "metadata": {},
   "source": [
    "#### Import libraries"
   ]
  },
  {
   "cell_type": "code",
   "execution_count": 1,
   "metadata": {},
   "outputs": [
    {
     "name": "stdout",
     "output_type": "stream",
     "text": [
      "Requirement already satisfied: mord in /srv/app/venv/lib/python3.6/site-packages\n",
      "\u001b[33mYou are using pip version 9.0.3, however version 20.0.2 is available.\n",
      "You should consider upgrading via the 'pip install --upgrade pip' command.\u001b[0m\n",
      "Note: you may need to restart the kernel to use updated packages.\n"
     ]
    }
   ],
   "source": [
    "pip install mord"
   ]
  },
  {
   "cell_type": "code",
   "execution_count": 2,
   "metadata": {},
   "outputs": [],
   "source": [
    "import mord as md\n",
    "import pandas as pd\n",
    "import numpy as np\n",
    "from sklearn import metrics\n",
    "from scipy import stats\n",
    "\n",
    "import matplotlib.pyplot as plt\n",
    "import seaborn as sns"
   ]
  },
  {
   "cell_type": "markdown",
   "metadata": {},
   "source": [
    "#### Define ordered logistic functions"
   ]
  },
  {
   "cell_type": "code",
   "execution_count": 3,
   "metadata": {},
   "outputs": [],
   "source": [
    "def OL_summary_output(model):\n",
    "    \n",
    "    #Computes coefficients\n",
    "    params = model.coef_\n",
    "    \n",
    "    #Computes predictions\n",
    "    prediction = model.predict(x)\n",
    "\n",
    "    #Computes metrics\n",
    "    MSE = metrics.mean_squared_error(y, prediction)\n",
    "\n",
    "    #Creates summary dataframe\n",
    "    coeff_df = pd.DataFrame(params, x.columns, columns=['Coefficient'])\n",
    "\n",
    "    #Computes variance\n",
    "    var_b = MSE*(np.linalg.inv(np.dot(x.T,x)).diagonal())\n",
    "\n",
    "    #Computes standard error\n",
    "    sd_b = np.sqrt(var_b)\n",
    "\n",
    "    #Computes t-statistic\n",
    "    ts_b = params/sd_b\n",
    "\n",
    "    #Computes p-values\n",
    "    p_values =[2*(1-stats.t.cdf(np.abs(i),(len(x)-1))) for i in ts_b]\n",
    "\n",
    "    #Computes confidence intervals\n",
    "    conf_int_inf = params - 1.96*sd_b\n",
    "    conf_int_sup = params + 1.96*sd_b\n",
    "\n",
    "    #Formats numbers for table\n",
    "    sd_b = sd_b\n",
    "    ts_b = np.round(ts_b,3)\n",
    "    p_values = np.round(p_values,3)\n",
    "    params = np.round(params,4)\n",
    "\n",
    "    #Summarizes dataframe\n",
    "    coeff_df[\"Standard Errors\"],coeff_df[\"t values\"],coeff_df[\"Probabilites\"], coeff_df['2.5%'], coeff_df['97.5%'] = [sd_b,ts_b,p_values, conf_int_inf, conf_int_sup]\n",
    "    \n",
    "    return coeff_df\n",
    "\n",
    "def odds_ratio_summary_output(model_summary_output):\n",
    "    \n",
    "    model_summary_output = OL_summary_output(model_ordinal)\n",
    "    coeff_OR = model_summary_output.copy()\n",
    "    \n",
    "    coeff_OR[\"Coefficient\"] = np.exp(model_summary_output[\"Coefficient\"])\n",
    "    coeff_OR[\"Standard Errors\"] = np.exp(model_summary_output[\"Standard Errors\"])\n",
    "    coeff_OR['2.5%'] = np.exp(coeff_OR['2.5%'])\n",
    "    coeff_OR['97.5%'] = np.exp(coeff_OR['97.5%'])\n",
    "    \n",
    "    return coeff_OR"
   ]
  },
  {
   "cell_type": "markdown",
   "metadata": {},
   "source": [
    "#### Read data"
   ]
  },
  {
   "cell_type": "code",
   "execution_count": 4,
   "metadata": {},
   "outputs": [
    {
     "data": {
      "text/html": [
       "<div>\n",
       "<style scoped>\n",
       "    .dataframe tbody tr th:only-of-type {\n",
       "        vertical-align: middle;\n",
       "    }\n",
       "\n",
       "    .dataframe tbody tr th {\n",
       "        vertical-align: top;\n",
       "    }\n",
       "\n",
       "    .dataframe thead th {\n",
       "        text-align: right;\n",
       "    }\n",
       "</style>\n",
       "<table border=\"1\" class=\"dataframe\">\n",
       "  <thead>\n",
       "    <tr style=\"text-align: right;\">\n",
       "      <th></th>\n",
       "      <th>soda_per_week</th>\n",
       "      <th>fast_food</th>\n",
       "      <th>monthly_earnings</th>\n",
       "      <th>homeowner</th>\n",
       "      <th>acc_produce</th>\n",
       "      <th>health_status</th>\n",
       "      <th>acc_produce_ALWAYS</th>\n",
       "      <th>acc_produce_NEVER</th>\n",
       "      <th>acc_produce_SOMETIMES</th>\n",
       "      <th>acc_produce_USUALLY</th>\n",
       "      <th>health_status_recode</th>\n",
       "    </tr>\n",
       "  </thead>\n",
       "  <tbody>\n",
       "    <tr>\n",
       "      <th>0</th>\n",
       "      <td>1.0</td>\n",
       "      <td>2.0</td>\n",
       "      <td>5000.0</td>\n",
       "      <td>1</td>\n",
       "      <td>3</td>\n",
       "      <td>EXCELLENT</td>\n",
       "      <td>0</td>\n",
       "      <td>0</td>\n",
       "      <td>0</td>\n",
       "      <td>1</td>\n",
       "      <td>1</td>\n",
       "    </tr>\n",
       "    <tr>\n",
       "      <th>1</th>\n",
       "      <td>1.0</td>\n",
       "      <td>1.0</td>\n",
       "      <td>0.0</td>\n",
       "      <td>0</td>\n",
       "      <td>4</td>\n",
       "      <td>GOOD</td>\n",
       "      <td>1</td>\n",
       "      <td>0</td>\n",
       "      <td>0</td>\n",
       "      <td>0</td>\n",
       "      <td>2</td>\n",
       "    </tr>\n",
       "    <tr>\n",
       "      <th>2</th>\n",
       "      <td>21.0</td>\n",
       "      <td>2.0</td>\n",
       "      <td>3000.0</td>\n",
       "      <td>1</td>\n",
       "      <td>4</td>\n",
       "      <td>EXCELLENT</td>\n",
       "      <td>1</td>\n",
       "      <td>0</td>\n",
       "      <td>0</td>\n",
       "      <td>0</td>\n",
       "      <td>1</td>\n",
       "    </tr>\n",
       "    <tr>\n",
       "      <th>3</th>\n",
       "      <td>0.0</td>\n",
       "      <td>1.0</td>\n",
       "      <td>2000.0</td>\n",
       "      <td>1</td>\n",
       "      <td>4</td>\n",
       "      <td>GOOD</td>\n",
       "      <td>1</td>\n",
       "      <td>0</td>\n",
       "      <td>0</td>\n",
       "      <td>0</td>\n",
       "      <td>2</td>\n",
       "    </tr>\n",
       "    <tr>\n",
       "      <th>4</th>\n",
       "      <td>1.0</td>\n",
       "      <td>3.0</td>\n",
       "      <td>0.0</td>\n",
       "      <td>0</td>\n",
       "      <td>4</td>\n",
       "      <td>VERY GOOD</td>\n",
       "      <td>1</td>\n",
       "      <td>0</td>\n",
       "      <td>0</td>\n",
       "      <td>0</td>\n",
       "      <td>1</td>\n",
       "    </tr>\n",
       "  </tbody>\n",
       "</table>\n",
       "</div>"
      ],
      "text/plain": [
       "   soda_per_week  fast_food  monthly_earnings  homeowner  acc_produce  \\\n",
       "0            1.0        2.0            5000.0          1            3   \n",
       "1            1.0        1.0               0.0          0            4   \n",
       "2           21.0        2.0            3000.0          1            4   \n",
       "3            0.0        1.0            2000.0          1            4   \n",
       "4            1.0        3.0               0.0          0            4   \n",
       "\n",
       "  health_status  acc_produce_ALWAYS  acc_produce_NEVER  acc_produce_SOMETIMES  \\\n",
       "0     EXCELLENT                   0                  0                      0   \n",
       "1          GOOD                   1                  0                      0   \n",
       "2     EXCELLENT                   1                  0                      0   \n",
       "3          GOOD                   1                  0                      0   \n",
       "4     VERY GOOD                   1                  0                      0   \n",
       "\n",
       "   acc_produce_USUALLY  health_status_recode  \n",
       "0                    1                     1  \n",
       "1                    0                     2  \n",
       "2                    0                     1  \n",
       "3                    0                     2  \n",
       "4                    0                     1  "
      ]
     },
     "execution_count": 4,
     "metadata": {},
     "output_type": "execute_result"
    }
   ],
   "source": [
    "data = pd.read_csv('chis_data.csv')\n",
    "data.head()"
   ]
  },
  {
   "cell_type": "code",
   "execution_count": 5,
   "metadata": {},
   "outputs": [
    {
     "data": {
      "text/plain": [
       "health_status  health_status_recode\n",
       "EXCELLENT      1                       2074\n",
       "FAIR           2                       1297\n",
       "GOOD           2                       3158\n",
       "POOR           3                        201\n",
       "VERY GOOD      1                       3295\n",
       "dtype: int64"
      ]
     },
     "execution_count": 5,
     "metadata": {},
     "output_type": "execute_result"
    }
   ],
   "source": [
    "data.groupby(by = ['health_status', 'health_status_recode']).size()"
   ]
  },
  {
   "cell_type": "markdown",
   "metadata": {},
   "source": [
    "### Ordinal Logit Regression"
   ]
  },
  {
   "cell_type": "markdown",
   "metadata": {},
   "source": [
    "#### Define dependent & independent variables"
   ]
  },
  {
   "cell_type": "code",
   "execution_count": 6,
   "metadata": {},
   "outputs": [],
   "source": [
    "ind_vars = ['soda_per_week', 'fast_food', 'monthly_earnings', 'homeowner',\n",
    "            'acc_produce_SOMETIMES', 'acc_produce_USUALLY', 'acc_produce_ALWAYS'] ### Baseline is NEVER\n",
    "\n",
    "y = data['health_status_recode']\n",
    "x = data[ind_vars]"
   ]
  },
  {
   "cell_type": "markdown",
   "metadata": {},
   "source": [
    "##### Run the model"
   ]
  },
  {
   "cell_type": "code",
   "execution_count": 7,
   "metadata": {},
   "outputs": [],
   "source": [
    "model_ordinal = md.LogisticAT().fit(x, y)"
   ]
  },
  {
   "cell_type": "markdown",
   "metadata": {},
   "source": [
    "##### Model statistics output"
   ]
  },
  {
   "cell_type": "code",
   "execution_count": 8,
   "metadata": {},
   "outputs": [
    {
     "data": {
      "text/html": [
       "<div>\n",
       "<style scoped>\n",
       "    .dataframe tbody tr th:only-of-type {\n",
       "        vertical-align: middle;\n",
       "    }\n",
       "\n",
       "    .dataframe tbody tr th {\n",
       "        vertical-align: top;\n",
       "    }\n",
       "\n",
       "    .dataframe thead th {\n",
       "        text-align: right;\n",
       "    }\n",
       "</style>\n",
       "<table border=\"1\" class=\"dataframe\">\n",
       "  <thead>\n",
       "    <tr style=\"text-align: right;\">\n",
       "      <th></th>\n",
       "      <th>Coefficient</th>\n",
       "      <th>Standard Errors</th>\n",
       "      <th>t values</th>\n",
       "      <th>Probabilites</th>\n",
       "      <th>2.5%</th>\n",
       "      <th>97.5%</th>\n",
       "    </tr>\n",
       "  </thead>\n",
       "  <tbody>\n",
       "    <tr>\n",
       "      <th>soda_per_week</th>\n",
       "      <td>0.022084</td>\n",
       "      <td>0.001334</td>\n",
       "      <td>16.549</td>\n",
       "      <td>0.00</td>\n",
       "      <td>0.019468</td>\n",
       "      <td>0.024699</td>\n",
       "    </tr>\n",
       "    <tr>\n",
       "      <th>fast_food</th>\n",
       "      <td>0.072485</td>\n",
       "      <td>0.002865</td>\n",
       "      <td>25.296</td>\n",
       "      <td>0.00</td>\n",
       "      <td>0.066869</td>\n",
       "      <td>0.078101</td>\n",
       "    </tr>\n",
       "    <tr>\n",
       "      <th>monthly_earnings</th>\n",
       "      <td>-0.000038</td>\n",
       "      <td>0.000001</td>\n",
       "      <td>-31.945</td>\n",
       "      <td>0.00</td>\n",
       "      <td>-0.000040</td>\n",
       "      <td>-0.000035</td>\n",
       "    </tr>\n",
       "    <tr>\n",
       "      <th>homeowner</th>\n",
       "      <td>-0.416261</td>\n",
       "      <td>0.013473</td>\n",
       "      <td>-30.895</td>\n",
       "      <td>0.00</td>\n",
       "      <td>-0.442669</td>\n",
       "      <td>-0.389853</td>\n",
       "    </tr>\n",
       "    <tr>\n",
       "      <th>acc_produce_SOMETIMES</th>\n",
       "      <td>-0.059042</td>\n",
       "      <td>0.025461</td>\n",
       "      <td>-2.319</td>\n",
       "      <td>0.02</td>\n",
       "      <td>-0.108945</td>\n",
       "      <td>-0.009140</td>\n",
       "    </tr>\n",
       "    <tr>\n",
       "      <th>acc_produce_USUALLY</th>\n",
       "      <td>-0.171437</td>\n",
       "      <td>0.021688</td>\n",
       "      <td>-7.905</td>\n",
       "      <td>0.00</td>\n",
       "      <td>-0.213946</td>\n",
       "      <td>-0.128929</td>\n",
       "    </tr>\n",
       "    <tr>\n",
       "      <th>acc_produce_ALWAYS</th>\n",
       "      <td>-0.512261</td>\n",
       "      <td>0.012671</td>\n",
       "      <td>-40.428</td>\n",
       "      <td>0.00</td>\n",
       "      <td>-0.537096</td>\n",
       "      <td>-0.487425</td>\n",
       "    </tr>\n",
       "  </tbody>\n",
       "</table>\n",
       "</div>"
      ],
      "text/plain": [
       "                       Coefficient  Standard Errors  t values  Probabilites  \\\n",
       "soda_per_week             0.022084         0.001334    16.549          0.00   \n",
       "fast_food                 0.072485         0.002865    25.296          0.00   \n",
       "monthly_earnings         -0.000038         0.000001   -31.945          0.00   \n",
       "homeowner                -0.416261         0.013473   -30.895          0.00   \n",
       "acc_produce_SOMETIMES    -0.059042         0.025461    -2.319          0.02   \n",
       "acc_produce_USUALLY      -0.171437         0.021688    -7.905          0.00   \n",
       "acc_produce_ALWAYS       -0.512261         0.012671   -40.428          0.00   \n",
       "\n",
       "                           2.5%     97.5%  \n",
       "soda_per_week          0.019468  0.024699  \n",
       "fast_food              0.066869  0.078101  \n",
       "monthly_earnings      -0.000040 -0.000035  \n",
       "homeowner             -0.442669 -0.389853  \n",
       "acc_produce_SOMETIMES -0.108945 -0.009140  \n",
       "acc_produce_USUALLY   -0.213946 -0.128929  \n",
       "acc_produce_ALWAYS    -0.537096 -0.487425  "
      ]
     },
     "execution_count": 8,
     "metadata": {},
     "output_type": "execute_result"
    }
   ],
   "source": [
    "OL_summary_output(model_ordinal)"
   ]
  },
  {
   "cell_type": "code",
   "execution_count": 9,
   "metadata": {},
   "outputs": [
    {
     "data": {
      "text/html": [
       "<div>\n",
       "<style scoped>\n",
       "    .dataframe tbody tr th:only-of-type {\n",
       "        vertical-align: middle;\n",
       "    }\n",
       "\n",
       "    .dataframe tbody tr th {\n",
       "        vertical-align: top;\n",
       "    }\n",
       "\n",
       "    .dataframe thead th {\n",
       "        text-align: right;\n",
       "    }\n",
       "</style>\n",
       "<table border=\"1\" class=\"dataframe\">\n",
       "  <thead>\n",
       "    <tr style=\"text-align: right;\">\n",
       "      <th></th>\n",
       "      <th>Coefficient</th>\n",
       "      <th>Standard Errors</th>\n",
       "      <th>t values</th>\n",
       "      <th>Probabilites</th>\n",
       "      <th>2.5%</th>\n",
       "      <th>97.5%</th>\n",
       "    </tr>\n",
       "  </thead>\n",
       "  <tbody>\n",
       "    <tr>\n",
       "      <th>soda_per_week</th>\n",
       "      <td>1.022330</td>\n",
       "      <td>1.001335</td>\n",
       "      <td>16.549</td>\n",
       "      <td>0.00</td>\n",
       "      <td>1.019659</td>\n",
       "      <td>1.025007</td>\n",
       "    </tr>\n",
       "    <tr>\n",
       "      <th>fast_food</th>\n",
       "      <td>1.075177</td>\n",
       "      <td>1.002870</td>\n",
       "      <td>25.296</td>\n",
       "      <td>0.00</td>\n",
       "      <td>1.069155</td>\n",
       "      <td>1.081232</td>\n",
       "    </tr>\n",
       "    <tr>\n",
       "      <th>monthly_earnings</th>\n",
       "      <td>0.999962</td>\n",
       "      <td>1.000001</td>\n",
       "      <td>-31.945</td>\n",
       "      <td>0.00</td>\n",
       "      <td>0.999960</td>\n",
       "      <td>0.999965</td>\n",
       "    </tr>\n",
       "    <tr>\n",
       "      <th>homeowner</th>\n",
       "      <td>0.659508</td>\n",
       "      <td>1.013565</td>\n",
       "      <td>-30.895</td>\n",
       "      <td>0.00</td>\n",
       "      <td>0.642320</td>\n",
       "      <td>0.677156</td>\n",
       "    </tr>\n",
       "    <tr>\n",
       "      <th>acc_produce_SOMETIMES</th>\n",
       "      <td>0.942667</td>\n",
       "      <td>1.025788</td>\n",
       "      <td>-2.319</td>\n",
       "      <td>0.02</td>\n",
       "      <td>0.896779</td>\n",
       "      <td>0.990902</td>\n",
       "    </tr>\n",
       "    <tr>\n",
       "      <th>acc_produce_USUALLY</th>\n",
       "      <td>0.842453</td>\n",
       "      <td>1.021925</td>\n",
       "      <td>-7.905</td>\n",
       "      <td>0.00</td>\n",
       "      <td>0.807392</td>\n",
       "      <td>0.879037</td>\n",
       "    </tr>\n",
       "    <tr>\n",
       "      <th>acc_produce_ALWAYS</th>\n",
       "      <td>0.599140</td>\n",
       "      <td>1.012752</td>\n",
       "      <td>-40.428</td>\n",
       "      <td>0.00</td>\n",
       "      <td>0.584443</td>\n",
       "      <td>0.614206</td>\n",
       "    </tr>\n",
       "  </tbody>\n",
       "</table>\n",
       "</div>"
      ],
      "text/plain": [
       "                       Coefficient  Standard Errors  t values  Probabilites  \\\n",
       "soda_per_week             1.022330         1.001335    16.549          0.00   \n",
       "fast_food                 1.075177         1.002870    25.296          0.00   \n",
       "monthly_earnings          0.999962         1.000001   -31.945          0.00   \n",
       "homeowner                 0.659508         1.013565   -30.895          0.00   \n",
       "acc_produce_SOMETIMES     0.942667         1.025788    -2.319          0.02   \n",
       "acc_produce_USUALLY       0.842453         1.021925    -7.905          0.00   \n",
       "acc_produce_ALWAYS        0.599140         1.012752   -40.428          0.00   \n",
       "\n",
       "                           2.5%     97.5%  \n",
       "soda_per_week          1.019659  1.025007  \n",
       "fast_food              1.069155  1.081232  \n",
       "monthly_earnings       0.999960  0.999965  \n",
       "homeowner              0.642320  0.677156  \n",
       "acc_produce_SOMETIMES  0.896779  0.990902  \n",
       "acc_produce_USUALLY    0.807392  0.879037  \n",
       "acc_produce_ALWAYS     0.584443  0.614206  "
      ]
     },
     "execution_count": 9,
     "metadata": {},
     "output_type": "execute_result"
    }
   ],
   "source": [
    "odds_ratio_summary_output(model_ordinal)"
   ]
  },
  {
   "cell_type": "markdown",
   "metadata": {},
   "source": [
    "#### Predicted probabilities"
   ]
  },
  {
   "cell_type": "code",
   "execution_count": 10,
   "metadata": {},
   "outputs": [],
   "source": [
    "exc, good, poor = zip(*model_ordinal.predict_proba(x))\n",
    "\n",
    "df_predict = data.copy()\n",
    "df_predict['pred_exc'], df_predict['pred_good'], df_predict['pred_poor'] = exc, good, poor"
   ]
  },
  {
   "cell_type": "markdown",
   "metadata": {},
   "source": [
    "###### Categorical variable"
   ]
  },
  {
   "cell_type": "code",
   "execution_count": 12,
   "metadata": {},
   "outputs": [
    {
     "data": {
      "image/png": "[encoded data removed]",
      "text/plain": [
       "<Figure size 576x288 with 1 Axes>"
      ]
     },
     "metadata": {
      "needs_background": "light"
     },
     "output_type": "display_data"
    }
   ],
   "source": [
    "# Aggregate data by access to produce and compute the mean of the probability\n",
    "df_predict_plot = df_predict.groupby(by = 'acc_produce').agg(np.mean)[['pred_exc', 'pred_good', 'pred_poor']]\n",
    "\n",
    "df_predict_plot.plot(figsize = (8,4))\n",
    "+\n",
    "positions = (1, 2, 3, 4)\n",
    "labels = ('Never', 'Sometimes', 'Usually', 'Always')\n",
    "plt.xticks(positions, labels)\n",
    "\n",
    "plt.xlabel ('Access to Produce')\n",
    "plt.ylabel ('Probability')\n",
    "plt.title ('Change in health outcome based on access to produce')\n",
    "\n",
    "lab = ('Excellent', 'Good', 'Poor')\n",
    "plt.legend(loc='upper center', ncol=3, labels = lab);"
   ]
  },
  {
   "cell_type": "markdown",
   "metadata": {},
   "source": [
    "##### Continous variable"
   ]
  },
  {
   "cell_type": "code",
   "execution_count": 13,
   "metadata": {
    "scrolled": true
   },
   "outputs": [
    {
     "data": {
      "image/png": "[encoded data removed]",
      "text/plain": [
       "<Figure size 576x288 with 1 Axes>"
      ]
     },
     "metadata": {
      "needs_background": "light"
     },
     "output_type": "display_data"
    }
   ],
   "source": [
    "x = 'soda_per_week'\n",
    "y = ['pred_exc', 'pred_good', 'pred_poor']\n",
    "\n",
    "df_predict_plot = df_predict.groupby(by = x).agg(np.mean)[y].reset_index()\n",
    "\n",
    "df_predict_plot.plot(x, y, figsize = (8,4));\n",
    "\n",
    "plt.xlabel ('Soda consumption per week')\n",
    "plt.ylabel ('Probability')\n",
    "plt.title ('Change in health outcome based on access to produce')\n",
    "\n",
    "lab = ('Excellent', 'Good', 'Poor')\n",
    "plt.legend(loc='upper center', ncol=3, labels = lab);"
   ]
  },
  {
   "cell_type": "code",
   "execution_count": null,
   "metadata": {},
   "outputs": [],
   "source": []
  }
 ],
 "metadata": {
  "kernelspec": {
   "display_name": "Python 3",
   "language": "python",
   "name": "python3"
  },
  "language_info": {
   "codemirror_mode": {
    "name": "ipython",
    "version": 3
   },
   "file_extension": ".py",
   "mimetype": "text/x-python",
   "name": "python",
   "nbconvert_exporter": "python",
   "pygments_lexer": "ipython3",
   "version": "3.6.9"
  }
 },
 "nbformat": 4,
 "nbformat_minor": 2
}
