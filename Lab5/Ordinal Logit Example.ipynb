{
 "cells": [
  {
   "cell_type": "markdown",
   "metadata": {},
   "source": [
    "#### Import libraries"
   ]
  },
  {
   "cell_type": "code",
   "execution_count": 36,
   "metadata": {},
   "outputs": [],
   "source": [
    "import mord as md\n",
    "import pandas as pd\n",
    "import numpy as np\n",
    "from sklearn import metrics\n",
    "from scipy import stats\n",
    "\n",
    "import matplotlib.pyplot as plt\n",
    "import seaborn as sns"
   ]
  },
  {
   "cell_type": "markdown",
   "metadata": {},
   "source": [
    "#### Define ordered logistic functions"
   ]
  },
  {
   "cell_type": "code",
   "execution_count": 2,
   "metadata": {},
   "outputs": [],
   "source": [
    "def OL_summary_output(model):\n",
    "    \n",
    "    #Computes coefficients\n",
    "    params = model.coef_\n",
    "    \n",
    "    #Computes predictions\n",
    "    prediction = model.predict(x)\n",
    "\n",
    "    #Computes metrics\n",
    "    MAE = metrics.mean_absolute_error(y, prediction)\n",
    "    MSE = metrics.mean_squared_error(y, prediction)\n",
    "    RMSE = np.sqrt(metrics.mean_squared_error(y, prediction))\n",
    "\n",
    "    #Creates summary dataframe\n",
    "    coeff_df = pd.DataFrame(params, x.columns, columns=['Coefficient'])\n",
    "\n",
    "    #Computes variance\n",
    "    var_b = MSE*(np.linalg.inv(np.dot(x.T,x)).diagonal())\n",
    "\n",
    "    #Computes standard error\n",
    "    sd_b = np.sqrt(var_b)\n",
    "\n",
    "    #Computes t-statistic\n",
    "    ts_b = params/sd_b\n",
    "\n",
    "    #Computes p-values\n",
    "    p_values =[2*(1-stats.t.cdf(np.abs(i),(len(x)-1))) for i in ts_b]\n",
    "\n",
    "    #Computes confidence intervals\n",
    "    conf_int_inf = params - 1.96*sd_b\n",
    "    conf_int_sup = params + 1.96*sd_b\n",
    "\n",
    "    #Formats numbers for table\n",
    "    sd_b = sd_b\n",
    "    ts_b = np.round(ts_b,3)\n",
    "    p_values = np.round(p_values,3)\n",
    "    params = np.round(params,4)\n",
    "\n",
    "    #Summarizes dataframe\n",
    "    coeff_df[\"Standard Errors\"],coeff_df[\"t values\"],coeff_df[\"Probabilites\"], coeff_df['2.5%'], coeff_df['97.5%'] = [sd_b,ts_b,p_values, conf_int_inf, conf_int_sup]\n",
    "    \n",
    "    print('Mean Absolute Error:', np.round(MAE, 3))  \n",
    "    print('Mean Squared Error:', np.round(MSE, 3))  \n",
    "    print('Root Mean Squared Error:', np.round(RMSE,3))\n",
    "    return coeff_df\n",
    "\n",
    "def odds_ratio_summary_output(model_summary_output):\n",
    "    \n",
    "    model_summary_output = OL_summary_output(model_ordinal)\n",
    "    coeff_OR = model_summary_output.copy()\n",
    "    \n",
    "    coeff_OR[\"Coefficient\"] = np.exp(model_summary_output[\"Coefficient\"])\n",
    "    coeff_OR[\"Standard Errors\"] = np.exp(model_summary_output[\"Standard Errors\"])\n",
    "    coeff_OR['2.5%'] = np.exp(coeff_OR['2.5%'])\n",
    "    coeff_OR['97.5%'] = np.exp(coeff_OR['97.5%'])\n",
    "    \n",
    "    return coeff_OR"
   ]
  },
  {
   "cell_type": "markdown",
   "metadata": {},
   "source": [
    "#### Read data"
   ]
  },
  {
   "cell_type": "code",
   "execution_count": 3,
   "metadata": {},
   "outputs": [
    {
     "data": {
      "text/html": [
       "<div>\n",
       "<style scoped>\n",
       "    .dataframe tbody tr th:only-of-type {\n",
       "        vertical-align: middle;\n",
       "    }\n",
       "\n",
       "    .dataframe tbody tr th {\n",
       "        vertical-align: top;\n",
       "    }\n",
       "\n",
       "    .dataframe thead th {\n",
       "        text-align: right;\n",
       "    }\n",
       "</style>\n",
       "<table border=\"1\" class=\"dataframe\">\n",
       "  <thead>\n",
       "    <tr style=\"text-align: right;\">\n",
       "      <th></th>\n",
       "      <th>soda_per_week</th>\n",
       "      <th>fast_food</th>\n",
       "      <th>monthly_earnings</th>\n",
       "      <th>homeowner</th>\n",
       "      <th>acc_produce</th>\n",
       "      <th>health_status</th>\n",
       "      <th>acc_produce_ALWAYS</th>\n",
       "      <th>acc_produce_NEVER</th>\n",
       "      <th>acc_produce_SOMETIMES</th>\n",
       "      <th>acc_produce_USUALLY</th>\n",
       "      <th>health_status_recode</th>\n",
       "    </tr>\n",
       "  </thead>\n",
       "  <tbody>\n",
       "    <tr>\n",
       "      <td>0</td>\n",
       "      <td>1.0</td>\n",
       "      <td>2.0</td>\n",
       "      <td>5000.0</td>\n",
       "      <td>1</td>\n",
       "      <td>3</td>\n",
       "      <td>EXCELLENT</td>\n",
       "      <td>0</td>\n",
       "      <td>0</td>\n",
       "      <td>0</td>\n",
       "      <td>1</td>\n",
       "      <td>1</td>\n",
       "    </tr>\n",
       "    <tr>\n",
       "      <td>1</td>\n",
       "      <td>1.0</td>\n",
       "      <td>1.0</td>\n",
       "      <td>0.0</td>\n",
       "      <td>0</td>\n",
       "      <td>4</td>\n",
       "      <td>GOOD</td>\n",
       "      <td>1</td>\n",
       "      <td>0</td>\n",
       "      <td>0</td>\n",
       "      <td>0</td>\n",
       "      <td>2</td>\n",
       "    </tr>\n",
       "    <tr>\n",
       "      <td>2</td>\n",
       "      <td>21.0</td>\n",
       "      <td>2.0</td>\n",
       "      <td>3000.0</td>\n",
       "      <td>1</td>\n",
       "      <td>4</td>\n",
       "      <td>EXCELLENT</td>\n",
       "      <td>1</td>\n",
       "      <td>0</td>\n",
       "      <td>0</td>\n",
       "      <td>0</td>\n",
       "      <td>1</td>\n",
       "    </tr>\n",
       "    <tr>\n",
       "      <td>3</td>\n",
       "      <td>0.0</td>\n",
       "      <td>1.0</td>\n",
       "      <td>2000.0</td>\n",
       "      <td>1</td>\n",
       "      <td>4</td>\n",
       "      <td>GOOD</td>\n",
       "      <td>1</td>\n",
       "      <td>0</td>\n",
       "      <td>0</td>\n",
       "      <td>0</td>\n",
       "      <td>2</td>\n",
       "    </tr>\n",
       "    <tr>\n",
       "      <td>4</td>\n",
       "      <td>1.0</td>\n",
       "      <td>3.0</td>\n",
       "      <td>0.0</td>\n",
       "      <td>0</td>\n",
       "      <td>4</td>\n",
       "      <td>VERY GOOD</td>\n",
       "      <td>1</td>\n",
       "      <td>0</td>\n",
       "      <td>0</td>\n",
       "      <td>0</td>\n",
       "      <td>1</td>\n",
       "    </tr>\n",
       "  </tbody>\n",
       "</table>\n",
       "</div>"
      ],
      "text/plain": [
       "   soda_per_week  fast_food  monthly_earnings  homeowner  acc_produce  \\\n",
       "0            1.0        2.0            5000.0          1            3   \n",
       "1            1.0        1.0               0.0          0            4   \n",
       "2           21.0        2.0            3000.0          1            4   \n",
       "3            0.0        1.0            2000.0          1            4   \n",
       "4            1.0        3.0               0.0          0            4   \n",
       "\n",
       "  health_status  acc_produce_ALWAYS  acc_produce_NEVER  acc_produce_SOMETIMES  \\\n",
       "0     EXCELLENT                   0                  0                      0   \n",
       "1          GOOD                   1                  0                      0   \n",
       "2     EXCELLENT                   1                  0                      0   \n",
       "3          GOOD                   1                  0                      0   \n",
       "4     VERY GOOD                   1                  0                      0   \n",
       "\n",
       "   acc_produce_USUALLY  health_status_recode  \n",
       "0                    1                     1  \n",
       "1                    0                     2  \n",
       "2                    0                     1  \n",
       "3                    0                     2  \n",
       "4                    0                     1  "
      ]
     },
     "execution_count": 3,
     "metadata": {},
     "output_type": "execute_result"
    }
   ],
   "source": [
    "data = pd.read_csv('chis_data.csv')\n",
    "data.head()"
   ]
  },
  {
   "cell_type": "code",
   "execution_count": 4,
   "metadata": {},
   "outputs": [
    {
     "data": {
      "text/plain": [
       "health_status  health_status_recode\n",
       "EXCELLENT      1                       2074\n",
       "FAIR           2                       1297\n",
       "GOOD           2                       3158\n",
       "POOR           3                        201\n",
       "VERY GOOD      1                       3295\n",
       "dtype: int64"
      ]
     },
     "execution_count": 4,
     "metadata": {},
     "output_type": "execute_result"
    }
   ],
   "source": [
    "data.groupby(by = ['health_status', 'health_status_recode']).size()"
   ]
  },
  {
   "cell_type": "markdown",
   "metadata": {},
   "source": [
    "### Ordinal Logit Regression"
   ]
  },
  {
   "cell_type": "markdown",
   "metadata": {},
   "source": [
    "#### Define dependent & independent variables"
   ]
  },
  {
   "cell_type": "code",
   "execution_count": 5,
   "metadata": {},
   "outputs": [],
   "source": [
    "ind_vars = ['soda_per_week', 'fast_food', 'monthly_earnings', 'homeowner',\n",
    "            'acc_produce_SOMETIMES', 'acc_produce_USUALLY', 'acc_produce_ALWAYS'] ### Baseline is NEVER\n",
    "\n",
    "y = data['health_status_recode']\n",
    "x = data[ind_vars]"
   ]
  },
  {
   "cell_type": "markdown",
   "metadata": {},
   "source": [
    "##### Run the model"
   ]
  },
  {
   "cell_type": "code",
   "execution_count": 6,
   "metadata": {},
   "outputs": [],
   "source": [
    "model_ordinal = md.LogisticIT().fit(x, y)\n",
    "prediction = model_ordinal.predict(x)"
   ]
  },
  {
   "cell_type": "markdown",
   "metadata": {},
   "source": [
    "##### Model statistics output"
   ]
  },
  {
   "cell_type": "code",
   "execution_count": 7,
   "metadata": {},
   "outputs": [
    {
     "name": "stdout",
     "output_type": "stream",
     "text": [
      "Mean Absolute Error: 0.415\n",
      "Mean Squared Error: 0.433\n",
      "Root Mean Squared Error: 0.658\n"
     ]
    },
    {
     "data": {
      "text/html": [
       "<div>\n",
       "<style scoped>\n",
       "    .dataframe tbody tr th:only-of-type {\n",
       "        vertical-align: middle;\n",
       "    }\n",
       "\n",
       "    .dataframe tbody tr th {\n",
       "        vertical-align: top;\n",
       "    }\n",
       "\n",
       "    .dataframe thead th {\n",
       "        text-align: right;\n",
       "    }\n",
       "</style>\n",
       "<table border=\"1\" class=\"dataframe\">\n",
       "  <thead>\n",
       "    <tr style=\"text-align: right;\">\n",
       "      <th></th>\n",
       "      <th>Coefficient</th>\n",
       "      <th>Standard Errors</th>\n",
       "      <th>t values</th>\n",
       "      <th>Probabilites</th>\n",
       "      <th>2.5%</th>\n",
       "      <th>97.5%</th>\n",
       "    </tr>\n",
       "  </thead>\n",
       "  <tbody>\n",
       "    <tr>\n",
       "      <td>soda_per_week</td>\n",
       "      <td>0.021170</td>\n",
       "      <td>0.001343</td>\n",
       "      <td>15.760</td>\n",
       "      <td>0.000</td>\n",
       "      <td>0.018537</td>\n",
       "      <td>0.023803</td>\n",
       "    </tr>\n",
       "    <tr>\n",
       "      <td>fast_food</td>\n",
       "      <td>0.066500</td>\n",
       "      <td>0.002884</td>\n",
       "      <td>23.054</td>\n",
       "      <td>0.000</td>\n",
       "      <td>0.060846</td>\n",
       "      <td>0.072153</td>\n",
       "    </tr>\n",
       "    <tr>\n",
       "      <td>monthly_earnings</td>\n",
       "      <td>-0.000036</td>\n",
       "      <td>0.000001</td>\n",
       "      <td>-30.613</td>\n",
       "      <td>0.000</td>\n",
       "      <td>-0.000039</td>\n",
       "      <td>-0.000034</td>\n",
       "    </tr>\n",
       "    <tr>\n",
       "      <td>homeowner</td>\n",
       "      <td>-0.387494</td>\n",
       "      <td>0.013563</td>\n",
       "      <td>-28.571</td>\n",
       "      <td>0.000</td>\n",
       "      <td>-0.414077</td>\n",
       "      <td>-0.360911</td>\n",
       "    </tr>\n",
       "    <tr>\n",
       "      <td>acc_produce_SOMETIMES</td>\n",
       "      <td>-0.021717</td>\n",
       "      <td>0.025630</td>\n",
       "      <td>-0.847</td>\n",
       "      <td>0.397</td>\n",
       "      <td>-0.071951</td>\n",
       "      <td>0.028517</td>\n",
       "    </tr>\n",
       "    <tr>\n",
       "      <td>acc_produce_USUALLY</td>\n",
       "      <td>-0.103226</td>\n",
       "      <td>0.021832</td>\n",
       "      <td>-4.728</td>\n",
       "      <td>0.000</td>\n",
       "      <td>-0.146017</td>\n",
       "      <td>-0.060435</td>\n",
       "    </tr>\n",
       "    <tr>\n",
       "      <td>acc_produce_ALWAYS</td>\n",
       "      <td>-0.455993</td>\n",
       "      <td>0.012755</td>\n",
       "      <td>-35.750</td>\n",
       "      <td>0.000</td>\n",
       "      <td>-0.480993</td>\n",
       "      <td>-0.430993</td>\n",
       "    </tr>\n",
       "  </tbody>\n",
       "</table>\n",
       "</div>"
      ],
      "text/plain": [
       "                       Coefficient  Standard Errors  t values  Probabilites  \\\n",
       "soda_per_week             0.021170         0.001343    15.760         0.000   \n",
       "fast_food                 0.066500         0.002884    23.054         0.000   \n",
       "monthly_earnings         -0.000036         0.000001   -30.613         0.000   \n",
       "homeowner                -0.387494         0.013563   -28.571         0.000   \n",
       "acc_produce_SOMETIMES    -0.021717         0.025630    -0.847         0.397   \n",
       "acc_produce_USUALLY      -0.103226         0.021832    -4.728         0.000   \n",
       "acc_produce_ALWAYS       -0.455993         0.012755   -35.750         0.000   \n",
       "\n",
       "                           2.5%     97.5%  \n",
       "soda_per_week          0.018537  0.023803  \n",
       "fast_food              0.060846  0.072153  \n",
       "monthly_earnings      -0.000039 -0.000034  \n",
       "homeowner             -0.414077 -0.360911  \n",
       "acc_produce_SOMETIMES -0.071951  0.028517  \n",
       "acc_produce_USUALLY   -0.146017 -0.060435  \n",
       "acc_produce_ALWAYS    -0.480993 -0.430993  "
      ]
     },
     "execution_count": 7,
     "metadata": {},
     "output_type": "execute_result"
    }
   ],
   "source": [
    "OL_summary_output(model_ordinal)"
   ]
  },
  {
   "cell_type": "code",
   "execution_count": 8,
   "metadata": {},
   "outputs": [
    {
     "name": "stdout",
     "output_type": "stream",
     "text": [
      "Mean Absolute Error: 0.415\n",
      "Mean Squared Error: 0.433\n",
      "Root Mean Squared Error: 0.658\n"
     ]
    },
    {
     "data": {
      "text/html": [
       "<div>\n",
       "<style scoped>\n",
       "    .dataframe tbody tr th:only-of-type {\n",
       "        vertical-align: middle;\n",
       "    }\n",
       "\n",
       "    .dataframe tbody tr th {\n",
       "        vertical-align: top;\n",
       "    }\n",
       "\n",
       "    .dataframe thead th {\n",
       "        text-align: right;\n",
       "    }\n",
       "</style>\n",
       "<table border=\"1\" class=\"dataframe\">\n",
       "  <thead>\n",
       "    <tr style=\"text-align: right;\">\n",
       "      <th></th>\n",
       "      <th>Coefficient</th>\n",
       "      <th>Standard Errors</th>\n",
       "      <th>t values</th>\n",
       "      <th>Probabilites</th>\n",
       "      <th>2.5%</th>\n",
       "      <th>97.5%</th>\n",
       "    </tr>\n",
       "  </thead>\n",
       "  <tbody>\n",
       "    <tr>\n",
       "      <td>soda_per_week</td>\n",
       "      <td>1.021396</td>\n",
       "      <td>1.001344</td>\n",
       "      <td>15.760</td>\n",
       "      <td>0.000</td>\n",
       "      <td>1.018710</td>\n",
       "      <td>1.024089</td>\n",
       "    </tr>\n",
       "    <tr>\n",
       "      <td>fast_food</td>\n",
       "      <td>1.068761</td>\n",
       "      <td>1.002889</td>\n",
       "      <td>23.054</td>\n",
       "      <td>0.000</td>\n",
       "      <td>1.062735</td>\n",
       "      <td>1.074820</td>\n",
       "    </tr>\n",
       "    <tr>\n",
       "      <td>monthly_earnings</td>\n",
       "      <td>0.999964</td>\n",
       "      <td>1.000001</td>\n",
       "      <td>-30.613</td>\n",
       "      <td>0.000</td>\n",
       "      <td>0.999961</td>\n",
       "      <td>0.999966</td>\n",
       "    </tr>\n",
       "    <tr>\n",
       "      <td>homeowner</td>\n",
       "      <td>0.678756</td>\n",
       "      <td>1.013655</td>\n",
       "      <td>-28.571</td>\n",
       "      <td>0.000</td>\n",
       "      <td>0.660950</td>\n",
       "      <td>0.697041</td>\n",
       "    </tr>\n",
       "    <tr>\n",
       "      <td>acc_produce_SOMETIMES</td>\n",
       "      <td>0.978517</td>\n",
       "      <td>1.025961</td>\n",
       "      <td>-0.847</td>\n",
       "      <td>0.397</td>\n",
       "      <td>0.930577</td>\n",
       "      <td>1.028928</td>\n",
       "    </tr>\n",
       "    <tr>\n",
       "      <td>acc_produce_USUALLY</td>\n",
       "      <td>0.901923</td>\n",
       "      <td>1.022072</td>\n",
       "      <td>-4.728</td>\n",
       "      <td>0.000</td>\n",
       "      <td>0.864143</td>\n",
       "      <td>0.941355</td>\n",
       "    </tr>\n",
       "    <tr>\n",
       "      <td>acc_produce_ALWAYS</td>\n",
       "      <td>0.633818</td>\n",
       "      <td>1.012837</td>\n",
       "      <td>-35.750</td>\n",
       "      <td>0.000</td>\n",
       "      <td>0.618169</td>\n",
       "      <td>0.649863</td>\n",
       "    </tr>\n",
       "  </tbody>\n",
       "</table>\n",
       "</div>"
      ],
      "text/plain": [
       "                       Coefficient  Standard Errors  t values  Probabilites  \\\n",
       "soda_per_week             1.021396         1.001344    15.760         0.000   \n",
       "fast_food                 1.068761         1.002889    23.054         0.000   \n",
       "monthly_earnings          0.999964         1.000001   -30.613         0.000   \n",
       "homeowner                 0.678756         1.013655   -28.571         0.000   \n",
       "acc_produce_SOMETIMES     0.978517         1.025961    -0.847         0.397   \n",
       "acc_produce_USUALLY       0.901923         1.022072    -4.728         0.000   \n",
       "acc_produce_ALWAYS        0.633818         1.012837   -35.750         0.000   \n",
       "\n",
       "                           2.5%     97.5%  \n",
       "soda_per_week          1.018710  1.024089  \n",
       "fast_food              1.062735  1.074820  \n",
       "monthly_earnings       0.999961  0.999966  \n",
       "homeowner              0.660950  0.697041  \n",
       "acc_produce_SOMETIMES  0.930577  1.028928  \n",
       "acc_produce_USUALLY    0.864143  0.941355  \n",
       "acc_produce_ALWAYS     0.618169  0.649863  "
      ]
     },
     "execution_count": 8,
     "metadata": {},
     "output_type": "execute_result"
    }
   ],
   "source": [
    "odds_ratio_summary_output(model_ordinal)"
   ]
  },
  {
   "cell_type": "markdown",
   "metadata": {},
   "source": [
    "#### Predicted probabilities"
   ]
  },
  {
   "cell_type": "code",
   "execution_count": 10,
   "metadata": {},
   "outputs": [
    {
     "data": {
      "image/png": "[encoded data removed]",
      "text/plain": [
       "<Figure size 576x324 with 1 Axes>"
      ]
     },
     "metadata": {
      "needs_background": "light"
     },
     "output_type": "display_data"
    }
   ],
   "source": [
    "exc, good, poor = zip(*model_ordinal.predict_proba(x))\n",
    "\n",
    "plt.figure(figsize=(8,4.5))\n",
    "plt.scatter(data['acc_produce']-0.075, np.array(exc), label = 'Excellent')\n",
    "plt.scatter(data['acc_produce'], np.array(good), label = 'Good')\n",
    "plt.scatter(data['acc_produce']+0.075, np.array(poor), label ='Poor')\n",
    "\n",
    "plt.legend(loc='upper center', ncol=3)\n",
    "\n",
    "positions = (1, 2, 3, 4)\n",
    "labels = ('Never', 'Sometimes', 'Usually', 'Always')\n",
    "plt.xticks(positions, labels)\n",
    "\n",
    "plt.xlabel ('Access to Produce')\n",
    "plt.ylabel ('Probability')\n",
    "plt.title ('Change in health outcome based on access to produce');"
   ]
  },
  {
   "cell_type": "code",
   "execution_count": 38,
   "metadata": {},
   "outputs": [
    {
     "data": {
      "image/png": "[encoded data removed]",
      "text/plain": [
       "<Figure size 864x576 with 1 Axes>"
      ]
     },
     "metadata": {
      "needs_background": "light"
     },
     "output_type": "display_data"
    }
   ],
   "source": [
    "melted_df=pd.melt(df_predict, id_vars = ['acc_produce'], value_vars = ['pred_exc', 'pred_good', 'pred_poor'])\n",
    "\n",
    "plt.figure(figsize=(12,8))\n",
    "\n",
    "ax = sns.boxplot('acc_produce', 'value', data = melted_df,\n",
    "            hue = 'variable')\n",
    "\n",
    "plt.xlabel('Access to Produce'),\n",
    "plt.ylabel('Probability'),\n",
    "plt.title('Predicted health outcomes based on access to produce')\n",
    "\n",
    "positions = (0, 1, 2, 3)\n",
    "labels = ('Never', 'Sometimes', 'Usually', 'Always')\n",
    "plt.xticks(positions, labels)\n",
    "\n",
    "\n",
    "handles, _ = ax.get_legend_handles_labels()\n",
    "legend = ['Excellent', 'Good', 'Poor']\n",
    "plt.legend(handles, legend);"
   ]
  },
  {
   "cell_type": "code",
   "execution_count": null,
   "metadata": {},
   "outputs": [],
   "source": []
  }
 ],
 "metadata": {
  "kernelspec": {
   "display_name": "Python 3",
   "language": "python",
   "name": "python3"
  },
  "language_info": {
   "codemirror_mode": {
    "name": "ipython",
    "version": 3
   },
   "file_extension": ".py",
   "mimetype": "text/x-python",
   "name": "python",
   "nbconvert_exporter": "python",
   "pygments_lexer": "ipython3",
   "version": "3.7.4"
  }
 },
 "nbformat": 4,
 "nbformat_minor": 2
}
