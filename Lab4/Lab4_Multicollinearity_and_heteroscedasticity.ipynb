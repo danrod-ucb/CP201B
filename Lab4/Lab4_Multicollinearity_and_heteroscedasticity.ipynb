{
 "cells": [
  {
   "cell_type": "markdown",
   "metadata": {},
   "source": [
    "# Lab 4 - Dealing with common issues regarding linear regressions "
   ]
  },
  {
   "cell_type": "markdown",
   "metadata": {},
   "source": [
    "In this lab, we'll be analyzing the following:\n",
    "1. Interpreting a multivariate linear regression\n",
    "2. Examining multicollinearity & Variance Inflation Factors\n",
    "3. Examining homoscedasticity\n",
    "4. Doing log transformations of a variable\n",
    "5. Accounting for non-linear effects (eg - age)"
   ]
  },
  {
   "cell_type": "code",
   "execution_count": 27,
   "metadata": {},
   "outputs": [],
   "source": [
    "import numpy as np\n",
    "import pandas as pd\n",
    "\n",
    "import seaborn as sns\n",
    "import matplotlib.pyplot as plt\n",
    "\n",
    "import statsmodels.api as sm\n",
    "from statsmodels.stats.outliers_influence import variance_inflation_factor ### VIF package\n",
    "from statsmodels.stats.diagnostic import het_breuschpagan\n",
    "from statsmodels.discrete.discrete_model import Logit\n",
    "from scipy.stats.mstats import zscore"
   ]
  },
  {
   "cell_type": "markdown",
   "metadata": {},
   "source": [
    "### Load the data"
   ]
  },
  {
   "cell_type": "code",
   "execution_count": 13,
   "metadata": {},
   "outputs": [
    {
     "data": {
      "text/html": [
       "<div>\n",
       "<style scoped>\n",
       "    .dataframe tbody tr th:only-of-type {\n",
       "        vertical-align: middle;\n",
       "    }\n",
       "\n",
       "    .dataframe tbody tr th {\n",
       "        vertical-align: top;\n",
       "    }\n",
       "\n",
       "    .dataframe thead th {\n",
       "        text-align: right;\n",
       "    }\n",
       "</style>\n",
       "<table border=\"1\" class=\"dataframe\">\n",
       "  <thead>\n",
       "    <tr style=\"text-align: right;\">\n",
       "      <th></th>\n",
       "      <th>Unnamed: 0</th>\n",
       "      <th>id</th>\n",
       "      <th>price_000</th>\n",
       "      <th>apt</th>\n",
       "      <th>floor</th>\n",
       "      <th>age_0_10</th>\n",
       "      <th>age_10_20</th>\n",
       "      <th>age_20_more</th>\n",
       "      <th>num_room</th>\n",
       "      <th>num_bath</th>\n",
       "      <th>...</th>\n",
       "      <th>pcnt_com</th>\n",
       "      <th>pcnt_insti</th>\n",
       "      <th>pcnt_vacant</th>\n",
       "      <th>pcn_green</th>\n",
       "      <th>homicides</th>\n",
       "      <th>house</th>\n",
       "      <th>ses_bin</th>\n",
       "      <th>lnprice</th>\n",
       "      <th>price_hi</th>\n",
       "      <th>year</th>\n",
       "    </tr>\n",
       "  </thead>\n",
       "  <tbody>\n",
       "    <tr>\n",
       "      <td>0</td>\n",
       "      <td>0</td>\n",
       "      <td>40003</td>\n",
       "      <td>60000</td>\n",
       "      <td>1</td>\n",
       "      <td>5</td>\n",
       "      <td>1</td>\n",
       "      <td>0</td>\n",
       "      <td>0</td>\n",
       "      <td>3</td>\n",
       "      <td>2</td>\n",
       "      <td>...</td>\n",
       "      <td>0.00</td>\n",
       "      <td>0.49</td>\n",
       "      <td>0.0</td>\n",
       "      <td>1.74</td>\n",
       "      <td>39.92</td>\n",
       "      <td>0</td>\n",
       "      <td>0</td>\n",
       "      <td>11.0021</td>\n",
       "      <td>0</td>\n",
       "      <td>2001</td>\n",
       "    </tr>\n",
       "    <tr>\n",
       "      <td>1</td>\n",
       "      <td>1</td>\n",
       "      <td>40007</td>\n",
       "      <td>140000</td>\n",
       "      <td>0</td>\n",
       "      <td>0</td>\n",
       "      <td>0</td>\n",
       "      <td>1</td>\n",
       "      <td>0</td>\n",
       "      <td>4</td>\n",
       "      <td>4</td>\n",
       "      <td>...</td>\n",
       "      <td>15.41</td>\n",
       "      <td>1.32</td>\n",
       "      <td>0.0</td>\n",
       "      <td>0.54</td>\n",
       "      <td>46.00</td>\n",
       "      <td>1</td>\n",
       "      <td>0</td>\n",
       "      <td>11.8494</td>\n",
       "      <td>1</td>\n",
       "      <td>2002</td>\n",
       "    </tr>\n",
       "  </tbody>\n",
       "</table>\n",
       "<p>2 rows × 25 columns</p>\n",
       "</div>"
      ],
      "text/plain": [
       "   Unnamed: 0     id  price_000  apt  floor  age_0_10  age_10_20  age_20_more  \\\n",
       "0           0  40003      60000    1      5         1          0            0   \n",
       "1           1  40007     140000    0      0         0          1            0   \n",
       "\n",
       "   num_room  num_bath  ...  pcnt_com  pcnt_insti  pcnt_vacant  pcn_green  \\\n",
       "0         3         2  ...      0.00        0.49          0.0       1.74   \n",
       "1         4         4  ...     15.41        1.32          0.0       0.54   \n",
       "\n",
       "   homicides  house  ses_bin  lnprice  price_hi  year  \n",
       "0      39.92      0        0  11.0021         0  2001  \n",
       "1      46.00      1        0  11.8494         1  2002  \n",
       "\n",
       "[2 rows x 25 columns]"
      ]
     },
     "execution_count": 13,
     "metadata": {},
     "output_type": "execute_result"
    }
   ],
   "source": [
    "raw = pd.read_csv ('data.csv')\n",
    "raw.head(2)"
   ]
  },
  {
   "cell_type": "markdown",
   "metadata": {},
   "source": [
    "Create a copy with only the variables of interest"
   ]
  },
  {
   "cell_type": "code",
   "execution_count": 16,
   "metadata": {},
   "outputs": [
    {
     "data": {
      "text/html": [
       "<div>\n",
       "<style scoped>\n",
       "    .dataframe tbody tr th:only-of-type {\n",
       "        vertical-align: middle;\n",
       "    }\n",
       "\n",
       "    .dataframe tbody tr th {\n",
       "        vertical-align: top;\n",
       "    }\n",
       "\n",
       "    .dataframe thead th {\n",
       "        text-align: right;\n",
       "    }\n",
       "</style>\n",
       "<table border=\"1\" class=\"dataframe\">\n",
       "  <thead>\n",
       "    <tr style=\"text-align: right;\">\n",
       "      <th></th>\n",
       "      <th>price_000</th>\n",
       "      <th>pop_dens</th>\n",
       "      <th>ses</th>\n",
       "      <th>house</th>\n",
       "      <th>area_m2</th>\n",
       "      <th>num_bath</th>\n",
       "      <th>pcn_green</th>\n",
       "      <th>homicides</th>\n",
       "      <th>year</th>\n",
       "    </tr>\n",
       "  </thead>\n",
       "  <tbody>\n",
       "    <tr>\n",
       "      <td>0</td>\n",
       "      <td>60000</td>\n",
       "      <td>830.78</td>\n",
       "      <td>4</td>\n",
       "      <td>0</td>\n",
       "      <td>70</td>\n",
       "      <td>2</td>\n",
       "      <td>1.74</td>\n",
       "      <td>39.92</td>\n",
       "      <td>2001</td>\n",
       "    </tr>\n",
       "    <tr>\n",
       "      <td>1</td>\n",
       "      <td>140000</td>\n",
       "      <td>826.75</td>\n",
       "      <td>4</td>\n",
       "      <td>1</td>\n",
       "      <td>257</td>\n",
       "      <td>4</td>\n",
       "      <td>0.54</td>\n",
       "      <td>46.00</td>\n",
       "      <td>2002</td>\n",
       "    </tr>\n",
       "  </tbody>\n",
       "</table>\n",
       "</div>"
      ],
      "text/plain": [
       "   price_000  pop_dens  ses  house  area_m2  num_bath  pcn_green  homicides  \\\n",
       "0      60000    830.78    4      0       70         2       1.74      39.92   \n",
       "1     140000    826.75    4      1      257         4       0.54      46.00   \n",
       "\n",
       "   year  \n",
       "0  2001  \n",
       "1  2002  "
      ]
     },
     "execution_count": 16,
     "metadata": {},
     "output_type": "execute_result"
    }
   ],
   "source": [
    "var_list = ['price_000','pop_dens','ses','house','area_m2','num_bath','pcn_green','homicides', 'year']\n",
    "data = raw[var_list].copy()\n",
    "data.head(2)"
   ]
  },
  {
   "cell_type": "markdown",
   "metadata": {},
   "source": [
    "Let's redefine the socieconomic status - this is the same process we did in lab 3!"
   ]
  },
  {
   "cell_type": "code",
   "execution_count": 17,
   "metadata": {},
   "outputs": [],
   "source": [
    "#Recode SES\n",
    "data['high_ses'] = np.where(data['ses']>=5, 1, 0)  #Create Dummy Variable"
   ]
  },
  {
   "cell_type": "markdown",
   "metadata": {},
   "source": [
    "Now, let's create dummy variables for the year the property was sold. There are 6 unique years, which means we need to create 5 new columns, each for a year of interest (minus the base), with values of ones and zeros. This is a long process, but python (for once!) can make this easier for us."
   ]
  },
  {
   "cell_type": "code",
   "execution_count": 25,
   "metadata": {},
   "outputs": [
    {
     "data": {
      "text/html": [
       "<div>\n",
       "<style scoped>\n",
       "    .dataframe tbody tr th:only-of-type {\n",
       "        vertical-align: middle;\n",
       "    }\n",
       "\n",
       "    .dataframe tbody tr th {\n",
       "        vertical-align: top;\n",
       "    }\n",
       "\n",
       "    .dataframe thead th {\n",
       "        text-align: right;\n",
       "    }\n",
       "</style>\n",
       "<table border=\"1\" class=\"dataframe\">\n",
       "  <thead>\n",
       "    <tr style=\"text-align: right;\">\n",
       "      <th></th>\n",
       "      <th>price_000</th>\n",
       "      <th>pop_dens</th>\n",
       "      <th>ses</th>\n",
       "      <th>house</th>\n",
       "      <th>area_m2</th>\n",
       "      <th>num_bath</th>\n",
       "      <th>pcn_green</th>\n",
       "      <th>homicides</th>\n",
       "      <th>year</th>\n",
       "      <th>high_ses</th>\n",
       "      <th>yr_2001</th>\n",
       "      <th>yr_2002</th>\n",
       "      <th>yr_2003</th>\n",
       "      <th>yr_2004</th>\n",
       "      <th>yr_2005</th>\n",
       "    </tr>\n",
       "  </thead>\n",
       "  <tbody>\n",
       "    <tr>\n",
       "      <td>0</td>\n",
       "      <td>60000</td>\n",
       "      <td>830.78</td>\n",
       "      <td>4</td>\n",
       "      <td>0</td>\n",
       "      <td>70</td>\n",
       "      <td>2</td>\n",
       "      <td>1.74</td>\n",
       "      <td>39.92</td>\n",
       "      <td>2001</td>\n",
       "      <td>0</td>\n",
       "      <td>1</td>\n",
       "      <td>0</td>\n",
       "      <td>0</td>\n",
       "      <td>0</td>\n",
       "      <td>0</td>\n",
       "    </tr>\n",
       "    <tr>\n",
       "      <td>1</td>\n",
       "      <td>140000</td>\n",
       "      <td>826.75</td>\n",
       "      <td>4</td>\n",
       "      <td>1</td>\n",
       "      <td>257</td>\n",
       "      <td>4</td>\n",
       "      <td>0.54</td>\n",
       "      <td>46.00</td>\n",
       "      <td>2002</td>\n",
       "      <td>0</td>\n",
       "      <td>0</td>\n",
       "      <td>1</td>\n",
       "      <td>0</td>\n",
       "      <td>0</td>\n",
       "      <td>0</td>\n",
       "    </tr>\n",
       "    <tr>\n",
       "      <td>2</td>\n",
       "      <td>38000</td>\n",
       "      <td>914.15</td>\n",
       "      <td>4</td>\n",
       "      <td>0</td>\n",
       "      <td>115</td>\n",
       "      <td>4</td>\n",
       "      <td>1.55</td>\n",
       "      <td>45.87</td>\n",
       "      <td>2002</td>\n",
       "      <td>0</td>\n",
       "      <td>0</td>\n",
       "      <td>1</td>\n",
       "      <td>0</td>\n",
       "      <td>0</td>\n",
       "      <td>0</td>\n",
       "    </tr>\n",
       "    <tr>\n",
       "      <td>3</td>\n",
       "      <td>110000</td>\n",
       "      <td>911.25</td>\n",
       "      <td>4</td>\n",
       "      <td>1</td>\n",
       "      <td>270</td>\n",
       "      <td>4</td>\n",
       "      <td>1.58</td>\n",
       "      <td>45.88</td>\n",
       "      <td>2002</td>\n",
       "      <td>0</td>\n",
       "      <td>0</td>\n",
       "      <td>1</td>\n",
       "      <td>0</td>\n",
       "      <td>0</td>\n",
       "      <td>0</td>\n",
       "    </tr>\n",
       "    <tr>\n",
       "      <td>4</td>\n",
       "      <td>120000</td>\n",
       "      <td>757.37</td>\n",
       "      <td>4</td>\n",
       "      <td>1</td>\n",
       "      <td>268</td>\n",
       "      <td>2</td>\n",
       "      <td>0.40</td>\n",
       "      <td>46.00</td>\n",
       "      <td>2002</td>\n",
       "      <td>0</td>\n",
       "      <td>0</td>\n",
       "      <td>1</td>\n",
       "      <td>0</td>\n",
       "      <td>0</td>\n",
       "      <td>0</td>\n",
       "    </tr>\n",
       "    <tr>\n",
       "      <td>...</td>\n",
       "      <td>...</td>\n",
       "      <td>...</td>\n",
       "      <td>...</td>\n",
       "      <td>...</td>\n",
       "      <td>...</td>\n",
       "      <td>...</td>\n",
       "      <td>...</td>\n",
       "      <td>...</td>\n",
       "      <td>...</td>\n",
       "      <td>...</td>\n",
       "      <td>...</td>\n",
       "      <td>...</td>\n",
       "      <td>...</td>\n",
       "      <td>...</td>\n",
       "      <td>...</td>\n",
       "    </tr>\n",
       "    <tr>\n",
       "      <td>3971</td>\n",
       "      <td>480000</td>\n",
       "      <td>884.63</td>\n",
       "      <td>6</td>\n",
       "      <td>0</td>\n",
       "      <td>291</td>\n",
       "      <td>5</td>\n",
       "      <td>1.02</td>\n",
       "      <td>234.00</td>\n",
       "      <td>2005</td>\n",
       "      <td>1</td>\n",
       "      <td>0</td>\n",
       "      <td>0</td>\n",
       "      <td>0</td>\n",
       "      <td>0</td>\n",
       "      <td>1</td>\n",
       "    </tr>\n",
       "    <tr>\n",
       "      <td>3972</td>\n",
       "      <td>500000</td>\n",
       "      <td>884.63</td>\n",
       "      <td>6</td>\n",
       "      <td>0</td>\n",
       "      <td>204</td>\n",
       "      <td>3</td>\n",
       "      <td>1.02</td>\n",
       "      <td>234.00</td>\n",
       "      <td>2006</td>\n",
       "      <td>1</td>\n",
       "      <td>0</td>\n",
       "      <td>0</td>\n",
       "      <td>0</td>\n",
       "      <td>0</td>\n",
       "      <td>0</td>\n",
       "    </tr>\n",
       "    <tr>\n",
       "      <td>3973</td>\n",
       "      <td>564425</td>\n",
       "      <td>374.17</td>\n",
       "      <td>3</td>\n",
       "      <td>0</td>\n",
       "      <td>145</td>\n",
       "      <td>2</td>\n",
       "      <td>0.06</td>\n",
       "      <td>234.00</td>\n",
       "      <td>2001</td>\n",
       "      <td>0</td>\n",
       "      <td>1</td>\n",
       "      <td>0</td>\n",
       "      <td>0</td>\n",
       "      <td>0</td>\n",
       "      <td>0</td>\n",
       "    </tr>\n",
       "    <tr>\n",
       "      <td>3974</td>\n",
       "      <td>699800</td>\n",
       "      <td>320.50</td>\n",
       "      <td>6</td>\n",
       "      <td>0</td>\n",
       "      <td>175</td>\n",
       "      <td>3</td>\n",
       "      <td>1.90</td>\n",
       "      <td>234.00</td>\n",
       "      <td>2004</td>\n",
       "      <td>1</td>\n",
       "      <td>0</td>\n",
       "      <td>0</td>\n",
       "      <td>0</td>\n",
       "      <td>1</td>\n",
       "      <td>0</td>\n",
       "    </tr>\n",
       "    <tr>\n",
       "      <td>3975</td>\n",
       "      <td>700000</td>\n",
       "      <td>557.36</td>\n",
       "      <td>5</td>\n",
       "      <td>0</td>\n",
       "      <td>87</td>\n",
       "      <td>2</td>\n",
       "      <td>3.49</td>\n",
       "      <td>52.00</td>\n",
       "      <td>2005</td>\n",
       "      <td>1</td>\n",
       "      <td>0</td>\n",
       "      <td>0</td>\n",
       "      <td>0</td>\n",
       "      <td>0</td>\n",
       "      <td>1</td>\n",
       "    </tr>\n",
       "  </tbody>\n",
       "</table>\n",
       "<p>3976 rows × 15 columns</p>\n",
       "</div>"
      ],
      "text/plain": [
       "      price_000  pop_dens  ses  house  area_m2  num_bath  pcn_green  \\\n",
       "0         60000    830.78    4      0       70         2       1.74   \n",
       "1        140000    826.75    4      1      257         4       0.54   \n",
       "2         38000    914.15    4      0      115         4       1.55   \n",
       "3        110000    911.25    4      1      270         4       1.58   \n",
       "4        120000    757.37    4      1      268         2       0.40   \n",
       "...         ...       ...  ...    ...      ...       ...        ...   \n",
       "3971     480000    884.63    6      0      291         5       1.02   \n",
       "3972     500000    884.63    6      0      204         3       1.02   \n",
       "3973     564425    374.17    3      0      145         2       0.06   \n",
       "3974     699800    320.50    6      0      175         3       1.90   \n",
       "3975     700000    557.36    5      0       87         2       3.49   \n",
       "\n",
       "      homicides  year  high_ses  yr_2001  yr_2002  yr_2003  yr_2004  yr_2005  \n",
       "0         39.92  2001         0        1        0        0        0        0  \n",
       "1         46.00  2002         0        0        1        0        0        0  \n",
       "2         45.87  2002         0        0        1        0        0        0  \n",
       "3         45.88  2002         0        0        1        0        0        0  \n",
       "4         46.00  2002         0        0        1        0        0        0  \n",
       "...         ...   ...       ...      ...      ...      ...      ...      ...  \n",
       "3971     234.00  2005         1        0        0        0        0        1  \n",
       "3972     234.00  2006         1        0        0        0        0        0  \n",
       "3973     234.00  2001         0        1        0        0        0        0  \n",
       "3974     234.00  2004         1        0        0        0        1        0  \n",
       "3975      52.00  2005         1        0        0        0        0        1  \n",
       "\n",
       "[3976 rows x 15 columns]"
      ]
     },
     "execution_count": 25,
     "metadata": {},
     "output_type": "execute_result"
    }
   ],
   "source": [
    "dummies = pd.get_dummies(data['year'], prefix = 'yr') ### This will give you all the dummies, but we need to drop one!\n",
    "dummies = dummies.drop(columns = ['yr_2006']) ### We dropped the year 2006\n",
    "\n",
    "data = pd.concat([data, dummies], axis = 1)\n",
    "data"
   ]
  },
  {
   "cell_type": "markdown",
   "metadata": {},
   "source": [
    "### Estimate a multivariate linear regression model"
   ]
  },
  {
   "cell_type": "markdown",
   "metadata": {},
   "source": [
    "We'll be running the same multivariate regression model that we used for lab 3"
   ]
  },
  {
   "cell_type": "code",
   "execution_count": 26,
   "metadata": {},
   "outputs": [
    {
     "data": {
      "text/html": [
       "<table class=\"simpletable\">\n",
       "<tr>\n",
       "        <td>Model:</td>               <td>OLS</td>         <td>Adj. R-squared:</td>      <td>0.501</td>  \n",
       "</tr>\n",
       "<tr>\n",
       "  <td>Dependent Variable:</td>     <td>price_000</td>           <td>AIC:</td>         <td>97841.9134</td>\n",
       "</tr>\n",
       "<tr>\n",
       "         <td>Date:</td>        <td>2020-02-18 09:46</td>        <td>BIC:</td>         <td>97885.9296</td>\n",
       "</tr>\n",
       "<tr>\n",
       "   <td>No. Observations:</td>        <td>3976</td>         <td>Log-Likelihood:</td>     <td>-48914.</td> \n",
       "</tr>\n",
       "<tr>\n",
       "       <td>Df Model:</td>              <td>6</td>           <td>F-statistic:</td>        <td>666.9</td>  \n",
       "</tr>\n",
       "<tr>\n",
       "     <td>Df Residuals:</td>          <td>3969</td>       <td>Prob (F-statistic):</td>    <td>0.00</td>   \n",
       "</tr>\n",
       "<tr>\n",
       "      <td>R-squared:</td>            <td>0.502</td>            <td>Scale:</td>        <td>2.8440e+09</td>\n",
       "</tr>\n",
       "</table>\n",
       "<table class=\"simpletable\">\n",
       "<tr>\n",
       "      <td></td>         <th>Coef.</th>    <th>Std.Err.</th>      <th>t</th>     <th>P>|t|</th>   <th>[0.025</th>      <th>0.975]</th>   \n",
       "</tr>\n",
       "<tr>\n",
       "  <th>ses</th>       <td>23692.5176</td>  <td>1216.8735</td>  <td>19.4700</td> <td>0.0000</td> <td>21306.7618</td>  <td>26078.2734</td> \n",
       "</tr>\n",
       "<tr>\n",
       "  <th>house</th>     <td>-27895.8575</td> <td>2501.4712</td> <td>-11.1518</td> <td>0.0000</td> <td>-32800.1465</td> <td>-22991.5684</td>\n",
       "</tr>\n",
       "<tr>\n",
       "  <th>area_m2</th>    <td>569.3990</td>    <td>14.6571</td>   <td>38.8480</td> <td>0.0000</td>  <td>540.6628</td>    <td>598.1352</td>  \n",
       "</tr>\n",
       "<tr>\n",
       "  <th>num_bath</th>  <td>10485.8862</td>  <td>971.2311</td>   <td>10.7965</td> <td>0.0000</td>  <td>8581.7276</td>  <td>12390.0448</td> \n",
       "</tr>\n",
       "<tr>\n",
       "  <th>pcn_green</th>  <td>-99.2132</td>   <td>119.5193</td>   <td>-0.8301</td> <td>0.4065</td>  <td>-333.5382</td>   <td>135.1118</td>  \n",
       "</tr>\n",
       "<tr>\n",
       "  <th>homicides</th>   <td>43.3831</td>    <td>17.0906</td>   <td>2.5384</td>  <td>0.0112</td>   <td>9.8759</td>      <td>76.8903</td>  \n",
       "</tr>\n",
       "<tr>\n",
       "  <th>Intercept</th> <td>-76643.5924</td> <td>5063.0661</td> <td>-15.1378</td> <td>0.0000</td> <td>-86570.0466</td> <td>-66717.1381</td>\n",
       "</tr>\n",
       "</table>\n",
       "<table class=\"simpletable\">\n",
       "<tr>\n",
       "     <td>Omnibus:</td>    <td>3250.518</td>  <td>Durbin-Watson:</td>      <td>0.846</td>  \n",
       "</tr>\n",
       "<tr>\n",
       "  <td>Prob(Omnibus):</td>   <td>0.000</td>  <td>Jarque-Bera (JB):</td> <td>132799.568</td>\n",
       "</tr>\n",
       "<tr>\n",
       "       <td>Skew:</td>       <td>3.619</td>      <td>Prob(JB):</td>        <td>0.000</td>  \n",
       "</tr>\n",
       "<tr>\n",
       "     <td>Kurtosis:</td>    <td>30.372</td>   <td>Condition No.:</td>      <td>1028</td>   \n",
       "</tr>\n",
       "</table>"
      ],
      "text/plain": [
       "<class 'statsmodels.iolib.summary2.Summary'>\n",
       "\"\"\"\n",
       "                    Results: Ordinary least squares\n",
       "=======================================================================\n",
       "Model:                OLS               Adj. R-squared:      0.501     \n",
       "Dependent Variable:   price_000         AIC:                 97841.9134\n",
       "Date:                 2020-02-18 09:46  BIC:                 97885.9296\n",
       "No. Observations:     3976              Log-Likelihood:      -48914.   \n",
       "Df Model:             6                 F-statistic:         666.9     \n",
       "Df Residuals:         3969              Prob (F-statistic):  0.00      \n",
       "R-squared:            0.502             Scale:               2.8440e+09\n",
       "-----------------------------------------------------------------------\n",
       "             Coef.     Std.Err.    t     P>|t|     [0.025      0.975]  \n",
       "-----------------------------------------------------------------------\n",
       "ses        23692.5176 1216.8735  19.4700 0.0000  21306.7618  26078.2734\n",
       "house     -27895.8575 2501.4712 -11.1518 0.0000 -32800.1465 -22991.5684\n",
       "area_m2      569.3990   14.6571  38.8480 0.0000    540.6628    598.1352\n",
       "num_bath   10485.8862  971.2311  10.7965 0.0000   8581.7276  12390.0448\n",
       "pcn_green    -99.2132  119.5193  -0.8301 0.4065   -333.5382    135.1118\n",
       "homicides     43.3831   17.0906   2.5384 0.0112      9.8759     76.8903\n",
       "Intercept -76643.5924 5063.0661 -15.1378 0.0000 -86570.0466 -66717.1381\n",
       "-----------------------------------------------------------------------\n",
       "Omnibus:              3250.518       Durbin-Watson:          0.846     \n",
       "Prob(Omnibus):        0.000          Jarque-Bera (JB):       132799.568\n",
       "Skew:                 3.619          Prob(JB):               0.000     \n",
       "Kurtosis:             30.372         Condition No.:          1028      \n",
       "=======================================================================\n",
       "* The condition number is large (1e+03). This might indicate\n",
       "strong multicollinearity or other numerical problems.\n",
       "\"\"\""
      ]
     },
     "execution_count": 26,
     "metadata": {},
     "output_type": "execute_result"
    }
   ],
   "source": [
    "#Define Independent Variables\n",
    "ind_var = ['ses', 'house', 'area_m2', 'num_bath', 'pcn_green', 'homicides'] \n",
    "\n",
    "#Generally, first variable is your 'key explanatory variable', followed by your control variables\n",
    "x = data[ind_var].assign(Intercept = 1) #Independent Variables\n",
    "y = data['price_000'] #Dependent Variable\n",
    "\n",
    "model = sm.OLS(y, x).fit() ### Let's save the results under model. This will be useful for other functions below.\n",
    "model.summary2()"
   ]
  },
  {
   "cell_type": "markdown",
   "metadata": {},
   "source": [
    "Now, let's run the same regression, but let's standardize all the variables!"
   ]
  },
  {
   "cell_type": "code",
   "execution_count": 33,
   "metadata": {},
   "outputs": [
    {
     "data": {
      "text/html": [
       "<div>\n",
       "<style scoped>\n",
       "    .dataframe tbody tr th:only-of-type {\n",
       "        vertical-align: middle;\n",
       "    }\n",
       "\n",
       "    .dataframe tbody tr th {\n",
       "        vertical-align: top;\n",
       "    }\n",
       "\n",
       "    .dataframe thead th {\n",
       "        text-align: right;\n",
       "    }\n",
       "</style>\n",
       "<table border=\"1\" class=\"dataframe\">\n",
       "  <thead>\n",
       "    <tr style=\"text-align: right;\">\n",
       "      <th></th>\n",
       "      <th>ses</th>\n",
       "      <th>house</th>\n",
       "      <th>area_m2</th>\n",
       "      <th>num_bath</th>\n",
       "      <th>pcn_green</th>\n",
       "      <th>homicides</th>\n",
       "      <th>Intercept</th>\n",
       "    </tr>\n",
       "  </thead>\n",
       "  <tbody>\n",
       "    <tr>\n",
       "      <td>0</td>\n",
       "      <td>0.637882</td>\n",
       "      <td>-0.691424</td>\n",
       "      <td>-0.599922</td>\n",
       "      <td>-0.200787</td>\n",
       "      <td>-0.207483</td>\n",
       "      <td>-0.838889</td>\n",
       "      <td>1</td>\n",
       "    </tr>\n",
       "    <tr>\n",
       "      <td>1</td>\n",
       "      <td>0.637882</td>\n",
       "      <td>1.446291</td>\n",
       "      <td>1.571573</td>\n",
       "      <td>1.732213</td>\n",
       "      <td>-0.359941</td>\n",
       "      <td>-0.733409</td>\n",
       "      <td>1</td>\n",
       "    </tr>\n",
       "    <tr>\n",
       "      <td>2</td>\n",
       "      <td>0.637882</td>\n",
       "      <td>-0.691424</td>\n",
       "      <td>-0.077369</td>\n",
       "      <td>1.732213</td>\n",
       "      <td>-0.231622</td>\n",
       "      <td>-0.735664</td>\n",
       "      <td>1</td>\n",
       "    </tr>\n",
       "    <tr>\n",
       "      <td>3</td>\n",
       "      <td>0.637882</td>\n",
       "      <td>1.446291</td>\n",
       "      <td>1.722533</td>\n",
       "      <td>1.732213</td>\n",
       "      <td>-0.227811</td>\n",
       "      <td>-0.735491</td>\n",
       "      <td>1</td>\n",
       "    </tr>\n",
       "    <tr>\n",
       "      <td>4</td>\n",
       "      <td>0.637882</td>\n",
       "      <td>1.446291</td>\n",
       "      <td>1.699308</td>\n",
       "      <td>-0.200787</td>\n",
       "      <td>-0.377728</td>\n",
       "      <td>-0.733409</td>\n",
       "      <td>1</td>\n",
       "    </tr>\n",
       "  </tbody>\n",
       "</table>\n",
       "</div>"
      ],
      "text/plain": [
       "        ses     house   area_m2  num_bath  pcn_green  homicides  Intercept\n",
       "0  0.637882 -0.691424 -0.599922 -0.200787  -0.207483  -0.838889          1\n",
       "1  0.637882  1.446291  1.571573  1.732213  -0.359941  -0.733409          1\n",
       "2  0.637882 -0.691424 -0.077369  1.732213  -0.231622  -0.735664          1\n",
       "3  0.637882  1.446291  1.722533  1.732213  -0.227811  -0.735491          1\n",
       "4  0.637882  1.446291  1.699308 -0.200787  -0.377728  -0.733409          1"
      ]
     },
     "execution_count": 33,
     "metadata": {},
     "output_type": "execute_result"
    }
   ],
   "source": [
    "ind_var = ['ses', 'house', 'area_m2', 'num_bath', 'pcn_green', 'homicides']\n",
    "x_zscore = data[ind_var].apply(zscore).assign(Intercept = 1)\n",
    "x_zscore.head(5)"
   ]
  },
  {
   "cell_type": "code",
   "execution_count": 34,
   "metadata": {},
   "outputs": [
    {
     "data": {
      "text/html": [
       "<table class=\"simpletable\">\n",
       "<tr>\n",
       "        <td>Model:</td>               <td>OLS</td>         <td>Adj. R-squared:</td>      <td>0.501</td>  \n",
       "</tr>\n",
       "<tr>\n",
       "  <td>Dependent Variable:</td>     <td>price_000</td>           <td>AIC:</td>         <td>97841.9134</td>\n",
       "</tr>\n",
       "<tr>\n",
       "         <td>Date:</td>        <td>2020-02-18 09:53</td>        <td>BIC:</td>         <td>97885.9296</td>\n",
       "</tr>\n",
       "<tr>\n",
       "   <td>No. Observations:</td>        <td>3976</td>         <td>Log-Likelihood:</td>     <td>-48914.</td> \n",
       "</tr>\n",
       "<tr>\n",
       "       <td>Df Model:</td>              <td>6</td>           <td>F-statistic:</td>        <td>666.9</td>  \n",
       "</tr>\n",
       "<tr>\n",
       "     <td>Df Residuals:</td>          <td>3969</td>       <td>Prob (F-statistic):</td>    <td>0.00</td>   \n",
       "</tr>\n",
       "<tr>\n",
       "      <td>R-squared:</td>            <td>0.502</td>            <td>Scale:</td>        <td>2.8440e+09</td>\n",
       "</tr>\n",
       "</table>\n",
       "<table class=\"simpletable\">\n",
       "<tr>\n",
       "      <td></td>         <th>Coef.</th>    <th>Std.Err.</th>      <th>t</th>     <th>P>|t|</th>   <th>[0.025</th>      <th>0.975]</th>   \n",
       "</tr>\n",
       "<tr>\n",
       "  <th>ses</th>       <td>18048.1090</td>  <td>926.9705</td>   <td>19.4700</td> <td>0.0000</td> <td>16230.7260</td>  <td>19865.4921</td> \n",
       "</tr>\n",
       "<tr>\n",
       "  <th>house</th>     <td>-13049.3826</td> <td>1170.1614</td> <td>-11.1518</td> <td>0.0000</td> <td>-15343.5563</td> <td>-10755.2088</td>\n",
       "</tr>\n",
       "<tr>\n",
       "  <th>area_m2</th>   <td>49034.2471</td>  <td>1262.2083</td>  <td>38.8480</td> <td>0.0000</td> <td>46559.6097</td>  <td>51508.8845</td> \n",
       "</tr>\n",
       "<tr>\n",
       "  <th>num_bath</th>  <td>10849.3381</td>  <td>1004.8950</td>  <td>10.7965</td> <td>0.0000</td>  <td>8879.1793</td>  <td>12819.4968</td> \n",
       "</tr>\n",
       "<tr>\n",
       "  <th>pcn_green</th>  <td>-780.9053</td>  <td>940.7346</td>   <td>-0.8301</td> <td>0.4065</td> <td>-2625.2736</td>   <td>1063.4631</td> \n",
       "</tr>\n",
       "<tr>\n",
       "  <th>homicides</th>  <td>2500.6565</td>  <td>985.1252</td>   <td>2.5384</td>  <td>0.0112</td>  <td>569.2576</td>    <td>4432.0554</td> \n",
       "</tr>\n",
       "<tr>\n",
       "  <th>Intercept</th> <td>93511.0455</td>  <td>845.7550</td>  <td>110.5652</td> <td>0.0000</td> <td>91852.8905</td>  <td>95169.2005</td> \n",
       "</tr>\n",
       "</table>\n",
       "<table class=\"simpletable\">\n",
       "<tr>\n",
       "     <td>Omnibus:</td>    <td>3250.518</td>  <td>Durbin-Watson:</td>      <td>0.846</td>  \n",
       "</tr>\n",
       "<tr>\n",
       "  <td>Prob(Omnibus):</td>   <td>0.000</td>  <td>Jarque-Bera (JB):</td> <td>132799.568</td>\n",
       "</tr>\n",
       "<tr>\n",
       "       <td>Skew:</td>       <td>3.619</td>      <td>Prob(JB):</td>        <td>0.000</td>  \n",
       "</tr>\n",
       "<tr>\n",
       "     <td>Kurtosis:</td>    <td>30.372</td>   <td>Condition No.:</td>        <td>3</td>    \n",
       "</tr>\n",
       "</table>"
      ],
      "text/plain": [
       "<class 'statsmodels.iolib.summary2.Summary'>\n",
       "\"\"\"\n",
       "                    Results: Ordinary least squares\n",
       "=======================================================================\n",
       "Model:                OLS               Adj. R-squared:      0.501     \n",
       "Dependent Variable:   price_000         AIC:                 97841.9134\n",
       "Date:                 2020-02-18 09:53  BIC:                 97885.9296\n",
       "No. Observations:     3976              Log-Likelihood:      -48914.   \n",
       "Df Model:             6                 F-statistic:         666.9     \n",
       "Df Residuals:         3969              Prob (F-statistic):  0.00      \n",
       "R-squared:            0.502             Scale:               2.8440e+09\n",
       "-----------------------------------------------------------------------\n",
       "             Coef.     Std.Err.    t     P>|t|     [0.025      0.975]  \n",
       "-----------------------------------------------------------------------\n",
       "ses        18048.1090  926.9705  19.4700 0.0000  16230.7260  19865.4921\n",
       "house     -13049.3826 1170.1614 -11.1518 0.0000 -15343.5563 -10755.2088\n",
       "area_m2    49034.2471 1262.2083  38.8480 0.0000  46559.6097  51508.8845\n",
       "num_bath   10849.3381 1004.8950  10.7965 0.0000   8879.1793  12819.4968\n",
       "pcn_green   -780.9053  940.7346  -0.8301 0.4065  -2625.2736   1063.4631\n",
       "homicides   2500.6565  985.1252   2.5384 0.0112    569.2576   4432.0554\n",
       "Intercept  93511.0455  845.7550 110.5652 0.0000  91852.8905  95169.2005\n",
       "-----------------------------------------------------------------------\n",
       "Omnibus:              3250.518       Durbin-Watson:          0.846     \n",
       "Prob(Omnibus):        0.000          Jarque-Bera (JB):       132799.568\n",
       "Skew:                 3.619          Prob(JB):               0.000     \n",
       "Kurtosis:             30.372         Condition No.:          3         \n",
       "=======================================================================\n",
       "\n",
       "\"\"\""
      ]
     },
     "execution_count": 34,
     "metadata": {},
     "output_type": "execute_result"
    }
   ],
   "source": [
    "model = sm.OLS(y, x_zscore).fit() ### Let's save the results under model. This will be useful for other functions below.\n",
    "model.summary2()"
   ]
  },
  {
   "cell_type": "markdown",
   "metadata": {},
   "source": [
    "### Let's examine multicolinearity!"
   ]
  },
  {
   "cell_type": "markdown",
   "metadata": {},
   "source": [
    "First, let's examine the correlation matrix. If we take price to be our dependent variable - which of these variables will have a multicollinearity effect in our regression?"
   ]
  },
  {
   "cell_type": "code",
   "execution_count": 37,
   "metadata": {},
   "outputs": [
    {
     "data": {
      "text/html": [
       "<div>\n",
       "<style scoped>\n",
       "    .dataframe tbody tr th:only-of-type {\n",
       "        vertical-align: middle;\n",
       "    }\n",
       "\n",
       "    .dataframe tbody tr th {\n",
       "        vertical-align: top;\n",
       "    }\n",
       "\n",
       "    .dataframe thead th {\n",
       "        text-align: right;\n",
       "    }\n",
       "</style>\n",
       "<table border=\"1\" class=\"dataframe\">\n",
       "  <thead>\n",
       "    <tr style=\"text-align: right;\">\n",
       "      <th></th>\n",
       "      <th>price_000</th>\n",
       "      <th>pop_dens</th>\n",
       "      <th>ses</th>\n",
       "      <th>house</th>\n",
       "      <th>area_m2</th>\n",
       "      <th>num_bath</th>\n",
       "      <th>pcn_green</th>\n",
       "      <th>homicides</th>\n",
       "      <th>year</th>\n",
       "    </tr>\n",
       "  </thead>\n",
       "  <tbody>\n",
       "    <tr>\n",
       "      <td>price_000</td>\n",
       "      <td>1.000000</td>\n",
       "      <td>0.025395</td>\n",
       "      <td>0.332310</td>\n",
       "      <td>0.272182</td>\n",
       "      <td>0.632867</td>\n",
       "      <td>0.438951</td>\n",
       "      <td>-0.024504</td>\n",
       "      <td>-0.140996</td>\n",
       "      <td>0.027371</td>\n",
       "    </tr>\n",
       "    <tr>\n",
       "      <td>pop_dens</td>\n",
       "      <td>0.025395</td>\n",
       "      <td>1.000000</td>\n",
       "      <td>-0.066464</td>\n",
       "      <td>0.186380</td>\n",
       "      <td>0.169518</td>\n",
       "      <td>0.085829</td>\n",
       "      <td>-0.030906</td>\n",
       "      <td>0.122644</td>\n",
       "      <td>-0.148788</td>\n",
       "    </tr>\n",
       "    <tr>\n",
       "      <td>ses</td>\n",
       "      <td>0.332310</td>\n",
       "      <td>-0.066464</td>\n",
       "      <td>1.000000</td>\n",
       "      <td>-0.147592</td>\n",
       "      <td>0.101272</td>\n",
       "      <td>0.080532</td>\n",
       "      <td>0.052955</td>\n",
       "      <td>-0.272214</td>\n",
       "      <td>-0.016840</td>\n",
       "    </tr>\n",
       "    <tr>\n",
       "      <td>house</td>\n",
       "      <td>0.272182</td>\n",
       "      <td>0.186380</td>\n",
       "      <td>-0.147592</td>\n",
       "      <td>1.000000</td>\n",
       "      <td>0.651771</td>\n",
       "      <td>0.391207</td>\n",
       "      <td>-0.071164</td>\n",
       "      <td>0.002256</td>\n",
       "      <td>-0.171000</td>\n",
       "    </tr>\n",
       "    <tr>\n",
       "      <td>area_m2</td>\n",
       "      <td>0.632867</td>\n",
       "      <td>0.169518</td>\n",
       "      <td>0.101272</td>\n",
       "      <td>0.651771</td>\n",
       "      <td>1.000000</td>\n",
       "      <td>0.530402</td>\n",
       "      <td>-0.081659</td>\n",
       "      <td>-0.155758</td>\n",
       "      <td>-0.131592</td>\n",
       "    </tr>\n",
       "    <tr>\n",
       "      <td>num_bath</td>\n",
       "      <td>0.438951</td>\n",
       "      <td>0.085829</td>\n",
       "      <td>0.080532</td>\n",
       "      <td>0.391207</td>\n",
       "      <td>0.530402</td>\n",
       "      <td>1.000000</td>\n",
       "      <td>0.004428</td>\n",
       "      <td>-0.023408</td>\n",
       "      <td>-0.115059</td>\n",
       "    </tr>\n",
       "    <tr>\n",
       "      <td>pcn_green</td>\n",
       "      <td>-0.024504</td>\n",
       "      <td>-0.030906</td>\n",
       "      <td>0.052955</td>\n",
       "      <td>-0.071164</td>\n",
       "      <td>-0.081659</td>\n",
       "      <td>0.004428</td>\n",
       "      <td>1.000000</td>\n",
       "      <td>0.400809</td>\n",
       "      <td>0.109888</td>\n",
       "    </tr>\n",
       "    <tr>\n",
       "      <td>homicides</td>\n",
       "      <td>-0.140996</td>\n",
       "      <td>0.122644</td>\n",
       "      <td>-0.272214</td>\n",
       "      <td>0.002256</td>\n",
       "      <td>-0.155758</td>\n",
       "      <td>-0.023408</td>\n",
       "      <td>0.400809</td>\n",
       "      <td>1.000000</td>\n",
       "      <td>0.030248</td>\n",
       "    </tr>\n",
       "    <tr>\n",
       "      <td>year</td>\n",
       "      <td>0.027371</td>\n",
       "      <td>-0.148788</td>\n",
       "      <td>-0.016840</td>\n",
       "      <td>-0.171000</td>\n",
       "      <td>-0.131592</td>\n",
       "      <td>-0.115059</td>\n",
       "      <td>0.109888</td>\n",
       "      <td>0.030248</td>\n",
       "      <td>1.000000</td>\n",
       "    </tr>\n",
       "  </tbody>\n",
       "</table>\n",
       "</div>"
      ],
      "text/plain": [
       "           price_000  pop_dens       ses     house   area_m2  num_bath  \\\n",
       "price_000   1.000000  0.025395  0.332310  0.272182  0.632867  0.438951   \n",
       "pop_dens    0.025395  1.000000 -0.066464  0.186380  0.169518  0.085829   \n",
       "ses         0.332310 -0.066464  1.000000 -0.147592  0.101272  0.080532   \n",
       "house       0.272182  0.186380 -0.147592  1.000000  0.651771  0.391207   \n",
       "area_m2     0.632867  0.169518  0.101272  0.651771  1.000000  0.530402   \n",
       "num_bath    0.438951  0.085829  0.080532  0.391207  0.530402  1.000000   \n",
       "pcn_green  -0.024504 -0.030906  0.052955 -0.071164 -0.081659  0.004428   \n",
       "homicides  -0.140996  0.122644 -0.272214  0.002256 -0.155758 -0.023408   \n",
       "year        0.027371 -0.148788 -0.016840 -0.171000 -0.131592 -0.115059   \n",
       "\n",
       "           pcn_green  homicides      year  \n",
       "price_000  -0.024504  -0.140996  0.027371  \n",
       "pop_dens   -0.030906   0.122644 -0.148788  \n",
       "ses         0.052955  -0.272214 -0.016840  \n",
       "house      -0.071164   0.002256 -0.171000  \n",
       "area_m2    -0.081659  -0.155758 -0.131592  \n",
       "num_bath    0.004428  -0.023408 -0.115059  \n",
       "pcn_green   1.000000   0.400809  0.109888  \n",
       "homicides   0.400809   1.000000  0.030248  \n",
       "year        0.109888   0.030248  1.000000  "
      ]
     },
     "execution_count": 37,
     "metadata": {},
     "output_type": "execute_result"
    }
   ],
   "source": [
    "data[var_list].corr()"
   ]
  },
  {
   "cell_type": "markdown",
   "metadata": {},
   "source": [
    "Now, let's use the Variance Inflation Factor (VIF)"
   ]
  },
  {
   "cell_type": "code",
   "execution_count": 38,
   "metadata": {},
   "outputs": [
    {
     "data": {
      "text/plain": [
       "[1.2012757242368917,\n",
       " 1.9142662712925385,\n",
       " 2.227270076371359,\n",
       " 1.4117317371948093,\n",
       " 1.2372146659377956,\n",
       " 1.3567308654658161,\n",
       " 35.8375267326744]"
      ]
     },
     "execution_count": 38,
     "metadata": {},
     "output_type": "execute_result"
    }
   ],
   "source": [
    "vif = [variance_inflation_factor(x.values, i) for i in range(x.shape[1])] #have to include intercept\n",
    "vif"
   ]
  },
  {
   "cell_type": "markdown",
   "metadata": {},
   "source": [
    "Wow! What are these numbers?! What is going on? Let's add some labels to the data."
   ]
  },
  {
   "cell_type": "code",
   "execution_count": 39,
   "metadata": {},
   "outputs": [
    {
     "data": {
      "text/plain": [
       "ses           1.201276\n",
       "house         1.914266\n",
       "area_m2       2.227270\n",
       "num_bath      1.411732\n",
       "pcn_green     1.237215\n",
       "homicides     1.356731\n",
       "Intercept    35.837527\n",
       "dtype: float64"
      ]
     },
     "execution_count": 39,
     "metadata": {},
     "output_type": "execute_result"
    }
   ],
   "source": [
    "pd.Series(vif, index=x.columns)"
   ]
  },
  {
   "cell_type": "markdown",
   "metadata": {},
   "source": [
    "If you go to the Appendix, there is a step by step explanation of the variance_inflation_factor function and all its inputs. This is confusing, we know. We wish it were simpler, we really do. The good thing is, you'll have it coded forever! The bad one is, well... See above. If any of this is still unclear, or your eyes are glazing over the above, please come to office hours. We'll do our best to walk you through it, as many times as you might need it."
   ]
  },
  {
   "cell_type": "markdown",
   "metadata": {},
   "source": [
    "### Now, let's do some homoscedasticity examination!"
   ]
  },
  {
   "cell_type": "code",
   "execution_count": 40,
   "metadata": {},
   "outputs": [],
   "source": [
    "def homoscedasticity_plots(observed, prediction, residuals):\n",
    "\n",
    "    fig, (ax1, ax2) = plt.subplots(1, 2, figsize=(16, 6))\n",
    "\n",
    "    ### Figure 1\n",
    "    x1 = prediction\n",
    "    y1 = residuals\n",
    "    ### Figure 2\n",
    "    x2 = observed\n",
    "    y2 = residuals\n",
    "\n",
    "    ### Creates title for overall figure\n",
    "    plt.suptitle('Residuals vs. observed and fitted data')\n",
    "\n",
    "    ### Creates first plot\n",
    "    ax1.scatter(x1, y1)\n",
    "    ax1.set_xlabel('Predicted Values')\n",
    "    ax1.set_ylabel('Residuals')\n",
    "    ### Formats axis number to include thousands separator\n",
    "    ax1.get_xaxis().set_major_formatter(plt.FuncFormatter(lambda x1, loc: \"{:,}\".format(int(x1))))\n",
    "    ax1.get_yaxis().set_major_formatter(plt.FuncFormatter(lambda y1, loc: \"{:,}\".format(int(y1))))\n",
    "\n",
    "    ### Creates second plot\n",
    "    ax2.scatter(x2, y2) ### We can change the color and marker type\n",
    "    ax2.set_xlabel('Observed Values')\n",
    "\n",
    "    ### Formats axis number to include thousands separator\n",
    "    ax2.get_xaxis().set_major_formatter(plt.FuncFormatter(lambda x1, loc: \"{:,}\".format(int(x1))))\n",
    "    ax2.get_yaxis().set_major_formatter(plt.FuncFormatter(lambda y1, loc: \"{:,}\".format(int(y1))))\n",
    "\n",
    "    plt.show()"
   ]
  },
  {
   "cell_type": "markdown",
   "metadata": {},
   "source": [
    "Remember we saved the results of the linear regression under the model variable above\n",
    "\n",
    "model = sm.OLS(y, x).fit()"
   ]
  },
  {
   "cell_type": "code",
   "execution_count": 41,
   "metadata": {},
   "outputs": [
    {
     "data": {
      "image/png": "[encoded data removed]",
      "text/plain": [
       "<Figure size 1152x432 with 2 Axes>"
      ]
     },
     "metadata": {
      "needs_background": "light"
     },
     "output_type": "display_data"
    }
   ],
   "source": [
    "observed = data['price_000'] ### These are the observed values of prices\n",
    "prediction = model.predict() ### These are the price predictions using the same x values as the data input\n",
    "residuals = model.resid ### These are the residuals of the prediction model\n",
    "    \n",
    "homoscedasticity_plots(prediction, residuals, observed)"
   ]
  },
  {
   "cell_type": "markdown",
   "metadata": {},
   "source": [
    "We can also test whether there is heteroscedasticiy by using the Breusch Pagan test. Look at the p_values!"
   ]
  },
  {
   "cell_type": "code",
   "execution_count": 42,
   "metadata": {},
   "outputs": [
    {
     "data": {
      "text/plain": [
       "(281.7031098568608,\n",
       " 6.785888440448385e-58,\n",
       " 50.44169776054281,\n",
       " 4.643752433226735e-60)"
      ]
     },
     "execution_count": 42,
     "metadata": {},
     "output_type": "execute_result"
    }
   ],
   "source": [
    "het_breuschpagan(residuals, x.values)"
   ]
  },
  {
   "cell_type": "markdown",
   "metadata": {},
   "source": [
    "### Now, let's do some log-transformations!"
   ]
  },
  {
   "cell_type": "markdown",
   "metadata": {},
   "source": [
    "•\tLog transforming an independent variable without zeroes and with zeroes"
   ]
  },
  {
   "cell_type": "markdown",
   "metadata": {},
   "source": [
    "First, let's examine some of the continous variables in our database. We are going to plot them against price. Which of these look non-linear to you?"
   ]
  },
  {
   "cell_type": "code",
   "execution_count": 43,
   "metadata": {},
   "outputs": [
    {
     "data": {
      "image/png": "[encoded data removed]",
      "text/plain": [
       "<Figure size 864x576 with 4 Axes>"
      ]
     },
     "metadata": {
      "needs_background": "light"
     },
     "output_type": "display_data"
    }
   ],
   "source": [
    "fig, ((ax1, ax2), (ax3, ax4)) = plt.subplots(2, 2, figsize=(12, 8))\n",
    "    \n",
    "y = data['price_000']\n",
    "\n",
    "x = data['pop_dens']\n",
    "ax1.scatter(x, y)\n",
    "ax1.set_title('population density')\n",
    "\n",
    "x = data['area_m2']\n",
    "ax2.scatter(x, y**2)\n",
    "ax2.set_title('area [m2]')\n",
    "\n",
    "x = data['homicides']\n",
    "ax3.scatter(x, y)\n",
    "ax3.set_title('homicides')\n",
    "\n",
    "x = data['pcn_green']\n",
    "ax4.scatter(x, y**2)\n",
    "ax4.set_title('percent green')\n",
    "\n",
    "for ax in fig.get_axes():\n",
    "    ax.label_outer()\n",
    "\n",
    "plt.tight_layout()"
   ]
  },
  {
   "cell_type": "markdown",
   "metadata": {},
   "source": [
    "Let's transform the percentage of green!"
   ]
  },
  {
   "cell_type": "code",
   "execution_count": 51,
   "metadata": {},
   "outputs": [],
   "source": [
    "# What happens if we do this?\n",
    "data['pcn_green_log'] = np.log(data['pcn_green'])"
   ]
  },
  {
   "cell_type": "markdown",
   "metadata": {},
   "source": [
    "The log of 0 is undefined in the log function (it tends towards $-\\infty$), so we need to scale the variable"
   ]
  },
  {
   "cell_type": "code",
   "execution_count": 52,
   "metadata": {},
   "outputs": [],
   "source": [
    "# Let's try this instead!\n",
    "data['pcn_green_log'] = np.log(data['pcn_green']+1)"
   ]
  },
  {
   "cell_type": "code",
   "execution_count": 53,
   "metadata": {},
   "outputs": [
    {
     "data": {
      "image/png": "[encoded data removed]",
      "text/plain": [
       "<Figure size 864x288 with 2 Axes>"
      ]
     },
     "metadata": {
      "needs_background": "light"
     },
     "output_type": "display_data"
    }
   ],
   "source": [
    "fig, (ax1, ax2) = plt.subplots(1, 2, figsize=(12, 4))\n",
    "    \n",
    "y = data['price_000']\n",
    "\n",
    "x = data['pcn_green']\n",
    "ax1.scatter(x, y)\n",
    "ax1.set_title('percent green')\n",
    "\n",
    "x = data['pcn_green_log']\n",
    "ax2.scatter(x, y**2)\n",
    "ax2.set_title('log percent green')\n",
    "\n",
    "for ax in fig.get_axes():\n",
    "    ax.label_outer()\n",
    "\n",
    "plt.tight_layout()"
   ]
  },
  {
   "cell_type": "markdown",
   "metadata": {},
   "source": [
    "## Let's do a logit regression!"
   ]
  },
  {
   "cell_type": "markdown",
   "metadata": {},
   "source": [
    "Remember - logit regression are used when the DEPENDENT variable is a dummy variable (0 or 1). In this case, we are going to transform our price into a dummy variable, using the median as cutoff. We did this during lab 2!"
   ]
  },
  {
   "cell_type": "code",
   "execution_count": 54,
   "metadata": {},
   "outputs": [
    {
     "name": "stdout",
     "output_type": "stream",
     "text": [
      "72000.0\n"
     ]
    },
    {
     "data": {
      "text/html": [
       "<div>\n",
       "<style scoped>\n",
       "    .dataframe tbody tr th:only-of-type {\n",
       "        vertical-align: middle;\n",
       "    }\n",
       "\n",
       "    .dataframe tbody tr th {\n",
       "        vertical-align: top;\n",
       "    }\n",
       "\n",
       "    .dataframe thead th {\n",
       "        text-align: right;\n",
       "    }\n",
       "</style>\n",
       "<table border=\"1\" class=\"dataframe\">\n",
       "  <thead>\n",
       "    <tr style=\"text-align: right;\">\n",
       "      <th></th>\n",
       "      <th>price_000</th>\n",
       "      <th>pop_dens</th>\n",
       "      <th>ses</th>\n",
       "      <th>house</th>\n",
       "      <th>area_m2</th>\n",
       "      <th>num_bath</th>\n",
       "      <th>pcn_green</th>\n",
       "      <th>homicides</th>\n",
       "      <th>year</th>\n",
       "      <th>high_ses</th>\n",
       "      <th>yr_2001</th>\n",
       "      <th>yr_2002</th>\n",
       "      <th>yr_2003</th>\n",
       "      <th>yr_2004</th>\n",
       "      <th>yr_2005</th>\n",
       "      <th>pcn_green_log</th>\n",
       "      <th>high_price</th>\n",
       "    </tr>\n",
       "  </thead>\n",
       "  <tbody>\n",
       "    <tr>\n",
       "      <td>0</td>\n",
       "      <td>60000</td>\n",
       "      <td>830.78</td>\n",
       "      <td>4</td>\n",
       "      <td>0</td>\n",
       "      <td>70</td>\n",
       "      <td>2</td>\n",
       "      <td>1.74</td>\n",
       "      <td>39.92</td>\n",
       "      <td>2001</td>\n",
       "      <td>0</td>\n",
       "      <td>1</td>\n",
       "      <td>0</td>\n",
       "      <td>0</td>\n",
       "      <td>0</td>\n",
       "      <td>0</td>\n",
       "      <td>1.007958</td>\n",
       "      <td>0</td>\n",
       "    </tr>\n",
       "    <tr>\n",
       "      <td>1</td>\n",
       "      <td>140000</td>\n",
       "      <td>826.75</td>\n",
       "      <td>4</td>\n",
       "      <td>1</td>\n",
       "      <td>257</td>\n",
       "      <td>4</td>\n",
       "      <td>0.54</td>\n",
       "      <td>46.00</td>\n",
       "      <td>2002</td>\n",
       "      <td>0</td>\n",
       "      <td>0</td>\n",
       "      <td>1</td>\n",
       "      <td>0</td>\n",
       "      <td>0</td>\n",
       "      <td>0</td>\n",
       "      <td>0.431782</td>\n",
       "      <td>1</td>\n",
       "    </tr>\n",
       "  </tbody>\n",
       "</table>\n",
       "</div>"
      ],
      "text/plain": [
       "   price_000  pop_dens  ses  house  area_m2  num_bath  pcn_green  homicides  \\\n",
       "0      60000    830.78    4      0       70         2       1.74      39.92   \n",
       "1     140000    826.75    4      1      257         4       0.54      46.00   \n",
       "\n",
       "   year  high_ses  yr_2001  yr_2002  yr_2003  yr_2004  yr_2005  pcn_green_log  \\\n",
       "0  2001         0        1        0        0        0        0       1.007958   \n",
       "1  2002         0        0        1        0        0        0       0.431782   \n",
       "\n",
       "   high_price  \n",
       "0           0  \n",
       "1           1  "
      ]
     },
     "execution_count": 54,
     "metadata": {},
     "output_type": "execute_result"
    }
   ],
   "source": [
    "price_median = data['price_000'].median()\n",
    "print(price_median)\n",
    "\n",
    "data['high_price'] = np.where(data['price_000']>price_median, 1, 0)\n",
    "data.head(2)"
   ]
  },
  {
   "cell_type": "code",
   "execution_count": 55,
   "metadata": {},
   "outputs": [
    {
     "data": {
      "text/html": [
       "<div>\n",
       "<style scoped>\n",
       "    .dataframe tbody tr th:only-of-type {\n",
       "        vertical-align: middle;\n",
       "    }\n",
       "\n",
       "    .dataframe tbody tr th {\n",
       "        vertical-align: top;\n",
       "    }\n",
       "\n",
       "    .dataframe thead th {\n",
       "        text-align: right;\n",
       "    }\n",
       "</style>\n",
       "<table border=\"1\" class=\"dataframe\">\n",
       "  <thead>\n",
       "    <tr style=\"text-align: right;\">\n",
       "      <th></th>\n",
       "      <th>ses</th>\n",
       "      <th>house</th>\n",
       "      <th>area_m2</th>\n",
       "      <th>num_bath</th>\n",
       "      <th>pcn_green</th>\n",
       "      <th>homicides</th>\n",
       "      <th>Intercept</th>\n",
       "    </tr>\n",
       "  </thead>\n",
       "  <tbody>\n",
       "    <tr>\n",
       "      <td>0</td>\n",
       "      <td>4</td>\n",
       "      <td>0</td>\n",
       "      <td>70</td>\n",
       "      <td>2</td>\n",
       "      <td>1.74</td>\n",
       "      <td>39.92</td>\n",
       "      <td>1</td>\n",
       "    </tr>\n",
       "    <tr>\n",
       "      <td>1</td>\n",
       "      <td>4</td>\n",
       "      <td>1</td>\n",
       "      <td>257</td>\n",
       "      <td>4</td>\n",
       "      <td>0.54</td>\n",
       "      <td>46.00</td>\n",
       "      <td>1</td>\n",
       "    </tr>\n",
       "  </tbody>\n",
       "</table>\n",
       "</div>"
      ],
      "text/plain": [
       "   ses  house  area_m2  num_bath  pcn_green  homicides  Intercept\n",
       "0    4      0       70         2       1.74      39.92          1\n",
       "1    4      1      257         4       0.54      46.00          1"
      ]
     },
     "execution_count": 55,
     "metadata": {},
     "output_type": "execute_result"
    }
   ],
   "source": [
    "y = data['high_price']\n",
    "x = data[ind_var].assign(Intercept = 1) #Independent Variables\n",
    "\n",
    "x.head(2)"
   ]
  },
  {
   "cell_type": "code",
   "execution_count": 56,
   "metadata": {},
   "outputs": [
    {
     "name": "stdout",
     "output_type": "stream",
     "text": [
      "Optimization terminated successfully.\n",
      "         Current function value: 0.409520\n",
      "         Iterations 7\n"
     ]
    },
    {
     "data": {
      "text/html": [
       "<table class=\"simpletable\">\n",
       "<caption>Logit Regression Results</caption>\n",
       "<tr>\n",
       "  <th>Dep. Variable:</th>      <td>high_price</td>    <th>  No. Observations:  </th>  <td>  3976</td> \n",
       "</tr>\n",
       "<tr>\n",
       "  <th>Model:</th>                 <td>Logit</td>      <th>  Df Residuals:      </th>  <td>  3969</td> \n",
       "</tr>\n",
       "<tr>\n",
       "  <th>Method:</th>                 <td>MLE</td>       <th>  Df Model:          </th>  <td>     6</td> \n",
       "</tr>\n",
       "<tr>\n",
       "  <th>Date:</th>            <td>Tue, 18 Feb 2020</td> <th>  Pseudo R-squ.:     </th>  <td>0.4092</td> \n",
       "</tr>\n",
       "<tr>\n",
       "  <th>Time:</th>                <td>10:05:49</td>     <th>  Log-Likelihood:    </th> <td> -1628.3</td>\n",
       "</tr>\n",
       "<tr>\n",
       "  <th>converged:</th>             <td>True</td>       <th>  LL-Null:           </th> <td> -2755.8</td>\n",
       "</tr>\n",
       "<tr>\n",
       "  <th>Covariance Type:</th>     <td>nonrobust</td>    <th>  LLR p-value:       </th>  <td> 0.000</td> \n",
       "</tr>\n",
       "</table>\n",
       "<table class=\"simpletable\">\n",
       "<tr>\n",
       "      <td></td>         <th>coef</th>     <th>std err</th>      <th>z</th>      <th>P>|z|</th>  <th>[0.025</th>    <th>0.975]</th>  \n",
       "</tr>\n",
       "<tr>\n",
       "  <th>ses</th>       <td>    1.0513</td> <td>    0.074</td> <td>   14.181</td> <td> 0.000</td> <td>    0.906</td> <td>    1.197</td>\n",
       "</tr>\n",
       "<tr>\n",
       "  <th>house</th>     <td>   -0.1641</td> <td>    0.133</td> <td>   -1.238</td> <td> 0.216</td> <td>   -0.424</td> <td>    0.096</td>\n",
       "</tr>\n",
       "<tr>\n",
       "  <th>area_m2</th>   <td>    0.0273</td> <td>    0.001</td> <td>   20.150</td> <td> 0.000</td> <td>    0.025</td> <td>    0.030</td>\n",
       "</tr>\n",
       "<tr>\n",
       "  <th>num_bath</th>  <td>    0.5504</td> <td>    0.055</td> <td>   10.044</td> <td> 0.000</td> <td>    0.443</td> <td>    0.658</td>\n",
       "</tr>\n",
       "<tr>\n",
       "  <th>pcn_green</th> <td>    0.0280</td> <td>    0.006</td> <td>    5.029</td> <td> 0.000</td> <td>    0.017</td> <td>    0.039</td>\n",
       "</tr>\n",
       "<tr>\n",
       "  <th>homicides</th> <td>   -0.0019</td> <td>    0.001</td> <td>   -1.989</td> <td> 0.047</td> <td>   -0.004</td> <td>-2.74e-05</td>\n",
       "</tr>\n",
       "<tr>\n",
       "  <th>Intercept</th> <td>   -7.6072</td> <td>    0.347</td> <td>  -21.953</td> <td> 0.000</td> <td>   -8.286</td> <td>   -6.928</td>\n",
       "</tr>\n",
       "</table>"
      ],
      "text/plain": [
       "<class 'statsmodels.iolib.summary.Summary'>\n",
       "\"\"\"\n",
       "                           Logit Regression Results                           \n",
       "==============================================================================\n",
       "Dep. Variable:             high_price   No. Observations:                 3976\n",
       "Model:                          Logit   Df Residuals:                     3969\n",
       "Method:                           MLE   Df Model:                            6\n",
       "Date:                Tue, 18 Feb 2020   Pseudo R-squ.:                  0.4092\n",
       "Time:                        10:05:49   Log-Likelihood:                -1628.3\n",
       "converged:                       True   LL-Null:                       -2755.8\n",
       "Covariance Type:            nonrobust   LLR p-value:                     0.000\n",
       "==============================================================================\n",
       "                 coef    std err          z      P>|z|      [0.025      0.975]\n",
       "------------------------------------------------------------------------------\n",
       "ses            1.0513      0.074     14.181      0.000       0.906       1.197\n",
       "house         -0.1641      0.133     -1.238      0.216      -0.424       0.096\n",
       "area_m2        0.0273      0.001     20.150      0.000       0.025       0.030\n",
       "num_bath       0.5504      0.055     10.044      0.000       0.443       0.658\n",
       "pcn_green      0.0280      0.006      5.029      0.000       0.017       0.039\n",
       "homicides     -0.0019      0.001     -1.989      0.047      -0.004   -2.74e-05\n",
       "Intercept     -7.6072      0.347    -21.953      0.000      -8.286      -6.928\n",
       "==============================================================================\n",
       "\"\"\""
      ]
     },
     "execution_count": 56,
     "metadata": {},
     "output_type": "execute_result"
    }
   ],
   "source": [
    "logit_model = Logit(y, x).fit()\n",
    "logit_model.summary()"
   ]
  },
  {
   "cell_type": "code",
   "execution_count": 64,
   "metadata": {},
   "outputs": [
    {
     "name": "stdout",
     "output_type": "stream",
     "text": [
      "           Odds Ratio      2.5%     97.5%\n",
      "ses          2.474423  3.308899  2.861401\n",
      "house        0.654384  1.100551  0.848636\n",
      "area_m2      1.024968  1.030430  1.027695\n",
      "num_bath     1.557394  1.930606  1.733988\n",
      "pcn_green    1.017226  1.039660  1.028382\n",
      "homicides    0.996282  0.999973  0.998125\n",
      "Intercept    0.000252  0.000980  0.000497\n"
     ]
    }
   ],
   "source": [
    "### Odds ratio\n",
    "\n",
    "params = logit_model.params\n",
    "conf = logit_model.conf_int()\n",
    "\n",
    "conf['Odds Ratio'] = params\n",
    "conf.columns = ['Odds Ratio', '2.5%', '97.5%']\n",
    "print(np.exp(conf))"
   ]
  },
  {
   "cell_type": "code",
   "execution_count": null,
   "metadata": {},
   "outputs": [],
   "source": []
  },
  {
   "cell_type": "code",
   "execution_count": null,
   "metadata": {},
   "outputs": [],
   "source": []
  },
  {
   "cell_type": "code",
   "execution_count": null,
   "metadata": {},
   "outputs": [],
   "source": []
  },
  {
   "cell_type": "code",
   "execution_count": null,
   "metadata": {},
   "outputs": [],
   "source": []
  },
  {
   "cell_type": "markdown",
   "metadata": {},
   "source": [
    "### Appendix"
   ]
  },
  {
   "cell_type": "markdown",
   "metadata": {},
   "source": [
    "##### VIF - Let's unpack this"
   ]
  },
  {
   "cell_type": "code",
   "execution_count": 28,
   "metadata": {},
   "outputs": [
    {
     "data": {
      "text/html": [
       "<div>\n",
       "<style scoped>\n",
       "    .dataframe tbody tr th:only-of-type {\n",
       "        vertical-align: middle;\n",
       "    }\n",
       "\n",
       "    .dataframe tbody tr th {\n",
       "        vertical-align: top;\n",
       "    }\n",
       "\n",
       "    .dataframe thead th {\n",
       "        text-align: right;\n",
       "    }\n",
       "</style>\n",
       "<table border=\"1\" class=\"dataframe\">\n",
       "  <thead>\n",
       "    <tr style=\"text-align: right;\">\n",
       "      <th></th>\n",
       "      <th>ses</th>\n",
       "      <th>house</th>\n",
       "      <th>area_m2</th>\n",
       "      <th>num_bath</th>\n",
       "      <th>pcn_green</th>\n",
       "      <th>homicides</th>\n",
       "      <th>Intercept</th>\n",
       "    </tr>\n",
       "  </thead>\n",
       "  <tbody>\n",
       "    <tr>\n",
       "      <td>0</td>\n",
       "      <td>4</td>\n",
       "      <td>0</td>\n",
       "      <td>70</td>\n",
       "      <td>2</td>\n",
       "      <td>1.74</td>\n",
       "      <td>39.92</td>\n",
       "      <td>1</td>\n",
       "    </tr>\n",
       "    <tr>\n",
       "      <td>1</td>\n",
       "      <td>4</td>\n",
       "      <td>1</td>\n",
       "      <td>257</td>\n",
       "      <td>4</td>\n",
       "      <td>0.54</td>\n",
       "      <td>46.00</td>\n",
       "      <td>1</td>\n",
       "    </tr>\n",
       "    <tr>\n",
       "      <td>2</td>\n",
       "      <td>4</td>\n",
       "      <td>0</td>\n",
       "      <td>115</td>\n",
       "      <td>4</td>\n",
       "      <td>1.55</td>\n",
       "      <td>45.87</td>\n",
       "      <td>1</td>\n",
       "    </tr>\n",
       "    <tr>\n",
       "      <td>3</td>\n",
       "      <td>4</td>\n",
       "      <td>1</td>\n",
       "      <td>270</td>\n",
       "      <td>4</td>\n",
       "      <td>1.58</td>\n",
       "      <td>45.88</td>\n",
       "      <td>1</td>\n",
       "    </tr>\n",
       "    <tr>\n",
       "      <td>4</td>\n",
       "      <td>4</td>\n",
       "      <td>1</td>\n",
       "      <td>268</td>\n",
       "      <td>2</td>\n",
       "      <td>0.40</td>\n",
       "      <td>46.00</td>\n",
       "      <td>1</td>\n",
       "    </tr>\n",
       "  </tbody>\n",
       "</table>\n",
       "</div>"
      ],
      "text/plain": [
       "   ses  house  area_m2  num_bath  pcn_green  homicides  Intercept\n",
       "0    4      0       70         2       1.74      39.92          1\n",
       "1    4      1      257         4       0.54      46.00          1\n",
       "2    4      0      115         4       1.55      45.87          1\n",
       "3    4      1      270         4       1.58      45.88          1\n",
       "4    4      1      268         2       0.40      46.00          1"
      ]
     },
     "execution_count": 28,
     "metadata": {},
     "output_type": "execute_result"
    }
   ],
   "source": [
    "# We created a list of independent variables\n",
    "ind_var = ['ses', 'house', 'area_m2', 'num_bath', 'pcn_green', 'homicides'] \n",
    "\n",
    "# We assigned them to the variable x, and included a column of ones (the intercept)\n",
    "x = data[ind_var].assign(Intercept = 1) #Independent Variables\n",
    "\n",
    "x.head(5)"
   ]
  },
  {
   "cell_type": "markdown",
   "metadata": {},
   "source": [
    "Take a look at the `variance_inflaction_factor function`. What does it require as inputs? Use the `shit`+`tab` command to examine the documentation or run the next line of code."
   ]
  },
  {
   "cell_type": "code",
   "execution_count": 30,
   "metadata": {},
   "outputs": [],
   "source": [
    "variance_inflation_factor?"
   ]
  },
  {
   "cell_type": "markdown",
   "metadata": {},
   "source": [
    "So we can see that the function needs 2 things:\n",
    "    1. the values defined as x above\n",
    "    2. the variable (column number) for which you want to run the VIF"
   ]
  },
  {
   "cell_type": "markdown",
   "metadata": {},
   "source": [
    "However, what happens when I run the following? Yes - it errors out. Why?"
   ]
  },
  {
   "cell_type": "code",
   "execution_count": 34,
   "metadata": {},
   "outputs": [
    {
     "ename": "TypeError",
     "evalue": "'(slice(None, None, None), 0)' is an invalid key",
     "output_type": "error",
     "traceback": [
      "\u001b[1;31m---------------------------------------------------------------------------\u001b[0m",
      "\u001b[1;31mTypeError\u001b[0m                                 Traceback (most recent call last)",
      "\u001b[1;32m<ipython-input-34-7610dc64d90e>\u001b[0m in \u001b[0;36m<module>\u001b[1;34m\u001b[0m\n\u001b[1;32m----> 1\u001b[1;33m \u001b[0mvariance_inflation_factor\u001b[0m \u001b[1;33m(\u001b[0m\u001b[0mx\u001b[0m\u001b[1;33m,\u001b[0m \u001b[1;36m0\u001b[0m\u001b[1;33m)\u001b[0m\u001b[1;33m\u001b[0m\u001b[1;33m\u001b[0m\u001b[0m\n\u001b[0m",
      "\u001b[1;32m~\\Anaconda3\\lib\\site-packages\\statsmodels\\stats\\outliers_influence.py\u001b[0m in \u001b[0;36mvariance_inflation_factor\u001b[1;34m(exog, exog_idx)\u001b[0m\n\u001b[0;32m    179\u001b[0m     \"\"\"\n\u001b[0;32m    180\u001b[0m     \u001b[0mk_vars\u001b[0m \u001b[1;33m=\u001b[0m \u001b[0mexog\u001b[0m\u001b[1;33m.\u001b[0m\u001b[0mshape\u001b[0m\u001b[1;33m[\u001b[0m\u001b[1;36m1\u001b[0m\u001b[1;33m]\u001b[0m\u001b[1;33m\u001b[0m\u001b[1;33m\u001b[0m\u001b[0m\n\u001b[1;32m--> 181\u001b[1;33m     \u001b[0mx_i\u001b[0m \u001b[1;33m=\u001b[0m \u001b[0mexog\u001b[0m\u001b[1;33m[\u001b[0m\u001b[1;33m:\u001b[0m\u001b[1;33m,\u001b[0m \u001b[0mexog_idx\u001b[0m\u001b[1;33m]\u001b[0m\u001b[1;33m\u001b[0m\u001b[1;33m\u001b[0m\u001b[0m\n\u001b[0m\u001b[0;32m    182\u001b[0m     \u001b[0mmask\u001b[0m \u001b[1;33m=\u001b[0m \u001b[0mnp\u001b[0m\u001b[1;33m.\u001b[0m\u001b[0marange\u001b[0m\u001b[1;33m(\u001b[0m\u001b[0mk_vars\u001b[0m\u001b[1;33m)\u001b[0m \u001b[1;33m!=\u001b[0m \u001b[0mexog_idx\u001b[0m\u001b[1;33m\u001b[0m\u001b[1;33m\u001b[0m\u001b[0m\n\u001b[0;32m    183\u001b[0m     \u001b[0mx_noti\u001b[0m \u001b[1;33m=\u001b[0m \u001b[0mexog\u001b[0m\u001b[1;33m[\u001b[0m\u001b[1;33m:\u001b[0m\u001b[1;33m,\u001b[0m \u001b[0mmask\u001b[0m\u001b[1;33m]\u001b[0m\u001b[1;33m\u001b[0m\u001b[1;33m\u001b[0m\u001b[0m\n",
      "\u001b[1;32m~\\Anaconda3\\lib\\site-packages\\pandas\\core\\frame.py\u001b[0m in \u001b[0;36m__getitem__\u001b[1;34m(self, key)\u001b[0m\n\u001b[0;32m   2978\u001b[0m             \u001b[1;32mif\u001b[0m \u001b[0mself\u001b[0m\u001b[1;33m.\u001b[0m\u001b[0mcolumns\u001b[0m\u001b[1;33m.\u001b[0m\u001b[0mnlevels\u001b[0m \u001b[1;33m>\u001b[0m \u001b[1;36m1\u001b[0m\u001b[1;33m:\u001b[0m\u001b[1;33m\u001b[0m\u001b[1;33m\u001b[0m\u001b[0m\n\u001b[0;32m   2979\u001b[0m                 \u001b[1;32mreturn\u001b[0m \u001b[0mself\u001b[0m\u001b[1;33m.\u001b[0m\u001b[0m_getitem_multilevel\u001b[0m\u001b[1;33m(\u001b[0m\u001b[0mkey\u001b[0m\u001b[1;33m)\u001b[0m\u001b[1;33m\u001b[0m\u001b[1;33m\u001b[0m\u001b[0m\n\u001b[1;32m-> 2980\u001b[1;33m             \u001b[0mindexer\u001b[0m \u001b[1;33m=\u001b[0m \u001b[0mself\u001b[0m\u001b[1;33m.\u001b[0m\u001b[0mcolumns\u001b[0m\u001b[1;33m.\u001b[0m\u001b[0mget_loc\u001b[0m\u001b[1;33m(\u001b[0m\u001b[0mkey\u001b[0m\u001b[1;33m)\u001b[0m\u001b[1;33m\u001b[0m\u001b[1;33m\u001b[0m\u001b[0m\n\u001b[0m\u001b[0;32m   2981\u001b[0m             \u001b[1;32mif\u001b[0m \u001b[0mis_integer\u001b[0m\u001b[1;33m(\u001b[0m\u001b[0mindexer\u001b[0m\u001b[1;33m)\u001b[0m\u001b[1;33m:\u001b[0m\u001b[1;33m\u001b[0m\u001b[1;33m\u001b[0m\u001b[0m\n\u001b[0;32m   2982\u001b[0m                 \u001b[0mindexer\u001b[0m \u001b[1;33m=\u001b[0m \u001b[1;33m[\u001b[0m\u001b[0mindexer\u001b[0m\u001b[1;33m]\u001b[0m\u001b[1;33m\u001b[0m\u001b[1;33m\u001b[0m\u001b[0m\n",
      "\u001b[1;32m~\\Anaconda3\\lib\\site-packages\\pandas\\core\\indexes\\base.py\u001b[0m in \u001b[0;36mget_loc\u001b[1;34m(self, key, method, tolerance)\u001b[0m\n\u001b[0;32m   2895\u001b[0m                 )\n\u001b[0;32m   2896\u001b[0m             \u001b[1;32mtry\u001b[0m\u001b[1;33m:\u001b[0m\u001b[1;33m\u001b[0m\u001b[1;33m\u001b[0m\u001b[0m\n\u001b[1;32m-> 2897\u001b[1;33m                 \u001b[1;32mreturn\u001b[0m \u001b[0mself\u001b[0m\u001b[1;33m.\u001b[0m\u001b[0m_engine\u001b[0m\u001b[1;33m.\u001b[0m\u001b[0mget_loc\u001b[0m\u001b[1;33m(\u001b[0m\u001b[0mkey\u001b[0m\u001b[1;33m)\u001b[0m\u001b[1;33m\u001b[0m\u001b[1;33m\u001b[0m\u001b[0m\n\u001b[0m\u001b[0;32m   2898\u001b[0m             \u001b[1;32mexcept\u001b[0m \u001b[0mKeyError\u001b[0m\u001b[1;33m:\u001b[0m\u001b[1;33m\u001b[0m\u001b[1;33m\u001b[0m\u001b[0m\n\u001b[0;32m   2899\u001b[0m                 \u001b[1;32mreturn\u001b[0m \u001b[0mself\u001b[0m\u001b[1;33m.\u001b[0m\u001b[0m_engine\u001b[0m\u001b[1;33m.\u001b[0m\u001b[0mget_loc\u001b[0m\u001b[1;33m(\u001b[0m\u001b[0mself\u001b[0m\u001b[1;33m.\u001b[0m\u001b[0m_maybe_cast_indexer\u001b[0m\u001b[1;33m(\u001b[0m\u001b[0mkey\u001b[0m\u001b[1;33m)\u001b[0m\u001b[1;33m)\u001b[0m\u001b[1;33m\u001b[0m\u001b[1;33m\u001b[0m\u001b[0m\n",
      "\u001b[1;32mpandas\\_libs\\index.pyx\u001b[0m in \u001b[0;36mpandas._libs.index.IndexEngine.get_loc\u001b[1;34m()\u001b[0m\n",
      "\u001b[1;32mpandas\\_libs\\index.pyx\u001b[0m in \u001b[0;36mpandas._libs.index.IndexEngine.get_loc\u001b[1;34m()\u001b[0m\n",
      "\u001b[1;31mTypeError\u001b[0m: '(slice(None, None, None), 0)' is an invalid key"
     ]
    }
   ],
   "source": [
    "variance_inflation_factor (x, 0)"
   ]
  },
  {
   "cell_type": "markdown",
   "metadata": {},
   "source": [
    "Turns out, x is a dataframe and the VIF function doesn't know what a dataframe is. It wants the values of the dataframe in an array format. Look below - the numbers are the same, but the format is different."
   ]
  },
  {
   "cell_type": "code",
   "execution_count": 38,
   "metadata": {},
   "outputs": [
    {
     "data": {
      "text/html": [
       "<div>\n",
       "<style scoped>\n",
       "    .dataframe tbody tr th:only-of-type {\n",
       "        vertical-align: middle;\n",
       "    }\n",
       "\n",
       "    .dataframe tbody tr th {\n",
       "        vertical-align: top;\n",
       "    }\n",
       "\n",
       "    .dataframe thead th {\n",
       "        text-align: right;\n",
       "    }\n",
       "</style>\n",
       "<table border=\"1\" class=\"dataframe\">\n",
       "  <thead>\n",
       "    <tr style=\"text-align: right;\">\n",
       "      <th></th>\n",
       "      <th>ses</th>\n",
       "      <th>house</th>\n",
       "      <th>area_m2</th>\n",
       "      <th>num_bath</th>\n",
       "      <th>pcn_green</th>\n",
       "      <th>homicides</th>\n",
       "      <th>Intercept</th>\n",
       "    </tr>\n",
       "  </thead>\n",
       "  <tbody>\n",
       "    <tr>\n",
       "      <td>0</td>\n",
       "      <td>4</td>\n",
       "      <td>0</td>\n",
       "      <td>70</td>\n",
       "      <td>2</td>\n",
       "      <td>1.74</td>\n",
       "      <td>39.92</td>\n",
       "      <td>1</td>\n",
       "    </tr>\n",
       "    <tr>\n",
       "      <td>1</td>\n",
       "      <td>4</td>\n",
       "      <td>1</td>\n",
       "      <td>257</td>\n",
       "      <td>4</td>\n",
       "      <td>0.54</td>\n",
       "      <td>46.00</td>\n",
       "      <td>1</td>\n",
       "    </tr>\n",
       "  </tbody>\n",
       "</table>\n",
       "</div>"
      ],
      "text/plain": [
       "   ses  house  area_m2  num_bath  pcn_green  homicides  Intercept\n",
       "0    4      0       70         2       1.74      39.92          1\n",
       "1    4      1      257         4       0.54      46.00          1"
      ]
     },
     "execution_count": 38,
     "metadata": {},
     "output_type": "execute_result"
    }
   ],
   "source": [
    "x.head(2)"
   ]
  },
  {
   "cell_type": "code",
   "execution_count": 42,
   "metadata": {},
   "outputs": [
    {
     "data": {
      "text/plain": [
       "array([[  4.  ,   0.  ,  70.  ,   2.  ,   1.74,  39.92,   1.  ],\n",
       "       [  4.  ,   1.  , 257.  ,   4.  ,   0.54,  46.  ,   1.  ]])"
      ]
     },
     "execution_count": 42,
     "metadata": {},
     "output_type": "execute_result"
    }
   ],
   "source": [
    "x.values[0:2]"
   ]
  },
  {
   "cell_type": "markdown",
   "metadata": {},
   "source": [
    "Now, let's examine the second parameter - the column number. If I input the column number manually, I will get one result. Play around with the second parameter and see if the IFV changes. What happens if you choose a number higher that 6? Why?"
   ]
  },
  {
   "cell_type": "code",
   "execution_count": 46,
   "metadata": {},
   "outputs": [
    {
     "data": {
      "text/plain": [
       "1.3567308654658161"
      ]
     },
     "execution_count": 46,
     "metadata": {},
     "output_type": "execute_result"
    }
   ],
   "source": [
    "variance_inflation_factor(x.values, 5)"
   ]
  },
  {
   "cell_type": "code",
   "execution_count": 47,
   "metadata": {},
   "outputs": [
    {
     "ename": "IndexError",
     "evalue": "index 10 is out of bounds for axis 1 with size 7",
     "output_type": "error",
     "traceback": [
      "\u001b[1;31m---------------------------------------------------------------------------\u001b[0m",
      "\u001b[1;31mIndexError\u001b[0m                                Traceback (most recent call last)",
      "\u001b[1;32m<ipython-input-47-bcdb967670cc>\u001b[0m in \u001b[0;36m<module>\u001b[1;34m\u001b[0m\n\u001b[1;32m----> 1\u001b[1;33m \u001b[0mvariance_inflation_factor\u001b[0m\u001b[1;33m(\u001b[0m\u001b[0mx\u001b[0m\u001b[1;33m.\u001b[0m\u001b[0mvalues\u001b[0m\u001b[1;33m,\u001b[0m \u001b[1;36m10\u001b[0m\u001b[1;33m)\u001b[0m\u001b[1;33m\u001b[0m\u001b[1;33m\u001b[0m\u001b[0m\n\u001b[0m",
      "\u001b[1;32m~\\Anaconda3\\lib\\site-packages\\statsmodels\\stats\\outliers_influence.py\u001b[0m in \u001b[0;36mvariance_inflation_factor\u001b[1;34m(exog, exog_idx)\u001b[0m\n\u001b[0;32m    179\u001b[0m     \"\"\"\n\u001b[0;32m    180\u001b[0m     \u001b[0mk_vars\u001b[0m \u001b[1;33m=\u001b[0m \u001b[0mexog\u001b[0m\u001b[1;33m.\u001b[0m\u001b[0mshape\u001b[0m\u001b[1;33m[\u001b[0m\u001b[1;36m1\u001b[0m\u001b[1;33m]\u001b[0m\u001b[1;33m\u001b[0m\u001b[1;33m\u001b[0m\u001b[0m\n\u001b[1;32m--> 181\u001b[1;33m     \u001b[0mx_i\u001b[0m \u001b[1;33m=\u001b[0m \u001b[0mexog\u001b[0m\u001b[1;33m[\u001b[0m\u001b[1;33m:\u001b[0m\u001b[1;33m,\u001b[0m \u001b[0mexog_idx\u001b[0m\u001b[1;33m]\u001b[0m\u001b[1;33m\u001b[0m\u001b[1;33m\u001b[0m\u001b[0m\n\u001b[0m\u001b[0;32m    182\u001b[0m     \u001b[0mmask\u001b[0m \u001b[1;33m=\u001b[0m \u001b[0mnp\u001b[0m\u001b[1;33m.\u001b[0m\u001b[0marange\u001b[0m\u001b[1;33m(\u001b[0m\u001b[0mk_vars\u001b[0m\u001b[1;33m)\u001b[0m \u001b[1;33m!=\u001b[0m \u001b[0mexog_idx\u001b[0m\u001b[1;33m\u001b[0m\u001b[1;33m\u001b[0m\u001b[0m\n\u001b[0;32m    183\u001b[0m     \u001b[0mx_noti\u001b[0m \u001b[1;33m=\u001b[0m \u001b[0mexog\u001b[0m\u001b[1;33m[\u001b[0m\u001b[1;33m:\u001b[0m\u001b[1;33m,\u001b[0m \u001b[0mmask\u001b[0m\u001b[1;33m]\u001b[0m\u001b[1;33m\u001b[0m\u001b[1;33m\u001b[0m\u001b[0m\n",
      "\u001b[1;31mIndexError\u001b[0m: index 10 is out of bounds for axis 1 with size 7"
     ]
    }
   ],
   "source": [
    "variance_inflation_factor(x.values, 10)"
   ]
  },
  {
   "cell_type": "markdown",
   "metadata": {},
   "source": [
    "That's right! There are only 7 columns and remember, the first column is assigned an index of 0. Therefore, if you use a number higher than 6, it will error out."
   ]
  },
  {
   "cell_type": "markdown",
   "metadata": {},
   "source": [
    "Now that we have the parameters of the function, the second part of this line of code is the \"list logic\". This is the similar to running a for loop, but coded in a single line. What we are saying is: run the `variance_inflation_function` for every value of `i` in the range 0 - 6. How does it know when to stop? It's using the `shape` function."
   ]
  },
  {
   "cell_type": "code",
   "execution_count": 51,
   "metadata": {},
   "outputs": [
    {
     "name": "stdout",
     "output_type": "stream",
     "text": [
      "3976\n",
      "7\n"
     ]
    }
   ],
   "source": [
    "x.shape # Outputs the shape of the dataframe\n",
    "x.shape[0] #Accesses the fist number - number of rows\n",
    "x.shape[1] #Accesses the second number - number of columns\n",
    "print(x.shape[0])\n",
    "print(x.shape[1])"
   ]
  },
  {
   "cell_type": "markdown",
   "metadata": {},
   "source": [
    "Now, we can run the function and see the results"
   ]
  },
  {
   "cell_type": "code",
   "execution_count": 52,
   "metadata": {},
   "outputs": [
    {
     "data": {
      "text/plain": [
       "[1.2012757242368917,\n",
       " 1.9142662712925385,\n",
       " 2.227270076371359,\n",
       " 1.4117317371948093,\n",
       " 1.2372146659377956,\n",
       " 1.3567308654658161,\n",
       " 35.8375267326744]"
      ]
     },
     "execution_count": 52,
     "metadata": {},
     "output_type": "execute_result"
    }
   ],
   "source": [
    "[variance_inflation_factor(x.values, i) for i in range(x.shape[1])]"
   ]
  },
  {
   "cell_type": "markdown",
   "metadata": {},
   "source": [
    "Add the column names as the series index (or row name)!"
   ]
  },
  {
   "cell_type": "code",
   "execution_count": 54,
   "metadata": {},
   "outputs": [
    {
     "data": {
      "text/plain": [
       "ses           1.201276\n",
       "house         1.914266\n",
       "area_m2       2.227270\n",
       "num_bath      1.411732\n",
       "pcn_green     1.237215\n",
       "homicides     1.356731\n",
       "Intercept    35.837527\n",
       "dtype: float64"
      ]
     },
     "execution_count": 54,
     "metadata": {},
     "output_type": "execute_result"
    }
   ],
   "source": [
    "pd.Series(vif, index=x.columns)"
   ]
  },
  {
   "cell_type": "code",
   "execution_count": null,
   "metadata": {},
   "outputs": [],
   "source": []
  },
  {
   "cell_type": "code",
   "execution_count": null,
   "metadata": {},
   "outputs": [],
   "source": []
  },
  {
   "cell_type": "code",
   "execution_count": null,
   "metadata": {},
   "outputs": [],
   "source": []
  },
  {
   "cell_type": "code",
   "execution_count": null,
   "metadata": {},
   "outputs": [],
   "source": []
  },
  {
   "cell_type": "code",
   "execution_count": null,
   "metadata": {},
   "outputs": [],
   "source": [
    "raw['year'] = np.where(raw['yr_2001']==1, '2001',\n",
    "                        np.where(raw['yr_2002']==1, '2002',\n",
    "                                np.where(raw['yr_2003']==1, '2003',\n",
    "                                        np.where(raw['yr_2004']==1, '2004',\n",
    "                                                np.where(raw['yr_2005']==1, '2005',\n",
    "                                                        np.where(raw['yr_2006']==1, '2006', ''))))))\n",
    "\n",
    "raw = raw.drop(columns = ['yr_2001', 'yr_2002', 'yr_2003', 'yr_2004', 'yr_2005', 'yr_2006'])\n",
    "\n",
    "raw.to_csv('data.csv')"
   ]
  }
 ],
 "metadata": {
  "kernelspec": {
   "display_name": "Python 3",
   "language": "python",
   "name": "python3"
  },
  "language_info": {
   "codemirror_mode": {
    "name": "ipython",
    "version": 3
   },
   "file_extension": ".py",
   "mimetype": "text/x-python",
   "name": "python",
   "nbconvert_exporter": "python",
   "pygments_lexer": "ipython3",
   "version": "3.7.4"
  }
 },
 "nbformat": 4,
 "nbformat_minor": 2
}
