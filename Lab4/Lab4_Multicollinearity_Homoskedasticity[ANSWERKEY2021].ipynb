{
 "cells": [
  {
   "cell_type": "markdown",
   "metadata": {},
   "source": [
    "# Planning Methods: Part II, Spring 2021\n",
    "\n",
    "# Lab 4: Multicollinearity & Homoskedasticity\n",
    "\n",
    "**About This Lab**\n",
    "\n",
    "*DISCLAIMER: WE HAVE NOT COVERED THIS TOPIC IN CLASS. OUR NEXT TWO CLASSES WILL COVER THIS. THE EMPHASIS OF THIS LAB IS ON THE MECHANICS OF DETECTING THESE PROBLEMS.\n",
    "\n",
    "* We will be running through this notebook together. If you have a clarifying question or other question of broad interest, feel free to interrupt or use a pause to unmute and ask it! If you have a question that may result in a one-on-one breakout room (think: detailed inquiry, conceptual question, or help debugging), please ask it in the chat!\n",
    "* We recognize learning Python via Zoom comes with its challenges and that there are many modes of learning. Please go with what works best for you. That might be printing out the Jupyter notebook, duplicating it such that you can refer to the original, working directly in it. Up to you! There isn't a single right way.\n",
    "* This lab requires that you download the following file and place it in the same directory as this Jupyter notebook:\n",
    "    * `clean_property_data.csv`\n",
    "* This data includes properties that were sold through a real estate site (like Zillow) between 2001 and 2006 in Bogota. There are apartments and houses, characteristics of the structure like area and bathrooms, and characteristics of the neighborhood like density and a proxy for neighborhood income which is called ses."
   ]
  },
  {
   "cell_type": "markdown",
   "metadata": {},
   "source": [
    "## Objectives\n",
    "By the end of this lab, you will have reviewed how to:\n",
    ">1. Call a correlation matrix\n",
    ">2. Run multivariable linear regression\n",
    "\n",
    "You will also learn how to:\n",
    ">1. Use a and interpret the Variance Inflation Factor (VIF)\n",
    ">2. Calculate predicted values using regression model \n",
    ">3. Detect heteroskedasticity using plots \n",
    ">4. Detect heteroskedasticity using the Breusch-Pagan test\n",
    ">5. Use robust errors if needed"
   ]
  },
  {
   "cell_type": "markdown",
   "metadata": {},
   "source": [
    "### 1. Import packages and  read the data"
   ]
  },
  {
   "cell_type": "code",
   "execution_count": 1,
   "metadata": {},
   "outputs": [],
   "source": [
    "import numpy as np\n",
    "import pandas as pd\n",
    "import seaborn as sns\n",
    "\n",
    "import matplotlib as mpl\n",
    "import matplotlib.pyplot as plt\n",
    "from matplotlib.ticker import FuncFormatter"
   ]
  },
  {
   "cell_type": "code",
   "execution_count": 2,
   "metadata": {},
   "outputs": [],
   "source": [
    "import statsmodels.stats.api as sms\n",
    "import statsmodels.api as sm\n",
    "from scipy.stats import pearsonr\n",
    "from statsmodels.stats.outliers_influence import variance_inflation_factor \n",
    "\n",
    "from statsmodels.compat import lzip"
   ]
  },
  {
   "cell_type": "code",
   "execution_count": 3,
   "metadata": {},
   "outputs": [
    {
     "data": {
      "text/html": [
       "<div>\n",
       "<style scoped>\n",
       "    .dataframe tbody tr th:only-of-type {\n",
       "        vertical-align: middle;\n",
       "    }\n",
       "\n",
       "    .dataframe tbody tr th {\n",
       "        vertical-align: top;\n",
       "    }\n",
       "\n",
       "    .dataframe thead th {\n",
       "        text-align: right;\n",
       "    }\n",
       "</style>\n",
       "<table border=\"1\" class=\"dataframe\">\n",
       "  <thead>\n",
       "    <tr style=\"text-align: right;\">\n",
       "      <th></th>\n",
       "      <th>id</th>\n",
       "      <th>price_000</th>\n",
       "      <th>yr_2001</th>\n",
       "      <th>yr_2002</th>\n",
       "      <th>yr_2003</th>\n",
       "      <th>yr_2004</th>\n",
       "      <th>yr_2005</th>\n",
       "      <th>yr_2006</th>\n",
       "      <th>apt</th>\n",
       "      <th>floor</th>\n",
       "      <th>...</th>\n",
       "      <th>pcnt_indu</th>\n",
       "      <th>pcnt_com</th>\n",
       "      <th>pcnt_insti</th>\n",
       "      <th>pcnt_vacant</th>\n",
       "      <th>pcn_green</th>\n",
       "      <th>thefts</th>\n",
       "      <th>house</th>\n",
       "      <th>ses_bin</th>\n",
       "      <th>lnprice</th>\n",
       "      <th>price_hi</th>\n",
       "    </tr>\n",
       "  </thead>\n",
       "  <tbody>\n",
       "    <tr>\n",
       "      <th>0</th>\n",
       "      <td>40003</td>\n",
       "      <td>60000</td>\n",
       "      <td>1</td>\n",
       "      <td>0</td>\n",
       "      <td>0</td>\n",
       "      <td>0</td>\n",
       "      <td>0</td>\n",
       "      <td>0</td>\n",
       "      <td>1</td>\n",
       "      <td>5</td>\n",
       "      <td>...</td>\n",
       "      <td>0.0</td>\n",
       "      <td>0.00</td>\n",
       "      <td>0.49</td>\n",
       "      <td>0.0</td>\n",
       "      <td>1.74</td>\n",
       "      <td>39.92</td>\n",
       "      <td>0</td>\n",
       "      <td>0</td>\n",
       "      <td>11.00210</td>\n",
       "      <td>0</td>\n",
       "    </tr>\n",
       "    <tr>\n",
       "      <th>1</th>\n",
       "      <td>40007</td>\n",
       "      <td>140000</td>\n",
       "      <td>0</td>\n",
       "      <td>1</td>\n",
       "      <td>0</td>\n",
       "      <td>0</td>\n",
       "      <td>0</td>\n",
       "      <td>0</td>\n",
       "      <td>0</td>\n",
       "      <td>0</td>\n",
       "      <td>...</td>\n",
       "      <td>0.0</td>\n",
       "      <td>15.41</td>\n",
       "      <td>1.32</td>\n",
       "      <td>0.0</td>\n",
       "      <td>0.54</td>\n",
       "      <td>46.00</td>\n",
       "      <td>1</td>\n",
       "      <td>0</td>\n",
       "      <td>11.84940</td>\n",
       "      <td>1</td>\n",
       "    </tr>\n",
       "    <tr>\n",
       "      <th>2</th>\n",
       "      <td>40008</td>\n",
       "      <td>38000</td>\n",
       "      <td>0</td>\n",
       "      <td>1</td>\n",
       "      <td>0</td>\n",
       "      <td>0</td>\n",
       "      <td>0</td>\n",
       "      <td>0</td>\n",
       "      <td>1</td>\n",
       "      <td>1</td>\n",
       "      <td>...</td>\n",
       "      <td>0.0</td>\n",
       "      <td>8.16</td>\n",
       "      <td>5.57</td>\n",
       "      <td>0.0</td>\n",
       "      <td>1.55</td>\n",
       "      <td>45.87</td>\n",
       "      <td>0</td>\n",
       "      <td>0</td>\n",
       "      <td>10.54534</td>\n",
       "      <td>0</td>\n",
       "    </tr>\n",
       "    <tr>\n",
       "      <th>3</th>\n",
       "      <td>40010</td>\n",
       "      <td>110000</td>\n",
       "      <td>0</td>\n",
       "      <td>1</td>\n",
       "      <td>0</td>\n",
       "      <td>0</td>\n",
       "      <td>0</td>\n",
       "      <td>0</td>\n",
       "      <td>0</td>\n",
       "      <td>0</td>\n",
       "      <td>...</td>\n",
       "      <td>0.0</td>\n",
       "      <td>8.11</td>\n",
       "      <td>5.53</td>\n",
       "      <td>0.0</td>\n",
       "      <td>1.58</td>\n",
       "      <td>45.88</td>\n",
       "      <td>1</td>\n",
       "      <td>0</td>\n",
       "      <td>11.60824</td>\n",
       "      <td>1</td>\n",
       "    </tr>\n",
       "    <tr>\n",
       "      <th>4</th>\n",
       "      <td>40011</td>\n",
       "      <td>120000</td>\n",
       "      <td>0</td>\n",
       "      <td>1</td>\n",
       "      <td>0</td>\n",
       "      <td>0</td>\n",
       "      <td>0</td>\n",
       "      <td>0</td>\n",
       "      <td>0</td>\n",
       "      <td>0</td>\n",
       "      <td>...</td>\n",
       "      <td>0.0</td>\n",
       "      <td>0.00</td>\n",
       "      <td>0.00</td>\n",
       "      <td>0.0</td>\n",
       "      <td>0.40</td>\n",
       "      <td>46.00</td>\n",
       "      <td>1</td>\n",
       "      <td>0</td>\n",
       "      <td>11.69525</td>\n",
       "      <td>1</td>\n",
       "    </tr>\n",
       "  </tbody>\n",
       "</table>\n",
       "<p>5 rows × 29 columns</p>\n",
       "</div>"
      ],
      "text/plain": [
       "      id  price_000  yr_2001  yr_2002  yr_2003  yr_2004  yr_2005  yr_2006  \\\n",
       "0  40003      60000        1        0        0        0        0        0   \n",
       "1  40007     140000        0        1        0        0        0        0   \n",
       "2  40008      38000        0        1        0        0        0        0   \n",
       "3  40010     110000        0        1        0        0        0        0   \n",
       "4  40011     120000        0        1        0        0        0        0   \n",
       "\n",
       "   apt  floor  ...  pcnt_indu  pcnt_com  pcnt_insti  pcnt_vacant  pcn_green  \\\n",
       "0    1      5  ...        0.0      0.00        0.49          0.0       1.74   \n",
       "1    0      0  ...        0.0     15.41        1.32          0.0       0.54   \n",
       "2    1      1  ...        0.0      8.16        5.57          0.0       1.55   \n",
       "3    0      0  ...        0.0      8.11        5.53          0.0       1.58   \n",
       "4    0      0  ...        0.0      0.00        0.00          0.0       0.40   \n",
       "\n",
       "   thefts  house  ses_bin   lnprice  price_hi  \n",
       "0   39.92      0        0  11.00210         0  \n",
       "1   46.00      1        0  11.84940         1  \n",
       "2   45.87      0        0  10.54534         0  \n",
       "3   45.88      1        0  11.60824         1  \n",
       "4   46.00      1        0  11.69525         1  \n",
       "\n",
       "[5 rows x 29 columns]"
      ]
     },
     "execution_count": 3,
     "metadata": {},
     "output_type": "execute_result"
    }
   ],
   "source": [
    "#Read in data\n",
    "data = pd.read_csv('clean_property_data.csv')\n",
    "data.head()"
   ]
  },
  {
   "cell_type": "code",
   "execution_count": 4,
   "metadata": {},
   "outputs": [
    {
     "data": {
      "text/html": [
       "<div>\n",
       "<style scoped>\n",
       "    .dataframe tbody tr th:only-of-type {\n",
       "        vertical-align: middle;\n",
       "    }\n",
       "\n",
       "    .dataframe tbody tr th {\n",
       "        vertical-align: top;\n",
       "    }\n",
       "\n",
       "    .dataframe thead th {\n",
       "        text-align: right;\n",
       "    }\n",
       "</style>\n",
       "<table border=\"1\" class=\"dataframe\">\n",
       "  <thead>\n",
       "    <tr style=\"text-align: right;\">\n",
       "      <th></th>\n",
       "      <th>price_000</th>\n",
       "      <th>pop_dens</th>\n",
       "      <th>ses</th>\n",
       "      <th>house</th>\n",
       "      <th>area_m2</th>\n",
       "      <th>num_bath</th>\n",
       "      <th>pcn_green</th>\n",
       "      <th>thefts</th>\n",
       "      <th>high_ses</th>\n",
       "    </tr>\n",
       "  </thead>\n",
       "  <tbody>\n",
       "    <tr>\n",
       "      <th>0</th>\n",
       "      <td>60000</td>\n",
       "      <td>830.78</td>\n",
       "      <td>4</td>\n",
       "      <td>0</td>\n",
       "      <td>70</td>\n",
       "      <td>2</td>\n",
       "      <td>1.74</td>\n",
       "      <td>39.92</td>\n",
       "      <td>0</td>\n",
       "    </tr>\n",
       "    <tr>\n",
       "      <th>1</th>\n",
       "      <td>140000</td>\n",
       "      <td>826.75</td>\n",
       "      <td>4</td>\n",
       "      <td>1</td>\n",
       "      <td>257</td>\n",
       "      <td>4</td>\n",
       "      <td>0.54</td>\n",
       "      <td>46.00</td>\n",
       "      <td>0</td>\n",
       "    </tr>\n",
       "    <tr>\n",
       "      <th>2</th>\n",
       "      <td>38000</td>\n",
       "      <td>914.15</td>\n",
       "      <td>4</td>\n",
       "      <td>0</td>\n",
       "      <td>115</td>\n",
       "      <td>4</td>\n",
       "      <td>1.55</td>\n",
       "      <td>45.87</td>\n",
       "      <td>0</td>\n",
       "    </tr>\n",
       "    <tr>\n",
       "      <th>3</th>\n",
       "      <td>110000</td>\n",
       "      <td>911.25</td>\n",
       "      <td>4</td>\n",
       "      <td>1</td>\n",
       "      <td>270</td>\n",
       "      <td>4</td>\n",
       "      <td>1.58</td>\n",
       "      <td>45.88</td>\n",
       "      <td>0</td>\n",
       "    </tr>\n",
       "    <tr>\n",
       "      <th>4</th>\n",
       "      <td>120000</td>\n",
       "      <td>757.37</td>\n",
       "      <td>4</td>\n",
       "      <td>1</td>\n",
       "      <td>268</td>\n",
       "      <td>2</td>\n",
       "      <td>0.40</td>\n",
       "      <td>46.00</td>\n",
       "      <td>0</td>\n",
       "    </tr>\n",
       "  </tbody>\n",
       "</table>\n",
       "</div>"
      ],
      "text/plain": [
       "   price_000  pop_dens  ses  house  area_m2  num_bath  pcn_green  thefts  \\\n",
       "0      60000    830.78    4      0       70         2       1.74   39.92   \n",
       "1     140000    826.75    4      1      257         4       0.54   46.00   \n",
       "2      38000    914.15    4      0      115         4       1.55   45.87   \n",
       "3     110000    911.25    4      1      270         4       1.58   45.88   \n",
       "4     120000    757.37    4      1      268         2       0.40   46.00   \n",
       "\n",
       "   high_ses  \n",
       "0         0  \n",
       "1         0  \n",
       "2         0  \n",
       "3         0  \n",
       "4         0  "
      ]
     },
     "execution_count": 4,
     "metadata": {},
     "output_type": "execute_result"
    }
   ],
   "source": [
    "#Create a subdataframe, and create a binary variable called 'high_ses'\n",
    "df = data[['price_000', 'pop_dens', 'ses', 'house', 'area_m2', 'num_bath', 'pcn_green', 'thefts']].copy()\n",
    "df['high_ses'] = np.where((df['ses'] >= 5), 1,0)\n",
    "df.head()"
   ]
  },
  {
   "cell_type": "markdown",
   "metadata": {},
   "source": [
    "### 2. Estimate a multivariable linear regression"
   ]
  },
  {
   "cell_type": "markdown",
   "metadata": {},
   "source": [
    "We will first run a multivariable linear regression similar to the one we used in Lab 3. In the later sections, we will evaluate our results by checking for multicollinearity and heteroskedasticity."
   ]
  },
  {
   "cell_type": "code",
   "execution_count": 5,
   "metadata": {},
   "outputs": [
    {
     "data": {
      "text/html": [
       "<table class=\"simpletable\">\n",
       "<tr>\n",
       "        <td>Model:</td>               <td>OLS</td>         <td>Adj. R-squared:</td>      <td>0.517</td>  \n",
       "</tr>\n",
       "<tr>\n",
       "  <td>Dependent Variable:</td>     <td>price_000</td>           <td>AIC:</td>         <td>97714.7913</td>\n",
       "</tr>\n",
       "<tr>\n",
       "         <td>Date:</td>        <td>2021-02-16 21:45</td>        <td>BIC:</td>         <td>97765.0955</td>\n",
       "</tr>\n",
       "<tr>\n",
       "   <td>No. Observations:</td>        <td>3976</td>         <td>Log-Likelihood:</td>     <td>-48849.</td> \n",
       "</tr>\n",
       "<tr>\n",
       "       <td>Df Model:</td>              <td>7</td>           <td>F-statistic:</td>        <td>609.1</td>  \n",
       "</tr>\n",
       "<tr>\n",
       "     <td>Df Residuals:</td>          <td>3968</td>       <td>Prob (F-statistic):</td>    <td>0.00</td>   \n",
       "</tr>\n",
       "<tr>\n",
       "      <td>R-squared:</td>            <td>0.518</td>            <td>Scale:</td>        <td>2.7539e+09</td>\n",
       "</tr>\n",
       "</table>\n",
       "<table class=\"simpletable\">\n",
       "<tr>\n",
       "      <td></td>         <th>Coef.</th>    <th>Std.Err.</th>      <th>t</th>     <th>P>|t|</th>   <th>[0.025</th>      <th>0.975]</th>   \n",
       "</tr>\n",
       "<tr>\n",
       "  <th>high_ses</th>  <td>70994.9141</td>  <td>3191.5051</td>  <td>22.2450</td> <td>0.0000</td> <td>64737.7704</td>  <td>77252.0577</td> \n",
       "</tr>\n",
       "<tr>\n",
       "  <th>house</th>     <td>-27823.6816</td> <td>2443.3460</td> <td>-11.3875</td> <td>0.0000</td> <td>-32614.0129</td> <td>-23033.3503</td>\n",
       "</tr>\n",
       "<tr>\n",
       "  <th>area_m2</th>    <td>571.9391</td>    <td>14.4755</td>   <td>39.5109</td> <td>0.0000</td>  <td>543.5590</td>    <td>600.3192</td>  \n",
       "</tr>\n",
       "<tr>\n",
       "  <th>num_bath</th>  <td>10065.8898</td>  <td>956.4128</td>   <td>10.5246</td> <td>0.0000</td>  <td>8190.7832</td>  <td>11940.9964</td> \n",
       "</tr>\n",
       "<tr>\n",
       "  <th>pcn_green</th>  <td>226.9919</td>   <td>116.3051</td>   <td>1.9517</td>  <td>0.0510</td>   <td>-1.0315</td>    <td>455.0153</td>  \n",
       "</tr>\n",
       "<tr>\n",
       "  <th>thefts</th>     <td>-16.5332</td>    <td>16.3687</td>   <td>-1.0101</td> <td>0.3125</td>  <td>-48.6250</td>     <td>15.5586</td>  \n",
       "</tr>\n",
       "<tr>\n",
       "  <th>pop_dens</th>   <td>-12.1673</td>    <td>3.6363</td>    <td>-3.3461</td> <td>0.0008</td>  <td>-19.2964</td>     <td>-5.0381</td>  \n",
       "</tr>\n",
       "<tr>\n",
       "  <th>Intercept</th> <td>11441.8878</td>  <td>2818.5459</td>  <td>4.0595</td>  <td>0.0001</td>  <td>5915.9537</td>  <td>16967.8219</td> \n",
       "</tr>\n",
       "</table>\n",
       "<table class=\"simpletable\">\n",
       "<tr>\n",
       "     <td>Omnibus:</td>    <td>3096.246</td>  <td>Durbin-Watson:</td>      <td>0.908</td>  \n",
       "</tr>\n",
       "<tr>\n",
       "  <td>Prob(Omnibus):</td>   <td>0.000</td>  <td>Jarque-Bera (JB):</td> <td>120267.662</td>\n",
       "</tr>\n",
       "<tr>\n",
       "       <td>Skew:</td>       <td>3.367</td>      <td>Prob(JB):</td>        <td>0.000</td>  \n",
       "</tr>\n",
       "<tr>\n",
       "     <td>Kurtosis:</td>    <td>29.089</td>   <td>Condition No.:</td>      <td>2151</td>   \n",
       "</tr>\n",
       "</table>"
      ],
      "text/plain": [
       "<class 'statsmodels.iolib.summary2.Summary'>\n",
       "\"\"\"\n",
       "                    Results: Ordinary least squares\n",
       "=======================================================================\n",
       "Model:                OLS               Adj. R-squared:      0.517     \n",
       "Dependent Variable:   price_000         AIC:                 97714.7913\n",
       "Date:                 2021-02-16 21:45  BIC:                 97765.0955\n",
       "No. Observations:     3976              Log-Likelihood:      -48849.   \n",
       "Df Model:             7                 F-statistic:         609.1     \n",
       "Df Residuals:         3968              Prob (F-statistic):  0.00      \n",
       "R-squared:            0.518             Scale:               2.7539e+09\n",
       "-----------------------------------------------------------------------\n",
       "             Coef.     Std.Err.    t     P>|t|     [0.025      0.975]  \n",
       "-----------------------------------------------------------------------\n",
       "high_ses   70994.9141 3191.5051  22.2450 0.0000  64737.7704  77252.0577\n",
       "house     -27823.6816 2443.3460 -11.3875 0.0000 -32614.0129 -23033.3503\n",
       "area_m2      571.9391   14.4755  39.5109 0.0000    543.5590    600.3192\n",
       "num_bath   10065.8898  956.4128  10.5246 0.0000   8190.7832  11940.9964\n",
       "pcn_green    226.9919  116.3051   1.9517 0.0510     -1.0315    455.0153\n",
       "thefts       -16.5332   16.3687  -1.0101 0.3125    -48.6250     15.5586\n",
       "pop_dens     -12.1673    3.6363  -3.3461 0.0008    -19.2964     -5.0381\n",
       "Intercept  11441.8878 2818.5459   4.0595 0.0001   5915.9537  16967.8219\n",
       "-----------------------------------------------------------------------\n",
       "Omnibus:              3096.246       Durbin-Watson:          0.908     \n",
       "Prob(Omnibus):        0.000          Jarque-Bera (JB):       120267.662\n",
       "Skew:                 3.367          Prob(JB):               0.000     \n",
       "Kurtosis:             29.089         Condition No.:          2151      \n",
       "=======================================================================\n",
       "* The condition number is large (2e+03). This might indicate\n",
       "strong multicollinearity or other numerical problems.\n",
       "\"\"\""
      ]
     },
     "execution_count": 5,
     "metadata": {},
     "output_type": "execute_result"
    }
   ],
   "source": [
    "#Define a list of independent variables of interest \n",
    "ind_var = ['high_ses', 'house', 'area_m2', 'num_bath', 'pcn_green', 'thefts', 'pop_dens']\n",
    "\n",
    "#Define our explanatory and dependent variables\n",
    "x = df[ind_var].assign(Intercept = 1)\n",
    "y = df['price_000']\n",
    "\n",
    "#Let's save the results of the regression as model. This is be helpful for functions we will use below\n",
    "model = sm.OLS(y, x).fit()\n",
    "\n",
    "model.summary2()"
   ]
  },
  {
   "cell_type": "markdown",
   "metadata": {},
   "source": [
    "### 3. Multicollinearity \n",
    "\n",
    "*THIS HAPPENS WHEN ONE OR MORE INDEPENDENT VARIABLES ARE CLOSELY RELATED WITH EACH OTHER. AS A RESULT, THE VARIABLE(S) DO NOT ADD INFORMATION TO YOUR ABILITY TO MAKE A BETTER GUESS ABOUT THE DEPENDENT VARIABLE. AS A RESULT, THE ESTIMATED COEFFICIENT HAS A LOT OF ERROR (THAT IS, THE T-STATISTIC IS LOW, THE P-VALUE IS HIGH, AND THE 95% CONFIDENCE INTERVAL INCLUDES ZERO).\n",
    "\n",
    "*YOU RUN THIS TEST AS A WAY TO MAKE SURE THAT MULTICOLLINEARITY IS NOT RENDERING ONE OR MORE OF YOUR COEFFICIENTS AS INSIGNIFICANT.\n",
    "\n",
    "*IF MULTICOLINEARITY IS HIGH, THEN YOU KNOW WHY YOUR COEFFICIENT IS NOT SIGNIFICANT. IF IT IS LOW, IT MUST BE SOMETHING ELSE...\n",
    "\n",
    "#### 3.1 Correlation Matrix\n",
    "\n",
    "We will first use a correlation matrix to examine multicollinearity. We would like to know if any of our explanatory variables are highly correlated to one another as this might affect our regression. Let's do this using `ind_var`."
   ]
  },
  {
   "cell_type": "code",
   "execution_count": 6,
   "metadata": {
    "scrolled": true
   },
   "outputs": [
    {
     "data": {
      "text/html": [
       "<div>\n",
       "<style scoped>\n",
       "    .dataframe tbody tr th:only-of-type {\n",
       "        vertical-align: middle;\n",
       "    }\n",
       "\n",
       "    .dataframe tbody tr th {\n",
       "        vertical-align: top;\n",
       "    }\n",
       "\n",
       "    .dataframe thead th {\n",
       "        text-align: right;\n",
       "    }\n",
       "</style>\n",
       "<table border=\"1\" class=\"dataframe\">\n",
       "  <thead>\n",
       "    <tr style=\"text-align: right;\">\n",
       "      <th></th>\n",
       "      <th>high_ses</th>\n",
       "      <th>house</th>\n",
       "      <th>area_m2</th>\n",
       "      <th>num_bath</th>\n",
       "      <th>pcn_green</th>\n",
       "      <th>thefts</th>\n",
       "      <th>pop_dens</th>\n",
       "    </tr>\n",
       "  </thead>\n",
       "  <tbody>\n",
       "    <tr>\n",
       "      <th>high_ses</th>\n",
       "      <td>1.000000</td>\n",
       "      <td>-0.100795</td>\n",
       "      <td>0.102760</td>\n",
       "      <td>0.099413</td>\n",
       "      <td>-0.015300</td>\n",
       "      <td>-0.109577</td>\n",
       "      <td>-0.095480</td>\n",
       "    </tr>\n",
       "    <tr>\n",
       "      <th>house</th>\n",
       "      <td>-0.100795</td>\n",
       "      <td>1.000000</td>\n",
       "      <td>0.651771</td>\n",
       "      <td>0.391207</td>\n",
       "      <td>-0.071164</td>\n",
       "      <td>0.002256</td>\n",
       "      <td>0.186380</td>\n",
       "    </tr>\n",
       "    <tr>\n",
       "      <th>area_m2</th>\n",
       "      <td>0.102760</td>\n",
       "      <td>0.651771</td>\n",
       "      <td>1.000000</td>\n",
       "      <td>0.530402</td>\n",
       "      <td>-0.081659</td>\n",
       "      <td>-0.155758</td>\n",
       "      <td>0.169518</td>\n",
       "    </tr>\n",
       "    <tr>\n",
       "      <th>num_bath</th>\n",
       "      <td>0.099413</td>\n",
       "      <td>0.391207</td>\n",
       "      <td>0.530402</td>\n",
       "      <td>1.000000</td>\n",
       "      <td>0.004428</td>\n",
       "      <td>-0.023408</td>\n",
       "      <td>0.085829</td>\n",
       "    </tr>\n",
       "    <tr>\n",
       "      <th>pcn_green</th>\n",
       "      <td>-0.015300</td>\n",
       "      <td>-0.071164</td>\n",
       "      <td>-0.081659</td>\n",
       "      <td>0.004428</td>\n",
       "      <td>1.000000</td>\n",
       "      <td>0.400809</td>\n",
       "      <td>-0.030906</td>\n",
       "    </tr>\n",
       "    <tr>\n",
       "      <th>thefts</th>\n",
       "      <td>-0.109577</td>\n",
       "      <td>0.002256</td>\n",
       "      <td>-0.155758</td>\n",
       "      <td>-0.023408</td>\n",
       "      <td>0.400809</td>\n",
       "      <td>1.000000</td>\n",
       "      <td>0.122644</td>\n",
       "    </tr>\n",
       "    <tr>\n",
       "      <th>pop_dens</th>\n",
       "      <td>-0.095480</td>\n",
       "      <td>0.186380</td>\n",
       "      <td>0.169518</td>\n",
       "      <td>0.085829</td>\n",
       "      <td>-0.030906</td>\n",
       "      <td>0.122644</td>\n",
       "      <td>1.000000</td>\n",
       "    </tr>\n",
       "  </tbody>\n",
       "</table>\n",
       "</div>"
      ],
      "text/plain": [
       "           high_ses     house   area_m2  num_bath  pcn_green    thefts  \\\n",
       "high_ses   1.000000 -0.100795  0.102760  0.099413  -0.015300 -0.109577   \n",
       "house     -0.100795  1.000000  0.651771  0.391207  -0.071164  0.002256   \n",
       "area_m2    0.102760  0.651771  1.000000  0.530402  -0.081659 -0.155758   \n",
       "num_bath   0.099413  0.391207  0.530402  1.000000   0.004428 -0.023408   \n",
       "pcn_green -0.015300 -0.071164 -0.081659  0.004428   1.000000  0.400809   \n",
       "thefts    -0.109577  0.002256 -0.155758 -0.023408   0.400809  1.000000   \n",
       "pop_dens  -0.095480  0.186380  0.169518  0.085829  -0.030906  0.122644   \n",
       "\n",
       "           pop_dens  \n",
       "high_ses  -0.095480  \n",
       "house      0.186380  \n",
       "area_m2    0.169518  \n",
       "num_bath   0.085829  \n",
       "pcn_green -0.030906  \n",
       "thefts     0.122644  \n",
       "pop_dens   1.000000  "
      ]
     },
     "execution_count": 6,
     "metadata": {},
     "output_type": "execute_result"
    }
   ],
   "source": [
    "df[ind_var].corr()"
   ]
  },
  {
   "cell_type": "markdown",
   "metadata": {},
   "source": [
    "#### 3.2 Variance Inflation Factor (VIF)\n",
    "\n",
    "The VIF is a better way of detecting multicollinearity because it checks whether combinations of independent variables, in addition to each one, help explan the other independent variables. By contrast, the correlation matrix above only shows us pairwise correlations. It is possible that two variables (for example, house and # of baths, more closely predicts the area of a property than house or # of baths independently.  \n",
    "\n",
    "How does the VIF work? By regressing each independent variable on all others. Python (and stata and R) does this automatically.  For the model above, it runs 7 regressions (there are 7 independent variables).  In each regression, a different independent variable becomes DEPENDENT, while all others remain independent. For example:\n",
    "\n",
    "Reg 1: Dependent: high_ses; independent: All other independent variables\n",
    "Reg 2: Dependent: house; indepdendent: All other independent variables\n",
    ":\n",
    ":\n",
    "Reg 7: Dependent: pop_dens; indepdendent: All other independent variables\n",
    "\n",
    "\n",
    "If the R2 in each regression is high, it means that all other independent variables explain the new dependent variable very well, so the new dependent variable does not bring much new information to the original regression model. That variable would have a high VIF.\n",
    "\n",
    "Formally, the VIF for each variable i is:\n",
    "VIF = 1/(1-R2), where R2 is the model where i is the dependent variable.\n",
    "\n",
    "A VIF of 5 or greater can be problematic, suggesting that high colinearity may be the reason for the lack of significance in your coefficient. (Note: For a given independent variable, a VIF of 5 means that the R2 of the regression equation with that variable as dependent and all other as independent is 0.8 or 80%. That is, 80% of the variation in that variable is explained by all other independent variables. In other words, only 20% of the variation in the variable is unique to it, and hence its possible limited explanatory power. A higher VIF (e.g., 10) means a higher R2 for the regression witth that variable as dependent and all other as independent (e.g., R2 of 0.9 or 90%).\n",
    "\n",
    "In terms of the commands below, it is important to note that VIF does not detect dataframes, therefore we extract the values of x using `df.values` into an array. You could also use `np.array` to do this. "
   ]
  },
  {
   "cell_type": "code",
   "execution_count": 7,
   "metadata": {},
   "outputs": [
    {
     "name": "stdout",
     "output_type": "stream",
     "text": [
      "<class 'pandas.core.frame.DataFrame'>\n"
     ]
    },
    {
     "data": {
      "text/html": [
       "<div>\n",
       "<style scoped>\n",
       "    .dataframe tbody tr th:only-of-type {\n",
       "        vertical-align: middle;\n",
       "    }\n",
       "\n",
       "    .dataframe tbody tr th {\n",
       "        vertical-align: top;\n",
       "    }\n",
       "\n",
       "    .dataframe thead th {\n",
       "        text-align: right;\n",
       "    }\n",
       "</style>\n",
       "<table border=\"1\" class=\"dataframe\">\n",
       "  <thead>\n",
       "    <tr style=\"text-align: right;\">\n",
       "      <th></th>\n",
       "      <th>high_ses</th>\n",
       "      <th>house</th>\n",
       "      <th>area_m2</th>\n",
       "      <th>num_bath</th>\n",
       "      <th>pcn_green</th>\n",
       "      <th>thefts</th>\n",
       "      <th>pop_dens</th>\n",
       "      <th>Intercept</th>\n",
       "    </tr>\n",
       "  </thead>\n",
       "  <tbody>\n",
       "    <tr>\n",
       "      <th>0</th>\n",
       "      <td>0</td>\n",
       "      <td>0</td>\n",
       "      <td>70</td>\n",
       "      <td>2</td>\n",
       "      <td>1.74</td>\n",
       "      <td>39.92</td>\n",
       "      <td>830.78</td>\n",
       "      <td>1</td>\n",
       "    </tr>\n",
       "    <tr>\n",
       "      <th>1</th>\n",
       "      <td>0</td>\n",
       "      <td>1</td>\n",
       "      <td>257</td>\n",
       "      <td>4</td>\n",
       "      <td>0.54</td>\n",
       "      <td>46.00</td>\n",
       "      <td>826.75</td>\n",
       "      <td>1</td>\n",
       "    </tr>\n",
       "    <tr>\n",
       "      <th>2</th>\n",
       "      <td>0</td>\n",
       "      <td>0</td>\n",
       "      <td>115</td>\n",
       "      <td>4</td>\n",
       "      <td>1.55</td>\n",
       "      <td>45.87</td>\n",
       "      <td>914.15</td>\n",
       "      <td>1</td>\n",
       "    </tr>\n",
       "    <tr>\n",
       "      <th>3</th>\n",
       "      <td>0</td>\n",
       "      <td>1</td>\n",
       "      <td>270</td>\n",
       "      <td>4</td>\n",
       "      <td>1.58</td>\n",
       "      <td>45.88</td>\n",
       "      <td>911.25</td>\n",
       "      <td>1</td>\n",
       "    </tr>\n",
       "    <tr>\n",
       "      <th>4</th>\n",
       "      <td>0</td>\n",
       "      <td>1</td>\n",
       "      <td>268</td>\n",
       "      <td>2</td>\n",
       "      <td>0.40</td>\n",
       "      <td>46.00</td>\n",
       "      <td>757.37</td>\n",
       "      <td>1</td>\n",
       "    </tr>\n",
       "  </tbody>\n",
       "</table>\n",
       "</div>"
      ],
      "text/plain": [
       "   high_ses  house  area_m2  num_bath  pcn_green  thefts  pop_dens  Intercept\n",
       "0         0      0       70         2       1.74   39.92    830.78          1\n",
       "1         0      1      257         4       0.54   46.00    826.75          1\n",
       "2         0      0      115         4       1.55   45.87    914.15          1\n",
       "3         0      1      270         4       1.58   45.88    911.25          1\n",
       "4         0      1      268         2       0.40   46.00    757.37          1"
      ]
     },
     "execution_count": 7,
     "metadata": {},
     "output_type": "execute_result"
    }
   ],
   "source": [
    "#Let's verify the shape of x in python\n",
    "print((type(x)))\n",
    "x.head()"
   ]
  },
  {
   "cell_type": "code",
   "execution_count": 8,
   "metadata": {},
   "outputs": [
    {
     "name": "stdout",
     "output_type": "stream",
     "text": [
      "<class 'numpy.ndarray'>\n"
     ]
    },
    {
     "data": {
      "text/plain": [
       "array([[  0.  ,   0.  ,  70.  , ...,  39.92, 830.78,   1.  ],\n",
       "       [  0.  ,   1.  , 257.  , ...,  46.  , 826.75,   1.  ],\n",
       "       [  0.  ,   0.  , 115.  , ...,  45.87, 914.15,   1.  ],\n",
       "       ...,\n",
       "       [  0.  ,   0.  , 145.  , ..., 234.  , 374.17,   1.  ],\n",
       "       [  1.  ,   0.  , 175.  , ..., 234.  , 320.5 ,   1.  ],\n",
       "       [  1.  ,   0.  ,  87.  , ...,  52.  , 557.36,   1.  ]])"
      ]
     },
     "execution_count": 8,
     "metadata": {},
     "output_type": "execute_result"
    }
   ],
   "source": [
    "#We will now obtain an array of our x values \n",
    "x_array = x.values\n",
    "\n",
    "print(type(x_array))\n",
    "x_array"
   ]
  },
  {
   "cell_type": "code",
   "execution_count": 9,
   "metadata": {},
   "outputs": [
    {
     "data": {
      "text/plain": [
       "[1.0821175392035043,\n",
       " 1.8861477501052755,\n",
       " 2.243558064422289,\n",
       " 1.4138139507813046,\n",
       " 1.209931913585162,\n",
       " 1.2852849296361972,\n",
       " 1.0762714385994052,\n",
       " 11.469791395454084]"
      ]
     },
     "execution_count": 9,
     "metadata": {},
     "output_type": "execute_result"
    }
   ],
   "source": [
    "# We will now obtain a VIF for each of the coefficients in our model \n",
    "vif = [variance_inflation_factor(x_array, i) for i in range(x.shape[1])]\n",
    "vif"
   ]
  },
  {
   "cell_type": "markdown",
   "metadata": {},
   "source": [
    "Wow! What are these numbers?! What is going on? Let's add some labels to the data."
   ]
  },
  {
   "cell_type": "code",
   "execution_count": 10,
   "metadata": {},
   "outputs": [
    {
     "data": {
      "text/plain": [
       "high_ses      1.082118\n",
       "house         1.886148\n",
       "area_m2       2.243558\n",
       "num_bath      1.413814\n",
       "pcn_green     1.209932\n",
       "thefts        1.285285\n",
       "pop_dens      1.076271\n",
       "Intercept    11.469791\n",
       "dtype: float64"
      ]
     },
     "execution_count": 10,
     "metadata": {},
     "output_type": "execute_result"
    }
   ],
   "source": [
    "#Let's label the VIF values that we obtained \n",
    "pd.Series(vif, index = x.columns)"
   ]
  },
  {
   "cell_type": "markdown",
   "metadata": {},
   "source": [
    "### 4. Predictions \n",
    "Remember that one way to determine how well our model fit is comparing our guesses (the prediction) with actual values. Here we calculate make this comparison by calculating the difference between observed and predicted for each row of data. These are called residuals. The purpose in this case, however, isn't to determine model fit but to make sure that the model is not violating a critical assumption: That residuals are not uniformly distributed \n",
    "\n",
    "Earlier we estimated a linear regression which calculates the association between our y (price), and our explanatory variables. The coefficients we obtain can help us draw a regression line for price in this way: \n",
    "\n",
    "y = 11441 + (70994 * high_ses) + (-27823 * house) + (571 * area_m2) +(10065 * num_bath) +  (226 * pcn_green) + (-16 * thefts) + (-12 * pop_dens)\n",
    "\n",
    "Keep in mind that we saved the results of the linear regression under the \"model\" variable above:  \n",
    "> model = sm.OLS(y, x).fit()"
   ]
  },
  {
   "cell_type": "code",
   "execution_count": 11,
   "metadata": {},
   "outputs": [
    {
     "data": {
      "text/plain": [
       "high_ses     70994.914051\n",
       "house       -27823.681617\n",
       "area_m2        571.939109\n",
       "num_bath     10065.889798\n",
       "pcn_green      226.991890\n",
       "thefts         -16.533236\n",
       "pop_dens       -12.167251\n",
       "Intercept    11441.887809\n",
       "dtype: float64"
      ]
     },
     "execution_count": 11,
     "metadata": {},
     "output_type": "execute_result"
    }
   ],
   "source": [
    "#To remember the coefffients we obtained we can use the following:\n",
    "model.params"
   ]
  },
  {
   "cell_type": "markdown",
   "metadata": {},
   "source": [
    "We can now try to make a  prediction. Today, we will use the first line of observed data from our dataframe as seen below:"
   ]
  },
  {
   "cell_type": "code",
   "execution_count": 12,
   "metadata": {},
   "outputs": [
    {
     "data": {
      "text/html": [
       "<div>\n",
       "<style scoped>\n",
       "    .dataframe tbody tr th:only-of-type {\n",
       "        vertical-align: middle;\n",
       "    }\n",
       "\n",
       "    .dataframe tbody tr th {\n",
       "        vertical-align: top;\n",
       "    }\n",
       "\n",
       "    .dataframe thead th {\n",
       "        text-align: right;\n",
       "    }\n",
       "</style>\n",
       "<table border=\"1\" class=\"dataframe\">\n",
       "  <thead>\n",
       "    <tr style=\"text-align: right;\">\n",
       "      <th></th>\n",
       "      <th>high_ses</th>\n",
       "      <th>house</th>\n",
       "      <th>area_m2</th>\n",
       "      <th>num_bath</th>\n",
       "      <th>pcn_green</th>\n",
       "      <th>thefts</th>\n",
       "      <th>pop_dens</th>\n",
       "      <th>Intercept</th>\n",
       "    </tr>\n",
       "  </thead>\n",
       "  <tbody>\n",
       "    <tr>\n",
       "      <th>0</th>\n",
       "      <td>0</td>\n",
       "      <td>0</td>\n",
       "      <td>70</td>\n",
       "      <td>2</td>\n",
       "      <td>1.74</td>\n",
       "      <td>39.92</td>\n",
       "      <td>830.78</td>\n",
       "      <td>1</td>\n",
       "    </tr>\n",
       "  </tbody>\n",
       "</table>\n",
       "</div>"
      ],
      "text/plain": [
       "   high_ses  house  area_m2  num_bath  pcn_green  thefts  pop_dens  Intercept\n",
       "0         0      0       70         2       1.74   39.92    830.78          1"
      ]
     },
     "execution_count": 12,
     "metadata": {},
     "output_type": "execute_result"
    }
   ],
   "source": [
    "x.head(1)"
   ]
  },
  {
   "cell_type": "markdown",
   "metadata": {},
   "source": [
    "Our prediction will look like this:\n",
    "\n",
    "y = 11441 + (70994 * 0) + (-27823 * 0) + (571 * 70) +(10065 * 2) +  (226 * 1.74)                   + (-16 * 39.92) + (-12 * 830.78)"
   ]
  },
  {
   "cell_type": "code",
   "execution_count": 13,
   "metadata": {},
   "outputs": [
    {
     "name": "stdout",
     "output_type": "stream",
     "text": [
      "[61236.05567787]\n",
      "[61236.05567787]\n"
     ]
    }
   ],
   "source": [
    "#We can ask python to find the predicted value of y using this first line of our observed values \n",
    "\n",
    "#We can do this using our dataframe x:\n",
    "pred = model.predict(x.iloc[0].values)\n",
    "print(pred)\n",
    "\n",
    "#Or we can use our x_array\n",
    "pred_1 = model.predict(x_array[0, :])\n",
    "print(pred_1)"
   ]
  },
  {
   "cell_type": "code",
   "execution_count": 14,
   "metadata": {},
   "outputs": [
    {
     "data": {
      "text/html": [
       "<div>\n",
       "<style scoped>\n",
       "    .dataframe tbody tr th:only-of-type {\n",
       "        vertical-align: middle;\n",
       "    }\n",
       "\n",
       "    .dataframe tbody tr th {\n",
       "        vertical-align: top;\n",
       "    }\n",
       "\n",
       "    .dataframe thead th {\n",
       "        text-align: right;\n",
       "    }\n",
       "</style>\n",
       "<table border=\"1\" class=\"dataframe\">\n",
       "  <thead>\n",
       "    <tr style=\"text-align: right;\">\n",
       "      <th></th>\n",
       "      <th>price_000</th>\n",
       "      <th>pop_dens</th>\n",
       "      <th>ses</th>\n",
       "      <th>house</th>\n",
       "      <th>area_m2</th>\n",
       "      <th>num_bath</th>\n",
       "      <th>pcn_green</th>\n",
       "      <th>thefts</th>\n",
       "      <th>high_ses</th>\n",
       "    </tr>\n",
       "  </thead>\n",
       "  <tbody>\n",
       "    <tr>\n",
       "      <th>0</th>\n",
       "      <td>60000</td>\n",
       "      <td>830.78</td>\n",
       "      <td>4</td>\n",
       "      <td>0</td>\n",
       "      <td>70</td>\n",
       "      <td>2</td>\n",
       "      <td>1.74</td>\n",
       "      <td>39.92</td>\n",
       "      <td>0</td>\n",
       "    </tr>\n",
       "  </tbody>\n",
       "</table>\n",
       "</div>"
      ],
      "text/plain": [
       "   price_000  pop_dens  ses  house  area_m2  num_bath  pcn_green  thefts  \\\n",
       "0      60000    830.78    4      0       70         2       1.74   39.92   \n",
       "\n",
       "   high_ses  \n",
       "0         0  "
      ]
     },
     "execution_count": 14,
     "metadata": {},
     "output_type": "execute_result"
    }
   ],
   "source": [
    "#How does this value compare to the observed value of price in our dataset\n",
    "\n",
    "#Let's call up the first line of the dataset\n",
    "df.head(1)"
   ]
  },
  {
   "cell_type": "code",
   "execution_count": 15,
   "metadata": {},
   "outputs": [
    {
     "data": {
      "text/plain": [
       "-1236.055677868986"
      ]
     },
     "execution_count": 15,
     "metadata": {},
     "output_type": "execute_result"
    }
   ],
   "source": [
    "#Let's now calculate the residual of our first prediction\n",
    "model.resid[0]"
   ]
  },
  {
   "cell_type": "code",
   "execution_count": 16,
   "metadata": {},
   "outputs": [
    {
     "name": "stdout",
     "output_type": "stream",
     "text": [
      "[ 61236.05567787 160172.888774   105949.21029312 ... 106097.06034107\n",
      " 205386.7188871  145478.21856861]\n",
      "0        -1236.055678\n",
      "1       -20172.888774\n",
      "2       -67949.210293\n",
      "3       -56818.020070\n",
      "4       -27144.824365\n",
      "            ...      \n",
      "3971    195200.228799\n",
      "3972    285090.710904\n",
      "3973    458327.939659\n",
      "3974    494413.281113\n",
      "3975    554521.781431\n",
      "Length: 3976, dtype: float64\n"
     ]
    }
   ],
   "source": [
    "#We can also find the predictions and residuals for the entirety of our dataset\n",
    "\n",
    "#Let's see what our predictions are\n",
    "pred_mod = model.predict()\n",
    "print(pred_mod)\n",
    "\n",
    "#Let's see what our residuals are\n",
    "res_mod = model.resid\n",
    "print(res_mod)"
   ]
  },
  {
   "cell_type": "markdown",
   "metadata": {},
   "source": [
    "### 4. Homoskedasticity\n",
    "\n",
    "#### 4.1 Scedasticity Plots\n",
    "\n",
    "Using the information we have gathered on our predicted values, and residuals, we can do a visual and a statistical test for homoskedasticity.\n",
    "\n",
    "The visual test graphs the predicted values (also called fitted values) in the X-axis and the residuals in the Y-axis."
   ]
  },
  {
   "cell_type": "code",
   "execution_count": 17,
   "metadata": {},
   "outputs": [],
   "source": [
    "def homoskedasticity_plots(prediction, residuals):\n",
    "\n",
    "    fig, ax= plt.subplots(figsize=(10, 6))\n",
    "\n",
    "    ##Define x, and y \n",
    "    x = prediction\n",
    "    y = residuals\n",
    "\n",
    "    ### Create title for your figgure\n",
    "    plt.suptitle('Homokedasticity Test Plot')\n",
    "\n",
    "    ### Creates first plot\n",
    "    ax.scatter(x, y)\n",
    "    ax.set_xlabel('Predicted Values')\n",
    "    ax.set_ylabel('Residuals')\n",
    "    ### Formats axis number to include thousands separator\n",
    "    ax.get_xaxis().set_major_formatter(plt.FuncFormatter(lambda x1, loc: \"{:,}\".format(int(x1))))\n",
    "    ax.get_yaxis().set_major_formatter(plt.FuncFormatter(lambda y1, loc: \"{:,}\".format(int(y1))))\n",
    "\n",
    "    plt.show()"
   ]
  },
  {
   "cell_type": "code",
   "execution_count": 18,
   "metadata": {},
   "outputs": [
    {
     "data": {
      "image/png": "[encoded data removed]",
      "text/plain": [
       "<Figure size 720x432 with 1 Axes>"
      ]
     },
     "metadata": {
      "needs_background": "light"
     },
     "output_type": "display_data"
    }
   ],
   "source": [
    "homoskedasticity_plots(pred_mod, res_mod)"
   ]
  },
  {
   "cell_type": "markdown",
   "metadata": {},
   "source": [
    "#### 4.2 Breusch-Pagan Test"
   ]
  },
  {
   "cell_type": "code",
   "execution_count": 19,
   "metadata": {},
   "outputs": [
    {
     "data": {
      "text/plain": [
       "[('LMS', 305.1586941760981),\n",
       " ('p-value', 4.785440694056287e-62),\n",
       " ('f-value', 47.123090073177345),\n",
       " ('f p-value', 1.3673623403721904e-64)]"
      ]
     },
     "execution_count": 19,
     "metadata": {},
     "output_type": "execute_result"
    }
   ],
   "source": [
    "#Let's create a list of tests \n",
    "test_names = ['LMS', 'p-value', 'f-value', 'f p-value']\n",
    "\n",
    "#Call the Breusch-Pagan test in python\n",
    "results = sms.het_breuschpagan(model.resid, model.model.exog)\n",
    "\n",
    "#Concatenate the test values to their names\n",
    "lzip(test_names, results)"
   ]
  },
  {
   "cell_type": "markdown",
   "metadata": {},
   "source": [
    "#### 4.3 Robust Errors: Correcting for heteroscedasticity, if present \n",
    "The following is one approach to \"correcting\" for heteroskedasticity. Other approaches include: adding more variables, transforming the dependent variable (for example, with a log-transformation), or transforming independent variables."
   ]
  },
  {
   "cell_type": "code",
   "execution_count": 20,
   "metadata": {},
   "outputs": [
    {
     "data": {
      "text/html": [
       "<table class=\"simpletable\">\n",
       "<tr>\n",
       "        <td>Model:</td>               <td>OLS</td>         <td>Adj. R-squared:</td>      <td>0.517</td>  \n",
       "</tr>\n",
       "<tr>\n",
       "  <td>Dependent Variable:</td>     <td>price_000</td>           <td>AIC:</td>         <td>97714.7913</td>\n",
       "</tr>\n",
       "<tr>\n",
       "         <td>Date:</td>        <td>2021-02-16 21:45</td>        <td>BIC:</td>         <td>97765.0955</td>\n",
       "</tr>\n",
       "<tr>\n",
       "   <td>No. Observations:</td>        <td>3976</td>         <td>Log-Likelihood:</td>     <td>-48849.</td> \n",
       "</tr>\n",
       "<tr>\n",
       "       <td>Df Model:</td>              <td>7</td>           <td>F-statistic:</td>        <td>231.8</td>  \n",
       "</tr>\n",
       "<tr>\n",
       "     <td>Df Residuals:</td>          <td>3968</td>       <td>Prob (F-statistic):</td>  <td>9.54e-290</td>\n",
       "</tr>\n",
       "<tr>\n",
       "      <td>R-squared:</td>            <td>0.518</td>            <td>Scale:</td>        <td>2.7539e+09</td>\n",
       "</tr>\n",
       "</table>\n",
       "<table class=\"simpletable\">\n",
       "<tr>\n",
       "      <td></td>         <th>Coef.</th>    <th>Std.Err.</th>     <th>z</th>     <th>P>|z|</th>   <th>[0.025</th>      <th>0.975]</th>   \n",
       "</tr>\n",
       "<tr>\n",
       "  <th>high_ses</th>  <td>70994.9141</td>  <td>5551.3322</td> <td>12.7888</td> <td>0.0000</td> <td>60114.5030</td>  <td>81875.3251</td> \n",
       "</tr>\n",
       "<tr>\n",
       "  <th>house</th>     <td>-27823.6816</td> <td>3638.2206</td> <td>-7.6476</td> <td>0.0000</td> <td>-34954.4629</td> <td>-20692.9003</td>\n",
       "</tr>\n",
       "<tr>\n",
       "  <th>area_m2</th>    <td>571.9391</td>    <td>28.6193</td>  <td>19.9844</td> <td>0.0000</td>  <td>515.8463</td>    <td>628.0319</td>  \n",
       "</tr>\n",
       "<tr>\n",
       "  <th>num_bath</th>  <td>10065.8898</td>  <td>1094.7222</td> <td>9.1949</td>  <td>0.0000</td>  <td>7920.2737</td>  <td>12211.5059</td> \n",
       "</tr>\n",
       "<tr>\n",
       "  <th>pcn_green</th>  <td>226.9919</td>    <td>81.7253</td>  <td>2.7775</td>  <td>0.0055</td>   <td>66.8132</td>    <td>387.1706</td>  \n",
       "</tr>\n",
       "<tr>\n",
       "  <th>thefts</th>     <td>-16.5332</td>    <td>19.3692</td>  <td>-0.8536</td> <td>0.3933</td>  <td>-54.4962</td>     <td>21.4298</td>  \n",
       "</tr>\n",
       "<tr>\n",
       "  <th>pop_dens</th>   <td>-12.1673</td>    <td>3.7336</td>   <td>-3.2589</td> <td>0.0011</td>  <td>-19.4849</td>     <td>-4.8496</td>  \n",
       "</tr>\n",
       "<tr>\n",
       "  <th>Intercept</th> <td>11441.8878</td>  <td>3203.4449</td> <td>3.5717</td>  <td>0.0004</td>  <td>5163.2511</td>  <td>17720.5245</td> \n",
       "</tr>\n",
       "</table>\n",
       "<table class=\"simpletable\">\n",
       "<tr>\n",
       "     <td>Omnibus:</td>    <td>3096.246</td>  <td>Durbin-Watson:</td>      <td>0.908</td>  \n",
       "</tr>\n",
       "<tr>\n",
       "  <td>Prob(Omnibus):</td>   <td>0.000</td>  <td>Jarque-Bera (JB):</td> <td>120267.662</td>\n",
       "</tr>\n",
       "<tr>\n",
       "       <td>Skew:</td>       <td>3.367</td>      <td>Prob(JB):</td>        <td>0.000</td>  \n",
       "</tr>\n",
       "<tr>\n",
       "     <td>Kurtosis:</td>    <td>29.089</td>   <td>Condition No.:</td>      <td>2151</td>   \n",
       "</tr>\n",
       "</table>"
      ],
      "text/plain": [
       "<class 'statsmodels.iolib.summary2.Summary'>\n",
       "\"\"\"\n",
       "                   Results: Ordinary least squares\n",
       "======================================================================\n",
       "Model:               OLS               Adj. R-squared:      0.517     \n",
       "Dependent Variable:  price_000         AIC:                 97714.7913\n",
       "Date:                2021-02-16 21:45  BIC:                 97765.0955\n",
       "No. Observations:    3976              Log-Likelihood:      -48849.   \n",
       "Df Model:            7                 F-statistic:         231.8     \n",
       "Df Residuals:        3968              Prob (F-statistic):  9.54e-290 \n",
       "R-squared:           0.518             Scale:               2.7539e+09\n",
       "----------------------------------------------------------------------\n",
       "             Coef.     Std.Err.    z    P>|z|     [0.025      0.975]  \n",
       "----------------------------------------------------------------------\n",
       "high_ses   70994.9141 5551.3322 12.7888 0.0000  60114.5030  81875.3251\n",
       "house     -27823.6816 3638.2206 -7.6476 0.0000 -34954.4629 -20692.9003\n",
       "area_m2      571.9391   28.6193 19.9844 0.0000    515.8463    628.0319\n",
       "num_bath   10065.8898 1094.7222  9.1949 0.0000   7920.2737  12211.5059\n",
       "pcn_green    226.9919   81.7253  2.7775 0.0055     66.8132    387.1706\n",
       "thefts       -16.5332   19.3692 -0.8536 0.3933    -54.4962     21.4298\n",
       "pop_dens     -12.1673    3.7336 -3.2589 0.0011    -19.4849     -4.8496\n",
       "Intercept  11441.8878 3203.4449  3.5717 0.0004   5163.2511  17720.5245\n",
       "----------------------------------------------------------------------\n",
       "Omnibus:             3096.246       Durbin-Watson:          0.908     \n",
       "Prob(Omnibus):       0.000          Jarque-Bera (JB):       120267.662\n",
       "Skew:                3.367          Prob(JB):               0.000     \n",
       "Kurtosis:            29.089         Condition No.:          2151      \n",
       "======================================================================\n",
       "* The condition number is large (2e+03). This might indicate\n",
       "strong multicollinearity or other numerical problems.\n",
       "\"\"\""
      ]
     },
     "execution_count": 20,
     "metadata": {},
     "output_type": "execute_result"
    }
   ],
   "source": [
    "#Run your regression and introduce robust errors within your code \n",
    "model = sm.OLS(y, x).fit(cov_type='HC0') ##cov_type='HC0' introduces robust errors\n",
    "model.summary2()"
   ]
  }
 ],
 "metadata": {
  "history": [
   {
    "code": "data = pd.read_csv('clean_property_data.csv')\ndata;.head()",
    "id": "d83ea5dec6a047409caf72331504d404",
    "idx": 5,
    "time": "2021-02-16T02:28:42.071Z",
    "type": "execution"
   },
   {
    "id": "d83ea5dec6a047409caf72331504d404",
    "time": "2021-02-16T02:28:42.234Z",
    "type": "completion"
   },
   {
    "code": "import numpy as np\nimport pandas as pd\nimport seaborn as sns\n\nimport matplotlib as mpl\nimport matplotlib.pyplot as plt\nfrom matplotlib.ticker import FuncFormatter\n\nimport statsmodels.api as sm\nfrom scipy.stats import pearsonr",
    "id": "549ef9e4d2a14dca85f2553ae90edcc8",
    "idx": 4,
    "time": "2021-02-16T02:28:45.380Z",
    "type": "execution"
   },
   {
    "id": "549ef9e4d2a14dca85f2553ae90edcc8",
    "time": "2021-02-16T02:28:50.417Z",
    "type": "completion"
   },
   {
    "code": "data = pd.read_csv('clean_property_data.csv')\ndata.head()",
    "id": "d83ea5dec6a047409caf72331504d404",
    "idx": 5,
    "time": "2021-02-16T02:28:51.834Z",
    "type": "execution"
   },
   {
    "id": "d83ea5dec6a047409caf72331504d404",
    "time": "2021-02-16T02:28:52.274Z",
    "type": "completion"
   },
   {
    "code": "import numpy as np\nimport pandas as pd\nimport seaborn as sns\n\nimport matplotlib as mpl\nimport matplotlib.pyplot as plt\nfrom matplotlib.ticker import FuncFormatter\n\nimport statsmodels.api as sm\nfrom scipy.stats import pearsonr\n",
    "id": "549ef9e4d2a14dca85f2553ae90edcc8",
    "idx": 4,
    "time": "2021-02-16T02:33:38.693Z",
    "type": "execution"
   },
   {
    "id": "549ef9e4d2a14dca85f2553ae90edcc8",
    "time": "2021-02-16T02:33:43.486Z",
    "type": "completion"
   },
   {
    "code": "import numpy as np\nimport pandas as pd\nimport seaborn as sns\n\nimport matplotlib as mpl\nimport matplotlib.pyplot as plt\nfrom matplotlib.ticker import FuncFormatter\n\nimport statsmodels.api as sm\nfrom scipy.stats import pearsonr\nfrom statsmodels.stats.outliers_influence import variance_inflation_factor ",
    "id": "549ef9e4d2a14dca85f2553ae90edcc8",
    "idx": 4,
    "time": "2021-02-16T02:33:45.013Z",
    "type": "execution"
   },
   {
    "id": "549ef9e4d2a14dca85f2553ae90edcc8",
    "time": "2021-02-16T02:33:45.113Z",
    "type": "completion"
   },
   {
    "code": "data = pd.read_csv('clean_property_data.csv')\ndata.head()",
    "id": "d83ea5dec6a047409caf72331504d404",
    "idx": 5,
    "time": "2021-02-16T02:33:50.009Z",
    "type": "execution"
   },
   {
    "id": "d83ea5dec6a047409caf72331504d404",
    "time": "2021-02-16T02:33:50.469Z",
    "type": "completion"
   },
   {
    "code": "df = data[['price_000', 'pop_dens', 'ses', 'house', 'area_m2', 'num_bath', 'pcn_green', 'thefts']].copy()\ndf[high_ses] = np.where((df['ses'] >= 5), 1,0)\ndf.head()",
    "id": "7ce6cdb8c3c3435f8219730446403137",
    "idx": 6,
    "time": "2021-02-16T02:35:42.507Z",
    "type": "execution"
   },
   {
    "id": "7ce6cdb8c3c3435f8219730446403137",
    "time": "2021-02-16T02:35:42.900Z",
    "type": "completion"
   },
   {
    "code": "df = data[['price_000', 'pop_dens', 'ses', 'house', 'area_m2', 'num_bath', 'pcn_green', 'thefts']].copy()\ndf['high_ses'] = np.where((df['ses'] >= 5), 1,0)\ndf.head()",
    "id": "7ce6cdb8c3c3435f8219730446403137",
    "idx": 6,
    "time": "2021-02-16T02:35:53.170Z",
    "type": "execution"
   },
   {
    "id": "7ce6cdb8c3c3435f8219730446403137",
    "time": "2021-02-16T02:35:53.370Z",
    "type": "completion"
   },
   {
    "code": "df = data[['price_000', 'pop_dens', 'ses', 'house', 'area_m2', 'num_bath', 'pcn_green', 'thefts']].copy()\ndf['high_ses'] = np.where((df['ses'] >= 5), 1,0)\ndf.head(20)",
    "id": "7ce6cdb8c3c3435f8219730446403137",
    "idx": 6,
    "time": "2021-02-16T02:36:05.215Z",
    "type": "execution"
   },
   {
    "id": "7ce6cdb8c3c3435f8219730446403137",
    "time": "2021-02-16T02:36:05.368Z",
    "type": "completion"
   },
   {
    "code": "df = data[['price_000', 'pop_dens', 'ses', 'house', 'area_m2', 'num_bath', 'pcn_green', 'thefts']].copy()\ndf['high_ses'] = np.where((df['ses'] >= 5), 1,0)\ndf.head()",
    "id": "7ce6cdb8c3c3435f8219730446403137",
    "idx": 6,
    "time": "2021-02-16T02:36:14.307Z",
    "type": "execution"
   },
   {
    "id": "7ce6cdb8c3c3435f8219730446403137",
    "time": "2021-02-16T02:36:14.433Z",
    "type": "completion"
   },
   {
    "code": "#Define a list of independent variables of interest \nind_var = ['pop_dens', 'house', 'area_m2', 'num_bath', 'pcn_green', 'thefts', 'high_ses']\n\n#Define our categorical and dependent variables\nx = df[ind_var].assign(Intercept = 1)\ny = df['price_000']\n\n#Let's save the results of the regression as model. This is be helpful for functions we will use below\nmodel = sm.OLS(y, x).fit()\n\nmodel.summary2()",
    "id": "75c8424e0eb041c8a4b58aa8e8ace82c",
    "idx": 9,
    "time": "2021-02-16T02:48:18.068Z",
    "type": "execution"
   },
   {
    "id": "75c8424e0eb041c8a4b58aa8e8ace82c",
    "time": "2021-02-16T02:48:19.010Z",
    "type": "completion"
   },
   {
    "code": "x.head()",
    "id": "efb6d1628121478d8473a62dff6d757f",
    "idx": 10,
    "time": "2021-02-16T02:50:17.319Z",
    "type": "execution"
   },
   {
    "id": "efb6d1628121478d8473a62dff6d757f",
    "time": "2021-02-16T02:50:17.508Z",
    "type": "completion"
   },
   {
    "code": "help(corr)",
    "id": "d3ebdd5ab31b4763b528d4106e1a5832",
    "idx": 12,
    "time": "2021-02-16T02:59:35.881Z",
    "type": "execution"
   },
   {
    "id": "d3ebdd5ab31b4763b528d4106e1a5832",
    "time": "2021-02-16T02:59:36.200Z",
    "type": "completion"
   },
   {
    "code": "help(.corr())",
    "id": "d3ebdd5ab31b4763b528d4106e1a5832",
    "idx": 12,
    "time": "2021-02-16T02:59:43.373Z",
    "type": "execution"
   },
   {
    "id": "d3ebdd5ab31b4763b528d4106e1a5832",
    "time": "2021-02-16T02:59:43.463Z",
    "type": "completion"
   },
   {
    "code": "help(corr())",
    "id": "d3ebdd5ab31b4763b528d4106e1a5832",
    "idx": 12,
    "time": "2021-02-16T02:59:48.555Z",
    "type": "execution"
   },
   {
    "id": "d3ebdd5ab31b4763b528d4106e1a5832",
    "time": "2021-02-16T02:59:48.628Z",
    "type": "completion"
   },
   {
    "code": "help(pd.corr)",
    "id": "d3ebdd5ab31b4763b528d4106e1a5832",
    "idx": 12,
    "time": "2021-02-16T03:00:04.270Z",
    "type": "execution"
   },
   {
    "id": "d3ebdd5ab31b4763b528d4106e1a5832",
    "time": "2021-02-16T03:00:04.375Z",
    "type": "completion"
   },
   {
    "code": "help(pearsonr.corr)",
    "id": "d3ebdd5ab31b4763b528d4106e1a5832",
    "idx": 12,
    "time": "2021-02-16T03:00:21.704Z",
    "type": "execution"
   },
   {
    "id": "d3ebdd5ab31b4763b528d4106e1a5832",
    "time": "2021-02-16T03:00:21.794Z",
    "type": "completion"
   },
   {
    "code": "help(pearsonr.(corr))",
    "id": "d3ebdd5ab31b4763b528d4106e1a5832",
    "idx": 12,
    "time": "2021-02-16T03:00:30.877Z",
    "type": "execution"
   },
   {
    "id": "d3ebdd5ab31b4763b528d4106e1a5832",
    "time": "2021-02-16T03:00:30.971Z",
    "type": "completion"
   },
   {
    "code": "help(pearsonr(corr))",
    "id": "d3ebdd5ab31b4763b528d4106e1a5832",
    "idx": 12,
    "time": "2021-02-16T03:00:35.251Z",
    "type": "execution"
   },
   {
    "id": "d3ebdd5ab31b4763b528d4106e1a5832",
    "time": "2021-02-16T03:00:35.354Z",
    "type": "completion"
   },
   {
    "code": "help(pearsonr)",
    "id": "d3ebdd5ab31b4763b528d4106e1a5832",
    "idx": 12,
    "time": "2021-02-16T03:00:58.604Z",
    "type": "execution"
   },
   {
    "id": "d3ebdd5ab31b4763b528d4106e1a5832",
    "time": "2021-02-16T03:00:58.777Z",
    "type": "completion"
   },
   {
    "code": "help(df.corr)",
    "id": "d3ebdd5ab31b4763b528d4106e1a5832",
    "idx": 12,
    "time": "2021-02-16T03:01:20.559Z",
    "type": "execution"
   },
   {
    "id": "d3ebdd5ab31b4763b528d4106e1a5832",
    "time": "2021-02-16T03:01:20.767Z",
    "type": "completion"
   },
   {
    "code": "df[ind_var].corr()",
    "id": "4565437de7d04b4899cd6ea06eba4812",
    "idx": 11,
    "time": "2021-02-16T03:02:39.457Z",
    "type": "execution"
   },
   {
    "id": "4565437de7d04b4899cd6ea06eba4812",
    "time": "2021-02-16T03:02:39.757Z",
    "type": "completion"
   },
   {
    "code": "help(df.values)",
    "id": "c25a2ee6120749b5ad868af28247d8a2",
    "idx": 13,
    "time": "2021-02-16T03:20:26.127Z",
    "type": "execution"
   },
   {
    "id": "c25a2ee6120749b5ad868af28247d8a2",
    "time": "2021-02-16T03:20:26.592Z",
    "type": "completion"
   },
   {
    "code": "help(.values)",
    "id": "c25a2ee6120749b5ad868af28247d8a2",
    "idx": 13,
    "time": "2021-02-16T03:22:33.064Z",
    "type": "execution"
   },
   {
    "id": "c25a2ee6120749b5ad868af28247d8a2",
    "time": "2021-02-16T03:22:33.145Z",
    "type": "completion"
   },
   {
    "code": "help(values)",
    "id": "c25a2ee6120749b5ad868af28247d8a2",
    "idx": 13,
    "time": "2021-02-16T03:22:38.431Z",
    "type": "execution"
   },
   {
    "id": "c25a2ee6120749b5ad868af28247d8a2",
    "time": "2021-02-16T03:22:38.521Z",
    "type": "completion"
   },
   {
    "code": "#Let's verify the shape of x in python\nprint((type(x)))",
    "id": "c25a2ee6120749b5ad868af28247d8a2",
    "idx": 13,
    "time": "2021-02-16T03:23:57.292Z",
    "type": "execution"
   },
   {
    "id": "c25a2ee6120749b5ad868af28247d8a2",
    "time": "2021-02-16T03:23:57.353Z",
    "type": "completion"
   },
   {
    "code": "#Let's verify the shape of x in python\nprint((type(x)))\nx.head()",
    "id": "c25a2ee6120749b5ad868af28247d8a2",
    "idx": 13,
    "time": "2021-02-16T03:24:11.708Z",
    "type": "execution"
   },
   {
    "id": "c25a2ee6120749b5ad868af28247d8a2",
    "time": "2021-02-16T03:24:11.812Z",
    "type": "completion"
   },
   {
    "code": "#We will now obtain an array of our x values \nx_array = x.values\nprint(type(x_array))",
    "id": "2ef93713f4bf4899a817a54c8cfe57f9",
    "idx": 14,
    "time": "2021-02-16T03:25:58.298Z",
    "type": "execution"
   },
   {
    "id": "2ef93713f4bf4899a817a54c8cfe57f9",
    "time": "2021-02-16T03:25:58.357Z",
    "type": "completion"
   },
   {
    "code": "#We will now obtain an array of our x values \nx_array = x.values\nprint(type(x_array))\nx_array",
    "id": "2ef93713f4bf4899a817a54c8cfe57f9",
    "idx": 14,
    "time": "2021-02-16T03:26:13.192Z",
    "type": "execution"
   },
   {
    "id": "2ef93713f4bf4899a817a54c8cfe57f9",
    "time": "2021-02-16T03:26:13.543Z",
    "type": "completion"
   },
   {
    "code": "array = np.array(x)\n\narray",
    "id": "a2d59eead9fc45e381febe99cf71326b",
    "idx": 15,
    "time": "2021-02-16T03:27:24.464Z",
    "type": "execution"
   },
   {
    "id": "a2d59eead9fc45e381febe99cf71326b",
    "time": "2021-02-16T03:27:24.537Z",
    "type": "completion"
   },
   {
    "code": "# We will now obtain a VIF for each of the coefficients in our model \nvif = [variance_inflation_factor(x_array, i) for i in range(x.shape[1])]\nvif",
    "id": "0a1356242cad4da799cdc56fd25c13a7",
    "idx": 15,
    "time": "2021-02-16T03:32:13.404Z",
    "type": "execution"
   },
   {
    "id": "0a1356242cad4da799cdc56fd25c13a7",
    "time": "2021-02-16T03:32:13.649Z",
    "type": "completion"
   },
   {
    "code": "help(pd.series)",
    "id": "b90d8a6f78db4e9781d96155124e7bf2",
    "idx": 18,
    "time": "2021-02-16T03:33:36.801Z",
    "type": "execution"
   },
   {
    "id": "b90d8a6f78db4e9781d96155124e7bf2",
    "time": "2021-02-16T03:33:36.942Z",
    "type": "completion"
   },
   {
    "code": "help(pd.Series)",
    "id": "b90d8a6f78db4e9781d96155124e7bf2",
    "idx": 18,
    "time": "2021-02-16T03:33:44.008Z",
    "type": "execution"
   },
   {
    "id": "b90d8a6f78db4e9781d96155124e7bf2",
    "time": "2021-02-16T03:33:45.927Z",
    "type": "completion"
   },
   {
    "code": "#Let's label the VIF values that we obtained \npd.Series(vif, index = x.columns)",
    "id": "f551c5d6f70d4bca83d6af05d0929eea",
    "idx": 17,
    "time": "2021-02-16T03:35:14.518Z",
    "type": "execution"
   },
   {
    "id": "f551c5d6f70d4bca83d6af05d0929eea",
    "time": "2021-02-16T03:35:14.630Z",
    "type": "completion"
   },
   {
    "code": "#Let's label the VIF values that we obtained \npd.Series(vif, index = x.columns).T",
    "id": "f551c5d6f70d4bca83d6af05d0929eea",
    "idx": 17,
    "time": "2021-02-16T03:35:26.589Z",
    "type": "execution"
   },
   {
    "id": "f551c5d6f70d4bca83d6af05d0929eea",
    "time": "2021-02-16T03:35:26.654Z",
    "type": "completion"
   },
   {
    "code": "#Let's label the VIF values that we obtained \npd.Series(vif, index = x.columns).T()",
    "id": "f551c5d6f70d4bca83d6af05d0929eea",
    "idx": 17,
    "time": "2021-02-16T03:35:30.967Z",
    "type": "execution"
   },
   {
    "id": "f551c5d6f70d4bca83d6af05d0929eea",
    "time": "2021-02-16T03:35:31.119Z",
    "type": "completion"
   },
   {
    "code": "#Let's label the VIF values that we obtained \npd.Series(vif, index = x.columns)",
    "id": "f551c5d6f70d4bca83d6af05d0929eea",
    "idx": 17,
    "time": "2021-02-16T03:35:35.203Z",
    "type": "execution"
   },
   {
    "id": "f551c5d6f70d4bca83d6af05d0929eea",
    "time": "2021-02-16T03:35:35.329Z",
    "type": "completion"
   },
   {
    "code": "#Let's label the VIF values that we obtained \npd.Series(vif, index = x.columns).T",
    "id": "f551c5d6f70d4bca83d6af05d0929eea",
    "idx": 17,
    "time": "2021-02-16T03:35:39.564Z",
    "type": "execution"
   },
   {
    "id": "f551c5d6f70d4bca83d6af05d0929eea",
    "time": "2021-02-16T03:35:39.665Z",
    "type": "completion"
   },
   {
    "code": "#Let's label the VIF values that we obtained \npd.Series(vif, index = x.columns)",
    "id": "f551c5d6f70d4bca83d6af05d0929eea",
    "idx": 17,
    "time": "2021-02-16T03:35:43.797Z",
    "type": "execution"
   },
   {
    "id": "f551c5d6f70d4bca83d6af05d0929eea",
    "time": "2021-02-16T03:35:43.894Z",
    "type": "completion"
   },
   {
    "code": "import numpy as np\nimport pandas as pd\nimport seaborn as sns\n\nimport matplotlib as mpl\nimport matplotlib.pyplot as plt\nfrom matplotlib.ticker import FuncFormatter\n\nimport statsmodels.api as sm\nfrom scipy.stats import pearsonr\nfrom statsmodels.stats.outliers_influence import variance_inflation_factor ",
    "id": "549ef9e4d2a14dca85f2553ae90edcc8",
    "idx": 4,
    "time": "2021-02-16T04:39:42.212Z",
    "type": "execution"
   },
   {
    "code": "#Read in data\ndata = pd.read_csv('clean_property_data.csv')\ndata.head()",
    "id": "d83ea5dec6a047409caf72331504d404",
    "idx": 5,
    "time": "2021-02-16T04:39:42.216Z",
    "type": "execution"
   },
   {
    "code": "#Create a subdataframe, and create a binary variable called 'high_ses'\ndf = data[['price_000', 'pop_dens', 'ses', 'house', 'area_m2', 'num_bath', 'pcn_green', 'thefts']].copy()\ndf['high_ses'] = np.where((df['ses'] >= 5), 1,0)\ndf.head()",
    "id": "7ce6cdb8c3c3435f8219730446403137",
    "idx": 6,
    "time": "2021-02-16T04:39:42.220Z",
    "type": "execution"
   },
   {
    "code": "#Define a list of independent variables of interest \nind_var = ['pop_dens', 'house', 'area_m2', 'num_bath', 'pcn_green', 'thefts', 'high_ses']\n\n#Define our explanatory and dependent variables\nx = df[ind_var].assign(Intercept = 1)\ny = df['price_000']\n\n#Let's save the results of the regression as model. This is be helpful for functions we will use below\nmodel = sm.OLS(y, x).fit()\n\nmodel.summary2()",
    "id": "75c8424e0eb041c8a4b58aa8e8ace82c",
    "idx": 9,
    "time": "2021-02-16T04:39:42.222Z",
    "type": "execution"
   },
   {
    "code": "df[ind_var].corr()",
    "id": "4565437de7d04b4899cd6ea06eba4812",
    "idx": 11,
    "time": "2021-02-16T04:39:42.224Z",
    "type": "execution"
   },
   {
    "code": "#Let's verify the shape of x in python\nprint((type(x)))\nx.head()",
    "id": "c25a2ee6120749b5ad868af28247d8a2",
    "idx": 13,
    "time": "2021-02-16T04:39:42.225Z",
    "type": "execution"
   },
   {
    "code": "#We will now obtain an array of our x values \nx_array = x.values\n\nprint(type(x_array))\nx_array",
    "id": "2ef93713f4bf4899a817a54c8cfe57f9",
    "idx": 14,
    "time": "2021-02-16T04:39:42.226Z",
    "type": "execution"
   },
   {
    "code": "# We will now obtain a VIF for each of the coefficients in our model \nvif = [variance_inflation_factor(x_array, i) for i in range(x.shape[1])]\nvif",
    "id": "0a1356242cad4da799cdc56fd25c13a7",
    "idx": 15,
    "time": "2021-02-16T04:39:42.228Z",
    "type": "execution"
   },
   {
    "code": "#Let's label the VIF values that we obtained \npd.Series(vif, index = x.columns)",
    "id": "f551c5d6f70d4bca83d6af05d0929eea",
    "idx": 17,
    "time": "2021-02-16T04:39:42.229Z",
    "type": "execution"
   },
   {
    "id": "549ef9e4d2a14dca85f2553ae90edcc8",
    "time": "2021-02-16T04:39:49.256Z",
    "type": "completion"
   },
   {
    "id": "d83ea5dec6a047409caf72331504d404",
    "time": "2021-02-16T04:39:49.302Z",
    "type": "completion"
   },
   {
    "id": "7ce6cdb8c3c3435f8219730446403137",
    "time": "2021-02-16T04:39:49.303Z",
    "type": "completion"
   },
   {
    "id": "75c8424e0eb041c8a4b58aa8e8ace82c",
    "time": "2021-02-16T04:39:49.304Z",
    "type": "completion"
   },
   {
    "id": "4565437de7d04b4899cd6ea06eba4812",
    "time": "2021-02-16T04:39:49.305Z",
    "type": "completion"
   },
   {
    "id": "c25a2ee6120749b5ad868af28247d8a2",
    "time": "2021-02-16T04:39:49.306Z",
    "type": "completion"
   },
   {
    "id": "2ef93713f4bf4899a817a54c8cfe57f9",
    "time": "2021-02-16T04:39:49.307Z",
    "type": "completion"
   },
   {
    "id": "0a1356242cad4da799cdc56fd25c13a7",
    "time": "2021-02-16T04:39:49.309Z",
    "type": "completion"
   },
   {
    "id": "f551c5d6f70d4bca83d6af05d0929eea",
    "time": "2021-02-16T04:39:49.309Z",
    "type": "completion"
   },
   {
    "code": "import numpy as np\nimport pandas as pd\nimport seaborn as sns\n\nimport matplotlib as mpl\nimport matplotlib.pyplot as plt\nfrom matplotlib.ticker import FuncFormatter\n\nimport statsmodels.api as sm\nfrom scipy.stats import pearsonr\nfrom statsmodels.stats.outliers_influence import variance_inflation_factor ",
    "id": "9185ceb13570437da72a6b60486229c7",
    "idx": 4,
    "time": "2021-02-16T04:40:51.522Z",
    "type": "execution"
   },
   {
    "code": "#Read in data\ndata = pd.read_csv('clean_property_data.csv')\ndata.head()",
    "id": "6427ae55525c4d7f8e4bfd65497c6d26",
    "idx": 5,
    "time": "2021-02-16T04:40:51.527Z",
    "type": "execution"
   },
   {
    "code": "#Create a subdataframe, and create a binary variable called 'high_ses'\ndf = data[['price_000', 'pop_dens', 'ses', 'house', 'area_m2', 'num_bath', 'pcn_green', 'thefts']].copy()\ndf['high_ses'] = np.where((df['ses'] >= 5), 1,0)\ndf.head()",
    "id": "53c6cac0695c44528647bc7d20508c8c",
    "idx": 6,
    "time": "2021-02-16T04:40:51.528Z",
    "type": "execution"
   },
   {
    "code": "#Define a list of independent variables of interest \nind_var = ['pop_dens', 'house', 'area_m2', 'num_bath', 'pcn_green', 'thefts', 'high_ses']\n\n#Define our explanatory and dependent variables\nx = df[ind_var].assign(Intercept = 1)\ny = df['price_000']\n\n#Let's save the results of the regression as model. This is be helpful for functions we will use below\nmodel = sm.OLS(y, x).fit()\n\nmodel.summary2()",
    "id": "5605ff5cb83d42918a0652eec89800d6",
    "idx": 9,
    "time": "2021-02-16T04:40:51.530Z",
    "type": "execution"
   },
   {
    "code": "df[ind_var].corr()",
    "id": "e6d637ae6d01496498eeb315f43b5b62",
    "idx": 11,
    "time": "2021-02-16T04:40:51.532Z",
    "type": "execution"
   },
   {
    "code": "#Let's verify the shape of x in python\nprint((type(x)))\nx.head()",
    "id": "12bb8271d2054b348bb9702486900d65",
    "idx": 13,
    "time": "2021-02-16T04:40:51.533Z",
    "type": "execution"
   },
   {
    "code": "#We will now obtain an array of our x values \nx_array = x.values\n\nprint(type(x_array))\nx_array",
    "id": "4e20dfc13d1a4b4b9d12c61955277909",
    "idx": 14,
    "time": "2021-02-16T04:40:51.534Z",
    "type": "execution"
   },
   {
    "code": "# We will now obtain a VIF for each of the coefficients in our model \nvif = [variance_inflation_factor(x_array, i) for i in range(x.shape[1])]\nvif",
    "id": "9dff6541122d4a0393e487d614be0fa3",
    "idx": 15,
    "time": "2021-02-16T04:40:51.535Z",
    "type": "execution"
   },
   {
    "code": "#Let's label the VIF values that we obtained \npd.Series(vif, index = x.columns)",
    "id": "e0031c8999164885ba3225f7d0428e21",
    "idx": 17,
    "time": "2021-02-16T04:40:51.537Z",
    "type": "execution"
   },
   {
    "id": "9185ceb13570437da72a6b60486229c7",
    "time": "2021-02-16T04:40:54.585Z",
    "type": "completion"
   },
   {
    "id": "6427ae55525c4d7f8e4bfd65497c6d26",
    "time": "2021-02-16T04:40:54.670Z",
    "type": "completion"
   },
   {
    "id": "53c6cac0695c44528647bc7d20508c8c",
    "time": "2021-02-16T04:40:54.727Z",
    "type": "completion"
   },
   {
    "id": "5605ff5cb83d42918a0652eec89800d6",
    "time": "2021-02-16T04:40:54.902Z",
    "type": "completion"
   },
   {
    "id": "e6d637ae6d01496498eeb315f43b5b62",
    "time": "2021-02-16T04:40:54.943Z",
    "type": "completion"
   },
   {
    "id": "12bb8271d2054b348bb9702486900d65",
    "time": "2021-02-16T04:40:54.972Z",
    "type": "completion"
   },
   {
    "id": "4e20dfc13d1a4b4b9d12c61955277909",
    "time": "2021-02-16T04:40:54.985Z",
    "type": "completion"
   },
   {
    "id": "9dff6541122d4a0393e487d614be0fa3",
    "time": "2021-02-16T04:40:55.083Z",
    "type": "completion"
   },
   {
    "id": "e0031c8999164885ba3225f7d0428e21",
    "time": "2021-02-16T04:40:55.087Z",
    "type": "completion"
   },
   {
    "code": "import numpy as np\nimport pandas as pd\nimport seaborn as sns\n\nimport matplotlib as mpl\nimport matplotlib.pyplot as plt\nfrom matplotlib.ticker import FuncFormatter\n\nimport statsmodels.api as sm\nfrom scipy.stats import pearsonr\nfrom statsmodels.stats.outliers_influence import variance_inflation_factor ",
    "id": "9185ceb13570437da72a6b60486229c7",
    "idx": 4,
    "time": "2021-02-16T04:46:04.819Z",
    "type": "execution"
   },
   {
    "code": "#Read in data\ndata = pd.read_csv('clean_property_data.csv')\ndata.head()",
    "id": "6427ae55525c4d7f8e4bfd65497c6d26",
    "idx": 5,
    "time": "2021-02-16T04:46:04.822Z",
    "type": "execution"
   },
   {
    "code": "#Create a subdataframe, and create a binary variable called 'high_ses'\ndf = data[['price_000', 'pop_dens', 'ses', 'house', 'area_m2', 'num_bath', 'pcn_green', 'thefts']].copy()\ndf['high_ses'] = np.where((df['ses'] >= 5), 1,0)\ndf.head()",
    "id": "53c6cac0695c44528647bc7d20508c8c",
    "idx": 6,
    "time": "2021-02-16T04:46:04.824Z",
    "type": "execution"
   },
   {
    "code": "#Define a list of independent variables of interest \nind_var = ['high_ses', 'house', 'area_m2', 'num_bath', 'pcn_green', 'thefts', 'pop_dens']\n\n#Define our explanatory and dependent variables\nx = df[ind_var].assign(Intercept = 1)\ny = df['price_000']\n\n#Let's save the results of the regression as model. This is be helpful for functions we will use below\nmodel = sm.OLS(y, x).fit()\n\nmodel.summary2()",
    "id": "5605ff5cb83d42918a0652eec89800d6",
    "idx": 9,
    "time": "2021-02-16T04:46:04.826Z",
    "type": "execution"
   },
   {
    "code": "df[ind_var].corr()",
    "id": "e6d637ae6d01496498eeb315f43b5b62",
    "idx": 11,
    "time": "2021-02-16T04:46:04.828Z",
    "type": "execution"
   },
   {
    "code": "#Let's verify the shape of x in python\nprint((type(x)))\nx.head()",
    "id": "12bb8271d2054b348bb9702486900d65",
    "idx": 13,
    "time": "2021-02-16T04:46:04.829Z",
    "type": "execution"
   },
   {
    "code": "#We will now obtain an array of our x values \nx_array = x.values\n\nprint(type(x_array))\nx_array",
    "id": "4e20dfc13d1a4b4b9d12c61955277909",
    "idx": 14,
    "time": "2021-02-16T04:46:04.830Z",
    "type": "execution"
   },
   {
    "code": "# We will now obtain a VIF for each of the coefficients in our model \nvif = [variance_inflation_factor(x_array, i) for i in range(x.shape[1])]\nvif",
    "id": "9dff6541122d4a0393e487d614be0fa3",
    "idx": 15,
    "time": "2021-02-16T04:46:04.831Z",
    "type": "execution"
   },
   {
    "code": "#Let's label the VIF values that we obtained \npd.Series(vif, index = x.columns)",
    "id": "e0031c8999164885ba3225f7d0428e21",
    "idx": 17,
    "time": "2021-02-16T04:46:04.832Z",
    "type": "execution"
   },
   {
    "id": "9185ceb13570437da72a6b60486229c7",
    "time": "2021-02-16T04:46:07.874Z",
    "type": "completion"
   },
   {
    "id": "6427ae55525c4d7f8e4bfd65497c6d26",
    "time": "2021-02-16T04:46:08.008Z",
    "type": "completion"
   },
   {
    "id": "53c6cac0695c44528647bc7d20508c8c",
    "time": "2021-02-16T04:46:08.132Z",
    "type": "completion"
   },
   {
    "id": "5605ff5cb83d42918a0652eec89800d6",
    "time": "2021-02-16T04:46:08.751Z",
    "type": "completion"
   },
   {
    "id": "e6d637ae6d01496498eeb315f43b5b62",
    "time": "2021-02-16T04:46:08.808Z",
    "type": "completion"
   },
   {
    "id": "12bb8271d2054b348bb9702486900d65",
    "time": "2021-02-16T04:46:08.895Z",
    "type": "completion"
   },
   {
    "id": "4e20dfc13d1a4b4b9d12c61955277909",
    "time": "2021-02-16T04:46:08.970Z",
    "type": "completion"
   },
   {
    "id": "9dff6541122d4a0393e487d614be0fa3",
    "time": "2021-02-16T04:46:09.788Z",
    "type": "completion"
   },
   {
    "id": "e0031c8999164885ba3225f7d0428e21",
    "time": "2021-02-16T04:46:09.802Z",
    "type": "completion"
   },
   {
    "code": "#To remember the coefffients we obtained we can use the following:\nmodel.params",
    "id": "b439e120288b4a6984b3364591e3411a",
    "idx": 19,
    "time": "2021-02-16T04:54:03.647Z",
    "type": "execution"
   },
   {
    "id": "b439e120288b4a6984b3364591e3411a",
    "time": "2021-02-16T04:54:03.783Z",
    "type": "completion"
   },
   {
    "code": "x.head(1)",
    "id": "4e2e2b4fa304484599e83a3a0c191991",
    "idx": 21,
    "time": "2021-02-16T04:56:59.241Z",
    "type": "execution"
   },
   {
    "id": "4e2e2b4fa304484599e83a3a0c191991",
    "time": "2021-02-16T04:56:59.382Z",
    "type": "completion"
   },
   {
    "code": "pred_1 = model.predict(x.iloc[0].values)",
    "id": "daa33f6dbb6a4a3787c77e376ef1cb52",
    "idx": 23,
    "time": "2021-02-16T05:12:15.813Z",
    "type": "execution"
   },
   {
    "id": "daa33f6dbb6a4a3787c77e376ef1cb52",
    "time": "2021-02-16T05:12:15.920Z",
    "type": "completion"
   },
   {
    "code": "pred_1 = model.predict(x.iloc[0].values)\npred_1",
    "id": "daa33f6dbb6a4a3787c77e376ef1cb52",
    "idx": 23,
    "time": "2021-02-16T05:12:20.423Z",
    "type": "execution"
   },
   {
    "id": "daa33f6dbb6a4a3787c77e376ef1cb52",
    "time": "2021-02-16T05:12:20.519Z",
    "type": "completion"
   },
   {
    "code": "pred_1 = model.predict(x_array.iloc[0])\npred_1",
    "id": "daa33f6dbb6a4a3787c77e376ef1cb52",
    "idx": 23,
    "time": "2021-02-16T05:12:43.241Z",
    "type": "execution"
   },
   {
    "id": "daa33f6dbb6a4a3787c77e376ef1cb52",
    "time": "2021-02-16T05:12:43.767Z",
    "type": "completion"
   },
   {
    "code": "pred_1 = model.predict(x_array.loc[0, :])\npred_1",
    "id": "daa33f6dbb6a4a3787c77e376ef1cb52",
    "idx": 23,
    "time": "2021-02-16T05:13:09.324Z",
    "type": "execution"
   },
   {
    "id": "daa33f6dbb6a4a3787c77e376ef1cb52",
    "time": "2021-02-16T05:13:09.461Z",
    "type": "completion"
   },
   {
    "code": "pred_1 = model.predict(x_array[0, :])\npred_1",
    "id": "daa33f6dbb6a4a3787c77e376ef1cb52",
    "idx": 23,
    "time": "2021-02-16T05:14:05.757Z",
    "type": "execution"
   },
   {
    "id": "daa33f6dbb6a4a3787c77e376ef1cb52",
    "time": "2021-02-16T05:14:05.860Z",
    "type": "completion"
   },
   {
    "code": "model.predict(x.iloc[0].values)",
    "id": "53fe73bf7f714186806401640aa69344",
    "idx": 24,
    "time": "2021-02-16T05:14:27.424Z",
    "type": "execution"
   },
   {
    "id": "53fe73bf7f714186806401640aa69344",
    "time": "2021-02-16T05:14:27.536Z",
    "type": "completion"
   },
   {
    "code": "#We can ask python to find the predicted value of y using this first line of our observed values \n\n#We can do this using our dataframe x:\npred_1 = model.predict(x_array[0, :])\nprint(pred_1)",
    "id": "daa33f6dbb6a4a3787c77e376ef1cb52",
    "idx": 23,
    "time": "2021-02-16T05:16:53.171Z",
    "type": "execution"
   },
   {
    "id": "daa33f6dbb6a4a3787c77e376ef1cb52",
    "time": "2021-02-16T05:16:53.256Z",
    "type": "completion"
   },
   {
    "code": "#We can ask python to find the predicted value of y using this first line of our observed values \n\n#We can do this using our dataframe x:\npred = model.predict(x.iloc[0].values)\nprint(pred)\n\n#Or we can use our x_array\npred_1 = model.predict(x_array[0, :])\nprint(pred_1)",
    "id": "daa33f6dbb6a4a3787c77e376ef1cb52",
    "idx": 23,
    "time": "2021-02-16T05:18:17.208Z",
    "type": "execution"
   },
   {
    "id": "daa33f6dbb6a4a3787c77e376ef1cb52",
    "time": "2021-02-16T05:18:17.330Z",
    "type": "completion"
   },
   {
    "code": "#How does this value compare to the observed value of price in our dataset\n\n#Let's call up the first line of the dataset\ndf.head(1)",
    "id": "1cb689a0641449379224f31fe01c4ff7",
    "idx": 24,
    "time": "2021-02-16T05:31:35.193Z",
    "type": "execution"
   },
   {
    "id": "1cb689a0641449379224f31fe01c4ff7",
    "time": "2021-02-16T05:31:35.347Z",
    "type": "completion"
   },
   {
    "code": "#Let's now calculate the residual of our first prediction\nmodel.resid[0]",
    "id": "a7d3375da1b14ce688ae50d59dbd3c81",
    "idx": 25,
    "time": "2021-02-16T05:33:09.256Z",
    "type": "execution"
   },
   {
    "id": "a7d3375da1b14ce688ae50d59dbd3c81",
    "time": "2021-02-16T05:33:09.420Z",
    "type": "completion"
   },
   {
    "code": "#We can also find the predictions and residuals for the entirety of our dataset\n\n#Let's see what our predictions are\npred_mod = model.predict()\nprint(pred_mod)\n\n#Let's see what our residuals are\nres_mod = model.resid\nprint(res_mod)",
    "id": "0aae26d0e5c149ac88f3f6d86336f5ec",
    "idx": 26,
    "time": "2021-02-16T05:36:30.862Z",
    "type": "execution"
   },
   {
    "id": "0aae26d0e5c149ac88f3f6d86336f5ec",
    "time": "2021-02-16T05:36:31.426Z",
    "type": "completion"
   },
   {
    "code": "def homoscedasticity_plots(observed, prediction, residuals):\n\n    fig, (ax1, ax2) = plt.subplots(1, 2, figsize=(16, 6))\n\n    ### Figure 1\n    x1 = prediction\n    y1 = residuals\n    ### Figure 2\n    x2 = observed\n    y2 = residuals\n\n    ### Creates title for overall figure\n    plt.suptitle('Residuals vs. observed and fitted data')\n\n    ### Creates first plot\n    ax1.scatter(x1, y1)\n    ax1.set_xlabel('Predicted Values')\n    ax1.set_ylabel('Residuals')\n    ### Formats axis number to include thousands separator\n    ax1.get_xaxis().set_major_formatter(plt.FuncFormatter(lambda x1, loc: \"{:,}\".format(int(x1))))\n    ax1.get_yaxis().set_major_formatter(plt.FuncFormatter(lambda y1, loc: \"{:,}\".format(int(y1))))\n\n    ### Creates second plot\n    ax2.scatter(x2, y2) ### We can change the color and marker type\n    ax2.set_xlabel('Observed Values')\n\n    ### Formats axis number to include thousands separator\n    ax2.get_xaxis().set_major_formatter(plt.FuncFormatter(lambda x1, loc: \"{:,}\".format(int(x1))))\n    ax2.get_yaxis().set_major_formatter(plt.FuncFormatter(lambda y1, loc: \"{:,}\".format(int(y1))))\n\n    plt.show()",
    "id": "e4453fb9543e4c7e82646f7d74353dff",
    "idx": 27,
    "time": "2021-02-16T05:40:01.100Z",
    "type": "execution"
   },
   {
    "id": "e4453fb9543e4c7e82646f7d74353dff",
    "time": "2021-02-16T05:40:01.232Z",
    "type": "completion"
   },
   {
    "code": "observed = data['price_000'] \n### These are the observed values of prices\n\nprediction = model.predict()\n### These are the price predictions using the same x values as the data input\n\nresiduals = model.resid \n### These are the residuals of the prediction model",
    "id": "800cba87cce9439f87ea6ea84f4c28f7",
    "idx": 28,
    "time": "2021-02-16T05:40:02.649Z",
    "type": "execution"
   },
   {
    "id": "800cba87cce9439f87ea6ea84f4c28f7",
    "time": "2021-02-16T05:40:02.990Z",
    "type": "completion"
   },
   {
    "code": "homoscedasticity_plots(observed, prediction, residuals)",
    "id": "3a40b335c4384f50939ef6220ee739cc",
    "idx": 29,
    "time": "2021-02-16T05:40:04.558Z",
    "type": "execution"
   },
   {
    "id": "3a40b335c4384f50939ef6220ee739cc",
    "time": "2021-02-16T05:40:06.199Z",
    "type": "completion"
   },
   {
    "code": "homoscedasticity_plots(prediction, residuals, observed)",
    "id": "3a40b335c4384f50939ef6220ee739cc",
    "idx": 29,
    "time": "2021-02-16T05:40:31.744Z",
    "type": "execution"
   },
   {
    "id": "3a40b335c4384f50939ef6220ee739cc",
    "time": "2021-02-16T05:40:33.547Z",
    "type": "completion"
   },
   {
    "code": "homoscedasticity_plots(obs, pred_mod, res_mod)",
    "id": "3a40b335c4384f50939ef6220ee739cc",
    "idx": 29,
    "time": "2021-02-16T05:42:41.371Z",
    "type": "execution"
   },
   {
    "id": "3a40b335c4384f50939ef6220ee739cc",
    "time": "2021-02-16T05:42:41.926Z",
    "type": "completion"
   },
   {
    "code": "obs = df['price']",
    "id": "800cba87cce9439f87ea6ea84f4c28f7",
    "idx": 28,
    "time": "2021-02-16T05:42:45.527Z",
    "type": "execution"
   },
   {
    "id": "800cba87cce9439f87ea6ea84f4c28f7",
    "time": "2021-02-16T05:42:46.018Z",
    "type": "completion"
   },
   {
    "code": "obs = df['price_000']",
    "id": "800cba87cce9439f87ea6ea84f4c28f7",
    "idx": 28,
    "time": "2021-02-16T05:42:57.846Z",
    "type": "execution"
   },
   {
    "id": "800cba87cce9439f87ea6ea84f4c28f7",
    "time": "2021-02-16T05:42:57.914Z",
    "type": "completion"
   },
   {
    "code": "homoscedasticity_plots(obs, pred_mod, res_mod)",
    "id": "3a40b335c4384f50939ef6220ee739cc",
    "idx": 29,
    "time": "2021-02-16T05:42:59.137Z",
    "type": "execution"
   },
   {
    "id": "3a40b335c4384f50939ef6220ee739cc",
    "time": "2021-02-16T05:43:01.093Z",
    "type": "completion"
   },
   {
    "code": "#We can also find the predictions and residuals for the entirety of our dataset\n\n#Let's see what our predictions are\npred_mod = model.predict()\nprint(pred_mod)\n\n#Let's see what our residuals are\nres_mod = model.resid()\nprint(res_mod)",
    "id": "0aae26d0e5c149ac88f3f6d86336f5ec",
    "idx": 26,
    "time": "2021-02-16T05:49:55.710Z",
    "type": "execution"
   },
   {
    "id": "0aae26d0e5c149ac88f3f6d86336f5ec",
    "time": "2021-02-16T05:49:56.922Z",
    "type": "completion"
   },
   {
    "code": "#We can also find the predictions and residuals for the entirety of our dataset\n\n#Let's see what our predictions are\npred_mod = model.predict()\nprint(pred_mod)\n\n#Let's see what our residuals are\nres_mod = model.resid\nprint(res_mod)",
    "id": "0aae26d0e5c149ac88f3f6d86336f5ec",
    "idx": 26,
    "time": "2021-02-16T05:50:05.830Z",
    "type": "execution"
   },
   {
    "id": "0aae26d0e5c149ac88f3f6d86336f5ec",
    "time": "2021-02-16T05:50:05.924Z",
    "type": "completion"
   },
   {
    "code": "sm.stats.diagnostic.het_breuschpagan(res_mod, pred_mod, robust = True)",
    "id": "7ce24217bbf3485b8b124d59fc4557ed",
    "idx": 31,
    "time": "2021-02-16T05:51:22.427Z",
    "type": "execution"
   },
   {
    "id": "7ce24217bbf3485b8b124d59fc4557ed",
    "time": "2021-02-16T05:51:22.580Z",
    "type": "completion"
   },
   {
    "code": "sm.stats.diagnostic.het_breuschpagan(res_mod, pred_mod)",
    "id": "7ce24217bbf3485b8b124d59fc4557ed",
    "idx": 31,
    "time": "2021-02-16T05:51:40.328Z",
    "type": "execution"
   },
   {
    "id": "7ce24217bbf3485b8b124d59fc4557ed",
    "time": "2021-02-16T05:51:40.476Z",
    "type": "completion"
   },
   {
    "code": "sm.stats.diagnostic.het_breuschpagan(pred_mod, res_mod)",
    "id": "7ce24217bbf3485b8b124d59fc4557ed",
    "idx": 31,
    "time": "2021-02-16T05:52:18.423Z",
    "type": "execution"
   },
   {
    "id": "7ce24217bbf3485b8b124d59fc4557ed",
    "time": "2021-02-16T05:52:18.500Z",
    "type": "completion"
   },
   {
    "code": "sm.het_breuschpagan(model.resid, model.model.exog)",
    "id": "7ce24217bbf3485b8b124d59fc4557ed",
    "idx": 31,
    "time": "2021-02-16T05:56:01.118Z",
    "type": "execution"
   },
   {
    "id": "7ce24217bbf3485b8b124d59fc4557ed",
    "time": "2021-02-16T05:56:01.265Z",
    "type": "completion"
   },
   {
    "code": "import numpy as np\nimport pandas as pd\nimport seaborn as sns\n\nimport matplotlib as mpl\nimport matplotlib.pyplot as plt\nfrom matplotlib.ticker import FuncFormatter\n\nimport statsmodels.stats.api as sm\nfrom scipy.stats import pearsonr\nfrom statsmodels.stats.outliers_influence import variance_inflation_factor ",
    "id": "9185ceb13570437da72a6b60486229c7",
    "idx": 4,
    "time": "2021-02-16T05:56:47.565Z",
    "type": "execution"
   },
   {
    "id": "9185ceb13570437da72a6b60486229c7",
    "time": "2021-02-16T05:56:49.208Z",
    "type": "completion"
   },
   {
    "code": "sm.het_breuschpagan(model.resid, model.model.exog)",
    "id": "7ce24217bbf3485b8b124d59fc4557ed",
    "idx": 31,
    "time": "2021-02-16T05:57:01.363Z",
    "type": "execution"
   },
   {
    "id": "7ce24217bbf3485b8b124d59fc4557ed",
    "time": "2021-02-16T05:57:01.884Z",
    "type": "completion"
   },
   {
    "code": "test_names = ['LMS', 'p-value', 'f-value', 'f p-value']\nresults = sm.het_breuschpagan(model.resid, model.model.exog)\nprint(test_names, results)",
    "id": "7ce24217bbf3485b8b124d59fc4557ed",
    "idx": 31,
    "time": "2021-02-16T05:59:23.413Z",
    "type": "execution"
   },
   {
    "id": "7ce24217bbf3485b8b124d59fc4557ed",
    "time": "2021-02-16T05:59:23.809Z",
    "type": "completion"
   },
   {
    "code": "import numpy as np\nimport pandas as pd\nimport seaborn as sns\n\nimport matplotlib as mpl\nimport matplotlib.pyplot as plt\nfrom matplotlib.ticker import FuncFormatter\n\nimport statsmodels.stats.api as sm\nfrom scipy.stats import pearsonr\nfrom statsmodels.stats.outliers_influence import variance_inflation_factor \n\n",
    "id": "9185ceb13570437da72a6b60486229c7",
    "idx": 4,
    "time": "2021-02-16T05:59:50.654Z",
    "type": "execution"
   },
   {
    "id": "9185ceb13570437da72a6b60486229c7",
    "time": "2021-02-16T05:59:50.727Z",
    "type": "completion"
   },
   {
    "code": "import numpy as np\nimport pandas as pd\nimport seaborn as sns\n\nimport matplotlib as mpl\nimport matplotlib.pyplot as plt\nfrom matplotlib.ticker import FuncFormatter\n\nimport statsmodels.stats.api as sm\nfrom scipy.stats import pearsonr\nfrom statsmodels.stats.outliers_influence import variance_inflation_factor \n\nfrom statsmodels.compat import lzip",
    "id": "9185ceb13570437da72a6b60486229c7",
    "idx": 4,
    "time": "2021-02-16T05:59:57.929Z",
    "type": "execution"
   },
   {
    "id": "9185ceb13570437da72a6b60486229c7",
    "time": "2021-02-16T05:59:58.017Z",
    "type": "completion"
   },
   {
    "code": "test_names = ['LMS', 'p-value', 'f-value', 'f p-value']\nresults = sm.het_breuschpagan(model.resid, model.model.exog)\nlzip(test_names, results)",
    "id": "7ce24217bbf3485b8b124d59fc4557ed",
    "idx": 31,
    "time": "2021-02-16T06:00:15.549Z",
    "type": "execution"
   },
   {
    "id": "7ce24217bbf3485b8b124d59fc4557ed",
    "time": "2021-02-16T06:00:15.825Z",
    "type": "completion"
   },
   {
    "code": "#Let's create a list of tests \ntest_names = ['LMS', 'p-value', 'f-value', 'f p-value']\n\n#Call the Breusch-Pagan test in python\nresults = sm.het_breuschpagan(model.resid, model.model.exog)\n\n#Concatenate the test values to their names\nlzip(test_names, results)",
    "id": "7ce24217bbf3485b8b124d59fc4557ed",
    "idx": 32,
    "time": "2021-02-16T06:03:05.855Z",
    "type": "execution"
   },
   {
    "id": "7ce24217bbf3485b8b124d59fc4557ed",
    "time": "2021-02-16T06:03:06.219Z",
    "type": "completion"
   },
   {
    "code": "dtype(test_names)",
    "id": "d348969fd54846328bb0a73257a71c03",
    "idx": 33,
    "time": "2021-02-16T06:03:25.126Z",
    "type": "execution"
   },
   {
    "id": "d348969fd54846328bb0a73257a71c03",
    "time": "2021-02-16T06:03:25.321Z",
    "type": "completion"
   },
   {
    "code": "test_names.dtype",
    "id": "d348969fd54846328bb0a73257a71c03",
    "idx": 33,
    "time": "2021-02-16T06:03:34.011Z",
    "type": "execution"
   },
   {
    "id": "d348969fd54846328bb0a73257a71c03",
    "time": "2021-02-16T06:03:34.089Z",
    "type": "completion"
   },
   {
    "code": "test_names.dtypes",
    "id": "d348969fd54846328bb0a73257a71c03",
    "idx": 33,
    "time": "2021-02-16T06:03:35.950Z",
    "type": "execution"
   },
   {
    "id": "d348969fd54846328bb0a73257a71c03",
    "time": "2021-02-16T06:03:36.083Z",
    "type": "completion"
   },
   {
    "code": "print(type(test_names))",
    "id": "d348969fd54846328bb0a73257a71c03",
    "idx": 33,
    "time": "2021-02-16T06:05:19.131Z",
    "type": "execution"
   },
   {
    "id": "d348969fd54846328bb0a73257a71c03",
    "time": "2021-02-16T06:05:19.266Z",
    "type": "completion"
   },
   {
    "code": "import numpy as np\nimport pandas as pd\nimport seaborn as sns\n\nimport matplotlib as mpl\nimport matplotlib.pyplot as plt\nfrom matplotlib.ticker import FuncFormatter\n\nimport statsmodels.stats.api as sm\nfrom scipy.stats import pearsonr\nfrom statsmodels.stats.outliers_influence import variance_inflation_factor \n\nfrom statsmodels.compat import lzip",
    "id": "9185ceb13570437da72a6b60486229c7",
    "idx": 4,
    "time": "2021-02-16T06:09:23.975Z",
    "type": "execution"
   },
   {
    "code": "#Read in data\ndata = pd.read_csv('clean_property_data.csv')\ndata.head()",
    "id": "6427ae55525c4d7f8e4bfd65497c6d26",
    "idx": 5,
    "time": "2021-02-16T06:09:23.980Z",
    "type": "execution"
   },
   {
    "code": "#Create a subdataframe, and create a binary variable called 'high_ses'\ndf = data[['price_000', 'pop_dens', 'ses', 'house', 'area_m2', 'num_bath', 'pcn_green', 'thefts']].copy()\ndf['high_ses'] = np.where((df['ses'] >= 5), 1,0)\ndf.head()",
    "id": "53c6cac0695c44528647bc7d20508c8c",
    "idx": 6,
    "time": "2021-02-16T06:09:23.982Z",
    "type": "execution"
   },
   {
    "code": "#Define a list of independent variables of interest \nind_var = ['high_ses', 'house', 'area_m2', 'num_bath', 'pcn_green', 'thefts', 'pop_dens']\n\n#Define our explanatory and dependent variables\nx = df[ind_var].assign(Intercept = 1)\ny = df['price_000']\n\n#Let's save the results of the regression as model. This is be helpful for functions we will use below\nmodel = sm.OLS(y, x).fit()\n\nmodel.summary2()",
    "id": "5605ff5cb83d42918a0652eec89800d6",
    "idx": 9,
    "time": "2021-02-16T06:09:23.984Z",
    "type": "execution"
   },
   {
    "code": "df[ind_var].corr()",
    "id": "e6d637ae6d01496498eeb315f43b5b62",
    "idx": 11,
    "time": "2021-02-16T06:09:23.985Z",
    "type": "execution"
   },
   {
    "code": "#Let's verify the shape of x in python\nprint((type(x)))\nx.head()",
    "id": "12bb8271d2054b348bb9702486900d65",
    "idx": 13,
    "time": "2021-02-16T06:09:23.987Z",
    "type": "execution"
   },
   {
    "code": "#We will now obtain an array of our x values \nx_array = x.values\n\nprint(type(x_array))\nx_array",
    "id": "4e20dfc13d1a4b4b9d12c61955277909",
    "idx": 14,
    "time": "2021-02-16T06:09:23.988Z",
    "type": "execution"
   },
   {
    "code": "# We will now obtain a VIF for each of the coefficients in our model \nvif = [variance_inflation_factor(x_array, i) for i in range(x.shape[1])]\nvif",
    "id": "9dff6541122d4a0393e487d614be0fa3",
    "idx": 15,
    "time": "2021-02-16T06:09:23.989Z",
    "type": "execution"
   },
   {
    "code": "#Let's label the VIF values that we obtained \npd.Series(vif, index = x.columns)",
    "id": "e0031c8999164885ba3225f7d0428e21",
    "idx": 17,
    "time": "2021-02-16T06:09:23.990Z",
    "type": "execution"
   },
   {
    "code": "#To remember the coefffients we obtained we can use the following:\nmodel.params",
    "id": "b439e120288b4a6984b3364591e3411a",
    "idx": 19,
    "time": "2021-02-16T06:09:23.992Z",
    "type": "execution"
   },
   {
    "code": "x.head(1)",
    "id": "4e2e2b4fa304484599e83a3a0c191991",
    "idx": 21,
    "time": "2021-02-16T06:09:23.994Z",
    "type": "execution"
   },
   {
    "code": "#We can ask python to find the predicted value of y using this first line of our observed values \n\n#We can do this using our dataframe x:\npred = model.predict(x.iloc[0].values)\nprint(pred)\n\n#Or we can use our x_array\npred_1 = model.predict(x_array[0, :])\nprint(pred_1)",
    "id": "daa33f6dbb6a4a3787c77e376ef1cb52",
    "idx": 23,
    "time": "2021-02-16T06:09:23.995Z",
    "type": "execution"
   },
   {
    "code": "#How does this value compare to the observed value of price in our dataset\n\n#Let's call up the first line of the dataset\ndf.head(1)",
    "id": "1cb689a0641449379224f31fe01c4ff7",
    "idx": 24,
    "time": "2021-02-16T06:09:23.997Z",
    "type": "execution"
   },
   {
    "code": "#Let's now calculate the residual of our first prediction\nmodel.resid[0]",
    "id": "a7d3375da1b14ce688ae50d59dbd3c81",
    "idx": 25,
    "time": "2021-02-16T06:09:23.998Z",
    "type": "execution"
   },
   {
    "code": "#We can also find the predictions and residuals for the entirety of our dataset\n\n#Let's see what our predictions are\npred_mod = model.predict()\nprint(pred_mod)\n\n#Let's see what our residuals are\nres_mod = model.resid\nprint(res_mod)",
    "id": "0aae26d0e5c149ac88f3f6d86336f5ec",
    "idx": 26,
    "time": "2021-02-16T06:09:24.000Z",
    "type": "execution"
   },
   {
    "code": "def homoscedasticity_plots(observed, prediction, residuals):\n\n    fig, (ax1, ax2) = plt.subplots(1, 2, figsize=(16, 6))\n\n    ### Figure 1\n    x1 = prediction\n    y1 = residuals\n    ### Figure 2\n    x2 = observed\n    y2 = residuals\n\n    ### Creates title for overall figure\n    plt.suptitle('Residuals vs. observed and fitted data')\n\n    ### Creates first plot\n    ax1.scatter(x1, y1)\n    ax1.set_xlabel('Predicted Values')\n    ax1.set_ylabel('Residuals')\n    ### Formats axis number to include thousands separator\n    ax1.get_xaxis().set_major_formatter(plt.FuncFormatter(lambda x1, loc: \"{:,}\".format(int(x1))))\n    ax1.get_yaxis().set_major_formatter(plt.FuncFormatter(lambda y1, loc: \"{:,}\".format(int(y1))))\n\n    ### Creates second plot\n    ax2.scatter(x2, y2) ### We can change the color and marker type\n    ax2.set_xlabel('Observed Values')\n\n    ### Formats axis number to include thousands separator\n    ax2.get_xaxis().set_major_formatter(plt.FuncFormatter(lambda x1, loc: \"{:,}\".format(int(x1))))\n    ax2.get_yaxis().set_major_formatter(plt.FuncFormatter(lambda y1, loc: \"{:,}\".format(int(y1))))\n\n    plt.show()",
    "id": "e4453fb9543e4c7e82646f7d74353dff",
    "idx": 28,
    "time": "2021-02-16T06:09:24.001Z",
    "type": "execution"
   },
   {
    "code": "obs = df['price_000']",
    "id": "800cba87cce9439f87ea6ea84f4c28f7",
    "idx": 29,
    "time": "2021-02-16T06:09:24.002Z",
    "type": "execution"
   },
   {
    "code": "homoscedasticity_plots(obs, pred_mod, res_mod)",
    "id": "3a40b335c4384f50939ef6220ee739cc",
    "idx": 30,
    "time": "2021-02-16T06:09:24.003Z",
    "type": "execution"
   },
   {
    "code": "#Let's create a list of tests \ntest_names = ['LMS', 'p-value', 'f-value', 'f p-value']\n\n#Call the Breusch-Pagan test in python\nresults = sm.het_breuschpagan(model.resid, model.model.exog)\n\n#Concatenate the test values to their names\nlzip(test_names, results)",
    "id": "7ce24217bbf3485b8b124d59fc4557ed",
    "idx": 32,
    "time": "2021-02-16T06:09:24.004Z",
    "type": "execution"
   },
   {
    "id": "9185ceb13570437da72a6b60486229c7",
    "time": "2021-02-16T06:09:27.990Z",
    "type": "completion"
   },
   {
    "id": "6427ae55525c4d7f8e4bfd65497c6d26",
    "time": "2021-02-16T06:09:28.123Z",
    "type": "completion"
   },
   {
    "id": "53c6cac0695c44528647bc7d20508c8c",
    "time": "2021-02-16T06:09:28.249Z",
    "type": "completion"
   },
   {
    "id": "5605ff5cb83d42918a0652eec89800d6",
    "time": "2021-02-16T06:09:28.863Z",
    "type": "completion"
   },
   {
    "id": "e6d637ae6d01496498eeb315f43b5b62",
    "time": "2021-02-16T06:09:28.873Z",
    "type": "completion"
   },
   {
    "id": "12bb8271d2054b348bb9702486900d65",
    "time": "2021-02-16T06:09:28.891Z",
    "type": "completion"
   },
   {
    "id": "4e20dfc13d1a4b4b9d12c61955277909",
    "time": "2021-02-16T06:09:28.923Z",
    "type": "completion"
   },
   {
    "id": "9dff6541122d4a0393e487d614be0fa3",
    "time": "2021-02-16T06:09:28.950Z",
    "type": "completion"
   },
   {
    "id": "e0031c8999164885ba3225f7d0428e21",
    "time": "2021-02-16T06:09:28.977Z",
    "type": "completion"
   },
   {
    "id": "b439e120288b4a6984b3364591e3411a",
    "time": "2021-02-16T06:09:29.012Z",
    "type": "completion"
   },
   {
    "id": "4e2e2b4fa304484599e83a3a0c191991",
    "time": "2021-02-16T06:09:29.057Z",
    "type": "completion"
   },
   {
    "id": "daa33f6dbb6a4a3787c77e376ef1cb52",
    "time": "2021-02-16T06:09:29.082Z",
    "type": "completion"
   },
   {
    "id": "1cb689a0641449379224f31fe01c4ff7",
    "time": "2021-02-16T06:09:29.093Z",
    "type": "completion"
   },
   {
    "id": "a7d3375da1b14ce688ae50d59dbd3c81",
    "time": "2021-02-16T06:09:29.112Z",
    "type": "completion"
   },
   {
    "id": "0aae26d0e5c149ac88f3f6d86336f5ec",
    "time": "2021-02-16T06:09:29.121Z",
    "type": "completion"
   },
   {
    "id": "e4453fb9543e4c7e82646f7d74353dff",
    "time": "2021-02-16T06:09:29.131Z",
    "type": "completion"
   },
   {
    "id": "800cba87cce9439f87ea6ea84f4c28f7",
    "time": "2021-02-16T06:09:29.138Z",
    "type": "completion"
   },
   {
    "id": "3a40b335c4384f50939ef6220ee739cc",
    "time": "2021-02-16T06:09:29.153Z",
    "type": "completion"
   },
   {
    "id": "7ce24217bbf3485b8b124d59fc4557ed",
    "time": "2021-02-16T06:09:29.154Z",
    "type": "completion"
   },
   {
    "code": "import numpy as np\nimport pandas as pd\nimport seaborn as sns\n\nimport matplotlib as mpl\nimport matplotlib.pyplot as plt\nfrom matplotlib.ticker import FuncFormatter\n\nimport statsmodels.stats.api as sms\nimport statsmodels.api as sm\nfrom scipy.stats import pearsonr\nfrom statsmodels.stats.outliers_influence import variance_inflation_factor \n\nfrom statsmodels.compat import lzip",
    "id": "9185ceb13570437da72a6b60486229c7",
    "idx": 4,
    "time": "2021-02-16T06:10:08.656Z",
    "type": "execution"
   },
   {
    "code": "#Read in data\ndata = pd.read_csv('clean_property_data.csv')\ndata.head()",
    "id": "6427ae55525c4d7f8e4bfd65497c6d26",
    "idx": 5,
    "time": "2021-02-16T06:10:08.659Z",
    "type": "execution"
   },
   {
    "code": "#Create a subdataframe, and create a binary variable called 'high_ses'\ndf = data[['price_000', 'pop_dens', 'ses', 'house', 'area_m2', 'num_bath', 'pcn_green', 'thefts']].copy()\ndf['high_ses'] = np.where((df['ses'] >= 5), 1,0)\ndf.head()",
    "id": "53c6cac0695c44528647bc7d20508c8c",
    "idx": 6,
    "time": "2021-02-16T06:10:08.660Z",
    "type": "execution"
   },
   {
    "code": "#Define a list of independent variables of interest \nind_var = ['high_ses', 'house', 'area_m2', 'num_bath', 'pcn_green', 'thefts', 'pop_dens']\n\n#Define our explanatory and dependent variables\nx = df[ind_var].assign(Intercept = 1)\ny = df['price_000']\n\n#Let's save the results of the regression as model. This is be helpful for functions we will use below\nmodel = sm.OLS(y, x).fit()\n\nmodel.summary2()",
    "id": "5605ff5cb83d42918a0652eec89800d6",
    "idx": 9,
    "time": "2021-02-16T06:10:08.662Z",
    "type": "execution"
   },
   {
    "code": "df[ind_var].corr()",
    "id": "e6d637ae6d01496498eeb315f43b5b62",
    "idx": 11,
    "time": "2021-02-16T06:10:08.663Z",
    "type": "execution"
   },
   {
    "code": "#Let's verify the shape of x in python\nprint((type(x)))\nx.head()",
    "id": "12bb8271d2054b348bb9702486900d65",
    "idx": 13,
    "time": "2021-02-16T06:10:08.664Z",
    "type": "execution"
   },
   {
    "code": "#We will now obtain an array of our x values \nx_array = x.values\n\nprint(type(x_array))\nx_array",
    "id": "4e20dfc13d1a4b4b9d12c61955277909",
    "idx": 14,
    "time": "2021-02-16T06:10:08.665Z",
    "type": "execution"
   },
   {
    "code": "# We will now obtain a VIF for each of the coefficients in our model \nvif = [variance_inflation_factor(x_array, i) for i in range(x.shape[1])]\nvif",
    "id": "9dff6541122d4a0393e487d614be0fa3",
    "idx": 15,
    "time": "2021-02-16T06:10:08.666Z",
    "type": "execution"
   },
   {
    "code": "#Let's label the VIF values that we obtained \npd.Series(vif, index = x.columns)",
    "id": "e0031c8999164885ba3225f7d0428e21",
    "idx": 17,
    "time": "2021-02-16T06:10:08.667Z",
    "type": "execution"
   },
   {
    "code": "#To remember the coefffients we obtained we can use the following:\nmodel.params",
    "id": "b439e120288b4a6984b3364591e3411a",
    "idx": 19,
    "time": "2021-02-16T06:10:08.668Z",
    "type": "execution"
   },
   {
    "code": "x.head(1)",
    "id": "4e2e2b4fa304484599e83a3a0c191991",
    "idx": 21,
    "time": "2021-02-16T06:10:08.669Z",
    "type": "execution"
   },
   {
    "code": "#We can ask python to find the predicted value of y using this first line of our observed values \n\n#We can do this using our dataframe x:\npred = model.predict(x.iloc[0].values)\nprint(pred)\n\n#Or we can use our x_array\npred_1 = model.predict(x_array[0, :])\nprint(pred_1)",
    "id": "daa33f6dbb6a4a3787c77e376ef1cb52",
    "idx": 23,
    "time": "2021-02-16T06:10:08.670Z",
    "type": "execution"
   },
   {
    "code": "#How does this value compare to the observed value of price in our dataset\n\n#Let's call up the first line of the dataset\ndf.head(1)",
    "id": "1cb689a0641449379224f31fe01c4ff7",
    "idx": 24,
    "time": "2021-02-16T06:10:08.671Z",
    "type": "execution"
   },
   {
    "code": "#Let's now calculate the residual of our first prediction\nmodel.resid[0]",
    "id": "a7d3375da1b14ce688ae50d59dbd3c81",
    "idx": 25,
    "time": "2021-02-16T06:10:08.672Z",
    "type": "execution"
   },
   {
    "code": "#We can also find the predictions and residuals for the entirety of our dataset\n\n#Let's see what our predictions are\npred_mod = model.predict()\nprint(pred_mod)\n\n#Let's see what our residuals are\nres_mod = model.resid\nprint(res_mod)",
    "id": "0aae26d0e5c149ac88f3f6d86336f5ec",
    "idx": 26,
    "time": "2021-02-16T06:10:08.674Z",
    "type": "execution"
   },
   {
    "code": "def homoscedasticity_plots(observed, prediction, residuals):\n\n    fig, (ax1, ax2) = plt.subplots(1, 2, figsize=(16, 6))\n\n    ### Figure 1\n    x1 = prediction\n    y1 = residuals\n    ### Figure 2\n    x2 = observed\n    y2 = residuals\n\n    ### Creates title for overall figure\n    plt.suptitle('Residuals vs. observed and fitted data')\n\n    ### Creates first plot\n    ax1.scatter(x1, y1)\n    ax1.set_xlabel('Predicted Values')\n    ax1.set_ylabel('Residuals')\n    ### Formats axis number to include thousands separator\n    ax1.get_xaxis().set_major_formatter(plt.FuncFormatter(lambda x1, loc: \"{:,}\".format(int(x1))))\n    ax1.get_yaxis().set_major_formatter(plt.FuncFormatter(lambda y1, loc: \"{:,}\".format(int(y1))))\n\n    ### Creates second plot\n    ax2.scatter(x2, y2) ### We can change the color and marker type\n    ax2.set_xlabel('Observed Values')\n\n    ### Formats axis number to include thousands separator\n    ax2.get_xaxis().set_major_formatter(plt.FuncFormatter(lambda x1, loc: \"{:,}\".format(int(x1))))\n    ax2.get_yaxis().set_major_formatter(plt.FuncFormatter(lambda y1, loc: \"{:,}\".format(int(y1))))\n\n    plt.show()",
    "id": "e4453fb9543e4c7e82646f7d74353dff",
    "idx": 28,
    "time": "2021-02-16T06:10:08.675Z",
    "type": "execution"
   },
   {
    "code": "obs = df['price_000']",
    "id": "800cba87cce9439f87ea6ea84f4c28f7",
    "idx": 29,
    "time": "2021-02-16T06:10:08.676Z",
    "type": "execution"
   },
   {
    "code": "homoscedasticity_plots(obs, pred_mod, res_mod)",
    "id": "3a40b335c4384f50939ef6220ee739cc",
    "idx": 30,
    "time": "2021-02-16T06:10:08.677Z",
    "type": "execution"
   },
   {
    "code": "#Let's create a list of tests \ntest_names = ['LMS', 'p-value', 'f-value', 'f p-value']\n\n#Call the Breusch-Pagan test in python\nresults = sms.het_breuschpagan(model.resid, model.model.exog)\n\n#Concatenate the test values to their names\nlzip(test_names, results)",
    "id": "7ce24217bbf3485b8b124d59fc4557ed",
    "idx": 32,
    "time": "2021-02-16T06:10:08.678Z",
    "type": "execution"
   },
   {
    "id": "9185ceb13570437da72a6b60486229c7",
    "time": "2021-02-16T06:10:11.561Z",
    "type": "completion"
   },
   {
    "id": "6427ae55525c4d7f8e4bfd65497c6d26",
    "time": "2021-02-16T06:10:11.804Z",
    "type": "completion"
   },
   {
    "id": "53c6cac0695c44528647bc7d20508c8c",
    "time": "2021-02-16T06:10:11.859Z",
    "type": "completion"
   },
   {
    "id": "5605ff5cb83d42918a0652eec89800d6",
    "time": "2021-02-16T06:10:12.334Z",
    "type": "completion"
   },
   {
    "id": "e6d637ae6d01496498eeb315f43b5b62",
    "time": "2021-02-16T06:10:12.449Z",
    "type": "completion"
   },
   {
    "id": "12bb8271d2054b348bb9702486900d65",
    "time": "2021-02-16T06:10:12.543Z",
    "type": "completion"
   },
   {
    "id": "4e20dfc13d1a4b4b9d12c61955277909",
    "time": "2021-02-16T06:10:12.604Z",
    "type": "completion"
   },
   {
    "id": "9dff6541122d4a0393e487d614be0fa3",
    "time": "2021-02-16T06:10:13.026Z",
    "type": "completion"
   },
   {
    "id": "e0031c8999164885ba3225f7d0428e21",
    "time": "2021-02-16T06:10:13.029Z",
    "type": "completion"
   },
   {
    "id": "b439e120288b4a6984b3364591e3411a",
    "time": "2021-02-16T06:10:13.070Z",
    "type": "completion"
   },
   {
    "id": "4e2e2b4fa304484599e83a3a0c191991",
    "time": "2021-02-16T06:10:13.282Z",
    "type": "completion"
   },
   {
    "id": "daa33f6dbb6a4a3787c77e376ef1cb52",
    "time": "2021-02-16T06:10:13.312Z",
    "type": "completion"
   },
   {
    "id": "1cb689a0641449379224f31fe01c4ff7",
    "time": "2021-02-16T06:10:13.314Z",
    "type": "completion"
   },
   {
    "id": "a7d3375da1b14ce688ae50d59dbd3c81",
    "time": "2021-02-16T06:10:13.404Z",
    "type": "completion"
   },
   {
    "id": "0aae26d0e5c149ac88f3f6d86336f5ec",
    "time": "2021-02-16T06:10:13.552Z",
    "type": "completion"
   },
   {
    "id": "e4453fb9543e4c7e82646f7d74353dff",
    "time": "2021-02-16T06:10:13.604Z",
    "type": "completion"
   },
   {
    "id": "800cba87cce9439f87ea6ea84f4c28f7",
    "time": "2021-02-16T06:10:13.645Z",
    "type": "completion"
   },
   {
    "id": "3a40b335c4384f50939ef6220ee739cc",
    "time": "2021-02-16T06:10:14.615Z",
    "type": "completion"
   },
   {
    "id": "7ce24217bbf3485b8b124d59fc4557ed",
    "time": "2021-02-16T06:10:14.644Z",
    "type": "completion"
   },
   {
    "code": "homoscedasticity_plots(pred_mod, res_mod)",
    "id": "a3dddc806d964e4c918e9955954b0ca9",
    "idx": 30,
    "time": "2021-02-17T04:09:45.185Z",
    "type": "execution"
   },
   {
    "id": "a3dddc806d964e4c918e9955954b0ca9",
    "time": "2021-02-17T04:09:45.796Z",
    "type": "completion"
   },
   {
    "code": "import numpy as np\nimport pandas as pd\nimport seaborn as sns\n\nimport matplotlib as mpl\nimport matplotlib.pyplot as plt\nfrom matplotlib.ticker import FuncFormatter\n\nimport statsmodels.stats.api as sms\nimport statsmodels.api as sm\nfrom scipy.stats import pearsonr\nfrom statsmodels.stats.outliers_influence import variance_inflation_factor \n\nfrom statsmodels.compat import lzip",
    "id": "51ef518ed14144c5832f23e3f072871e",
    "idx": 4,
    "time": "2021-02-17T04:09:49.803Z",
    "type": "execution"
   },
   {
    "id": "51ef518ed14144c5832f23e3f072871e",
    "time": "2021-02-17T04:09:53.451Z",
    "type": "completion"
   },
   {
    "code": "def homoscedasticity_plots(prediction, residuals):\n\n    fig, (ax1) = plt.subplots(1, 0, figsize=(16, 6))\n\n    ### Figure 1\n    x1 = prediction\n    y1 = residuals\n\n\n    ### Creates title for overall figure\n    plt.suptitle('Residuals vs. observed and fitted data')\n\n    ### Creates first plot\n    ax1.scatter(x1, y1)\n    ax1.set_xlabel('Predicted Values')\n    ax1.set_ylabel('Residuals')\n    ### Formats axis number to include thousands separator\n    ax1.get_xaxis().set_major_formatter(plt.FuncFormatter(lambda x1, loc: \"{:,}\".format(int(x1))))\n    ax1.get_yaxis().set_major_formatter(plt.FuncFormatter(lambda y1, loc: \"{:,}\".format(int(y1))))\n\n    plt.show()",
    "id": "a1e2ba7125594a47bc7ff4f762fa76ff",
    "idx": 28,
    "time": "2021-02-17T04:09:59.443Z",
    "type": "execution"
   },
   {
    "id": "a1e2ba7125594a47bc7ff4f762fa76ff",
    "time": "2021-02-17T04:09:59.560Z",
    "type": "completion"
   },
   {
    "code": "homoscedasticity_plots(pred_mod, res_mod)",
    "id": "a3dddc806d964e4c918e9955954b0ca9",
    "idx": 30,
    "time": "2021-02-17T04:10:02.185Z",
    "type": "execution"
   },
   {
    "id": "a3dddc806d964e4c918e9955954b0ca9",
    "time": "2021-02-17T04:10:02.887Z",
    "type": "completion"
   },
   {
    "code": "import numpy as np\nimport pandas as pd\nimport seaborn as sns\n\nimport matplotlib as mpl\nimport matplotlib.pyplot as plt\nfrom matplotlib.ticker import FuncFormatter\n\nimport statsmodels.stats.api as sms\nimport statsmodels.api as sm\nfrom scipy.stats import pearsonr\nfrom statsmodels.stats.outliers_influence import variance_inflation_factor \n\nfrom statsmodels.compat import lzip",
    "id": "51ef518ed14144c5832f23e3f072871e",
    "idx": 4,
    "time": "2021-02-17T04:10:16.701Z",
    "type": "execution"
   },
   {
    "code": "#Read in data\ndata = pd.read_csv('clean_property_data.csv')\ndata.head()",
    "id": "1ff44e177fdc486eb75a5f0da50fa676",
    "idx": 5,
    "time": "2021-02-17T04:10:16.705Z",
    "type": "execution"
   },
   {
    "code": "#Create a subdataframe, and create a binary variable called 'high_ses'\ndf = data[['price_000', 'pop_dens', 'ses', 'house', 'area_m2', 'num_bath', 'pcn_green', 'thefts']].copy()\ndf['high_ses'] = np.where((df['ses'] >= 5), 1,0)\ndf.head()",
    "id": "fff27b05210c4e70adf4cad6ff29e2bd",
    "idx": 6,
    "time": "2021-02-17T04:10:16.710Z",
    "type": "execution"
   },
   {
    "code": "#Define a list of independent variables of interest \nind_var = ['high_ses', 'house', 'area_m2', 'num_bath', 'pcn_green', 'thefts', 'pop_dens']\n\n#Define our explanatory and dependent variables\nx = df[ind_var].assign(Intercept = 1)\ny = df['price_000']\n\n#Let's save the results of the regression as model. This is be helpful for functions we will use below\nmodel = sm.OLS(y, x).fit()\n\nmodel.summary2()",
    "id": "417c33ce28214ae58cb0fc783e9d844d",
    "idx": 9,
    "time": "2021-02-17T04:10:16.713Z",
    "type": "execution"
   },
   {
    "code": "df[ind_var].corr()",
    "id": "25560b8545f7436d8e18a02442bf9237",
    "idx": 11,
    "time": "2021-02-17T04:10:16.715Z",
    "type": "execution"
   },
   {
    "code": "#Let's verify the shape of x in python\nprint((type(x)))\nx.head()",
    "id": "ba86283627d94ef29ede56a496fc3111",
    "idx": 13,
    "time": "2021-02-17T04:10:16.716Z",
    "type": "execution"
   },
   {
    "code": "#We will now obtain an array of our x values \nx_array = x.values\n\nprint(type(x_array))\nx_array",
    "id": "fc30ae95981744839d0b3146cf643029",
    "idx": 14,
    "time": "2021-02-17T04:10:16.717Z",
    "type": "execution"
   },
   {
    "code": "# We will now obtain a VIF for each of the coefficients in our model \nvif = [variance_inflation_factor(x_array, i) for i in range(x.shape[1])]\nvif",
    "id": "cc0db7d2c4f24e369c06ddb9caf44630",
    "idx": 15,
    "time": "2021-02-17T04:10:16.719Z",
    "type": "execution"
   },
   {
    "code": "#Let's label the VIF values that we obtained \npd.Series(vif, index = x.columns)",
    "id": "761429248eb64fb083f498f04fea67c5",
    "idx": 17,
    "time": "2021-02-17T04:10:16.720Z",
    "type": "execution"
   },
   {
    "code": "#To remember the coefffients we obtained we can use the following:\nmodel.params",
    "id": "a2e1771e859e4bdf8dbc7ea6a71dfa74",
    "idx": 19,
    "time": "2021-02-17T04:10:16.722Z",
    "type": "execution"
   },
   {
    "code": "x.head(1)",
    "id": "7d31bf0dfba241d886f05d0eb6bd0700",
    "idx": 21,
    "time": "2021-02-17T04:10:16.723Z",
    "type": "execution"
   },
   {
    "code": "#We can ask python to find the predicted value of y using this first line of our observed values \n\n#We can do this using our dataframe x:\npred = model.predict(x.iloc[0].values)\nprint(pred)\n\n#Or we can use our x_array\npred_1 = model.predict(x_array[0, :])\nprint(pred_1)",
    "id": "745647ee608f484a8875c9ef51bee331",
    "idx": 23,
    "time": "2021-02-17T04:10:16.725Z",
    "type": "execution"
   },
   {
    "code": "#How does this value compare to the observed value of price in our dataset\n\n#Let's call up the first line of the dataset\ndf.head(1)",
    "id": "7bf2f9281acc4ffeb46fd208a2a453f5",
    "idx": 24,
    "time": "2021-02-17T04:10:16.726Z",
    "type": "execution"
   },
   {
    "code": "#Let's now calculate the residual of our first prediction\nmodel.resid[0]",
    "id": "830e2f8886794dcd98719bd95a020207",
    "idx": 25,
    "time": "2021-02-17T04:10:16.728Z",
    "type": "execution"
   },
   {
    "code": "#We can also find the predictions and residuals for the entirety of our dataset\n\n#Let's see what our predictions are\npred_mod = model.predict()\nprint(pred_mod)\n\n#Let's see what our residuals are\nres_mod = model.resid\nprint(res_mod)",
    "id": "2ea1b2e29ded4a08960c813be508bcd1",
    "idx": 26,
    "time": "2021-02-17T04:10:16.730Z",
    "type": "execution"
   },
   {
    "code": "def homoscedasticity_plots(prediction, residuals):\n\n    fig, (ax1) = plt.subplots(1, 0, figsize=(16, 6))\n\n    ### Figure 1\n    x1 = prediction\n    y1 = residuals\n\n\n    ### Creates title for overall figure\n    plt.suptitle('Residuals vs. observed and fitted data')\n\n    ### Creates first plot\n    ax1.scatter(x1, y1)\n    ax1.set_xlabel('Predicted Values')\n    ax1.set_ylabel('Residuals')\n    ### Formats axis number to include thousands separator\n    ax1.get_xaxis().set_major_formatter(plt.FuncFormatter(lambda x1, loc: \"{:,}\".format(int(x1))))\n    ax1.get_yaxis().set_major_formatter(plt.FuncFormatter(lambda y1, loc: \"{:,}\".format(int(y1))))\n\n    plt.show()",
    "id": "a1e2ba7125594a47bc7ff4f762fa76ff",
    "idx": 28,
    "time": "2021-02-17T04:10:16.731Z",
    "type": "execution"
   },
   {
    "code": "homoscedasticity_plots(pred_mod, res_mod)",
    "id": "a3dddc806d964e4c918e9955954b0ca9",
    "idx": 30,
    "time": "2021-02-17T04:10:16.733Z",
    "type": "execution"
   },
   {
    "code": "#Let's create a list of tests \ntest_names = ['LMS', 'p-value', 'f-value', 'f p-value']\n\n#Call the Breusch-Pagan test in python\nresults = sms.het_breuschpagan(model.resid, model.model.exog)\n\n#Concatenate the test values to their names\nlzip(test_names, results)",
    "id": "405ad2ce19204534b1170222c7851437",
    "idx": 32,
    "time": "2021-02-17T04:10:16.734Z",
    "type": "execution"
   },
   {
    "id": "51ef518ed14144c5832f23e3f072871e",
    "time": "2021-02-17T04:10:22.943Z",
    "type": "completion"
   },
   {
    "id": "1ff44e177fdc486eb75a5f0da50fa676",
    "time": "2021-02-17T04:10:23.062Z",
    "type": "completion"
   },
   {
    "id": "fff27b05210c4e70adf4cad6ff29e2bd",
    "time": "2021-02-17T04:10:23.165Z",
    "type": "completion"
   },
   {
    "id": "417c33ce28214ae58cb0fc783e9d844d",
    "time": "2021-02-17T04:10:23.970Z",
    "type": "completion"
   },
   {
    "id": "25560b8545f7436d8e18a02442bf9237",
    "time": "2021-02-17T04:10:24.037Z",
    "type": "completion"
   },
   {
    "id": "ba86283627d94ef29ede56a496fc3111",
    "time": "2021-02-17T04:10:24.124Z",
    "type": "completion"
   },
   {
    "id": "fc30ae95981744839d0b3146cf643029",
    "time": "2021-02-17T04:10:24.203Z",
    "type": "completion"
   },
   {
    "id": "cc0db7d2c4f24e369c06ddb9caf44630",
    "time": "2021-02-17T04:10:24.792Z",
    "type": "completion"
   },
   {
    "id": "761429248eb64fb083f498f04fea67c5",
    "time": "2021-02-17T04:10:24.885Z",
    "type": "completion"
   },
   {
    "id": "a2e1771e859e4bdf8dbc7ea6a71dfa74",
    "time": "2021-02-17T04:10:24.956Z",
    "type": "completion"
   },
   {
    "id": "7d31bf0dfba241d886f05d0eb6bd0700",
    "time": "2021-02-17T04:10:25.056Z",
    "type": "completion"
   },
   {
    "id": "745647ee608f484a8875c9ef51bee331",
    "time": "2021-02-17T04:10:25.123Z",
    "type": "completion"
   },
   {
    "id": "7bf2f9281acc4ffeb46fd208a2a453f5",
    "time": "2021-02-17T04:10:25.218Z",
    "type": "completion"
   },
   {
    "id": "830e2f8886794dcd98719bd95a020207",
    "time": "2021-02-17T04:10:25.270Z",
    "type": "completion"
   },
   {
    "id": "2ea1b2e29ded4a08960c813be508bcd1",
    "time": "2021-02-17T04:10:25.305Z",
    "type": "completion"
   },
   {
    "id": "a1e2ba7125594a47bc7ff4f762fa76ff",
    "time": "2021-02-17T04:10:25.345Z",
    "type": "completion"
   },
   {
    "id": "a3dddc806d964e4c918e9955954b0ca9",
    "time": "2021-02-17T04:10:26.271Z",
    "type": "completion"
   },
   {
    "id": "405ad2ce19204534b1170222c7851437",
    "time": "2021-02-17T04:10:26.272Z",
    "type": "completion"
   },
   {
    "code": "def homoscedasticity_plots(prediction, residuals):\n\n    fig, ax1= plt.subplots(figsize=(16, 6))\n\n    ##Define x, and y \n    x = prediction\n    y = residuals\n\n    ### Create title for your figgure\n    plt.suptitle('Skedasticity Plot')\n\n    ### Creates first plot\n    ax.scatter(x, y)\n    ax.set_xlabel('Predicted Values')\n    ax.set_ylabel('Residuals')\n    ### Formats axis number to include thousands separator\n    ax.get_xaxis().set_major_formatter(plt.FuncFormatter(lambda x1, loc: \"{:,}\".format(int(x1))))\n    ax.get_yaxis().set_major_formatter(plt.FuncFormatter(lambda y1, loc: \"{:,}\".format(int(y1))))\n\n    plt.show()",
    "id": "a1e2ba7125594a47bc7ff4f762fa76ff",
    "idx": 28,
    "time": "2021-02-17T04:49:16.654Z",
    "type": "execution"
   },
   {
    "id": "a1e2ba7125594a47bc7ff4f762fa76ff",
    "time": "2021-02-17T04:49:16.837Z",
    "type": "completion"
   },
   {
    "code": "homoscedasticity_plots(pred_mod, res_mod)",
    "id": "a3dddc806d964e4c918e9955954b0ca9",
    "idx": 30,
    "time": "2021-02-17T04:49:18.659Z",
    "type": "execution"
   },
   {
    "id": "a3dddc806d964e4c918e9955954b0ca9",
    "time": "2021-02-17T04:49:19.732Z",
    "type": "completion"
   },
   {
    "code": "def homoscedasticity_plots(prediction, residuals):\n\n    fig, ax= plt.subplots(figsize=(16, 6))\n\n    ##Define x, and y \n    x = prediction\n    y = residuals\n\n    ### Create title for your figgure\n    plt.suptitle('Skedasticity Plot')\n\n    ### Creates first plot\n    ax.scatter(x, y)\n    ax.set_xlabel('Predicted Values')\n    ax.set_ylabel('Residuals')\n    ### Formats axis number to include thousands separator\n    ax.get_xaxis().set_major_formatter(plt.FuncFormatter(lambda x1, loc: \"{:,}\".format(int(x1))))\n    ax.get_yaxis().set_major_formatter(plt.FuncFormatter(lambda y1, loc: \"{:,}\".format(int(y1))))\n\n    plt.show()",
    "id": "a1e2ba7125594a47bc7ff4f762fa76ff",
    "idx": 28,
    "time": "2021-02-17T04:49:29.510Z",
    "type": "execution"
   },
   {
    "id": "a1e2ba7125594a47bc7ff4f762fa76ff",
    "time": "2021-02-17T04:49:29.609Z",
    "type": "completion"
   },
   {
    "code": "homoscedasticity_plots(pred_mod, res_mod)",
    "id": "a3dddc806d964e4c918e9955954b0ca9",
    "idx": 30,
    "time": "2021-02-17T04:49:31.263Z",
    "type": "execution"
   },
   {
    "id": "a3dddc806d964e4c918e9955954b0ca9",
    "time": "2021-02-17T04:49:32.388Z",
    "type": "completion"
   },
   {
    "code": "def homoscedasticity_plots(prediction, residuals):\n\n    fig, ax= plt.subplots(figsize=(16, 6))\n\n    ##Define x, and y \n    x = prediction\n    y = residuals\n\n    ### Create title for your figgure\n    plt.suptitle('Skedasticity Test Plot')\n\n    ### Creates first plot\n    ax.scatter(x, y)\n    ax.set_xlabel('Predicted Values')\n    ax.set_ylabel('Residuals')\n    ### Formats axis number to include thousands separator\n    ax.get_xaxis().set_major_formatter(plt.FuncFormatter(lambda x1, loc: \"{:,}\".format(int(x1))))\n    ax.get_yaxis().set_major_formatter(plt.FuncFormatter(lambda y1, loc: \"{:,}\".format(int(y1))))\n\n    plt.show()",
    "id": "a1e2ba7125594a47bc7ff4f762fa76ff",
    "idx": 28,
    "time": "2021-02-17T04:49:41.265Z",
    "type": "execution"
   },
   {
    "id": "a1e2ba7125594a47bc7ff4f762fa76ff",
    "time": "2021-02-17T04:49:41.357Z",
    "type": "completion"
   },
   {
    "code": "def homoscedasticity_plots(prediction, residuals):\n\n    fig, ax= plt.subplots(figsize=(5, 8))\n\n    ##Define x, and y \n    x = prediction\n    y = residuals\n\n    ### Create title for your figgure\n    plt.suptitle('Skedasticity Test Plot')\n\n    ### Creates first plot\n    ax.scatter(x, y)\n    ax.set_xlabel('Predicted Values')\n    ax.set_ylabel('Residuals')\n    ### Formats axis number to include thousands separator\n    ax.get_xaxis().set_major_formatter(plt.FuncFormatter(lambda x1, loc: \"{:,}\".format(int(x1))))\n    ax.get_yaxis().set_major_formatter(plt.FuncFormatter(lambda y1, loc: \"{:,}\".format(int(y1))))\n\n    plt.show()",
    "id": "a1e2ba7125594a47bc7ff4f762fa76ff",
    "idx": 28,
    "time": "2021-02-17T04:50:00.685Z",
    "type": "execution"
   },
   {
    "id": "a1e2ba7125594a47bc7ff4f762fa76ff",
    "time": "2021-02-17T04:50:00.796Z",
    "type": "completion"
   },
   {
    "code": "homoscedasticity_plots(pred_mod, res_mod)",
    "id": "a3dddc806d964e4c918e9955954b0ca9",
    "idx": 30,
    "time": "2021-02-17T04:50:02.242Z",
    "type": "execution"
   },
   {
    "id": "a3dddc806d964e4c918e9955954b0ca9",
    "time": "2021-02-17T04:50:03.440Z",
    "type": "completion"
   },
   {
    "code": "def homoscedasticity_plots(prediction, residuals):\n\n    fig, ax= plt.subplots(figsize=(5, 6))\n\n    ##Define x, and y \n    x = prediction\n    y = residuals\n\n    ### Create title for your figgure\n    plt.suptitle('Skedasticity Test Plot')\n\n    ### Creates first plot\n    ax.scatter(x, y)\n    ax.set_xlabel('Predicted Values')\n    ax.set_ylabel('Residuals')\n    ### Formats axis number to include thousands separator\n    ax.get_xaxis().set_major_formatter(plt.FuncFormatter(lambda x1, loc: \"{:,}\".format(int(x1))))\n    ax.get_yaxis().set_major_formatter(plt.FuncFormatter(lambda y1, loc: \"{:,}\".format(int(y1))))\n\n    plt.show()",
    "id": "a1e2ba7125594a47bc7ff4f762fa76ff",
    "idx": 28,
    "time": "2021-02-17T04:50:08.326Z",
    "type": "execution"
   },
   {
    "id": "a1e2ba7125594a47bc7ff4f762fa76ff",
    "time": "2021-02-17T04:50:08.885Z",
    "type": "completion"
   },
   {
    "code": "homoscedasticity_plots(pred_mod, res_mod)",
    "id": "a3dddc806d964e4c918e9955954b0ca9",
    "idx": 30,
    "time": "2021-02-17T04:50:11.399Z",
    "type": "execution"
   },
   {
    "id": "a3dddc806d964e4c918e9955954b0ca9",
    "time": "2021-02-17T04:50:12.671Z",
    "type": "completion"
   },
   {
    "code": "def homoscedasticity_plots(prediction, residuals):\n\n    fig, ax= plt.subplots(figsize=(6, 6))\n\n    ##Define x, and y \n    x = prediction\n    y = residuals\n\n    ### Create title for your figgure\n    plt.suptitle('Skedasticity Test Plot')\n\n    ### Creates first plot\n    ax.scatter(x, y)\n    ax.set_xlabel('Predicted Values')\n    ax.set_ylabel('Residuals')\n    ### Formats axis number to include thousands separator\n    ax.get_xaxis().set_major_formatter(plt.FuncFormatter(lambda x1, loc: \"{:,}\".format(int(x1))))\n    ax.get_yaxis().set_major_formatter(plt.FuncFormatter(lambda y1, loc: \"{:,}\".format(int(y1))))\n\n    plt.show()",
    "id": "a1e2ba7125594a47bc7ff4f762fa76ff",
    "idx": 28,
    "time": "2021-02-17T04:50:20.720Z",
    "type": "execution"
   },
   {
    "id": "a1e2ba7125594a47bc7ff4f762fa76ff",
    "time": "2021-02-17T04:50:20.838Z",
    "type": "completion"
   },
   {
    "code": "homoscedasticity_plots(pred_mod, res_mod)",
    "id": "a3dddc806d964e4c918e9955954b0ca9",
    "idx": 30,
    "time": "2021-02-17T04:50:21.990Z",
    "type": "execution"
   },
   {
    "id": "a3dddc806d964e4c918e9955954b0ca9",
    "time": "2021-02-17T04:50:23.131Z",
    "type": "completion"
   },
   {
    "code": "def homoscedasticity_plots(prediction, residuals):\n\n    fig, ax= plt.subplots(figsize=(10, 6))\n\n    ##Define x, and y \n    x = prediction\n    y = residuals\n\n    ### Create title for your figgure\n    plt.suptitle('Skedasticity Test Plot')\n\n    ### Creates first plot\n    ax.scatter(x, y)\n    ax.set_xlabel('Predicted Values')\n    ax.set_ylabel('Residuals')\n    ### Formats axis number to include thousands separator\n    ax.get_xaxis().set_major_formatter(plt.FuncFormatter(lambda x1, loc: \"{:,}\".format(int(x1))))\n    ax.get_yaxis().set_major_formatter(plt.FuncFormatter(lambda y1, loc: \"{:,}\".format(int(y1))))\n\n    plt.show()",
    "id": "a1e2ba7125594a47bc7ff4f762fa76ff",
    "idx": 28,
    "time": "2021-02-17T04:50:28.414Z",
    "type": "execution"
   },
   {
    "id": "a1e2ba7125594a47bc7ff4f762fa76ff",
    "time": "2021-02-17T04:50:28.515Z",
    "type": "completion"
   },
   {
    "code": "homoscedasticity_plots(pred_mod, res_mod)",
    "id": "a3dddc806d964e4c918e9955954b0ca9",
    "idx": 30,
    "time": "2021-02-17T04:50:32.893Z",
    "type": "execution"
   },
   {
    "id": "a3dddc806d964e4c918e9955954b0ca9",
    "time": "2021-02-17T04:50:33.772Z",
    "type": "completion"
   },
   {
    "code": "def homoskedasticity_plots(prediction, residuals):\n\n    fig, ax= plt.subplots(figsize=(10, 6))\n\n    ##Define x, and y \n    x = prediction\n    y = residuals\n\n    ### Create title for your figgure\n    plt.suptitle('Homokedasticity Test Plot')\n\n    ### Creates first plot\n    ax.scatter(x, y)\n    ax.set_xlabel('Predicted Values')\n    ax.set_ylabel('Residuals')\n    ### Formats axis number to include thousands separator\n    ax.get_xaxis().set_major_formatter(plt.FuncFormatter(lambda x1, loc: \"{:,}\".format(int(x1))))\n    ax.get_yaxis().set_major_formatter(plt.FuncFormatter(lambda y1, loc: \"{:,}\".format(int(y1))))\n\n    plt.show()",
    "id": "a1e2ba7125594a47bc7ff4f762fa76ff",
    "idx": 28,
    "time": "2021-02-17T04:52:00.853Z",
    "type": "execution"
   },
   {
    "id": "a1e2ba7125594a47bc7ff4f762fa76ff",
    "time": "2021-02-17T04:52:00.945Z",
    "type": "completion"
   },
   {
    "code": "homoskedasticity_plots(pred_mod, res_mod)",
    "id": "a3dddc806d964e4c918e9955954b0ca9",
    "idx": 29,
    "time": "2021-02-17T04:52:02.174Z",
    "type": "execution"
   },
   {
    "id": "a3dddc806d964e4c918e9955954b0ca9",
    "time": "2021-02-17T04:52:02.851Z",
    "type": "completion"
   },
   {
    "code": "#Run your regression and introduce robust errors within your code \nmodel = sm.OLS(y, x).fit(cov_type='HC0') ##cov_type='HC0' introduces robust errors\nmodel.summary2()",
    "id": "b46f8c6c707e4d96a819a9a6b6ff09e0",
    "idx": 33,
    "time": "2021-02-17T04:58:35.282Z",
    "type": "execution"
   },
   {
    "id": "b46f8c6c707e4d96a819a9a6b6ff09e0",
    "time": "2021-02-17T04:58:35.821Z",
    "type": "completion"
   },
   {
    "code": "import numpy as np\nimport pandas as pd\nimport seaborn as sns\n\nimport matplotlib as mpl\nimport matplotlib.pyplot as plt\nfrom matplotlib.ticker import FuncFormatter\n\nimport statsmodels.stats.api as sms\nimport statsmodels.api as sm\nfrom scipy.stats import pearsonr\nfrom statsmodels.stats.outliers_influence import variance_inflation_factor \n\nfrom statsmodels.compat import lzip",
    "id": "5607c0242de9445c93b0907ae1c013b0",
    "idx": 3,
    "time": "2021-02-17T05:02:17.383Z",
    "type": "execution"
   },
   {
    "code": "#Read in data\ndata = pd.read_csv('clean_property_data.csv')\ndata.head()",
    "id": "0fc8536a756b412c8c8284a04fc0c297",
    "idx": 4,
    "time": "2021-02-17T05:02:17.387Z",
    "type": "execution"
   },
   {
    "code": "#Create a subdataframe, and create a binary variable called 'high_ses'\ndf = data[['price_000', 'pop_dens', 'ses', 'house', 'area_m2', 'num_bath', 'pcn_green', 'thefts']].copy()\ndf['high_ses'] = np.where((df['ses'] >= 5), 1,0)\ndf.head()",
    "id": "bde9d2c8fbf34dddb29b550f67090c28",
    "idx": 5,
    "time": "2021-02-17T05:02:17.388Z",
    "type": "execution"
   },
   {
    "code": "#Define a list of independent variables of interest \nind_var = ['high_ses', 'house', 'area_m2', 'num_bath', 'pcn_green', 'thefts', 'pop_dens']\n\n#Define our explanatory and dependent variables\nx = df[ind_var].assign(Intercept = 1)\ny = df['price_000']\n\n#Let's save the results of the regression as model. This is be helpful for functions we will use below\nmodel = sm.OLS(y, x).fit()\n\nmodel.summary2()",
    "id": "83028ca8797c48a0b615f0a2bd8ccafd",
    "idx": 8,
    "time": "2021-02-17T05:02:17.390Z",
    "type": "execution"
   },
   {
    "code": "df[ind_var].corr()",
    "id": "a02a6be5eb0946338e53ae912514c23c",
    "idx": 10,
    "time": "2021-02-17T05:02:17.392Z",
    "type": "execution"
   },
   {
    "code": "#Let's verify the shape of x in python\nprint((type(x)))\nx.head()",
    "id": "0ac1380ea7dd47a997dafe9ca84ebb66",
    "idx": 12,
    "time": "2021-02-17T05:02:17.394Z",
    "type": "execution"
   },
   {
    "code": "#We will now obtain an array of our x values \nx_array = x.values\n\nprint(type(x_array))\nx_array",
    "id": "499edf9322cb43fe8337e9249fdd37f1",
    "idx": 13,
    "time": "2021-02-17T05:02:17.395Z",
    "type": "execution"
   },
   {
    "code": "# We will now obtain a VIF for each of the coefficients in our model \nvif = [variance_inflation_factor(x_array, i) for i in range(x.shape[1])]\nvif",
    "id": "ab17a04a5d9e48a58784761bc33cd50b",
    "idx": 14,
    "time": "2021-02-17T05:02:17.397Z",
    "type": "execution"
   },
   {
    "code": "#Let's label the VIF values that we obtained \npd.Series(vif, index = x.columns)",
    "id": "5822ec0ca97943cca4eaaff46b10e98c",
    "idx": 16,
    "time": "2021-02-17T05:02:17.398Z",
    "type": "execution"
   },
   {
    "code": "#To remember the coefffients we obtained we can use the following:\nmodel.params",
    "id": "6035b2cedea24f53a5117cd8a8c26208",
    "idx": 18,
    "time": "2021-02-17T05:02:17.401Z",
    "type": "execution"
   },
   {
    "code": "x.head(1)",
    "id": "146b6aeee3a54268b3e9e6fb9412e0bd",
    "idx": 20,
    "time": "2021-02-17T05:02:17.402Z",
    "type": "execution"
   },
   {
    "code": "#We can ask python to find the predicted value of y using this first line of our observed values \n\n#We can do this using our dataframe x:\npred = model.predict(x.iloc[0].values)\nprint(pred)\n\n#Or we can use our x_array\npred_1 = model.predict(x_array[0, :])\nprint(pred_1)",
    "id": "b996a882496442798353977ac7a9a2b9",
    "idx": 22,
    "time": "2021-02-17T05:02:17.403Z",
    "type": "execution"
   },
   {
    "code": "#How does this value compare to the observed value of price in our dataset\n\n#Let's call up the first line of the dataset\ndf.head(1)",
    "id": "44e45f73115140a98628fae7f1fbd6db",
    "idx": 23,
    "time": "2021-02-17T05:02:17.405Z",
    "type": "execution"
   },
   {
    "code": "#Let's now calculate the residual of our first prediction\nmodel.resid[0]",
    "id": "18b03848888a44f2b72c0f1c2226c7e4",
    "idx": 24,
    "time": "2021-02-17T05:02:17.406Z",
    "type": "execution"
   },
   {
    "code": "#We can also find the predictions and residuals for the entirety of our dataset\n\n#Let's see what our predictions are\npred_mod = model.predict()\nprint(pred_mod)\n\n#Let's see what our residuals are\nres_mod = model.resid\nprint(res_mod)",
    "id": "4d1c8380073749dd8469dddefba963f4",
    "idx": 25,
    "time": "2021-02-17T05:02:17.407Z",
    "type": "execution"
   },
   {
    "code": "def homoskedasticity_plots(prediction, residuals):\n\n    fig, ax= plt.subplots(figsize=(10, 6))\n\n    ##Define x, and y \n    x = prediction\n    y = residuals\n\n    ### Create title for your figgure\n    plt.suptitle('Homokedasticity Test Plot')\n\n    ### Creates first plot\n    ax.scatter(x, y)\n    ax.set_xlabel('Predicted Values')\n    ax.set_ylabel('Residuals')\n    ### Formats axis number to include thousands separator\n    ax.get_xaxis().set_major_formatter(plt.FuncFormatter(lambda x1, loc: \"{:,}\".format(int(x1))))\n    ax.get_yaxis().set_major_formatter(plt.FuncFormatter(lambda y1, loc: \"{:,}\".format(int(y1))))\n\n    plt.show()",
    "id": "f97999fced6d403b9e3cd81724a05b80",
    "idx": 27,
    "time": "2021-02-17T05:02:17.408Z",
    "type": "execution"
   },
   {
    "code": "homoskedasticity_plots(pred_mod, res_mod)",
    "id": "53004b09384d43818b93411f114d365f",
    "idx": 28,
    "time": "2021-02-17T05:02:17.410Z",
    "type": "execution"
   },
   {
    "code": "#Let's create a list of tests \ntest_names = ['LMS', 'p-value', 'f-value', 'f p-value']\n\n#Call the Breusch-Pagan test in python\nresults = sms.het_breuschpagan(model.resid, model.model.exog)\n\n#Concatenate the test values to their names\nlzip(test_names, results)",
    "id": "683e5cbc083848ed83c3be3c8f066db8",
    "idx": 30,
    "time": "2021-02-17T05:02:17.411Z",
    "type": "execution"
   },
   {
    "code": "#Run your regression and introduce robust errors within your code \nmodel = sm.OLS(y, x).fit(cov_type='HC0') ##cov_type='HC0' introduces robust errors\nmodel.summary2()",
    "id": "b46f8c6c707e4d96a819a9a6b6ff09e0",
    "idx": 32,
    "time": "2021-02-17T05:02:17.414Z",
    "type": "execution"
   },
   {
    "id": "5607c0242de9445c93b0907ae1c013b0",
    "time": "2021-02-17T05:02:23.484Z",
    "type": "completion"
   },
   {
    "id": "0fc8536a756b412c8c8284a04fc0c297",
    "time": "2021-02-17T05:02:23.701Z",
    "type": "completion"
   },
   {
    "id": "bde9d2c8fbf34dddb29b550f67090c28",
    "time": "2021-02-17T05:02:23.842Z",
    "type": "completion"
   },
   {
    "id": "83028ca8797c48a0b615f0a2bd8ccafd",
    "time": "2021-02-17T05:02:24.543Z",
    "type": "completion"
   },
   {
    "id": "a02a6be5eb0946338e53ae912514c23c",
    "time": "2021-02-17T05:02:24.573Z",
    "type": "completion"
   },
   {
    "id": "0ac1380ea7dd47a997dafe9ca84ebb66",
    "time": "2021-02-17T05:02:24.588Z",
    "type": "completion"
   },
   {
    "id": "499edf9322cb43fe8337e9249fdd37f1",
    "time": "2021-02-17T05:02:24.605Z",
    "type": "completion"
   },
   {
    "id": "ab17a04a5d9e48a58784761bc33cd50b",
    "time": "2021-02-17T05:02:24.951Z",
    "type": "completion"
   },
   {
    "id": "5822ec0ca97943cca4eaaff46b10e98c",
    "time": "2021-02-17T05:02:24.954Z",
    "type": "completion"
   },
   {
    "id": "6035b2cedea24f53a5117cd8a8c26208",
    "time": "2021-02-17T05:02:24.992Z",
    "type": "completion"
   },
   {
    "id": "146b6aeee3a54268b3e9e6fb9412e0bd",
    "time": "2021-02-17T05:02:25.089Z",
    "type": "completion"
   },
   {
    "id": "b996a882496442798353977ac7a9a2b9",
    "time": "2021-02-17T05:02:25.170Z",
    "type": "completion"
   },
   {
    "id": "44e45f73115140a98628fae7f1fbd6db",
    "time": "2021-02-17T05:02:25.258Z",
    "type": "completion"
   },
   {
    "id": "18b03848888a44f2b72c0f1c2226c7e4",
    "time": "2021-02-17T05:02:25.414Z",
    "type": "completion"
   },
   {
    "id": "4d1c8380073749dd8469dddefba963f4",
    "time": "2021-02-17T05:02:25.767Z",
    "type": "completion"
   },
   {
    "id": "f97999fced6d403b9e3cd81724a05b80",
    "time": "2021-02-17T05:02:25.769Z",
    "type": "completion"
   },
   {
    "id": "53004b09384d43818b93411f114d365f",
    "time": "2021-02-17T05:02:27.078Z",
    "type": "completion"
   },
   {
    "id": "683e5cbc083848ed83c3be3c8f066db8",
    "time": "2021-02-17T05:02:27.177Z",
    "type": "completion"
   },
   {
    "id": "b46f8c6c707e4d96a819a9a6b6ff09e0",
    "time": "2021-02-17T05:02:28.026Z",
    "type": "completion"
   },
   {
    "code": "import numpy as np\nimport pandas as pd\nimport seaborn as sns\n\nimport matplotlib as mpl\nimport matplotlib.pyplot as plt\nfrom matplotlib.ticker import FuncFormatter",
    "id": "2adc80aadd384bef887e63cc4616e8a5",
    "idx": 3,
    "time": "2021-02-17T05:45:33.141Z",
    "type": "execution"
   },
   {
    "code": "import statsmodels.stats.api as sms\nimport statsmodels.api as sm\nfrom scipy.stats import pearsonr\nfrom statsmodels.stats.outliers_influence import variance_inflation_factor \n\nfrom statsmodels.compat import lzip",
    "id": "69015ac00ab344bda1bd895e1673b2d3",
    "idx": 4,
    "time": "2021-02-17T05:45:33.145Z",
    "type": "execution"
   },
   {
    "code": "#Read in data\ndata = pd.read_csv('clean_property_data.csv')\ndata.head()",
    "id": "0fc8536a756b412c8c8284a04fc0c297",
    "idx": 5,
    "time": "2021-02-17T05:45:33.148Z",
    "type": "execution"
   },
   {
    "code": "#Create a subdataframe, and create a binary variable called 'high_ses'\ndf = data[['price_000', 'pop_dens', 'ses', 'house', 'area_m2', 'num_bath', 'pcn_green', 'thefts']].copy()\ndf['high_ses'] = np.where((df['ses'] >= 5), 1,0)\ndf.head()",
    "id": "bde9d2c8fbf34dddb29b550f67090c28",
    "idx": 6,
    "time": "2021-02-17T05:45:33.149Z",
    "type": "execution"
   },
   {
    "code": "#Define a list of independent variables of interest \nind_var = ['high_ses', 'house', 'area_m2', 'num_bath', 'pcn_green', 'thefts', 'pop_dens']\n\n#Define our explanatory and dependent variables\nx = df[ind_var].assign(Intercept = 1)\ny = df['price_000']\n\n#Let's save the results of the regression as model. This is be helpful for functions we will use below\nmodel = sm.OLS(y, x).fit()\n\nmodel.summary2()",
    "id": "83028ca8797c48a0b615f0a2bd8ccafd",
    "idx": 9,
    "time": "2021-02-17T05:45:33.151Z",
    "type": "execution"
   },
   {
    "code": "df[ind_var].corr()",
    "id": "a02a6be5eb0946338e53ae912514c23c",
    "idx": 11,
    "time": "2021-02-17T05:45:33.153Z",
    "type": "execution"
   },
   {
    "code": "#Let's verify the shape of x in python\nprint((type(x)))\nx.head()",
    "id": "0ac1380ea7dd47a997dafe9ca84ebb66",
    "idx": 13,
    "time": "2021-02-17T05:45:33.155Z",
    "type": "execution"
   },
   {
    "code": "#We will now obtain an array of our x values \nx_array = x.values\n\nprint(type(x_array))\nx_array",
    "id": "499edf9322cb43fe8337e9249fdd37f1",
    "idx": 14,
    "time": "2021-02-17T05:45:33.156Z",
    "type": "execution"
   },
   {
    "code": "# We will now obtain a VIF for each of the coefficients in our model \nvif = [variance_inflation_factor(x_array, i) for i in range(x.shape[1])]\nvif",
    "id": "ab17a04a5d9e48a58784761bc33cd50b",
    "idx": 15,
    "time": "2021-02-17T05:45:33.158Z",
    "type": "execution"
   },
   {
    "code": "#Let's label the VIF values that we obtained \npd.Series(vif, index = x.columns)",
    "id": "5822ec0ca97943cca4eaaff46b10e98c",
    "idx": 17,
    "time": "2021-02-17T05:45:33.159Z",
    "type": "execution"
   },
   {
    "code": "#To remember the coefffients we obtained we can use the following:\nmodel.params",
    "id": "6035b2cedea24f53a5117cd8a8c26208",
    "idx": 19,
    "time": "2021-02-17T05:45:33.160Z",
    "type": "execution"
   },
   {
    "code": "x.head(1)",
    "id": "146b6aeee3a54268b3e9e6fb9412e0bd",
    "idx": 21,
    "time": "2021-02-17T05:45:33.162Z",
    "type": "execution"
   },
   {
    "code": "#We can ask python to find the predicted value of y using this first line of our observed values \n\n#We can do this using our dataframe x:\npred = model.predict(x.iloc[0].values)\nprint(pred)\n\n#Or we can use our x_array\npred_1 = model.predict(x_array[0, :])\nprint(pred_1)",
    "id": "b996a882496442798353977ac7a9a2b9",
    "idx": 23,
    "time": "2021-02-17T05:45:33.163Z",
    "type": "execution"
   },
   {
    "code": "#How does this value compare to the observed value of price in our dataset\n\n#Let's call up the first line of the dataset\ndf.head(1)",
    "id": "44e45f73115140a98628fae7f1fbd6db",
    "idx": 24,
    "time": "2021-02-17T05:45:33.165Z",
    "type": "execution"
   },
   {
    "code": "#Let's now calculate the residual of our first prediction\nmodel.resid[0]",
    "id": "18b03848888a44f2b72c0f1c2226c7e4",
    "idx": 25,
    "time": "2021-02-17T05:45:33.166Z",
    "type": "execution"
   },
   {
    "code": "#We can also find the predictions and residuals for the entirety of our dataset\n\n#Let's see what our predictions are\npred_mod = model.predict()\nprint(pred_mod)\n\n#Let's see what our residuals are\nres_mod = model.resid\nprint(res_mod)",
    "id": "4d1c8380073749dd8469dddefba963f4",
    "idx": 26,
    "time": "2021-02-17T05:45:33.168Z",
    "type": "execution"
   },
   {
    "code": "def homoskedasticity_plots(prediction, residuals):\n\n    fig, ax= plt.subplots(figsize=(10, 6))\n\n    ##Define x, and y \n    x = prediction\n    y = residuals\n\n    ### Create title for your figgure\n    plt.suptitle('Homokedasticity Test Plot')\n\n    ### Creates first plot\n    ax.scatter(x, y)\n    ax.set_xlabel('Predicted Values')\n    ax.set_ylabel('Residuals')\n    ### Formats axis number to include thousands separator\n    ax.get_xaxis().set_major_formatter(plt.FuncFormatter(lambda x1, loc: \"{:,}\".format(int(x1))))\n    ax.get_yaxis().set_major_formatter(plt.FuncFormatter(lambda y1, loc: \"{:,}\".format(int(y1))))\n\n    plt.show()",
    "id": "f97999fced6d403b9e3cd81724a05b80",
    "idx": 28,
    "time": "2021-02-17T05:45:33.169Z",
    "type": "execution"
   },
   {
    "code": "homoskedasticity_plots(pred_mod, res_mod)",
    "id": "53004b09384d43818b93411f114d365f",
    "idx": 29,
    "time": "2021-02-17T05:45:33.171Z",
    "type": "execution"
   },
   {
    "code": "#Let's create a list of tests \ntest_names = ['LMS', 'p-value', 'f-value', 'f p-value']\n\n#Call the Breusch-Pagan test in python\nresults = sms.het_breuschpagan(model.resid, model.model.exog)\n\n#Concatenate the test values to their names\nlzip(test_names, results)",
    "id": "683e5cbc083848ed83c3be3c8f066db8",
    "idx": 31,
    "time": "2021-02-17T05:45:33.172Z",
    "type": "execution"
   },
   {
    "code": "#Run your regression and introduce robust errors within your code \nmodel = sm.OLS(y, x).fit(cov_type='HC0') ##cov_type='HC0' introduces robust errors\nmodel.summary2()",
    "id": "b46f8c6c707e4d96a819a9a6b6ff09e0",
    "idx": 33,
    "time": "2021-02-17T05:45:33.174Z",
    "type": "execution"
   },
   {
    "id": "2adc80aadd384bef887e63cc4616e8a5",
    "time": "2021-02-17T05:45:37.728Z",
    "type": "completion"
   },
   {
    "id": "69015ac00ab344bda1bd895e1673b2d3",
    "time": "2021-02-17T05:45:39.469Z",
    "type": "completion"
   },
   {
    "id": "0fc8536a756b412c8c8284a04fc0c297",
    "time": "2021-02-17T05:45:39.810Z",
    "type": "completion"
   },
   {
    "id": "83028ca8797c48a0b615f0a2bd8ccafd",
    "time": "2021-02-17T05:45:42.510Z",
    "type": "completion"
   },
   {
    "id": "a02a6be5eb0946338e53ae912514c23c",
    "time": "2021-02-17T05:45:42.549Z",
    "type": "completion"
   },
   {
    "id": "0ac1380ea7dd47a997dafe9ca84ebb66",
    "time": "2021-02-17T05:45:42.550Z",
    "type": "completion"
   },
   {
    "code": "import numpy as np\nimport pandas as pd\nimport seaborn as sns\n\nimport matplotlib as mpl\nimport matplotlib.pyplot as plt\nfrom matplotlib.ticker import FuncFormatter",
    "id": "2adc80aadd384bef887e63cc4616e8a5",
    "idx": 3,
    "time": "2021-02-17T05:45:44.707Z",
    "type": "execution"
   },
   {
    "code": "import statsmodels.stats.api as sms\nimport statsmodels.api as sm\nfrom scipy.stats import pearsonr\nfrom statsmodels.stats.outliers_influence import variance_inflation_factor \n\nfrom statsmodels.compat import lzip",
    "id": "69015ac00ab344bda1bd895e1673b2d3",
    "idx": 4,
    "time": "2021-02-17T05:45:44.708Z",
    "type": "execution"
   },
   {
    "code": "#Read in data\ndata = pd.read_csv('clean_property_data.csv')\ndata.head()",
    "id": "0fc8536a756b412c8c8284a04fc0c297",
    "idx": 5,
    "time": "2021-02-17T05:45:44.710Z",
    "type": "execution"
   },
   {
    "code": "#Create a subdataframe, and create a binary variable called 'high_ses'\ndf = data[['price_000', 'pop_dens', 'ses', 'house', 'area_m2', 'num_bath', 'pcn_green', 'thefts']].copy()\ndf['high_ses'] = np.where((df['ses'] >= 5), 1,0)\ndf.head()",
    "id": "bde9d2c8fbf34dddb29b550f67090c28",
    "idx": 6,
    "time": "2021-02-17T05:45:44.711Z",
    "type": "execution"
   },
   {
    "code": "#Define a list of independent variables of interest \nind_var = ['high_ses', 'house', 'area_m2', 'num_bath', 'pcn_green', 'thefts', 'pop_dens']\n\n#Define our explanatory and dependent variables\nx = df[ind_var].assign(Intercept = 1)\ny = df['price_000']\n\n#Let's save the results of the regression as model. This is be helpful for functions we will use below\nmodel = sm.OLS(y, x).fit()\n\nmodel.summary2()",
    "id": "83028ca8797c48a0b615f0a2bd8ccafd",
    "idx": 9,
    "time": "2021-02-17T05:45:44.712Z",
    "type": "execution"
   },
   {
    "code": "df[ind_var].corr()",
    "id": "a02a6be5eb0946338e53ae912514c23c",
    "idx": 11,
    "time": "2021-02-17T05:45:44.713Z",
    "type": "execution"
   },
   {
    "code": "#Let's verify the shape of x in python\nprint((type(x)))\nx.head()",
    "id": "0ac1380ea7dd47a997dafe9ca84ebb66",
    "idx": 13,
    "time": "2021-02-17T05:45:44.714Z",
    "type": "execution"
   },
   {
    "code": "#We will now obtain an array of our x values \nx_array = x.values\n\nprint(type(x_array))\nx_array",
    "id": "499edf9322cb43fe8337e9249fdd37f1",
    "idx": 14,
    "time": "2021-02-17T05:45:44.715Z",
    "type": "execution"
   },
   {
    "code": "# We will now obtain a VIF for each of the coefficients in our model \nvif = [variance_inflation_factor(x_array, i) for i in range(x.shape[1])]\nvif",
    "id": "ab17a04a5d9e48a58784761bc33cd50b",
    "idx": 15,
    "time": "2021-02-17T05:45:44.717Z",
    "type": "execution"
   },
   {
    "code": "#Let's label the VIF values that we obtained \npd.Series(vif, index = x.columns)",
    "id": "5822ec0ca97943cca4eaaff46b10e98c",
    "idx": 17,
    "time": "2021-02-17T05:45:44.718Z",
    "type": "execution"
   },
   {
    "code": "#To remember the coefffients we obtained we can use the following:\nmodel.params",
    "id": "6035b2cedea24f53a5117cd8a8c26208",
    "idx": 19,
    "time": "2021-02-17T05:45:44.720Z",
    "type": "execution"
   },
   {
    "code": "x.head(1)",
    "id": "146b6aeee3a54268b3e9e6fb9412e0bd",
    "idx": 21,
    "time": "2021-02-17T05:45:44.721Z",
    "type": "execution"
   },
   {
    "code": "#We can ask python to find the predicted value of y using this first line of our observed values \n\n#We can do this using our dataframe x:\npred = model.predict(x.iloc[0].values)\nprint(pred)\n\n#Or we can use our x_array\npred_1 = model.predict(x_array[0, :])\nprint(pred_1)",
    "id": "b996a882496442798353977ac7a9a2b9",
    "idx": 23,
    "time": "2021-02-17T05:45:44.722Z",
    "type": "execution"
   },
   {
    "code": "#How does this value compare to the observed value of price in our dataset\n\n#Let's call up the first line of the dataset\ndf.head(1)",
    "id": "44e45f73115140a98628fae7f1fbd6db",
    "idx": 24,
    "time": "2021-02-17T05:45:44.724Z",
    "type": "execution"
   },
   {
    "code": "#Let's now calculate the residual of our first prediction\nmodel.resid[0]",
    "id": "18b03848888a44f2b72c0f1c2226c7e4",
    "idx": 25,
    "time": "2021-02-17T05:45:44.725Z",
    "type": "execution"
   },
   {
    "code": "#We can also find the predictions and residuals for the entirety of our dataset\n\n#Let's see what our predictions are\npred_mod = model.predict()\nprint(pred_mod)\n\n#Let's see what our residuals are\nres_mod = model.resid\nprint(res_mod)",
    "id": "4d1c8380073749dd8469dddefba963f4",
    "idx": 26,
    "time": "2021-02-17T05:45:44.727Z",
    "type": "execution"
   },
   {
    "code": "def homoskedasticity_plots(prediction, residuals):\n\n    fig, ax= plt.subplots(figsize=(10, 6))\n\n    ##Define x, and y \n    x = prediction\n    y = residuals\n\n    ### Create title for your figgure\n    plt.suptitle('Homokedasticity Test Plot')\n\n    ### Creates first plot\n    ax.scatter(x, y)\n    ax.set_xlabel('Predicted Values')\n    ax.set_ylabel('Residuals')\n    ### Formats axis number to include thousands separator\n    ax.get_xaxis().set_major_formatter(plt.FuncFormatter(lambda x1, loc: \"{:,}\".format(int(x1))))\n    ax.get_yaxis().set_major_formatter(plt.FuncFormatter(lambda y1, loc: \"{:,}\".format(int(y1))))\n\n    plt.show()",
    "id": "f97999fced6d403b9e3cd81724a05b80",
    "idx": 28,
    "time": "2021-02-17T05:45:44.728Z",
    "type": "execution"
   },
   {
    "code": "homoskedasticity_plots(pred_mod, res_mod)",
    "id": "53004b09384d43818b93411f114d365f",
    "idx": 29,
    "time": "2021-02-17T05:45:44.729Z",
    "type": "execution"
   },
   {
    "code": "#Let's create a list of tests \ntest_names = ['LMS', 'p-value', 'f-value', 'f p-value']\n\n#Call the Breusch-Pagan test in python\nresults = sms.het_breuschpagan(model.resid, model.model.exog)\n\n#Concatenate the test values to their names\nlzip(test_names, results)",
    "id": "683e5cbc083848ed83c3be3c8f066db8",
    "idx": 31,
    "time": "2021-02-17T05:45:44.730Z",
    "type": "execution"
   },
   {
    "code": "#Run your regression and introduce robust errors within your code \nmodel = sm.OLS(y, x).fit(cov_type='HC0') ##cov_type='HC0' introduces robust errors\nmodel.summary2()",
    "id": "b46f8c6c707e4d96a819a9a6b6ff09e0",
    "idx": 33,
    "time": "2021-02-17T05:45:44.732Z",
    "type": "execution"
   },
   {
    "id": "2adc80aadd384bef887e63cc4616e8a5",
    "time": "2021-02-17T05:45:48.492Z",
    "type": "completion"
   },
   {
    "id": "69015ac00ab344bda1bd895e1673b2d3",
    "time": "2021-02-17T05:45:49.093Z",
    "type": "completion"
   },
   {
    "id": "0fc8536a756b412c8c8284a04fc0c297",
    "time": "2021-02-17T05:45:49.406Z",
    "type": "completion"
   },
   {
    "id": "bde9d2c8fbf34dddb29b550f67090c28",
    "time": "2021-02-17T05:45:49.494Z",
    "type": "completion"
   },
   {
    "id": "bde9d2c8fbf34dddb29b550f67090c28",
    "time": "2021-02-17T05:45:49.494Z",
    "type": "completion"
   },
   {
    "id": "83028ca8797c48a0b615f0a2bd8ccafd",
    "time": "2021-02-17T05:45:50.341Z",
    "type": "completion"
   },
   {
    "id": "a02a6be5eb0946338e53ae912514c23c",
    "time": "2021-02-17T05:45:50.392Z",
    "type": "completion"
   },
   {
    "id": "0ac1380ea7dd47a997dafe9ca84ebb66",
    "time": "2021-02-17T05:45:50.483Z",
    "type": "completion"
   },
   {
    "id": "499edf9322cb43fe8337e9249fdd37f1",
    "time": "2021-02-17T05:45:50.535Z",
    "type": "completion"
   },
   {
    "id": "499edf9322cb43fe8337e9249fdd37f1",
    "time": "2021-02-17T05:45:50.535Z",
    "type": "completion"
   },
   {
    "id": "ab17a04a5d9e48a58784761bc33cd50b",
    "time": "2021-02-17T05:45:50.858Z",
    "type": "completion"
   },
   {
    "id": "ab17a04a5d9e48a58784761bc33cd50b",
    "time": "2021-02-17T05:45:50.859Z",
    "type": "completion"
   },
   {
    "id": "5822ec0ca97943cca4eaaff46b10e98c",
    "time": "2021-02-17T05:45:50.878Z",
    "type": "completion"
   },
   {
    "id": "5822ec0ca97943cca4eaaff46b10e98c",
    "time": "2021-02-17T05:45:50.878Z",
    "type": "completion"
   },
   {
    "id": "6035b2cedea24f53a5117cd8a8c26208",
    "time": "2021-02-17T05:45:50.897Z",
    "type": "completion"
   },
   {
    "id": "6035b2cedea24f53a5117cd8a8c26208",
    "time": "2021-02-17T05:45:50.897Z",
    "type": "completion"
   },
   {
    "id": "146b6aeee3a54268b3e9e6fb9412e0bd",
    "time": "2021-02-17T05:45:50.976Z",
    "type": "completion"
   },
   {
    "id": "146b6aeee3a54268b3e9e6fb9412e0bd",
    "time": "2021-02-17T05:45:50.976Z",
    "type": "completion"
   },
   {
    "id": "b996a882496442798353977ac7a9a2b9",
    "time": "2021-02-17T05:45:51.059Z",
    "type": "completion"
   },
   {
    "id": "b996a882496442798353977ac7a9a2b9",
    "time": "2021-02-17T05:45:51.059Z",
    "type": "completion"
   },
   {
    "id": "44e45f73115140a98628fae7f1fbd6db",
    "time": "2021-02-17T05:45:51.167Z",
    "type": "completion"
   },
   {
    "id": "44e45f73115140a98628fae7f1fbd6db",
    "time": "2021-02-17T05:45:51.167Z",
    "type": "completion"
   },
   {
    "id": "18b03848888a44f2b72c0f1c2226c7e4",
    "time": "2021-02-17T05:45:51.453Z",
    "type": "completion"
   },
   {
    "id": "18b03848888a44f2b72c0f1c2226c7e4",
    "time": "2021-02-17T05:45:51.453Z",
    "type": "completion"
   },
   {
    "id": "4d1c8380073749dd8469dddefba963f4",
    "time": "2021-02-17T05:45:51.657Z",
    "type": "completion"
   },
   {
    "id": "4d1c8380073749dd8469dddefba963f4",
    "time": "2021-02-17T05:45:51.657Z",
    "type": "completion"
   },
   {
    "id": "f97999fced6d403b9e3cd81724a05b80",
    "time": "2021-02-17T05:45:51.686Z",
    "type": "completion"
   },
   {
    "id": "f97999fced6d403b9e3cd81724a05b80",
    "time": "2021-02-17T05:45:51.686Z",
    "type": "completion"
   },
   {
    "id": "53004b09384d43818b93411f114d365f",
    "time": "2021-02-17T05:45:52.972Z",
    "type": "completion"
   },
   {
    "id": "53004b09384d43818b93411f114d365f",
    "time": "2021-02-17T05:45:52.972Z",
    "type": "completion"
   },
   {
    "id": "683e5cbc083848ed83c3be3c8f066db8",
    "time": "2021-02-17T05:45:53.205Z",
    "type": "completion"
   },
   {
    "id": "683e5cbc083848ed83c3be3c8f066db8",
    "time": "2021-02-17T05:45:53.206Z",
    "type": "completion"
   },
   {
    "id": "b46f8c6c707e4d96a819a9a6b6ff09e0",
    "time": "2021-02-17T05:45:53.922Z",
    "type": "completion"
   },
   {
    "id": "b46f8c6c707e4d96a819a9a6b6ff09e0",
    "time": "2021-02-17T05:45:53.922Z",
    "type": "completion"
   }
  ],
  "kernelspec": {
   "display_name": "Python 3",
   "language": "python",
   "name": "python3"
  },
  "language_info": {
   "codemirror_mode": {
    "name": "ipython",
    "version": 3
   },
   "file_extension": ".py",
   "mimetype": "text/x-python",
   "name": "python",
   "nbconvert_exporter": "python",
   "pygments_lexer": "ipython3",
   "version": "3.8.6"
  }
 },
 "nbformat": 4,
 "nbformat_minor": 4
}
